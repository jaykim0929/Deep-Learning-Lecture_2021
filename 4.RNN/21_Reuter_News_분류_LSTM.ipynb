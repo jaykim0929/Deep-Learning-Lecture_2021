{
  "nbformat": 4,
  "nbformat_minor": 0,
  "metadata": {
    "colab": {
      "name": "21_Reuter_News_분류_LSTM.ipynb",
      "provenance": [],
      "collapsed_sections": []
    },
    "kernelspec": {
      "name": "python3",
      "display_name": "Python 3"
    },
    "accelerator": "GPU"
  },
  "cells": [
    {
      "cell_type": "markdown",
      "metadata": {
        "id": "hxshbb_qJkof"
      },
      "source": [
        "# LSTM을 이용한 로이터 뉴스 카테고리 분류"
      ]
    },
    {
      "cell_type": "code",
      "metadata": {
        "id": "KbJMMczVJWIo"
      },
      "source": [
        "import numpy as np\r\n",
        "import tensorflow as tf\r\n",
        "from tensorflow.keras.preprocessing.text import Tokenizer\r\n",
        "from tensorflow.keras.preprocessing.sequence import pad_sequences\r\n",
        "seed= 2021\r\n",
        "np.random.seed(seed)\r\n",
        "tf.random.set_seed(seed)"
      ],
      "execution_count": 1,
      "outputs": []
    },
    {
      "cell_type": "code",
      "metadata": {
        "id": "BztuBs_uKfQe"
      },
      "source": [
        "import matplotlib.pyplot as plt\r\n",
        "%matplotlib inline\r\n",
        "import seaborn as sns"
      ],
      "execution_count": 2,
      "outputs": []
    },
    {
      "cell_type": "code",
      "metadata": {
        "id": "VviXnzH9Ks1W",
        "colab": {
          "base_uri": "https://localhost:8080/"
        },
        "outputId": "4fc752ee-6b3f-4424-c7db-1f7ed2262ada"
      },
      "source": [
        "from tensorflow.keras.datasets import reuters\r\n",
        "(X_train, y_train), (X_test, y_test) = \\\r\n",
        "    reuters.load_data(num_words=None, test_split=0.2)"
      ],
      "execution_count": 3,
      "outputs": [
        {
          "output_type": "stream",
          "text": [
            "Downloading data from https://storage.googleapis.com/tensorflow/tf-keras-datasets/reuters.npz\n",
            "2113536/2110848 [==============================] - 0s 0us/step\n"
          ],
          "name": "stdout"
        },
        {
          "output_type": "stream",
          "text": [
            "/usr/local/lib/python3.6/dist-packages/tensorflow/python/keras/datasets/reuters.py:148: VisibleDeprecationWarning: Creating an ndarray from ragged nested sequences (which is a list-or-tuple of lists-or-tuples-or ndarrays with different lengths or shapes) is deprecated. If you meant to do this, you must specify 'dtype=object' when creating the ndarray\n",
            "  x_train, y_train = np.array(xs[:idx]), np.array(labels[:idx])\n",
            "/usr/local/lib/python3.6/dist-packages/tensorflow/python/keras/datasets/reuters.py:149: VisibleDeprecationWarning: Creating an ndarray from ragged nested sequences (which is a list-or-tuple of lists-or-tuples-or ndarrays with different lengths or shapes) is deprecated. If you meant to do this, you must specify 'dtype=object' when creating the ndarray\n",
            "  x_test, y_test = np.array(xs[idx:]), np.array(labels[idx:])\n"
          ],
          "name": "stderr"
        }
      ]
    },
    {
      "cell_type": "code",
      "metadata": {
        "id": "Di08SaeWLK6W",
        "colab": {
          "base_uri": "https://localhost:8080/"
        },
        "outputId": "116daa6d-4f91-4c22-a91d-8587f1a04f44"
      },
      "source": [
        "category = np.max(y_train) + 1\r\n",
        "print(category, '카테고리')\r\n",
        "print(len(X_train), '학습용 뉴스 기사')\r\n",
        "print(len(X_test), '테스트용 뉴스 기사')"
      ],
      "execution_count": 4,
      "outputs": [
        {
          "output_type": "stream",
          "text": [
            "46 카테고리\n",
            "8982 학습용 뉴스 기사\n",
            "2246 테스트용 뉴스 기사\n"
          ],
          "name": "stdout"
        }
      ]
    },
    {
      "cell_type": "code",
      "metadata": {
        "id": "HnyjAJQbNSnY",
        "colab": {
          "base_uri": "https://localhost:8080/"
        },
        "outputId": "f5c47c8f-464f-4ec0-b3c4-052ee415c516"
      },
      "source": [
        "print(X_train[0])\r\n",
        "print(y_train[0])"
      ],
      "execution_count": 5,
      "outputs": [
        {
          "output_type": "stream",
          "text": [
            "[1, 27595, 28842, 8, 43, 10, 447, 5, 25, 207, 270, 5, 3095, 111, 16, 369, 186, 90, 67, 7, 89, 5, 19, 102, 6, 19, 124, 15, 90, 67, 84, 22, 482, 26, 7, 48, 4, 49, 8, 864, 39, 209, 154, 6, 151, 6, 83, 11, 15, 22, 155, 11, 15, 7, 48, 9, 4579, 1005, 504, 6, 258, 6, 272, 11, 15, 22, 134, 44, 11, 15, 16, 8, 197, 1245, 90, 67, 52, 29, 209, 30, 32, 132, 6, 109, 15, 17, 12]\n",
            "3\n"
          ],
          "name": "stdout"
        }
      ]
    },
    {
      "cell_type": "code",
      "metadata": {
        "colab": {
          "base_uri": "https://localhost:8080/"
        },
        "id": "6Pk7UGU7QW9x",
        "outputId": "09a6fb14-784d-4630-b6f6-4bbba82bb12b"
      },
      "source": [
        "index_dict = {}\r\n",
        "for key, value in reuters.get_word_index().items():\r\n",
        "    index_dict[value] = key\r\n",
        "len(index_dict)"
      ],
      "execution_count": 6,
      "outputs": [
        {
          "output_type": "stream",
          "text": [
            "Downloading data from https://storage.googleapis.com/tensorflow/tf-keras-datasets/reuters_word_index.json\n",
            "557056/550378 [==============================] - 0s 0us/step\n"
          ],
          "name": "stdout"
        },
        {
          "output_type": "execute_result",
          "data": {
            "text/plain": [
              "30979"
            ]
          },
          "metadata": {
            "tags": []
          },
          "execution_count": 6
        }
      ]
    },
    {
      "cell_type": "code",
      "metadata": {
        "colab": {
          "base_uri": "https://localhost:8080/",
          "height": 71
        },
        "id": "9m8FidDEQWlK",
        "outputId": "9d33d168-6fc8-40c6-827d-e4ea85782d54"
      },
      "source": [
        "# 첫번째 기사 복원\r\n",
        "' '.join(index_dict[s] for s in X_train[0])"
      ],
      "execution_count": 7,
      "outputs": [
        {
          "output_type": "execute_result",
          "data": {
            "application/vnd.google.colaboratory.intrinsic+json": {
              "type": "string"
            },
            "text/plain": [
              "'the wattie nondiscriminatory mln loss for plc said at only ended said commonwealth could 1 traders now april 0 a after said from 1985 and from foreign 000 april 0 prices its account year a but in this mln home an states earlier and rise and revs vs 000 its 16 vs 000 a but 3 psbr oils several and shareholders and dividend vs 000 its all 4 vs 000 1 mln agreed largely april 0 are 2 states will billion total and against 000 pct dlrs'"
            ]
          },
          "metadata": {
            "tags": []
          },
          "execution_count": 7
        }
      ]
    },
    {
      "cell_type": "code",
      "metadata": {
        "id": "gymg_uEpNSkn",
        "colab": {
          "base_uri": "https://localhost:8080/"
        },
        "outputId": "4b1226bf-b49e-4843-c42e-87dca83791dc"
      },
      "source": [
        "# 뉴스 기사의 길이\r\n",
        "print('뉴스 기사의 최대 길이 :', max(len(l) for l in X_train))\r\n",
        "print('뉴스 기사의 평균 길이 :', sum(map(len, X_train))/len(X_train))"
      ],
      "execution_count": 8,
      "outputs": [
        {
          "output_type": "stream",
          "text": [
            "뉴스 기사의 최대 길이 : 2376\n",
            "뉴스 기사의 평균 길이 : 145.5398574927633\n"
          ],
          "name": "stdout"
        }
      ]
    },
    {
      "cell_type": "code",
      "metadata": {
        "id": "HcJv9fpgOloA",
        "colab": {
          "base_uri": "https://localhost:8080/",
          "height": 279
        },
        "outputId": "786bf928-0e5a-443f-d2f0-9848a9510f68"
      },
      "source": [
        "plt.hist([len(s) for s in X_train], bins=50)\r\n",
        "plt.xlabel('length of samples')\r\n",
        "plt.ylabel('number of samples')\r\n",
        "plt.show()"
      ],
      "execution_count": 9,
      "outputs": [
        {
          "output_type": "display_data",
          "data": {
            "image/png": "[encoded data removed]",
            "text/plain": [
              "<Figure size 432x288 with 1 Axes>"
            ]
          },
          "metadata": {
            "tags": [],
            "needs_background": "light"
          }
        }
      ]
    },
    {
      "cell_type": "code",
      "metadata": {
        "id": "luefpByDOmc3",
        "colab": {
          "base_uri": "https://localhost:8080/",
          "height": 376
        },
        "outputId": "ba4794ee-e645-4635-efae-e0cb4c8adf66"
      },
      "source": [
        "# 뉴스 분포\r\n",
        "fig, axe = plt.subplots(ncols=1)\r\n",
        "fig.set_size_inches(12,5)\r\n",
        "sns.countplot(y_train);"
      ],
      "execution_count": 10,
      "outputs": [
        {
          "output_type": "stream",
          "text": [
            "/usr/local/lib/python3.6/dist-packages/seaborn/_decorators.py:43: FutureWarning: Pass the following variable as a keyword arg: x. From version 0.12, the only valid positional argument will be `data`, and passing other arguments without an explicit keyword will result in an error or misinterpretation.\n",
            "  FutureWarning\n"
          ],
          "name": "stderr"
        },
        {
          "output_type": "display_data",
          "data": {
            "image/png": "[encoded data removed]",
            "text/plain": [
              "<Figure size 864x360 with 1 Axes>"
            ]
          },
          "metadata": {
            "tags": [],
            "needs_background": "light"
          }
        }
      ]
    },
    {
      "cell_type": "code",
      "metadata": {
        "id": "XfDz51DPOmST",
        "colab": {
          "base_uri": "https://localhost:8080/"
        },
        "outputId": "1c17d9a9-8c66-4684-a061-1b36f7ac48e7"
      },
      "source": [
        "unique_elements, counts_elements = \\\r\n",
        "    np.unique(y_train, return_counts=True)\r\n",
        "label_cnt = dict(zip(unique_elements, counts_elements))\r\n",
        "print(\"각 레이블에 대한 빈도수:\")\r\n",
        "print(label_cnt)"
      ],
      "execution_count": 11,
      "outputs": [
        {
          "output_type": "stream",
          "text": [
            "각 레이블에 대한 빈도수:\n",
            "{0: 55, 1: 432, 2: 74, 3: 3159, 4: 1949, 5: 17, 6: 48, 7: 16, 8: 139, 9: 101, 10: 124, 11: 390, 12: 49, 13: 172, 14: 26, 15: 20, 16: 444, 17: 39, 18: 66, 19: 549, 20: 269, 21: 100, 22: 15, 23: 41, 24: 62, 25: 92, 26: 24, 27: 15, 28: 48, 29: 19, 30: 45, 31: 39, 32: 32, 33: 11, 34: 50, 35: 10, 36: 49, 37: 19, 38: 19, 39: 24, 40: 36, 41: 30, 42: 13, 43: 21, 44: 12, 45: 18}\n"
          ],
          "name": "stdout"
        }
      ]
    },
    {
      "cell_type": "markdown",
      "metadata": {
        "id": "VZkLkLFQQnWH"
      },
      "source": [
        "### LSTM으로 로이터 뉴스 분류\r\n",
        "- 모든 단어가 아닌 빈도수 1000 까지 (총단어수 : 30979)\r\n",
        "- 모든 문장이 아니라 100 단어 까지 (최대 2376단어)"
      ]
    },
    {
      "cell_type": "code",
      "metadata": {
        "id": "dHyvP9qJOmPR"
      },
      "source": [
        "from tensorflow.keras.models import Sequential, load_model\r\n",
        "from tensorflow.keras.layers import Dense, LSTM, Embedding\r\n",
        "from tensorflow.keras.preprocessing.sequence import pad_sequences\r\n",
        "from tensorflow.keras.utils import to_categorical\r\n",
        "from tensorflow.keras.callbacks import ModelCheckpoint, EarlyStopping"
      ],
      "execution_count": 12,
      "outputs": []
    },
    {
      "cell_type": "code",
      "metadata": {
        "id": "xjWae0AIOmMv",
        "colab": {
          "base_uri": "https://localhost:8080/"
        },
        "outputId": "6d03dc9b-d0d2-4451-a520-b055bab3946d"
      },
      "source": [
        "# 등장 빈도가 1,000번째까지의 단어들만 사용\r\n",
        "(X_train, y_train), (X_test, y_test) = \\\r\n",
        "    reuters.load_data(num_words=1000, test_split=0.2)"
      ],
      "execution_count": 13,
      "outputs": [
        {
          "output_type": "stream",
          "text": [
            "/usr/local/lib/python3.6/dist-packages/tensorflow/python/keras/datasets/reuters.py:148: VisibleDeprecationWarning: Creating an ndarray from ragged nested sequences (which is a list-or-tuple of lists-or-tuples-or ndarrays with different lengths or shapes) is deprecated. If you meant to do this, you must specify 'dtype=object' when creating the ndarray\n",
            "  x_train, y_train = np.array(xs[:idx]), np.array(labels[:idx])\n",
            "/usr/local/lib/python3.6/dist-packages/tensorflow/python/keras/datasets/reuters.py:149: VisibleDeprecationWarning: Creating an ndarray from ragged nested sequences (which is a list-or-tuple of lists-or-tuples-or ndarrays with different lengths or shapes) is deprecated. If you meant to do this, you must specify 'dtype=object' when creating the ndarray\n",
            "  x_test, y_test = np.array(xs[idx:]), np.array(labels[idx:])\n"
          ],
          "name": "stderr"
        }
      ]
    },
    {
      "cell_type": "code",
      "metadata": {
        "id": "TaF6sUw5OmKH"
      },
      "source": [
        "# 모델의 입력으로 사용하는 모든 뉴스 기사의 길이를 동일하게 100으로 맞춤\r\n",
        "max_len = 100\r\n",
        "X_train = pad_sequences(X_train, maxlen=max_len)\r\n",
        "X_test = pad_sequences(X_test, maxlen=max_len)"
      ],
      "execution_count": 14,
      "outputs": []
    },
    {
      "cell_type": "code",
      "metadata": {
        "id": "rf0eGWfMPdgF"
      },
      "source": [
        "# 뉴스 기사 레이블의 원-핫 인코딩\r\n",
        "Y_train = to_categorical(y_train) \r\n",
        "Y_test = to_categorical(y_test)"
      ],
      "execution_count": 15,
      "outputs": []
    },
    {
      "cell_type": "code",
      "metadata": {
        "id": "5UlIsAhdPddw",
        "colab": {
          "base_uri": "https://localhost:8080/"
        },
        "outputId": "d8e39bbd-9d8b-4cda-9746-67e3f887f17b"
      },
      "source": [
        "# LSTM 모델\r\n",
        "model = Sequential()\r\n",
        "model.add(Embedding(1000, 120))\r\n",
        "model.add(LSTM(120))\r\n",
        "model.add(Dense(46, activation='softmax'))\r\n",
        "model.summary()"
      ],
      "execution_count": 16,
      "outputs": [
        {
          "output_type": "stream",
          "text": [
            "Model: \"sequential\"\n",
            "_________________________________________________________________\n",
            "Layer (type)                 Output Shape              Param #   \n",
            "=================================================================\n",
            "embedding (Embedding)        (None, None, 120)         120000    \n",
            "_________________________________________________________________\n",
            "lstm (LSTM)                  (None, 120)               115680    \n",
            "_________________________________________________________________\n",
            "dense (Dense)                (None, 46)                5566      \n",
            "=================================================================\n",
            "Total params: 241,246\n",
            "Trainable params: 241,246\n",
            "Non-trainable params: 0\n",
            "_________________________________________________________________\n"
          ],
          "name": "stdout"
        }
      ]
    },
    {
      "cell_type": "code",
      "metadata": {
        "id": "ynX70o-0PdbY"
      },
      "source": [
        "# 모델의 컴파일\r\n",
        "model.compile(loss='categorical_crossentropy',\r\n",
        "              optimizer='adam',\r\n",
        "              metrics=['accuracy'])"
      ],
      "execution_count": 17,
      "outputs": []
    },
    {
      "cell_type": "code",
      "metadata": {
        "id": "t2uzGR3LPdT4"
      },
      "source": [
        "# Callback 함수 정의 - Best model, Early stopping\r\n",
        "es = EarlyStopping(monitor='val_loss', mode='min', verbose=1, patience=10)\r\n",
        "mc = ModelCheckpoint('model/reuter_best_model.h5', monitor='val_loss', \r\n",
        "                     mode='max', verbose=1, save_best_only=True)"
      ],
      "execution_count": 18,
      "outputs": []
    },
    {
      "cell_type": "code",
      "metadata": {
        "id": "J9tgCzf0PdRQ",
        "colab": {
          "base_uri": "https://localhost:8080/"
        },
        "outputId": "89d0c20e-eb85-47e4-cc2a-a6e4d44abc22"
      },
      "source": [
        "# 모델의 실행\r\n",
        "history = model.fit(X_train, Y_train, batch_size=100, epochs=50, \r\n",
        "                    validation_split=0.2, verbose=2,\r\n",
        "                    callbacks=[mc, es])"
      ],
      "execution_count": 19,
      "outputs": [
        {
          "output_type": "stream",
          "text": [
            "Epoch 1/50\n",
            "72/72 - 10s - loss: 2.6485 - accuracy: 0.3464 - val_loss: 2.3789 - val_accuracy: 0.3450\n",
            "\n",
            "Epoch 00001: val_loss improved from -inf to 2.37887, saving model to model/reuter_best_model.h5\n",
            "Epoch 2/50\n",
            "72/72 - 1s - loss: 2.1259 - accuracy: 0.4630 - val_loss: 2.1107 - val_accuracy: 0.4836\n",
            "\n",
            "Epoch 00002: val_loss did not improve from 2.37887\n",
            "Epoch 3/50\n",
            "72/72 - 1s - loss: 1.8997 - accuracy: 0.5196 - val_loss: 1.7468 - val_accuracy: 0.5559\n",
            "\n",
            "Epoch 00003: val_loss did not improve from 2.37887\n",
            "Epoch 4/50\n",
            "72/72 - 1s - loss: 1.7332 - accuracy: 0.5566 - val_loss: 1.7443 - val_accuracy: 0.5570\n",
            "\n",
            "Epoch 00004: val_loss did not improve from 2.37887\n",
            "Epoch 5/50\n",
            "72/72 - 1s - loss: 1.6814 - accuracy: 0.5685 - val_loss: 1.6705 - val_accuracy: 0.5776\n",
            "\n",
            "Epoch 00005: val_loss did not improve from 2.37887\n",
            "Epoch 6/50\n",
            "72/72 - 1s - loss: 1.6686 - accuracy: 0.5680 - val_loss: 1.6727 - val_accuracy: 0.5748\n",
            "\n",
            "Epoch 00006: val_loss did not improve from 2.37887\n",
            "Epoch 7/50\n",
            "72/72 - 1s - loss: 1.5653 - accuracy: 0.5982 - val_loss: 1.5829 - val_accuracy: 0.5999\n",
            "\n",
            "Epoch 00007: val_loss did not improve from 2.37887\n",
            "Epoch 8/50\n",
            "72/72 - 1s - loss: 1.4662 - accuracy: 0.6213 - val_loss: 1.4965 - val_accuracy: 0.6144\n",
            "\n",
            "Epoch 00008: val_loss did not improve from 2.37887\n",
            "Epoch 9/50\n",
            "72/72 - 1s - loss: 1.3869 - accuracy: 0.6457 - val_loss: 1.4789 - val_accuracy: 0.6277\n",
            "\n",
            "Epoch 00009: val_loss did not improve from 2.37887\n",
            "Epoch 10/50\n",
            "72/72 - 1s - loss: 1.3501 - accuracy: 0.6553 - val_loss: 1.4325 - val_accuracy: 0.6472\n",
            "\n",
            "Epoch 00010: val_loss did not improve from 2.37887\n",
            "Epoch 11/50\n",
            "72/72 - 1s - loss: 1.2625 - accuracy: 0.6777 - val_loss: 1.3519 - val_accuracy: 0.6717\n",
            "\n",
            "Epoch 00011: val_loss did not improve from 2.37887\n",
            "Epoch 12/50\n",
            "72/72 - 1s - loss: 1.1772 - accuracy: 0.7055 - val_loss: 1.3047 - val_accuracy: 0.6778\n",
            "\n",
            "Epoch 00012: val_loss did not improve from 2.37887\n",
            "Epoch 13/50\n",
            "72/72 - 1s - loss: 1.1158 - accuracy: 0.7140 - val_loss: 1.2952 - val_accuracy: 0.6811\n",
            "\n",
            "Epoch 00013: val_loss did not improve from 2.37887\n",
            "Epoch 14/50\n",
            "72/72 - 1s - loss: 1.0731 - accuracy: 0.7162 - val_loss: 1.2823 - val_accuracy: 0.6811\n",
            "\n",
            "Epoch 00014: val_loss did not improve from 2.37887\n",
            "Epoch 15/50\n",
            "72/72 - 1s - loss: 1.0201 - accuracy: 0.7328 - val_loss: 1.2399 - val_accuracy: 0.6900\n",
            "\n",
            "Epoch 00015: val_loss did not improve from 2.37887\n",
            "Epoch 16/50\n",
            "72/72 - 1s - loss: 0.9675 - accuracy: 0.7486 - val_loss: 1.2610 - val_accuracy: 0.6850\n",
            "\n",
            "Epoch 00016: val_loss did not improve from 2.37887\n",
            "Epoch 17/50\n",
            "72/72 - 1s - loss: 0.9206 - accuracy: 0.7542 - val_loss: 1.2531 - val_accuracy: 0.6923\n",
            "\n",
            "Epoch 00017: val_loss did not improve from 2.37887\n",
            "Epoch 18/50\n",
            "72/72 - 1s - loss: 0.8908 - accuracy: 0.7677 - val_loss: 1.2584 - val_accuracy: 0.6995\n",
            "\n",
            "Epoch 00018: val_loss did not improve from 2.37887\n",
            "Epoch 19/50\n",
            "72/72 - 1s - loss: 0.8372 - accuracy: 0.7791 - val_loss: 1.2607 - val_accuracy: 0.6967\n",
            "\n",
            "Epoch 00019: val_loss did not improve from 2.37887\n",
            "Epoch 20/50\n",
            "72/72 - 1s - loss: 0.8009 - accuracy: 0.7904 - val_loss: 1.2784 - val_accuracy: 0.6973\n",
            "\n",
            "Epoch 00020: val_loss did not improve from 2.37887\n",
            "Epoch 21/50\n",
            "72/72 - 1s - loss: 0.8045 - accuracy: 0.7905 - val_loss: 1.2670 - val_accuracy: 0.6973\n",
            "\n",
            "Epoch 00021: val_loss did not improve from 2.37887\n",
            "Epoch 22/50\n",
            "72/72 - 1s - loss: 0.7643 - accuracy: 0.8000 - val_loss: 1.2729 - val_accuracy: 0.7101\n",
            "\n",
            "Epoch 00022: val_loss did not improve from 2.37887\n",
            "Epoch 23/50\n",
            "72/72 - 1s - loss: 0.6958 - accuracy: 0.8231 - val_loss: 1.3279 - val_accuracy: 0.7067\n",
            "\n",
            "Epoch 00023: val_loss did not improve from 2.37887\n",
            "Epoch 24/50\n",
            "72/72 - 1s - loss: 0.6721 - accuracy: 0.8277 - val_loss: 1.3065 - val_accuracy: 0.6978\n",
            "\n",
            "Epoch 00024: val_loss did not improve from 2.37887\n",
            "Epoch 25/50\n",
            "72/72 - 1s - loss: 0.6254 - accuracy: 0.8418 - val_loss: 1.3087 - val_accuracy: 0.7162\n",
            "\n",
            "Epoch 00025: val_loss did not improve from 2.37887\n",
            "Epoch 00025: early stopping\n"
          ],
          "name": "stdout"
        }
      ]
    },
    {
      "cell_type": "code",
      "metadata": {
        "id": "8JBxH66ZQE0Y"
      },
      "source": [
        "# Best Model 선택\r\n",
        "best_model = load_model('model/reuter_best_model.h5')"
      ],
      "execution_count": 20,
      "outputs": []
    },
    {
      "cell_type": "code",
      "metadata": {
        "id": "SLSCsKCkQExy",
        "colab": {
          "base_uri": "https://localhost:8080/"
        },
        "outputId": "1cc1463c-4496-4700-f593-fb666a3f3837"
      },
      "source": [
        "acc = model.evaluate(X_test, Y_test, verbose=2)[1]\r\n",
        "print(f\"\\n 테스트 정확도: {acc:.4f}\")"
      ],
      "execution_count": 21,
      "outputs": [
        {
          "output_type": "stream",
          "text": [
            "71/71 - 0s - loss: 1.3612 - accuracy: 0.6959\n",
            "\n",
            " 테스트 정확도: 0.6959\n"
          ],
          "name": "stdout"
        }
      ]
    },
    {
      "cell_type": "code",
      "metadata": {
        "id": "bA2XmMgbQEvS"
      },
      "source": [
        "# 검증셋\r\n",
        "y_vloss = history.history['val_loss']\r\n",
        "y_vacc = history.history['val_accuracy']\r\n",
        "# 학습셋\r\n",
        "y_loss = history.history['loss']\r\n",
        "y_acc = history.history['accuracy']"
      ],
      "execution_count": 22,
      "outputs": []
    },
    {
      "cell_type": "code",
      "metadata": {
        "id": "8eabpugiQEsq",
        "colab": {
          "base_uri": "https://localhost:8080/",
          "height": 497
        },
        "outputId": "283d7c29-058d-4a33-88df-86c530261373"
      },
      "source": [
        "x_len = np.arange(1, len(y_loss)+1)\r\n",
        "fig, ax0 = plt.subplots(figsize=(10,8))\r\n",
        "ax1 = ax0.twinx()\r\n",
        "ax0.plot(x_len, y_loss, c=\"blue\", label='train set loss')\r\n",
        "ax0.plot(x_len, y_vloss, c=\"red\", label='val set loss')\r\n",
        "ax0.set_ylabel('loss')\r\n",
        "ax1.plot(x_len, y_acc, c=\"darkgreen\", label='train set acc')\r\n",
        "ax1.plot(x_len, y_vacc, c=\"magenta\", label='val set acc')\r\n",
        "ax1.set_ylabel('accuracy')\r\n",
        "ax0.set_xlabel('epoch')\r\n",
        "ax0.legend(loc='lower center')\r\n",
        "ax1.legend(loc='upper center')\r\n",
        "plt.grid()\r\n",
        "plt.show()"
      ],
      "execution_count": 23,
      "outputs": [
        {
          "output_type": "display_data",
          "data": {
            "image/png": "[encoded data removed]",
            "text/plain": [
              "<Figure size 720x576 with 2 Axes>"
            ]
          },
          "metadata": {
            "tags": [],
            "needs_background": "light"
          }
        }
      ]
    },
    {
      "cell_type": "code",
      "metadata": {
        "id": "-TFc_8AhQEn4"
      },
      "source": [
        ""
      ],
      "execution_count": 19,
      "outputs": []
    },
    {
      "cell_type": "code",
      "metadata": {
        "id": "2QgaPLioQEcQ"
      },
      "source": [
        ""
      ],
      "execution_count": 19,
      "outputs": []
    }
  ]
}