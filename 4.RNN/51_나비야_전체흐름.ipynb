{
  "nbformat": 4,
  "nbformat_minor": 0,
  "metadata": {
    "colab": {
      "name": "51_나비야-전체흐름.ipynb",
      "provenance": []
    },
    "kernelspec": {
      "name": "python3",
      "display_name": "Python 3"
    }
  },
  "cells": [
    {
      "cell_type": "markdown",
      "metadata": {
        "id": "HI_myF-Zqzo_"
      },
      "source": [
        "# 순환 신경망 - 나비야"
      ]
    },
    {
      "cell_type": "code",
      "metadata": {
        "id": "YECQams5pFZX"
      },
      "source": [
        "code2idx = {'c4':0, 'd4':1, 'e4':2, 'f4':3, 'g4':4, 'a4':5, 'b4':6,\r\n",
        "            'c8':7, 'd8':8, 'e8':9, 'f8':10, 'g8':11, 'a8':12, 'b8':13}\r\n",
        "\r\n",
        "idx2code = {0:'c4', 1:'d4', 2:'e4', 3:'f4', 4:'g4', 5:'a4', 6:'b4',\r\n",
        "            7:'c8', 8:'d8', 9:'e8', 10:'f8', 11:'g8', 12:'a8', 13:'b8'}"
      ],
      "execution_count": 1,
      "outputs": []
    },
    {
      "cell_type": "code",
      "metadata": {
        "id": "hn7XEKvrq3mc"
      },
      "source": [
        "import numpy as np\r\n",
        "\r\n",
        "def seq2dataset(seq, window_size):\r\n",
        "    dataset = []\r\n",
        "    for i in range(len(seq)-window_size):\r\n",
        "        subset = seq[i:(i+window_size+1)]\r\n",
        "        dataset.append([code2idx[item] for item in subset])\r\n",
        "    return np.array(dataset)"
      ],
      "execution_count": 2,
      "outputs": []
    },
    {
      "cell_type": "code",
      "metadata": {
        "colab": {
          "base_uri": "https://localhost:8080/"
        },
        "id": "VPMOk11drKWM",
        "outputId": "3b73ebd6-ef37-4d76-b6b0-cc8abb4d408d"
      },
      "source": [
        "seq = ['g8', 'e8', 'e4', 'f8', 'd8', 'd4', 'c8', 'd8', 'e8', 'f8', 'g8', 'g8', 'g4',\r\n",
        "       'g8', 'e8', 'e8', 'e8', 'f8', 'd8', 'd4', 'c8', 'e8', 'g8', 'g8', 'e8', 'e8', 'e4',\r\n",
        "       'd8', 'd8', 'd8', 'd8', 'd8', 'e8', 'f4', 'e8', 'e8', 'e8', 'e8', 'e8', 'f8', 'g4',\r\n",
        "       'g8', 'e8', 'e4', 'f8', 'd8', 'd4', 'c8', 'e8', 'g8', 'g8', 'e8', 'e8', 'e4']\r\n",
        "\r\n",
        "dataset = seq2dataset(seq, window_size = 4)\r\n",
        "\r\n",
        "dataset.shape"
      ],
      "execution_count": 4,
      "outputs": [
        {
          "output_type": "execute_result",
          "data": {
            "text/plain": [
              "(50, 5)"
            ]
          },
          "metadata": {
            "tags": []
          },
          "execution_count": 4
        }
      ]
    },
    {
      "cell_type": "code",
      "metadata": {
        "colab": {
          "base_uri": "https://localhost:8080/"
        },
        "id": "pP6SehtQApc0",
        "outputId": "39a13d2a-6aaa-4721-ce68-483d9e8f1301"
      },
      "source": [
        "dataset[:5]"
      ],
      "execution_count": 5,
      "outputs": [
        {
          "output_type": "execute_result",
          "data": {
            "text/plain": [
              "array([[11,  9,  2, 10,  8],\n",
              "       [ 9,  2, 10,  8,  1],\n",
              "       [ 2, 10,  8,  1,  7],\n",
              "       [10,  8,  1,  7,  8],\n",
              "       [ 8,  1,  7,  8,  9]])"
            ]
          },
          "metadata": {
            "tags": []
          },
          "execution_count": 5
        }
      ]
    },
    {
      "cell_type": "code",
      "metadata": {
        "id": "IhfcoEn4Ashb"
      },
      "source": [
        ""
      ],
      "execution_count": null,
      "outputs": []
    }
  ]
}