{
  "nbformat": 4,
  "nbformat_minor": 0,
  "metadata": {
    "colab": {
      "name": "05_TextGeneration-GRU.ipynb",
      "provenance": [],
      "collapsed_sections": []
    },
    "kernelspec": {
      "name": "python3",
      "display_name": "Python 3"
    },
    "accelerator": "GPU"
  },
  "cells": [
    {
      "cell_type": "markdown",
      "metadata": {
        "id": "6KnSAJPgiCN8"
      },
      "source": [
        "# GRU을 이용한 텍스트 생성\n",
        "- 데이터 다운로드 캐글https://www.kaggle.com/aashita/nyt-comments?select=ArticlesApril2018.csv\n",
        "- ArticlesApril2018.csv"
      ]
    },
    {
      "cell_type": "code",
      "metadata": {
        "id": "_D3NjRGDn9rl"
      },
      "source": [
        "import numpy as np\r\n",
        "import tensorflow as tf\r\n",
        "from tensorflow.keras.preprocessing.text import Tokenizer\r\n",
        "from tensorflow.keras.preprocessing.sequence import pad_sequences\r\n",
        "from tensorflow.keras.utils import to_categorical"
      ],
      "execution_count": 1,
      "outputs": []
    },
    {
      "cell_type": "code",
      "metadata": {
        "id": "6TjGqcCEoAXj"
      },
      "source": [
        "seed= 2021\r\n",
        "np.random.seed(seed)\r\n",
        "tf.random.set_seed(seed)"
      ],
      "execution_count": 2,
      "outputs": []
    },
    {
      "cell_type": "code",
      "metadata": {
        "colab": {
          "resources": {
            "http://localhost:8080/nbextensions/google.colab/files.js": {
              "data": "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",
              "ok": true,
              "headers": [
                [
                  "content-type",
                  "application/javascript"
                ]
              ],
              "status": 200,
              "status_text": ""
            }
          },
          "base_uri": "https://localhost:8080/",
          "height": 76
        },
        "id": "11nifd6Yh7Lc",
        "outputId": "7f5f729d-1767-4a23-b94b-11103a12d616"
      },
      "source": [
        "from google.colab import files\r\n",
        "\r\n",
        "uploaded = files.upload()\r\n",
        "filename = list(uploaded.keys())[0]\r\n"
      ],
      "execution_count": 3,
      "outputs": [
        {
          "output_type": "display_data",
          "data": {
            "text/html": [
              "\n",
              "     <input type=\"file\" id=\"files-08b1ab8b-9bf4-4b06-840b-2c98aa5d8c5a\" name=\"files[]\" multiple disabled\n",
              "        style=\"border:none\" />\n",
              "     <output id=\"result-08b1ab8b-9bf4-4b06-840b-2c98aa5d8c5a\">\n",
              "      Upload widget is only available when the cell has been executed in the\n",
              "      current browser session. Please rerun this cell to enable.\n",
              "      </output>\n",
              "      <script src=\"/nbextensions/google.colab/files.js\"></script> "
            ],
            "text/plain": [
              "<IPython.core.display.HTML object>"
            ]
          },
          "metadata": {
            "tags": []
          }
        },
        {
          "output_type": "stream",
          "text": [
            "Saving ArticlesApril2018.csv to ArticlesApril2018.csv\n"
          ],
          "name": "stdout"
        }
      ]
    },
    {
      "cell_type": "code",
      "metadata": {
        "colab": {
          "base_uri": "https://localhost:8080/",
          "height": 318
        },
        "id": "weYD0Qh2i9iU",
        "outputId": "ce4b1e9e-4155-4b20-b96f-5d994cf1ee34"
      },
      "source": [
        "import pandas as pd\r\n",
        "df = pd.read_csv(filename, encoding='latin1')\r\n",
        "df.head(2)"
      ],
      "execution_count": 4,
      "outputs": [
        {
          "output_type": "execute_result",
          "data": {
            "text/html": [
              "<div>\n",
              "<style scoped>\n",
              "    .dataframe tbody tr th:only-of-type {\n",
              "        vertical-align: middle;\n",
              "    }\n",
              "\n",
              "    .dataframe tbody tr th {\n",
              "        vertical-align: top;\n",
              "    }\n",
              "\n",
              "    .dataframe thead th {\n",
              "        text-align: right;\n",
              "    }\n",
              "</style>\n",
              "<table border=\"1\" class=\"dataframe\">\n",
              "  <thead>\n",
              "    <tr style=\"text-align: right;\">\n",
              "      <th></th>\n",
              "      <th>articleID</th>\n",
              "      <th>articleWordCount</th>\n",
              "      <th>byline</th>\n",
              "      <th>documentType</th>\n",
              "      <th>headline</th>\n",
              "      <th>keywords</th>\n",
              "      <th>multimedia</th>\n",
              "      <th>newDesk</th>\n",
              "      <th>printPage</th>\n",
              "      <th>pubDate</th>\n",
              "      <th>sectionName</th>\n",
              "      <th>snippet</th>\n",
              "      <th>source</th>\n",
              "      <th>typeOfMaterial</th>\n",
              "      <th>webURL</th>\n",
              "    </tr>\n",
              "  </thead>\n",
              "  <tbody>\n",
              "    <tr>\n",
              "      <th>0</th>\n",
              "      <td>5adf6684068401528a2aa69b</td>\n",
              "      <td>781</td>\n",
              "      <td>By JOHN BRANCH</td>\n",
              "      <td>article</td>\n",
              "      <td>Former N.F.L. Cheerleadersâ Settlement Offer...</td>\n",
              "      <td>['Workplace Hazards and Violations', 'Football...</td>\n",
              "      <td>68</td>\n",
              "      <td>Sports</td>\n",
              "      <td>0</td>\n",
              "      <td>2018-04-24 17:16:49</td>\n",
              "      <td>Pro Football</td>\n",
              "      <td>âI understand that they could meet with us, ...</td>\n",
              "      <td>The New York Times</td>\n",
              "      <td>News</td>\n",
              "      <td>https://www.nytimes.com/2018/04/24/sports/foot...</td>\n",
              "    </tr>\n",
              "    <tr>\n",
              "      <th>1</th>\n",
              "      <td>5adf653f068401528a2aa697</td>\n",
              "      <td>656</td>\n",
              "      <td>By LISA FRIEDMAN</td>\n",
              "      <td>article</td>\n",
              "      <td>E.P.A. to Unveil a New Rule. Its Effect: Less ...</td>\n",
              "      <td>['Environmental Protection Agency', 'Pruitt, S...</td>\n",
              "      <td>68</td>\n",
              "      <td>Climate</td>\n",
              "      <td>0</td>\n",
              "      <td>2018-04-24 17:11:21</td>\n",
              "      <td>Unknown</td>\n",
              "      <td>The agency plans to publish a new regulation T...</td>\n",
              "      <td>The New York Times</td>\n",
              "      <td>News</td>\n",
              "      <td>https://www.nytimes.com/2018/04/24/climate/epa...</td>\n",
              "    </tr>\n",
              "  </tbody>\n",
              "</table>\n",
              "</div>"
            ],
            "text/plain": [
              "                  articleID  ...                                             webURL\n",
              "0  5adf6684068401528a2aa69b  ...  https://www.nytimes.com/2018/04/24/sports/foot...\n",
              "1  5adf653f068401528a2aa697  ...  https://www.nytimes.com/2018/04/24/climate/epa...\n",
              "\n",
              "[2 rows x 15 columns]"
            ]
          },
          "metadata": {
            "tags": []
          },
          "execution_count": 4
        }
      ]
    },
    {
      "cell_type": "markdown",
      "metadata": {
        "id": "LXWD7kWZjM-y"
      },
      "source": [
        "### 데이터 전처리"
      ]
    },
    {
      "cell_type": "code",
      "metadata": {
        "colab": {
          "base_uri": "https://localhost:8080/"
        },
        "id": "EMrtBkAdjK6i",
        "outputId": "65d49053-4847-49da-c1ba-fe60964afa9f"
      },
      "source": [
        "print('열의개수: ', len(df.columns))\r\n",
        "print(df.columns)"
      ],
      "execution_count": 5,
      "outputs": [
        {
          "output_type": "stream",
          "text": [
            "열의개수:  15\n",
            "Index(['articleID', 'articleWordCount', 'byline', 'documentType', 'headline',\n",
            "       'keywords', 'multimedia', 'newDesk', 'printPage', 'pubDate',\n",
            "       'sectionName', 'snippet', 'source', 'typeOfMaterial', 'webURL'],\n",
            "      dtype='object')\n"
          ],
          "name": "stdout"
        }
      ]
    },
    {
      "cell_type": "code",
      "metadata": {
        "colab": {
          "base_uri": "https://localhost:8080/"
        },
        "id": "x356CR4XjesT",
        "outputId": "5198514b-3022-4e29-f2b1-07b2c7aa5e06"
      },
      "source": [
        "df['headline'].isnull().values.any()"
      ],
      "execution_count": 6,
      "outputs": [
        {
          "output_type": "execute_result",
          "data": {
            "text/plain": [
              "False"
            ]
          },
          "metadata": {
            "tags": []
          },
          "execution_count": 6
        }
      ]
    },
    {
      "cell_type": "code",
      "metadata": {
        "colab": {
          "base_uri": "https://localhost:8080/"
        },
        "id": "bV42S08KjxYj",
        "outputId": "89474baa-e1a1-442c-9e47-8db34fdff5cb"
      },
      "source": [
        "headline = [text for text in df.headline.values]\r\n",
        "headline[:5]"
      ],
      "execution_count": 7,
      "outputs": [
        {
          "output_type": "execute_result",
          "data": {
            "text/plain": [
              "['Former N.F.L. Cheerleadersâ\\x80\\x99 Settlement Offer: $1 and a Meeting With Goodell',\n",
              " 'E.P.A. to Unveil a New Rule. Its Effect: Less Science in Policymaking.',\n",
              " 'The New Noma, Explained',\n",
              " 'Unknown',\n",
              " 'Unknown']"
            ]
          },
          "metadata": {
            "tags": []
          },
          "execution_count": 7
        }
      ]
    },
    {
      "cell_type": "code",
      "metadata": {
        "colab": {
          "base_uri": "https://localhost:8080/"
        },
        "id": "4ild7_hqkBkE",
        "outputId": "246396c0-a2e0-4ad6-8868-0a2e3bd171e7"
      },
      "source": [
        "len(headline)"
      ],
      "execution_count": 8,
      "outputs": [
        {
          "output_type": "execute_result",
          "data": {
            "text/plain": [
              "1324"
            ]
          },
          "metadata": {
            "tags": []
          },
          "execution_count": 8
        }
      ]
    },
    {
      "cell_type": "code",
      "metadata": {
        "colab": {
          "base_uri": "https://localhost:8080/"
        },
        "id": "UGnHeuurkIrk",
        "outputId": "0c552f81-a0ee-449b-991d-4b2bde1f7b22"
      },
      "source": [
        "# 노이즈데이터(Unknown)제거\r\n",
        "headline = [text for text in headline if text !='Unknown']\r\n",
        "len(headline)"
      ],
      "execution_count": 9,
      "outputs": [
        {
          "output_type": "execute_result",
          "data": {
            "text/plain": [
              "1214"
            ]
          },
          "metadata": {
            "tags": []
          },
          "execution_count": 9
        }
      ]
    },
    {
      "cell_type": "code",
      "metadata": {
        "colab": {
          "base_uri": "https://localhost:8080/",
          "height": 35
        },
        "id": "tTnsCLdJkVSD",
        "outputId": "9539e958-bfb7-4629-e08e-a17176ac5d4f"
      },
      "source": [
        "from string import punctuation\r\n",
        "punctuation"
      ],
      "execution_count": 10,
      "outputs": [
        {
          "output_type": "execute_result",
          "data": {
            "application/vnd.google.colaboratory.intrinsic+json": {
              "type": "string"
            },
            "text/plain": [
              "'!\"#$%&\\'()*+,-./:;<=>?@[\\\\]^_`{|}~'"
            ]
          },
          "metadata": {
            "tags": []
          },
          "execution_count": 10
        }
      ]
    },
    {
      "cell_type": "code",
      "metadata": {
        "id": "QmbKFtL0kqZj"
      },
      "source": [
        "# 구두점 제거와 소문자화를 위한함수\r\n",
        "def preprocessing(s):\r\n",
        "  s=s.encode(\"utf8\").decode(\"ascii\", 'ignore')\r\n",
        "  return ''.join(c for c in s if c not in punctuation).lower()"
      ],
      "execution_count": 11,
      "outputs": []
    },
    {
      "cell_type": "code",
      "metadata": {
        "colab": {
          "base_uri": "https://localhost:8080/"
        },
        "id": "U_-QmsnLlMYE",
        "outputId": "e80d1c4d-2dc6-4c09-fd95-0a3db59be449"
      },
      "source": [
        "headlines = [preprocessing(x) for x in headline]\r\n",
        "headlines[:5]"
      ],
      "execution_count": 12,
      "outputs": [
        {
          "output_type": "execute_result",
          "data": {
            "text/plain": [
              "['former nfl cheerleaders settlement offer 1 and a meeting with goodell',\n",
              " 'epa to unveil a new rule its effect less science in policymaking',\n",
              " 'the new noma explained',\n",
              " 'how a bag of texas dirt  became a times tradition',\n",
              " 'is school a place for selfexpression']"
            ]
          },
          "metadata": {
            "tags": []
          },
          "execution_count": 12
        }
      ]
    },
    {
      "cell_type": "code",
      "metadata": {
        "colab": {
          "base_uri": "https://localhost:8080/"
        },
        "id": "1ZDaWrP7lW2k",
        "outputId": "2b1398bd-6add-41d3-fc30-33321693cdec"
      },
      "source": [
        "# 단어 집합(vocabulary)을 만들\r\n",
        "t = Tokenizer()\r\n",
        "t.fit_on_texts(headlines)\r\n",
        "vocab_size = len(t.word_index) + 1\r\n",
        "print('단어 집합의 크기 : %d' % vocab_size)"
      ],
      "execution_count": 18,
      "outputs": [
        {
          "output_type": "stream",
          "text": [
            "단어 집합의 크기 : 3494\n"
          ],
          "name": "stdout"
        }
      ]
    },
    {
      "cell_type": "code",
      "metadata": {
        "colab": {
          "base_uri": "https://localhost:8080/"
        },
        "id": "XjFDg_ZsonYc",
        "outputId": "604b8e71-927f-4f60-f62b-76f06b3ac4b7"
      },
      "source": [
        "sequences = []\r\n",
        "for line in headlines:\r\n",
        "    encoded = t.texts_to_sequences([line])[0]\r\n",
        "    for i in range(1, len(encoded)):\r\n",
        "      sequence =encoded[:i+1]\r\n",
        "      sequences.append(sequence)\r\n",
        "\r\n",
        "sequences[:11]"
      ],
      "execution_count": 19,
      "outputs": [
        {
          "output_type": "execute_result",
          "data": {
            "text/plain": [
              "[[99, 269],\n",
              " [99, 269, 371],\n",
              " [99, 269, 371, 1115],\n",
              " [99, 269, 371, 1115, 582],\n",
              " [99, 269, 371, 1115, 582, 52],\n",
              " [99, 269, 371, 1115, 582, 52, 7],\n",
              " [99, 269, 371, 1115, 582, 52, 7, 2],\n",
              " [99, 269, 371, 1115, 582, 52, 7, 2, 372],\n",
              " [99, 269, 371, 1115, 582, 52, 7, 2, 372, 10],\n",
              " [99, 269, 371, 1115, 582, 52, 7, 2, 372, 10, 1116],\n",
              " [100, 3]]"
            ]
          },
          "metadata": {
            "tags": []
          },
          "execution_count": 19
        }
      ]
    },
    {
      "cell_type": "code",
      "metadata": {
        "colab": {
          "base_uri": "https://localhost:8080/"
        },
        "id": "cPEhIBZ-pz_1",
        "outputId": "3a5f4560-31c6-4a54-d7d7-ccb15642809c"
      },
      "source": [
        "index_to_word = {}\r\n",
        "for key, value in t.word_index.items():\r\n",
        "  index_to_word[value] = key\r\n",
        "\r\n",
        "print('빈도수 상위 1번 단어 :' , index_to_word[1])\r\n",
        "print('빈도수 상위 582번 단어 :', index_to_word[582])"
      ],
      "execution_count": 20,
      "outputs": [
        {
          "output_type": "stream",
          "text": [
            "빈도수 상위 1번 단어 : the\n",
            "빈도수 상위 582번 단어 : offer\n"
          ],
          "name": "stdout"
        }
      ]
    },
    {
      "cell_type": "code",
      "metadata": {
        "colab": {
          "base_uri": "https://localhost:8080/"
        },
        "id": "5C9TC9PTqhFN",
        "outputId": "6567f5f9-ef7b-4861-ae3f-5fd1c87a2b47"
      },
      "source": [
        "max_len = max(len(s) for s in sequences)\r\n",
        "print('샘플의 최대 길이 :', max_len)"
      ],
      "execution_count": 21,
      "outputs": [
        {
          "output_type": "stream",
          "text": [
            "샘플의 최대 길이 : 24\n"
          ],
          "name": "stdout"
        }
      ]
    },
    {
      "cell_type": "code",
      "metadata": {
        "colab": {
          "base_uri": "https://localhost:8080/"
        },
        "id": "MAY15bV8qyJM",
        "outputId": "a0da40ed-1474-4f36-9d53-36be971ae573"
      },
      "source": [
        "sequences = pad_sequences(sequences, maxlen=max_len, padding='pre')\r\n",
        "print(sequences[:3])"
      ],
      "execution_count": 23,
      "outputs": [
        {
          "output_type": "stream",
          "text": [
            "[[   0    0    0    0    0    0    0    0    0    0    0    0    0    0\n",
            "     0    0    0    0    0    0    0    0   99  269]\n",
            " [   0    0    0    0    0    0    0    0    0    0    0    0    0    0\n",
            "     0    0    0    0    0    0    0   99  269  371]\n",
            " [   0    0    0    0    0    0    0    0    0    0    0    0    0    0\n",
            "     0    0    0    0    0    0   99  269  371 1115]]\n"
          ],
          "name": "stdout"
        }
      ]
    },
    {
      "cell_type": "code",
      "metadata": {
        "id": "KlXabBR0q6ZF"
      },
      "source": [
        "X = sequences[:,:-1]\r\n",
        "y = sequences[:,-1]"
      ],
      "execution_count": 26,
      "outputs": []
    },
    {
      "cell_type": "code",
      "metadata": {
        "id": "jq1-tyW9rIRu"
      },
      "source": [
        "Y = to_categorical(y, num_classes=vocab_size)"
      ],
      "execution_count": 27,
      "outputs": []
    },
    {
      "cell_type": "code",
      "metadata": {
        "colab": {
          "base_uri": "https://localhost:8080/"
        },
        "id": "TtianbGkB74_",
        "outputId": "5d7b7a9c-c4c3-47f3-d1dd-25edd0cb4d56"
      },
      "source": [
        "X.shape, Y.shape"
      ],
      "execution_count": 30,
      "outputs": [
        {
          "output_type": "execute_result",
          "data": {
            "text/plain": [
              "((7803, 23), (7803, 3494))"
            ]
          },
          "metadata": {
            "tags": []
          },
          "execution_count": 30
        }
      ]
    },
    {
      "cell_type": "markdown",
      "metadata": {
        "id": "aof3UXzorU1N"
      },
      "source": [
        "### 모델 정의/설정/학습"
      ]
    },
    {
      "cell_type": "code",
      "metadata": {
        "id": "iU9Asn1vrUaE"
      },
      "source": [
        "from keras.models import Sequential\r\n",
        "from keras.layers import GRU, Embedding, Dense"
      ],
      "execution_count": 31,
      "outputs": []
    },
    {
      "cell_type": "code",
      "metadata": {
        "colab": {
          "base_uri": "https://localhost:8080/"
        },
        "id": "iCfWm1Y3uZY1",
        "outputId": "2760a79c-3e89-4f69-a497-2c3acb6db5fe"
      },
      "source": [
        "model = Sequential()\r\n",
        "model.add(Embedding(vocab_size, 10, input_length=max_len-1, \r\n",
        "                    name=\"Embedding_Layer\"))\r\n",
        "model.add(GRU(128, name=\"GRU_Layer\"))\r\n",
        "model.add(Dense(vocab_size, activation='softmax', name=\"Output_Layer\"))\r\n",
        "model.summary()"
      ],
      "execution_count": 33,
      "outputs": [
        {
          "output_type": "stream",
          "text": [
            "Model: \"sequential_1\"\n",
            "_________________________________________________________________\n",
            "Layer (type)                 Output Shape              Param #   \n",
            "=================================================================\n",
            "Embedding_Layer (Embedding)  (None, 23, 10)            34940     \n",
            "_________________________________________________________________\n",
            "GRU_Layer (GRU)              (None, 128)               53760     \n",
            "_________________________________________________________________\n",
            "Output_Layer (Dense)         (None, 3494)              450726    \n",
            "=================================================================\n",
            "Total params: 539,426\n",
            "Trainable params: 539,426\n",
            "Non-trainable params: 0\n",
            "_________________________________________________________________\n"
          ],
          "name": "stdout"
        }
      ]
    },
    {
      "cell_type": "code",
      "metadata": {
        "id": "nzo3X5P-tRtk"
      },
      "source": [
        "model.compile(loss='categorical_crossentropy', \r\n",
        "              optimizer='adam', metrics=['accuracy'])"
      ],
      "execution_count": 34,
      "outputs": []
    },
    {
      "cell_type": "code",
      "metadata": {
        "colab": {
          "base_uri": "https://localhost:8080/"
        },
        "id": "E2k6ZUieCeze",
        "outputId": "fe10ff52-8511-429c-d091-c3e5370f9181"
      },
      "source": [
        "hitstory = model.fit(X, Y, epochs=200, verbose=2)"
      ],
      "execution_count": 36,
      "outputs": [
        {
          "output_type": "stream",
          "text": [
            "Epoch 1/200\n",
            "244/244 - 9s - loss: 7.7056 - accuracy: 0.0270\n",
            "Epoch 2/200\n",
            "244/244 - 1s - loss: 7.1280 - accuracy: 0.0319\n",
            "Epoch 3/200\n",
            "244/244 - 1s - loss: 6.9165 - accuracy: 0.0447\n",
            "Epoch 4/200\n",
            "244/244 - 1s - loss: 6.6963 - accuracy: 0.0497\n",
            "Epoch 5/200\n",
            "244/244 - 1s - loss: 6.4518 - accuracy: 0.0534\n",
            "Epoch 6/200\n",
            "244/244 - 1s - loss: 6.1823 - accuracy: 0.0597\n",
            "Epoch 7/200\n",
            "244/244 - 1s - loss: 5.9007 - accuracy: 0.0648\n",
            "Epoch 8/200\n",
            "244/244 - 1s - loss: 5.6149 - accuracy: 0.0696\n",
            "Epoch 9/200\n",
            "244/244 - 1s - loss: 5.3410 - accuracy: 0.0768\n",
            "Epoch 10/200\n",
            "244/244 - 1s - loss: 5.0809 - accuracy: 0.0898\n",
            "Epoch 11/200\n",
            "244/244 - 1s - loss: 4.8400 - accuracy: 0.1060\n",
            "Epoch 12/200\n",
            "244/244 - 1s - loss: 4.6172 - accuracy: 0.1262\n",
            "Epoch 13/200\n",
            "244/244 - 1s - loss: 4.4119 - accuracy: 0.1581\n",
            "Epoch 14/200\n",
            "244/244 - 1s - loss: 4.2227 - accuracy: 0.1838\n",
            "Epoch 15/200\n",
            "244/244 - 1s - loss: 4.0408 - accuracy: 0.2118\n",
            "Epoch 16/200\n",
            "244/244 - 1s - loss: 3.8778 - accuracy: 0.2364\n",
            "Epoch 17/200\n",
            "244/244 - 1s - loss: 3.7171 - accuracy: 0.2671\n",
            "Epoch 18/200\n",
            "244/244 - 1s - loss: 3.5754 - accuracy: 0.2900\n",
            "Epoch 19/200\n",
            "244/244 - 1s - loss: 3.4365 - accuracy: 0.3124\n",
            "Epoch 20/200\n",
            "244/244 - 1s - loss: 3.3065 - accuracy: 0.3381\n",
            "Epoch 21/200\n",
            "244/244 - 1s - loss: 3.1851 - accuracy: 0.3609\n",
            "Epoch 22/200\n",
            "244/244 - 1s - loss: 3.0690 - accuracy: 0.3793\n",
            "Epoch 23/200\n",
            "244/244 - 1s - loss: 2.9621 - accuracy: 0.3959\n",
            "Epoch 24/200\n",
            "244/244 - 1s - loss: 2.8604 - accuracy: 0.4152\n",
            "Epoch 25/200\n",
            "244/244 - 1s - loss: 2.7593 - accuracy: 0.4392\n",
            "Epoch 26/200\n",
            "244/244 - 1s - loss: 2.6594 - accuracy: 0.4584\n",
            "Epoch 27/200\n",
            "244/244 - 1s - loss: 2.5684 - accuracy: 0.4715\n",
            "Epoch 28/200\n",
            "244/244 - 1s - loss: 2.4801 - accuracy: 0.4897\n",
            "Epoch 29/200\n",
            "244/244 - 1s - loss: 2.3957 - accuracy: 0.5076\n",
            "Epoch 30/200\n",
            "244/244 - 1s - loss: 2.3159 - accuracy: 0.5240\n",
            "Epoch 31/200\n",
            "244/244 - 1s - loss: 2.2302 - accuracy: 0.5420\n",
            "Epoch 32/200\n",
            "244/244 - 1s - loss: 2.1577 - accuracy: 0.5541\n",
            "Epoch 33/200\n",
            "244/244 - 1s - loss: 2.0830 - accuracy: 0.5708\n",
            "Epoch 34/200\n",
            "244/244 - 1s - loss: 2.0116 - accuracy: 0.5861\n",
            "Epoch 35/200\n",
            "244/244 - 1s - loss: 1.9449 - accuracy: 0.5969\n",
            "Epoch 36/200\n",
            "244/244 - 1s - loss: 1.8726 - accuracy: 0.6166\n",
            "Epoch 37/200\n",
            "244/244 - 1s - loss: 1.8089 - accuracy: 0.6301\n",
            "Epoch 38/200\n",
            "244/244 - 1s - loss: 1.7456 - accuracy: 0.6414\n",
            "Epoch 39/200\n",
            "244/244 - 1s - loss: 1.6829 - accuracy: 0.6558\n",
            "Epoch 40/200\n",
            "244/244 - 1s - loss: 1.6254 - accuracy: 0.6668\n",
            "Epoch 41/200\n",
            "244/244 - 1s - loss: 1.5652 - accuracy: 0.6799\n",
            "Epoch 42/200\n",
            "244/244 - 1s - loss: 1.5091 - accuracy: 0.6918\n",
            "Epoch 43/200\n",
            "244/244 - 1s - loss: 1.4560 - accuracy: 0.7038\n",
            "Epoch 44/200\n",
            "244/244 - 1s - loss: 1.4070 - accuracy: 0.7124\n",
            "Epoch 45/200\n",
            "244/244 - 1s - loss: 1.3518 - accuracy: 0.7241\n",
            "Epoch 46/200\n",
            "244/244 - 1s - loss: 1.3007 - accuracy: 0.7366\n",
            "Epoch 47/200\n",
            "244/244 - 1s - loss: 1.2553 - accuracy: 0.7460\n",
            "Epoch 48/200\n",
            "244/244 - 1s - loss: 1.2084 - accuracy: 0.7571\n",
            "Epoch 49/200\n",
            "244/244 - 1s - loss: 1.1625 - accuracy: 0.7652\n",
            "Epoch 50/200\n",
            "244/244 - 1s - loss: 1.1236 - accuracy: 0.7721\n",
            "Epoch 51/200\n",
            "244/244 - 1s - loss: 1.0796 - accuracy: 0.7841\n",
            "Epoch 52/200\n",
            "244/244 - 1s - loss: 1.0629 - accuracy: 0.7850\n",
            "Epoch 53/200\n",
            "244/244 - 1s - loss: 1.0914 - accuracy: 0.7826\n",
            "Epoch 54/200\n",
            "244/244 - 1s - loss: 0.9791 - accuracy: 0.7994\n",
            "Epoch 55/200\n",
            "244/244 - 1s - loss: 0.9272 - accuracy: 0.8138\n",
            "Epoch 56/200\n",
            "244/244 - 1s - loss: 0.8928 - accuracy: 0.8187\n",
            "Epoch 57/200\n",
            "244/244 - 1s - loss: 0.8586 - accuracy: 0.8262\n",
            "Epoch 58/200\n",
            "244/244 - 1s - loss: 0.8312 - accuracy: 0.8326\n",
            "Epoch 59/200\n",
            "244/244 - 1s - loss: 0.8021 - accuracy: 0.8363\n",
            "Epoch 60/200\n",
            "244/244 - 1s - loss: 0.7726 - accuracy: 0.8433\n",
            "Epoch 61/200\n",
            "244/244 - 1s - loss: 0.7470 - accuracy: 0.8488\n",
            "Epoch 62/200\n",
            "244/244 - 1s - loss: 0.7208 - accuracy: 0.8536\n",
            "Epoch 63/200\n",
            "244/244 - 1s - loss: 0.6960 - accuracy: 0.8595\n",
            "Epoch 64/200\n",
            "244/244 - 1s - loss: 0.6699 - accuracy: 0.8627\n",
            "Epoch 65/200\n",
            "244/244 - 1s - loss: 0.6470 - accuracy: 0.8713\n",
            "Epoch 66/200\n",
            "244/244 - 1s - loss: 0.6253 - accuracy: 0.8756\n",
            "Epoch 67/200\n",
            "244/244 - 1s - loss: 0.6034 - accuracy: 0.8779\n",
            "Epoch 68/200\n",
            "244/244 - 1s - loss: 0.5884 - accuracy: 0.8784\n",
            "Epoch 69/200\n",
            "244/244 - 1s - loss: 0.5662 - accuracy: 0.8848\n",
            "Epoch 70/200\n",
            "244/244 - 1s - loss: 0.5455 - accuracy: 0.8889\n",
            "Epoch 71/200\n",
            "244/244 - 1s - loss: 0.5300 - accuracy: 0.8904\n",
            "Epoch 72/200\n",
            "244/244 - 1s - loss: 0.5154 - accuracy: 0.8940\n",
            "Epoch 73/200\n",
            "244/244 - 1s - loss: 0.5021 - accuracy: 0.8953\n",
            "Epoch 74/200\n",
            "244/244 - 1s - loss: 0.4887 - accuracy: 0.8971\n",
            "Epoch 75/200\n",
            "244/244 - 1s - loss: 0.4932 - accuracy: 0.8966\n",
            "Epoch 76/200\n",
            "244/244 - 1s - loss: 0.4844 - accuracy: 0.8981\n",
            "Epoch 77/200\n",
            "244/244 - 1s - loss: 0.4555 - accuracy: 0.9043\n",
            "Epoch 78/200\n",
            "244/244 - 1s - loss: 0.4431 - accuracy: 0.9043\n",
            "Epoch 79/200\n",
            "244/244 - 1s - loss: 0.4257 - accuracy: 0.9063\n",
            "Epoch 80/200\n",
            "244/244 - 1s - loss: 0.4128 - accuracy: 0.9079\n",
            "Epoch 81/200\n",
            "244/244 - 1s - loss: 0.4034 - accuracy: 0.9088\n",
            "Epoch 82/200\n",
            "244/244 - 1s - loss: 0.3961 - accuracy: 0.9094\n",
            "Epoch 83/200\n",
            "244/244 - 1s - loss: 0.3901 - accuracy: 0.9103\n",
            "Epoch 84/200\n",
            "244/244 - 1s - loss: 0.3829 - accuracy: 0.9103\n",
            "Epoch 85/200\n",
            "244/244 - 1s - loss: 0.4234 - accuracy: 0.9036\n",
            "Epoch 86/200\n",
            "244/244 - 1s - loss: 0.4121 - accuracy: 0.9057\n",
            "Epoch 87/200\n",
            "244/244 - 1s - loss: 0.3730 - accuracy: 0.9125\n",
            "Epoch 88/200\n",
            "244/244 - 1s - loss: 0.3569 - accuracy: 0.9120\n",
            "Epoch 89/200\n",
            "244/244 - 1s - loss: 0.3511 - accuracy: 0.9120\n",
            "Epoch 90/200\n",
            "244/244 - 1s - loss: 0.3465 - accuracy: 0.9127\n",
            "Epoch 91/200\n",
            "244/244 - 1s - loss: 0.3432 - accuracy: 0.9146\n",
            "Epoch 92/200\n",
            "244/244 - 1s - loss: 0.3386 - accuracy: 0.9131\n",
            "Epoch 93/200\n",
            "244/244 - 1s - loss: 0.3324 - accuracy: 0.9139\n",
            "Epoch 94/200\n",
            "244/244 - 1s - loss: 0.3304 - accuracy: 0.9135\n",
            "Epoch 95/200\n",
            "244/244 - 1s - loss: 0.3315 - accuracy: 0.9143\n",
            "Epoch 96/200\n",
            "244/244 - 1s - loss: 0.3262 - accuracy: 0.9148\n",
            "Epoch 97/200\n",
            "244/244 - 1s - loss: 0.3235 - accuracy: 0.9134\n",
            "Epoch 98/200\n",
            "244/244 - 1s - loss: 0.3224 - accuracy: 0.9135\n",
            "Epoch 99/200\n",
            "244/244 - 1s - loss: 0.3196 - accuracy: 0.9148\n",
            "Epoch 100/200\n",
            "244/244 - 1s - loss: 0.3202 - accuracy: 0.9141\n",
            "Epoch 101/200\n",
            "244/244 - 1s - loss: 0.4529 - accuracy: 0.8859\n",
            "Epoch 102/200\n",
            "244/244 - 1s - loss: 0.4210 - accuracy: 0.8947\n",
            "Epoch 103/200\n",
            "244/244 - 1s - loss: 0.3322 - accuracy: 0.9138\n",
            "Epoch 104/200\n",
            "244/244 - 1s - loss: 0.3115 - accuracy: 0.9155\n",
            "Epoch 105/200\n",
            "244/244 - 1s - loss: 0.3047 - accuracy: 0.9175\n",
            "Epoch 106/200\n",
            "244/244 - 1s - loss: 0.3052 - accuracy: 0.9148\n",
            "Epoch 107/200\n",
            "244/244 - 1s - loss: 0.3020 - accuracy: 0.9157\n",
            "Epoch 108/200\n",
            "244/244 - 1s - loss: 0.3009 - accuracy: 0.9153\n",
            "Epoch 109/200\n",
            "244/244 - 1s - loss: 0.2994 - accuracy: 0.9149\n",
            "Epoch 110/200\n",
            "244/244 - 1s - loss: 0.2995 - accuracy: 0.9148\n",
            "Epoch 111/200\n",
            "244/244 - 1s - loss: 0.2969 - accuracy: 0.9167\n",
            "Epoch 112/200\n",
            "244/244 - 1s - loss: 0.2997 - accuracy: 0.9152\n",
            "Epoch 113/200\n",
            "244/244 - 1s - loss: 0.2975 - accuracy: 0.9144\n",
            "Epoch 114/200\n",
            "244/244 - 1s - loss: 0.2958 - accuracy: 0.9164\n",
            "Epoch 115/200\n",
            "244/244 - 1s - loss: 0.2981 - accuracy: 0.9149\n",
            "Epoch 116/200\n",
            "244/244 - 1s - loss: 0.3023 - accuracy: 0.9132\n",
            "Epoch 117/200\n",
            "244/244 - 1s - loss: 0.3047 - accuracy: 0.9144\n",
            "Epoch 118/200\n",
            "244/244 - 1s - loss: 0.3012 - accuracy: 0.9149\n",
            "Epoch 119/200\n",
            "244/244 - 1s - loss: 0.2965 - accuracy: 0.9135\n",
            "Epoch 120/200\n",
            "244/244 - 1s - loss: 0.2989 - accuracy: 0.9131\n",
            "Epoch 121/200\n",
            "244/244 - 1s - loss: 0.2948 - accuracy: 0.9138\n",
            "Epoch 122/200\n",
            "244/244 - 1s - loss: 0.2920 - accuracy: 0.9148\n",
            "Epoch 123/200\n",
            "244/244 - 1s - loss: 0.2961 - accuracy: 0.9155\n",
            "Epoch 124/200\n",
            "244/244 - 1s - loss: 0.3002 - accuracy: 0.9130\n",
            "Epoch 125/200\n",
            "244/244 - 1s - loss: 0.3202 - accuracy: 0.9091\n",
            "Epoch 126/200\n",
            "244/244 - 1s - loss: 0.3173 - accuracy: 0.9098\n",
            "Epoch 127/200\n",
            "244/244 - 1s - loss: 0.3002 - accuracy: 0.9131\n",
            "Epoch 128/200\n",
            "244/244 - 1s - loss: 0.2931 - accuracy: 0.9146\n",
            "Epoch 129/200\n",
            "244/244 - 1s - loss: 0.2876 - accuracy: 0.9152\n",
            "Epoch 130/200\n",
            "244/244 - 1s - loss: 0.2857 - accuracy: 0.9158\n",
            "Epoch 131/200\n",
            "244/244 - 1s - loss: 0.2849 - accuracy: 0.9161\n",
            "Epoch 132/200\n",
            "244/244 - 1s - loss: 0.2845 - accuracy: 0.9154\n",
            "Epoch 133/200\n",
            "244/244 - 1s - loss: 0.2846 - accuracy: 0.9163\n",
            "Epoch 134/200\n",
            "244/244 - 1s - loss: 0.2846 - accuracy: 0.9166\n",
            "Epoch 135/200\n",
            "244/244 - 1s - loss: 0.2851 - accuracy: 0.9152\n",
            "Epoch 136/200\n",
            "244/244 - 1s - loss: 0.2935 - accuracy: 0.9138\n",
            "Epoch 137/200\n",
            "244/244 - 1s - loss: 0.3439 - accuracy: 0.9038\n",
            "Epoch 138/200\n",
            "244/244 - 1s - loss: 0.3467 - accuracy: 0.9045\n",
            "Epoch 139/200\n",
            "244/244 - 1s - loss: 0.3087 - accuracy: 0.9104\n",
            "Epoch 140/200\n",
            "244/244 - 1s - loss: 0.2879 - accuracy: 0.9157\n",
            "Epoch 141/200\n",
            "244/244 - 1s - loss: 0.2827 - accuracy: 0.9162\n",
            "Epoch 142/200\n",
            "244/244 - 1s - loss: 0.2835 - accuracy: 0.9146\n",
            "Epoch 143/200\n",
            "244/244 - 1s - loss: 0.2824 - accuracy: 0.9167\n",
            "Epoch 144/200\n",
            "244/244 - 1s - loss: 0.2808 - accuracy: 0.9159\n",
            "Epoch 145/200\n",
            "244/244 - 1s - loss: 0.2807 - accuracy: 0.9148\n",
            "Epoch 146/200\n",
            "244/244 - 1s - loss: 0.2818 - accuracy: 0.9155\n",
            "Epoch 147/200\n",
            "244/244 - 1s - loss: 0.2843 - accuracy: 0.9155\n",
            "Epoch 148/200\n",
            "244/244 - 1s - loss: 0.2830 - accuracy: 0.9148\n",
            "Epoch 149/200\n",
            "244/244 - 1s - loss: 0.2863 - accuracy: 0.9139\n",
            "Epoch 150/200\n",
            "244/244 - 1s - loss: 0.2828 - accuracy: 0.9162\n",
            "Epoch 151/200\n",
            "244/244 - 1s - loss: 0.2804 - accuracy: 0.9153\n",
            "Epoch 152/200\n",
            "244/244 - 1s - loss: 0.2807 - accuracy: 0.9154\n",
            "Epoch 153/200\n",
            "244/244 - 1s - loss: 0.2809 - accuracy: 0.9158\n",
            "Epoch 154/200\n",
            "244/244 - 1s - loss: 0.2837 - accuracy: 0.9143\n",
            "Epoch 155/200\n",
            "244/244 - 1s - loss: 0.2856 - accuracy: 0.9146\n",
            "Epoch 156/200\n",
            "244/244 - 1s - loss: 0.3174 - accuracy: 0.9072\n",
            "Epoch 157/200\n",
            "244/244 - 1s - loss: 0.3268 - accuracy: 0.9072\n",
            "Epoch 158/200\n",
            "244/244 - 1s - loss: 0.3100 - accuracy: 0.9109\n",
            "Epoch 159/200\n",
            "244/244 - 1s - loss: 0.2873 - accuracy: 0.9150\n",
            "Epoch 160/200\n",
            "244/244 - 1s - loss: 0.2800 - accuracy: 0.9168\n",
            "Epoch 161/200\n",
            "244/244 - 1s - loss: 0.2797 - accuracy: 0.9143\n",
            "Epoch 162/200\n",
            "244/244 - 1s - loss: 0.2799 - accuracy: 0.9157\n",
            "Epoch 163/200\n",
            "244/244 - 1s - loss: 0.2793 - accuracy: 0.9139\n",
            "Epoch 164/200\n",
            "244/244 - 1s - loss: 0.2771 - accuracy: 0.9167\n",
            "Epoch 165/200\n",
            "244/244 - 1s - loss: 0.2780 - accuracy: 0.9158\n",
            "Epoch 166/200\n",
            "244/244 - 1s - loss: 0.2786 - accuracy: 0.9149\n",
            "Epoch 167/200\n",
            "244/244 - 1s - loss: 0.2845 - accuracy: 0.9135\n",
            "Epoch 168/200\n",
            "244/244 - 1s - loss: 0.2801 - accuracy: 0.9164\n",
            "Epoch 169/200\n",
            "244/244 - 1s - loss: 0.2842 - accuracy: 0.9135\n",
            "Epoch 170/200\n",
            "244/244 - 1s - loss: 0.2831 - accuracy: 0.9148\n",
            "Epoch 171/200\n",
            "244/244 - 1s - loss: 0.2810 - accuracy: 0.9157\n",
            "Epoch 172/200\n",
            "244/244 - 1s - loss: 0.2798 - accuracy: 0.9141\n",
            "Epoch 173/200\n",
            "244/244 - 1s - loss: 0.2781 - accuracy: 0.9175\n",
            "Epoch 174/200\n",
            "244/244 - 1s - loss: 0.2844 - accuracy: 0.9138\n",
            "Epoch 175/200\n",
            "244/244 - 1s - loss: 0.3142 - accuracy: 0.9094\n",
            "Epoch 176/200\n",
            "244/244 - 1s - loss: 0.3389 - accuracy: 0.9061\n",
            "Epoch 177/200\n",
            "244/244 - 1s - loss: 0.3088 - accuracy: 0.9105\n",
            "Epoch 178/200\n",
            "244/244 - 1s - loss: 0.2887 - accuracy: 0.9138\n",
            "Epoch 179/200\n",
            "244/244 - 1s - loss: 0.2791 - accuracy: 0.9149\n",
            "Epoch 180/200\n",
            "244/244 - 1s - loss: 0.2775 - accuracy: 0.9153\n",
            "Epoch 181/200\n",
            "244/244 - 1s - loss: 0.2773 - accuracy: 0.9145\n",
            "Epoch 182/200\n",
            "244/244 - 1s - loss: 0.2754 - accuracy: 0.9164\n",
            "Epoch 183/200\n",
            "244/244 - 1s - loss: 0.2757 - accuracy: 0.9144\n",
            "Epoch 184/200\n",
            "244/244 - 1s - loss: 0.2768 - accuracy: 0.9153\n",
            "Epoch 185/200\n",
            "244/244 - 1s - loss: 0.2766 - accuracy: 0.9148\n",
            "Epoch 186/200\n",
            "244/244 - 1s - loss: 0.2779 - accuracy: 0.9145\n",
            "Epoch 187/200\n",
            "244/244 - 1s - loss: 0.2757 - accuracy: 0.9148\n",
            "Epoch 188/200\n",
            "244/244 - 1s - loss: 0.2779 - accuracy: 0.9150\n",
            "Epoch 189/200\n",
            "244/244 - 1s - loss: 0.2771 - accuracy: 0.9148\n",
            "Epoch 190/200\n",
            "244/244 - 1s - loss: 0.2762 - accuracy: 0.9148\n",
            "Epoch 191/200\n",
            "244/244 - 1s - loss: 0.2769 - accuracy: 0.9163\n",
            "Epoch 192/200\n",
            "244/244 - 1s - loss: 0.2764 - accuracy: 0.9138\n",
            "Epoch 193/200\n",
            "244/244 - 1s - loss: 0.2793 - accuracy: 0.9140\n",
            "Epoch 194/200\n",
            "244/244 - 1s - loss: 0.2816 - accuracy: 0.9145\n",
            "Epoch 195/200\n",
            "244/244 - 1s - loss: 0.2848 - accuracy: 0.9153\n",
            "Epoch 196/200\n",
            "244/244 - 1s - loss: 0.2900 - accuracy: 0.9145\n",
            "Epoch 197/200\n",
            "244/244 - 1s - loss: 0.3638 - accuracy: 0.8940\n",
            "Epoch 198/200\n",
            "244/244 - 1s - loss: 0.3845 - accuracy: 0.8932\n",
            "Epoch 199/200\n",
            "244/244 - 1s - loss: 0.3065 - accuracy: 0.9105\n",
            "Epoch 200/200\n",
            "244/244 - 1s - loss: 0.2840 - accuracy: 0.9167\n"
          ],
          "name": "stdout"
        }
      ]
    },
    {
      "cell_type": "code",
      "metadata": {
        "id": "7oPJEDhhuYnV"
      },
      "source": [
        "def sentence_generation(model, t, current_word, n): # 모델, 토크나이저, 현재 단어, 반복할 횟수\r\n",
        "    init_word = current_word # 처음 들어온 단어도 마지막에 같이 출력하기위해 저장\r\n",
        "    sentence = ''\r\n",
        "    for _ in range(n): # n번 반복\r\n",
        "        encoded = t.texts_to_sequences([current_word])[0] # 현재 단어에 대한 정수 인코딩\r\n",
        "        encoded = pad_sequences([encoded], maxlen=23, padding='pre') # 데이터에 대한 패딩\r\n",
        "        result = np.argmax(model.predict(encoded), axis=-1)\r\n",
        "          # 입력한 X(현재 단어)에 대해서 y를 예측하고 y(예측한 단어)를 result에 저장.\r\n",
        "        for word, index in t.word_index.items(): \r\n",
        "            if index == result: # 만약 예측한 단어와 인덱스와 동일한 단어가 있다면\r\n",
        "                break # 해당 단어가 예측 단어이므로 break\r\n",
        "        current_word = current_word + ' '  + word # 현재 단어 + ' ' + 예측 단어를 현재 단어로 변경\r\n",
        "        sentence = sentence + ' ' + word # 예측 단어를 문장에 저장\r\n",
        "\r\n",
        "    sentence = init_word + sentence\r\n",
        "    return sentence"
      ],
      "execution_count": 37,
      "outputs": []
    },
    {
      "cell_type": "code",
      "metadata": {
        "colab": {
          "base_uri": "https://localhost:8080/"
        },
        "id": "CexveySuufOt",
        "outputId": "7cf1aedc-dbee-4a43-9422-e48c47119b0f"
      },
      "source": [
        "print(sentence_generation(model, t, 'i', 10))\r\n",
        "print(sentence_generation(model, t, 'how', 10))\r\n",
        "print(sentence_generation(model, t, 'former', 10))"
      ],
      "execution_count": 38,
      "outputs": [
        {
          "output_type": "stream",
          "text": [
            "i want to be rich and im not sorry us in\n",
            "how to prevent a racist hoodie comments of new york strike\n",
            "former nfl cheerleaders settlement offer 1 and a meeting with goodell\n"
          ],
          "name": "stdout"
        }
      ]
    },
    {
      "cell_type": "markdown",
      "metadata": {
        "id": "4hp_0w26Dm3B"
      },
      "source": [
        "### simpleRNN 사용한 경우"
      ]
    },
    {
      "cell_type": "code",
      "metadata": {
        "colab": {
          "base_uri": "https://localhost:8080/"
        },
        "id": "TAOPWZDhDjIM",
        "outputId": "4328915a-fd5c-4a85-fc79-1fbd85c182b3"
      },
      "source": [
        "from tensorflow.keras.layers import SimpleRNN\r\n",
        "model = Sequential()\r\n",
        "model.add(Embedding(vocab_size, 10, input_length=max_len-1, \r\n",
        "                    name=\"Embedding_Layer\"))\r\n",
        "model.add(SimpleRNN(128, name=\"SimpleRNN_Layer\"))\r\n",
        "model.add(Dense(vocab_size, activation='softmax', name=\"Output_Layer\"))\r\n",
        "model.summary()"
      ],
      "execution_count": 39,
      "outputs": [
        {
          "output_type": "stream",
          "text": [
            "Model: \"sequential_2\"\n",
            "_________________________________________________________________\n",
            "Layer (type)                 Output Shape              Param #   \n",
            "=================================================================\n",
            "Embedding_Layer (Embedding)  (None, 23, 10)            34940     \n",
            "_________________________________________________________________\n",
            "SimpleRNN_Layer (SimpleRNN)  (None, 128)               17792     \n",
            "_________________________________________________________________\n",
            "Output_Layer (Dense)         (None, 3494)              450726    \n",
            "=================================================================\n",
            "Total params: 503,458\n",
            "Trainable params: 503,458\n",
            "Non-trainable params: 0\n",
            "_________________________________________________________________\n"
          ],
          "name": "stdout"
        }
      ]
    },
    {
      "cell_type": "code",
      "metadata": {
        "id": "GxG189ijDu_v"
      },
      "source": [
        "model.compile(loss='categorical_crossentropy', \r\n",
        "              optimizer='adam', metrics=['accuracy'])"
      ],
      "execution_count": 40,
      "outputs": []
    },
    {
      "cell_type": "code",
      "metadata": {
        "colab": {
          "base_uri": "https://localhost:8080/"
        },
        "id": "uvVG-CwYDxIf",
        "outputId": "7f4cb15e-8994-4ec5-d141-df6a6f57b80a"
      },
      "source": [
        "history = model.fit(X, Y, epochs=200, verbose=2)"
      ],
      "execution_count": 41,
      "outputs": [
        {
          "output_type": "stream",
          "text": [
            "Epoch 1/200\n",
            "244/244 - 4s - loss: 7.6585 - accuracy: 0.0261\n",
            "Epoch 2/200\n",
            "244/244 - 3s - loss: 7.1557 - accuracy: 0.0334\n",
            "Epoch 3/200\n",
            "244/244 - 3s - loss: 6.9595 - accuracy: 0.0428\n",
            "Epoch 4/200\n",
            "244/244 - 4s - loss: 6.7292 - accuracy: 0.0496\n",
            "Epoch 5/200\n",
            "244/244 - 3s - loss: 6.4419 - accuracy: 0.0565\n",
            "Epoch 6/200\n",
            "244/244 - 3s - loss: 6.1363 - accuracy: 0.0614\n",
            "Epoch 7/200\n",
            "244/244 - 3s - loss: 5.8470 - accuracy: 0.0675\n",
            "Epoch 8/200\n",
            "244/244 - 4s - loss: 5.5720 - accuracy: 0.0724\n",
            "Epoch 9/200\n",
            "244/244 - 3s - loss: 5.3172 - accuracy: 0.0843\n",
            "Epoch 10/200\n",
            "244/244 - 4s - loss: 5.0639 - accuracy: 0.0996\n",
            "Epoch 11/200\n",
            "244/244 - 4s - loss: 4.8232 - accuracy: 0.1212\n",
            "Epoch 12/200\n",
            "244/244 - 4s - loss: 4.5889 - accuracy: 0.1524\n",
            "Epoch 13/200\n",
            "244/244 - 4s - loss: 4.3600 - accuracy: 0.1785\n",
            "Epoch 14/200\n",
            "244/244 - 3s - loss: 4.1393 - accuracy: 0.2117\n",
            "Epoch 15/200\n",
            "244/244 - 3s - loss: 3.9232 - accuracy: 0.2486\n",
            "Epoch 16/200\n",
            "244/244 - 3s - loss: 3.7219 - accuracy: 0.2854\n",
            "Epoch 17/200\n",
            "244/244 - 4s - loss: 3.5273 - accuracy: 0.3167\n",
            "Epoch 18/200\n",
            "244/244 - 3s - loss: 3.3423 - accuracy: 0.3482\n",
            "Epoch 19/200\n",
            "244/244 - 4s - loss: 3.1711 - accuracy: 0.3795\n",
            "Epoch 20/200\n",
            "244/244 - 4s - loss: 3.0087 - accuracy: 0.4151\n",
            "Epoch 21/200\n",
            "244/244 - 4s - loss: 2.8508 - accuracy: 0.4432\n",
            "Epoch 22/200\n",
            "244/244 - 4s - loss: 2.7079 - accuracy: 0.4752\n",
            "Epoch 23/200\n",
            "244/244 - 3s - loss: 2.5645 - accuracy: 0.4993\n",
            "Epoch 24/200\n",
            "244/244 - 3s - loss: 2.4377 - accuracy: 0.5252\n",
            "Epoch 25/200\n",
            "244/244 - 3s - loss: 2.3181 - accuracy: 0.5476\n",
            "Epoch 26/200\n",
            "244/244 - 4s - loss: 2.2049 - accuracy: 0.5672\n",
            "Epoch 27/200\n",
            "244/244 - 3s - loss: 2.1003 - accuracy: 0.5909\n",
            "Epoch 28/200\n",
            "244/244 - 3s - loss: 1.9938 - accuracy: 0.6114\n",
            "Epoch 29/200\n",
            "244/244 - 3s - loss: 1.9052 - accuracy: 0.6264\n",
            "Epoch 30/200\n",
            "244/244 - 3s - loss: 1.8202 - accuracy: 0.6477\n",
            "Epoch 31/200\n",
            "244/244 - 3s - loss: 1.7294 - accuracy: 0.6641\n",
            "Epoch 32/200\n",
            "244/244 - 4s - loss: 1.6525 - accuracy: 0.6758\n",
            "Epoch 33/200\n",
            "244/244 - 3s - loss: 1.5737 - accuracy: 0.6986\n",
            "Epoch 34/200\n",
            "244/244 - 3s - loss: 1.5058 - accuracy: 0.7104\n",
            "Epoch 35/200\n",
            "244/244 - 3s - loss: 1.4402 - accuracy: 0.7228\n",
            "Epoch 36/200\n",
            "244/244 - 3s - loss: 1.3765 - accuracy: 0.7328\n",
            "Epoch 37/200\n",
            "244/244 - 4s - loss: 1.3121 - accuracy: 0.7452\n",
            "Epoch 38/200\n",
            "244/244 - 4s - loss: 1.2553 - accuracy: 0.7578\n",
            "Epoch 39/200\n",
            "244/244 - 3s - loss: 1.2044 - accuracy: 0.7684\n",
            "Epoch 40/200\n",
            "244/244 - 3s - loss: 1.1503 - accuracy: 0.7783\n",
            "Epoch 41/200\n",
            "244/244 - 3s - loss: 1.1035 - accuracy: 0.7887\n",
            "Epoch 42/200\n",
            "244/244 - 3s - loss: 1.0561 - accuracy: 0.7975\n",
            "Epoch 43/200\n",
            "244/244 - 3s - loss: 1.0160 - accuracy: 0.8076\n",
            "Epoch 44/200\n",
            "244/244 - 3s - loss: 0.9727 - accuracy: 0.8174\n",
            "Epoch 45/200\n",
            "244/244 - 3s - loss: 0.9333 - accuracy: 0.8233\n",
            "Epoch 46/200\n",
            "244/244 - 4s - loss: 0.8934 - accuracy: 0.8307\n",
            "Epoch 47/200\n",
            "244/244 - 3s - loss: 0.8576 - accuracy: 0.8378\n",
            "Epoch 48/200\n",
            "244/244 - 3s - loss: 0.8252 - accuracy: 0.8449\n",
            "Epoch 49/200\n",
            "244/244 - 4s - loss: 0.7945 - accuracy: 0.8549\n",
            "Epoch 50/200\n",
            "244/244 - 3s - loss: 0.7713 - accuracy: 0.8553\n",
            "Epoch 51/200\n",
            "244/244 - 4s - loss: 0.7455 - accuracy: 0.8583\n",
            "Epoch 52/200\n",
            "244/244 - 3s - loss: 0.7105 - accuracy: 0.8676\n",
            "Epoch 53/200\n",
            "244/244 - 3s - loss: 0.6797 - accuracy: 0.8734\n",
            "Epoch 54/200\n",
            "244/244 - 4s - loss: 0.6557 - accuracy: 0.8742\n",
            "Epoch 55/200\n",
            "244/244 - 4s - loss: 0.6322 - accuracy: 0.8789\n",
            "Epoch 56/200\n",
            "244/244 - 3s - loss: 0.6700 - accuracy: 0.8736\n",
            "Epoch 57/200\n",
            "244/244 - 3s - loss: 0.6176 - accuracy: 0.8808\n",
            "Epoch 58/200\n",
            "244/244 - 4s - loss: 0.5836 - accuracy: 0.8876\n",
            "Epoch 59/200\n",
            "244/244 - 4s - loss: 0.5572 - accuracy: 0.8909\n",
            "Epoch 60/200\n",
            "244/244 - 4s - loss: 0.5356 - accuracy: 0.8932\n",
            "Epoch 61/200\n",
            "244/244 - 4s - loss: 0.5231 - accuracy: 0.8953\n",
            "Epoch 62/200\n",
            "244/244 - 4s - loss: 0.5115 - accuracy: 0.8967\n",
            "Epoch 63/200\n",
            "244/244 - 4s - loss: 0.4960 - accuracy: 0.8985\n",
            "Epoch 64/200\n",
            "244/244 - 4s - loss: 0.4824 - accuracy: 0.9004\n",
            "Epoch 65/200\n",
            "244/244 - 4s - loss: 0.4731 - accuracy: 0.9017\n",
            "Epoch 66/200\n",
            "244/244 - 3s - loss: 0.4645 - accuracy: 0.9036\n",
            "Epoch 67/200\n",
            "244/244 - 3s - loss: 0.4499 - accuracy: 0.9055\n",
            "Epoch 68/200\n",
            "244/244 - 4s - loss: 0.4618 - accuracy: 0.9017\n",
            "Epoch 69/200\n",
            "244/244 - 3s - loss: 0.4734 - accuracy: 0.9034\n",
            "Epoch 70/200\n",
            "244/244 - 3s - loss: 0.4387 - accuracy: 0.9066\n",
            "Epoch 71/200\n",
            "244/244 - 3s - loss: 0.4223 - accuracy: 0.9064\n",
            "Epoch 72/200\n",
            "244/244 - 3s - loss: 0.4070 - accuracy: 0.9103\n",
            "Epoch 73/200\n",
            "244/244 - 3s - loss: 0.3986 - accuracy: 0.9093\n",
            "Epoch 74/200\n",
            "244/244 - 3s - loss: 0.3893 - accuracy: 0.9085\n",
            "Epoch 75/200\n",
            "244/244 - 3s - loss: 0.3841 - accuracy: 0.9105\n",
            "Epoch 76/200\n",
            "244/244 - 3s - loss: 0.3789 - accuracy: 0.9112\n",
            "Epoch 77/200\n",
            "244/244 - 3s - loss: 0.3739 - accuracy: 0.9136\n",
            "Epoch 78/200\n",
            "244/244 - 3s - loss: 0.3721 - accuracy: 0.9112\n",
            "Epoch 79/200\n",
            "244/244 - 3s - loss: 0.4093 - accuracy: 0.9055\n",
            "Epoch 80/200\n",
            "244/244 - 3s - loss: 0.4219 - accuracy: 0.9034\n",
            "Epoch 81/200\n",
            "244/244 - 3s - loss: 0.4013 - accuracy: 0.9067\n",
            "Epoch 82/200\n",
            "244/244 - 3s - loss: 0.3685 - accuracy: 0.9105\n",
            "Epoch 83/200\n",
            "244/244 - 3s - loss: 0.3562 - accuracy: 0.9144\n",
            "Epoch 84/200\n",
            "244/244 - 4s - loss: 0.3557 - accuracy: 0.9134\n",
            "Epoch 85/200\n",
            "244/244 - 4s - loss: 0.3464 - accuracy: 0.9131\n",
            "Epoch 86/200\n",
            "244/244 - 3s - loss: 0.3406 - accuracy: 0.9138\n",
            "Epoch 87/200\n",
            "244/244 - 3s - loss: 0.3337 - accuracy: 0.9154\n",
            "Epoch 88/200\n",
            "244/244 - 3s - loss: 0.3319 - accuracy: 0.9138\n",
            "Epoch 89/200\n",
            "244/244 - 3s - loss: 0.3305 - accuracy: 0.9136\n",
            "Epoch 90/200\n",
            "244/244 - 4s - loss: 0.3297 - accuracy: 0.9138\n",
            "Epoch 91/200\n",
            "244/244 - 4s - loss: 0.3253 - accuracy: 0.9146\n",
            "Epoch 92/200\n",
            "244/244 - 3s - loss: 0.3258 - accuracy: 0.9152\n",
            "Epoch 93/200\n",
            "244/244 - 4s - loss: 0.3300 - accuracy: 0.9148\n",
            "Epoch 94/200\n",
            "244/244 - 4s - loss: 0.3309 - accuracy: 0.9139\n",
            "Epoch 95/200\n",
            "244/244 - 3s - loss: 0.3216 - accuracy: 0.9153\n",
            "Epoch 96/200\n",
            "244/244 - 4s - loss: 0.3239 - accuracy: 0.9135\n",
            "Epoch 97/200\n",
            "244/244 - 4s - loss: 0.3223 - accuracy: 0.9146\n",
            "Epoch 98/200\n",
            "244/244 - 4s - loss: 0.3166 - accuracy: 0.9157\n",
            "Epoch 99/200\n",
            "244/244 - 4s - loss: 0.3174 - accuracy: 0.9152\n",
            "Epoch 100/200\n",
            "244/244 - 3s - loss: 0.6968 - accuracy: 0.8299\n",
            "Epoch 101/200\n",
            "244/244 - 3s - loss: 0.4445 - accuracy: 0.8867\n",
            "Epoch 102/200\n",
            "244/244 - 3s - loss: 0.3537 - accuracy: 0.9072\n",
            "Epoch 103/200\n",
            "244/244 - 4s - loss: 0.3269 - accuracy: 0.9131\n",
            "Epoch 104/200\n",
            "244/244 - 4s - loss: 0.3174 - accuracy: 0.9152\n",
            "Epoch 105/200\n",
            "244/244 - 3s - loss: 0.3120 - accuracy: 0.9167\n",
            "Epoch 106/200\n",
            "244/244 - 3s - loss: 0.3078 - accuracy: 0.9150\n",
            "Epoch 107/200\n",
            "244/244 - 3s - loss: 0.3055 - accuracy: 0.9150\n",
            "Epoch 108/200\n",
            "244/244 - 3s - loss: 0.3026 - accuracy: 0.9153\n",
            "Epoch 109/200\n",
            "244/244 - 3s - loss: 0.3040 - accuracy: 0.9148\n",
            "Epoch 110/200\n",
            "244/244 - 3s - loss: 0.3039 - accuracy: 0.9140\n",
            "Epoch 111/200\n",
            "244/244 - 3s - loss: 0.3037 - accuracy: 0.9154\n",
            "Epoch 112/200\n",
            "244/244 - 3s - loss: 0.3055 - accuracy: 0.9146\n",
            "Epoch 113/200\n",
            "244/244 - 3s - loss: 0.3034 - accuracy: 0.9145\n",
            "Epoch 114/200\n",
            "244/244 - 3s - loss: 0.3019 - accuracy: 0.9170\n",
            "Epoch 115/200\n",
            "244/244 - 4s - loss: 0.3063 - accuracy: 0.9139\n",
            "Epoch 116/200\n",
            "244/244 - 3s - loss: 0.3406 - accuracy: 0.9091\n",
            "Epoch 117/200\n",
            "244/244 - 3s - loss: 0.3295 - accuracy: 0.9098\n",
            "Epoch 118/200\n",
            "244/244 - 3s - loss: 0.3141 - accuracy: 0.9136\n",
            "Epoch 119/200\n",
            "244/244 - 4s - loss: 0.3073 - accuracy: 0.9143\n",
            "Epoch 120/200\n",
            "244/244 - 4s - loss: 0.3013 - accuracy: 0.9131\n",
            "Epoch 121/200\n",
            "244/244 - 4s - loss: 0.3001 - accuracy: 0.9152\n",
            "Epoch 122/200\n",
            "244/244 - 3s - loss: 0.2969 - accuracy: 0.9157\n",
            "Epoch 123/200\n",
            "244/244 - 4s - loss: 0.2976 - accuracy: 0.9153\n",
            "Epoch 124/200\n",
            "244/244 - 4s - loss: 0.2993 - accuracy: 0.9144\n",
            "Epoch 125/200\n",
            "244/244 - 4s - loss: 0.3101 - accuracy: 0.9127\n",
            "Epoch 126/200\n",
            "244/244 - 4s - loss: 0.3060 - accuracy: 0.9136\n",
            "Epoch 127/200\n",
            "244/244 - 3s - loss: 0.3038 - accuracy: 0.9157\n",
            "Epoch 128/200\n",
            "244/244 - 3s - loss: 0.3032 - accuracy: 0.9146\n",
            "Epoch 129/200\n",
            "244/244 - 3s - loss: 0.3042 - accuracy: 0.9138\n",
            "Epoch 130/200\n",
            "244/244 - 3s - loss: 0.3047 - accuracy: 0.9146\n",
            "Epoch 131/200\n",
            "244/244 - 3s - loss: 0.3114 - accuracy: 0.9141\n",
            "Epoch 132/200\n",
            "244/244 - 3s - loss: 0.3086 - accuracy: 0.9152\n",
            "Epoch 133/200\n",
            "244/244 - 3s - loss: 0.3191 - accuracy: 0.9123\n",
            "Epoch 134/200\n",
            "244/244 - 3s - loss: 0.4232 - accuracy: 0.8882\n",
            "Epoch 135/200\n",
            "244/244 - 3s - loss: 0.3841 - accuracy: 0.8961\n",
            "Epoch 136/200\n",
            "244/244 - 3s - loss: 0.3098 - accuracy: 0.9132\n",
            "Epoch 137/200\n",
            "244/244 - 3s - loss: 0.2975 - accuracy: 0.9148\n",
            "Epoch 138/200\n",
            "244/244 - 3s - loss: 0.2912 - accuracy: 0.9158\n",
            "Epoch 139/200\n",
            "244/244 - 3s - loss: 0.2899 - accuracy: 0.9140\n",
            "Epoch 140/200\n",
            "244/244 - 3s - loss: 0.2895 - accuracy: 0.9167\n",
            "Epoch 141/200\n",
            "244/244 - 3s - loss: 0.2892 - accuracy: 0.9158\n",
            "Epoch 142/200\n",
            "244/244 - 3s - loss: 0.2903 - accuracy: 0.9148\n",
            "Epoch 143/200\n",
            "244/244 - 3s - loss: 0.2896 - accuracy: 0.9168\n",
            "Epoch 144/200\n",
            "244/244 - 3s - loss: 0.2886 - accuracy: 0.9162\n",
            "Epoch 145/200\n",
            "244/244 - 3s - loss: 0.2902 - accuracy: 0.9145\n",
            "Epoch 146/200\n",
            "244/244 - 3s - loss: 0.2915 - accuracy: 0.9144\n",
            "Epoch 147/200\n",
            "244/244 - 4s - loss: 0.2917 - accuracy: 0.9145\n",
            "Epoch 148/200\n",
            "244/244 - 4s - loss: 0.2920 - accuracy: 0.9146\n",
            "Epoch 149/200\n",
            "244/244 - 4s - loss: 0.2931 - accuracy: 0.9145\n",
            "Epoch 150/200\n",
            "244/244 - 3s - loss: 0.2906 - accuracy: 0.9166\n",
            "Epoch 151/200\n",
            "244/244 - 3s - loss: 0.2958 - accuracy: 0.9152\n",
            "Epoch 152/200\n",
            "244/244 - 3s - loss: 0.2918 - accuracy: 0.9150\n",
            "Epoch 153/200\n",
            "244/244 - 3s - loss: 0.2964 - accuracy: 0.9155\n",
            "Epoch 154/200\n",
            "244/244 - 3s - loss: 0.3075 - accuracy: 0.9122\n",
            "Epoch 155/200\n",
            "244/244 - 3s - loss: 0.3277 - accuracy: 0.9086\n",
            "Epoch 156/200\n",
            "244/244 - 3s - loss: 0.3157 - accuracy: 0.9118\n",
            "Epoch 157/200\n",
            "244/244 - 3s - loss: 0.3203 - accuracy: 0.9104\n",
            "Epoch 158/200\n",
            "244/244 - 3s - loss: 0.3061 - accuracy: 0.9136\n",
            "Epoch 159/200\n",
            "244/244 - 3s - loss: 0.2982 - accuracy: 0.9145\n",
            "Epoch 160/200\n",
            "244/244 - 3s - loss: 0.2907 - accuracy: 0.9161\n",
            "Epoch 161/200\n",
            "244/244 - 4s - loss: 0.2900 - accuracy: 0.9132\n",
            "Epoch 162/200\n",
            "244/244 - 3s - loss: 0.2913 - accuracy: 0.9150\n",
            "Epoch 163/200\n",
            "244/244 - 3s - loss: 0.2916 - accuracy: 0.9141\n",
            "Epoch 164/200\n",
            "244/244 - 3s - loss: 0.2894 - accuracy: 0.9166\n",
            "Epoch 165/200\n",
            "244/244 - 3s - loss: 0.2918 - accuracy: 0.9143\n",
            "Epoch 166/200\n",
            "244/244 - 3s - loss: 0.2907 - accuracy: 0.9153\n",
            "Epoch 167/200\n",
            "244/244 - 3s - loss: 0.2905 - accuracy: 0.9146\n",
            "Epoch 168/200\n",
            "244/244 - 3s - loss: 0.2909 - accuracy: 0.9154\n",
            "Epoch 169/200\n",
            "244/244 - 3s - loss: 0.2915 - accuracy: 0.9148\n",
            "Epoch 170/200\n",
            "244/244 - 3s - loss: 0.2901 - accuracy: 0.9162\n",
            "Epoch 171/200\n",
            "244/244 - 3s - loss: 0.2906 - accuracy: 0.9158\n",
            "Epoch 172/200\n",
            "244/244 - 3s - loss: 0.2932 - accuracy: 0.9149\n",
            "Epoch 173/200\n",
            "244/244 - 3s - loss: 0.2911 - accuracy: 0.9168\n",
            "Epoch 174/200\n",
            "244/244 - 3s - loss: 0.2936 - accuracy: 0.9134\n",
            "Epoch 175/200\n",
            "244/244 - 3s - loss: 0.2933 - accuracy: 0.9148\n",
            "Epoch 176/200\n",
            "244/244 - 3s - loss: 0.2992 - accuracy: 0.9136\n",
            "Epoch 177/200\n",
            "244/244 - 3s - loss: 0.2984 - accuracy: 0.9153\n",
            "Epoch 178/200\n",
            "244/244 - 3s - loss: 0.2954 - accuracy: 0.9144\n",
            "Epoch 179/200\n",
            "244/244 - 3s - loss: 0.2890 - accuracy: 0.9152\n",
            "Epoch 180/200\n",
            "244/244 - 3s - loss: 0.2984 - accuracy: 0.9131\n",
            "Epoch 181/200\n",
            "244/244 - 3s - loss: 0.3120 - accuracy: 0.9112\n",
            "Epoch 182/200\n",
            "244/244 - 3s - loss: 0.3068 - accuracy: 0.9125\n",
            "Epoch 183/200\n",
            "244/244 - 3s - loss: 0.3009 - accuracy: 0.9125\n",
            "Epoch 184/200\n",
            "244/244 - 3s - loss: 0.2948 - accuracy: 0.9129\n",
            "Epoch 185/200\n",
            "244/244 - 3s - loss: 0.2898 - accuracy: 0.9150\n",
            "Epoch 186/200\n",
            "244/244 - 3s - loss: 0.2961 - accuracy: 0.9123\n",
            "Epoch 187/200\n",
            "244/244 - 3s - loss: 0.2965 - accuracy: 0.9140\n",
            "Epoch 188/200\n",
            "244/244 - 3s - loss: 0.2919 - accuracy: 0.9144\n",
            "Epoch 189/200\n",
            "244/244 - 3s - loss: 0.2886 - accuracy: 0.9155\n",
            "Epoch 190/200\n",
            "244/244 - 3s - loss: 0.2881 - accuracy: 0.9152\n",
            "Epoch 191/200\n",
            "244/244 - 3s - loss: 0.2887 - accuracy: 0.9162\n",
            "Epoch 192/200\n",
            "244/244 - 3s - loss: 0.2872 - accuracy: 0.9143\n",
            "Epoch 193/200\n",
            "244/244 - 3s - loss: 0.2920 - accuracy: 0.9134\n",
            "Epoch 194/200\n",
            "244/244 - 3s - loss: 0.2938 - accuracy: 0.9158\n",
            "Epoch 195/200\n",
            "244/244 - 3s - loss: 0.2915 - accuracy: 0.9153\n",
            "Epoch 196/200\n",
            "244/244 - 3s - loss: 0.2914 - accuracy: 0.9154\n",
            "Epoch 197/200\n",
            "244/244 - 3s - loss: 0.2914 - accuracy: 0.9136\n",
            "Epoch 198/200\n",
            "244/244 - 3s - loss: 0.2875 - accuracy: 0.9164\n",
            "Epoch 199/200\n",
            "244/244 - 3s - loss: 0.2927 - accuracy: 0.9145\n",
            "Epoch 200/200\n",
            "244/244 - 3s - loss: 0.2901 - accuracy: 0.9163\n"
          ],
          "name": "stdout"
        }
      ]
    },
    {
      "cell_type": "code",
      "metadata": {
        "colab": {
          "base_uri": "https://localhost:8080/"
        },
        "id": "MTouaEf8Dyr2",
        "outputId": "6a9ed3e9-8122-4470-dbd1-9a6bb9f1cf1a"
      },
      "source": [
        "print(sentence_generation(model, t, 'i', 10))\r\n",
        "print(sentence_generation(model, t, 'how', 10))\r\n",
        "print(sentence_generation(model, t, 'former', 10))"
      ],
      "execution_count": 42,
      "outputs": [
        {
          "output_type": "stream",
          "text": [
            "i want to be rich and im not sorry officials say\n",
            "how do you feel about being told to smile obstacles by\n",
            "former nfl cheerleaders settlement offer 1 and a meeting with goodell\n"
          ],
          "name": "stdout"
        }
      ]
    }
  ]
}