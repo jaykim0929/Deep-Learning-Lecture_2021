{
  "nbformat": 4,
  "nbformat_minor": 0,
  "metadata": {
    "colab": {
      "name": "32_IMDB_감성분석_Conv1D_LSTM.ipynb",
      "provenance": [],
      "collapsed_sections": []
    },
    "kernelspec": {
      "name": "python3",
      "display_name": "Python 3"
    },
    "accelerator": "GPU"
  },
  "cells": [
    {
      "cell_type": "markdown",
      "metadata": {
        "id": "nQMwAGcSVAZk"
      },
      "source": [
        "#IMDB 영화 리뷰 감성 분류\r\n",
        "- test data 25000건중 10000건은 validation data로 활용"
      ]
    },
    {
      "cell_type": "code",
      "metadata": {
        "id": "Xao2tLDml_V9"
      },
      "source": [
        "import numpy as np\r\n",
        "import tensorflow as tf\r\n",
        "from tensorflow.keras.preprocessing.sequence import pad_sequences"
      ],
      "execution_count": 1,
      "outputs": []
    },
    {
      "cell_type": "code",
      "metadata": {
        "id": "dRibJfC9o8Yo"
      },
      "source": [
        "seed= 2021\r\n",
        "np.random.seed(seed)\r\n",
        "tf.random.set_seed(seed)"
      ],
      "execution_count": 2,
      "outputs": []
    },
    {
      "cell_type": "code",
      "metadata": {
        "id": "jIPUlwTLo9me"
      },
      "source": [
        "import matplotlib.pyplot as plt\r\n",
        "%matplotlib inline\r\n",
        "import warnings\r\n",
        "warnings.filterwarnings(\"ignore\", category=np.VisibleDeprecationWarning)"
      ],
      "execution_count": 3,
      "outputs": []
    },
    {
      "cell_type": "code",
      "metadata": {
        "id": "3gjR4eSppOCG"
      },
      "source": [
        "from tensorflow.keras.datasets import imdb\r\n",
        "(X_train, y_train), (X_test, y_test) = imdb.load_data(num_words=None)"
      ],
      "execution_count": 4,
      "outputs": []
    },
    {
      "cell_type": "code",
      "metadata": {
        "colab": {
          "base_uri": "https://localhost:8080/"
        },
        "id": "FZQRfMZkVcDb",
        "outputId": "ab6c9735-ab67-4bcb-8755-c215bdd7a44d"
      },
      "source": [
        "index_dict = {}\r\n",
        "for key, value in imdb.get_word_index().items():\r\n",
        "    index_dict[value] = key\r\n",
        "len(index_dict)"
      ],
      "execution_count": 5,
      "outputs": [
        {
          "output_type": "execute_result",
          "data": {
            "text/plain": [
              "88584"
            ]
          },
          "metadata": {
            "tags": []
          },
          "execution_count": 5
        }
      ]
    },
    {
      "cell_type": "code",
      "metadata": {
        "colab": {
          "base_uri": "https://localhost:8080/"
        },
        "id": "amasOnWqVd1S",
        "outputId": "7847ef90-6a67-4c5f-d591-c961e0905b8f"
      },
      "source": [
        "X_train.shape, X_test.shape"
      ],
      "execution_count": 6,
      "outputs": [
        {
          "output_type": "execute_result",
          "data": {
            "text/plain": [
              "((25000,), (25000,))"
            ]
          },
          "metadata": {
            "tags": []
          },
          "execution_count": 6
        }
      ]
    },
    {
      "cell_type": "code",
      "metadata": {
        "colab": {
          "base_uri": "https://localhost:8080/"
        },
        "id": "fEGns3yTqh1w",
        "outputId": "074b7db3-cf82-4ba1-f03d-73608890ca69"
      },
      "source": [
        "# 리뷰의 길이\r\n",
        "print('리뷰의 최대 길이 :', max(len(l) for l in X_train))\r\n",
        "print('리뷰의 평균 길이 :', sum(map(len, X_train))/len(X_train))"
      ],
      "execution_count": 7,
      "outputs": [
        {
          "output_type": "stream",
          "text": [
            "리뷰의 최대 길이 : 2494\n",
            "리뷰의 평균 길이 : 238.71364\n"
          ],
          "name": "stdout"
        }
      ]
    },
    {
      "cell_type": "code",
      "metadata": {
        "colab": {
          "base_uri": "https://localhost:8080/",
          "height": 279
        },
        "id": "KyLsT3X7rQUA",
        "outputId": "59b1b9fb-8106-4ced-fa3c-975bf91518b3"
      },
      "source": [
        "plt.hist([len(s) for s in X_train], bins=50)\r\n",
        "plt.xlabel('length of samples')\r\n",
        "plt.ylabel('number of samples')\r\n",
        "plt.show()"
      ],
      "execution_count": 8,
      "outputs": [
        {
          "output_type": "display_data",
          "data": {
            "image/png": "[encoded data removed]",
            "text/plain": [
              "<Figure size 432x288 with 1 Axes>"
            ]
          },
          "metadata": {
            "tags": [],
            "needs_background": "light"
          }
        }
      ]
    },
    {
      "cell_type": "code",
      "metadata": {
        "colab": {
          "base_uri": "https://localhost:8080/"
        },
        "id": "7DL-nlZIrfAn",
        "outputId": "6249d73e-39ef-4610-d260-c8a3fcb51d46"
      },
      "source": [
        "# 레이블의 분포\r\n",
        "unique_elements, counts_elements = np.unique(y_train, return_counts=True)\r\n",
        "print(\"각 레이블에 대한 빈도수:\")\r\n",
        "print(np.asarray((unique_elements, counts_elements)))"
      ],
      "execution_count": 9,
      "outputs": [
        {
          "output_type": "stream",
          "text": [
            "각 레이블에 대한 빈도수:\n",
            "[[    0     1]\n",
            " [12500 12500]]\n"
          ],
          "name": "stdout"
        }
      ]
    },
    {
      "cell_type": "markdown",
      "metadata": {
        "id": "8_15jWCnXT0c"
      },
      "source": [
        "### Conv1D와 LSTM으로 IMDB 리뷰 감성 분류\r\n",
        "- 모든 단어가 아닌 빈도수 5000 까지 (총 단어수: 88,584)\r\n",
        "- 모든 문장이 아니라 500 단어까지 (최대 2,494 단어)\r\n",
        "- Test data 25,000건중 10,000건은 Validation data로 활용"
      ]
    },
    {
      "cell_type": "code",
      "metadata": {
        "id": "4Vv_Sv5jXccB"
      },
      "source": [
        "from tensorflow.keras.models import Sequential, load_model\r\n",
        "from tensorflow.keras.layers import Dense, LSTM, Embedding\r\n",
        "from tensorflow.keras.layers import Dropout, Conv1D, MaxPooling1D\r\n",
        "from tensorflow.keras.preprocessing.sequence import pad_sequences\r\n",
        "from tensorflow.keras.callbacks import ModelCheckpoint, EarlyStopping"
      ],
      "execution_count": 10,
      "outputs": []
    },
    {
      "cell_type": "code",
      "metadata": {
        "id": "dIf6OQE8vA1w"
      },
      "source": [
        "# 등장 빈도가 5,000번째까지의 단어들만 사용\r\n",
        "(X_train, y_train), (X_test, y_test) = imdb.load_data(num_words=5000)"
      ],
      "execution_count": 11,
      "outputs": []
    },
    {
      "cell_type": "code",
      "metadata": {
        "id": "d3vOi0poXkMT"
      },
      "source": [
        "# 모델의 입력으로 사용하는 모든 리뷰의 길이를 동일하게 500으로 맞춤\r\n",
        "max_len = 500\r\n",
        "X_train = pad_sequences(X_train, maxlen=max_len)\r\n",
        "X_test = pad_sequences(X_test, maxlen=max_len)"
      ],
      "execution_count": 12,
      "outputs": []
    },
    {
      "cell_type": "markdown",
      "metadata": {
        "id": "7Ort9VGsXm3L"
      },
      "source": [
        "- Test data set을 검증 셋과 테스트 셋으로 분리"
      ]
    },
    {
      "cell_type": "code",
      "metadata": {
        "id": "xW5mN52BXkEs"
      },
      "source": [
        "from sklearn.model_selection import train_test_split\r\n",
        "X_val, X_test, y_val, y_test = train_test_split(\r\n",
        "    X_test, y_test, stratify=y_test, test_size=.6, random_state=seed\r\n",
        ")"
      ],
      "execution_count": 13,
      "outputs": []
    },
    {
      "cell_type": "markdown",
      "metadata": {
        "id": "w2QN3EjOxY6r"
      },
      "source": [
        "### 모델 정의.설정/학습"
      ]
    },
    {
      "cell_type": "code",
      "metadata": {
        "colab": {
          "base_uri": "https://localhost:8080/"
        },
        "id": "ivtR49Nkxc7S",
        "outputId": "8aed5451-cb7c-43a1-8860-d81501366ba3"
      },
      "source": [
        "# LSTM 모델\r\n",
        "model = Sequential()\r\n",
        "model.add(Embedding(5000, 120))\r\n",
        "model.add(Dropout(0.5))\r\n",
        "model.add(Conv1D(64, 5, padding='valid', activation='relu'))\r\n",
        "model.add(MaxPooling1D(pool_size=4))\r\n",
        "model.add(LSTM(60))\r\n",
        "model.add(Dense(1, activation='sigmoid'))\r\n",
        "model.summary()"
      ],
      "execution_count": 14,
      "outputs": [
        {
          "output_type": "stream",
          "text": [
            "Model: \"sequential\"\n",
            "_________________________________________________________________\n",
            "Layer (type)                 Output Shape              Param #   \n",
            "=================================================================\n",
            "embedding (Embedding)        (None, None, 120)         600000    \n",
            "_________________________________________________________________\n",
            "dropout (Dropout)            (None, None, 120)         0         \n",
            "_________________________________________________________________\n",
            "conv1d (Conv1D)              (None, None, 64)          38464     \n",
            "_________________________________________________________________\n",
            "max_pooling1d (MaxPooling1D) (None, None, 64)          0         \n",
            "_________________________________________________________________\n",
            "lstm (LSTM)                  (None, 60)                30000     \n",
            "_________________________________________________________________\n",
            "dense (Dense)                (None, 1)                 61        \n",
            "=================================================================\n",
            "Total params: 668,525\n",
            "Trainable params: 668,525\n",
            "Non-trainable params: 0\n",
            "_________________________________________________________________\n"
          ],
          "name": "stdout"
        }
      ]
    },
    {
      "cell_type": "code",
      "metadata": {
        "id": "7Z1GP1oSzQSB"
      },
      "source": [
        "# 모델의 컴파일\r\n",
        "model.compile(loss='binary_crossentropy',\r\n",
        "              optimizer='adam',\r\n",
        "              metrics=['accuracy'])"
      ],
      "execution_count": 15,
      "outputs": []
    },
    {
      "cell_type": "code",
      "metadata": {
        "id": "grzffdQbxr3x"
      },
      "source": [
        "# Callback 함수 정의 - Best model, Early stopping\r\n",
        "es = EarlyStopping(monitor='val_loss', verbose=1, patience=10)\r\n",
        "mc = ModelCheckpoint('model/imdb_lstm_best_model.h5', monitor='val_loss', \r\n",
        "                     verbose=1, save_best_only=True)"
      ],
      "execution_count": 16,
      "outputs": []
    },
    {
      "cell_type": "code",
      "metadata": {
        "id": "jAFJ0ABjxt8o",
        "colab": {
          "base_uri": "https://localhost:8080/"
        },
        "outputId": "486ceb86-dcc9-438b-f168-0bca6e90747c"
      },
      "source": [
        "# 모델의 실행\r\n",
        "history = model.fit(X_train, y_train, batch_size=100, epochs=50, \r\n",
        "                    validation_data=(X_val, y_val), verbose=2,\r\n",
        "                    callbacks=[mc, es])"
      ],
      "execution_count": 17,
      "outputs": [
        {
          "output_type": "stream",
          "text": [
            "Epoch 1/50\n",
            "250/250 - 12s - loss: 0.4009 - accuracy: 0.8016 - val_loss: 0.3000 - val_accuracy: 0.8745\n",
            "\n",
            "Epoch 00001: val_loss improved from inf to 0.30005, saving model to model/imdb_lstm_best_model.h5\n",
            "Epoch 2/50\n",
            "250/250 - 9s - loss: 0.2308 - accuracy: 0.9090 - val_loss: 0.2651 - val_accuracy: 0.8929\n",
            "\n",
            "Epoch 00002: val_loss improved from 0.30005 to 0.26508, saving model to model/imdb_lstm_best_model.h5\n",
            "Epoch 3/50\n",
            "250/250 - 9s - loss: 0.1901 - accuracy: 0.9273 - val_loss: 0.2817 - val_accuracy: 0.8878\n",
            "\n",
            "Epoch 00003: val_loss did not improve from 0.26508\n",
            "Epoch 4/50\n",
            "250/250 - 9s - loss: 0.1592 - accuracy: 0.9416 - val_loss: 0.3035 - val_accuracy: 0.8819\n",
            "\n",
            "Epoch 00004: val_loss did not improve from 0.26508\n",
            "Epoch 5/50\n",
            "250/250 - 9s - loss: 0.1289 - accuracy: 0.9541 - val_loss: 0.3054 - val_accuracy: 0.8799\n",
            "\n",
            "Epoch 00005: val_loss did not improve from 0.26508\n",
            "Epoch 6/50\n",
            "250/250 - 9s - loss: 0.1128 - accuracy: 0.9606 - val_loss: 0.3115 - val_accuracy: 0.8871\n",
            "\n",
            "Epoch 00006: val_loss did not improve from 0.26508\n",
            "Epoch 7/50\n",
            "250/250 - 9s - loss: 0.0931 - accuracy: 0.9693 - val_loss: 0.3346 - val_accuracy: 0.8798\n",
            "\n",
            "Epoch 00007: val_loss did not improve from 0.26508\n",
            "Epoch 8/50\n",
            "250/250 - 9s - loss: 0.0746 - accuracy: 0.9760 - val_loss: 0.3670 - val_accuracy: 0.8852\n",
            "\n",
            "Epoch 00008: val_loss did not improve from 0.26508\n",
            "Epoch 9/50\n",
            "250/250 - 9s - loss: 0.0644 - accuracy: 0.9788 - val_loss: 0.3614 - val_accuracy: 0.8841\n",
            "\n",
            "Epoch 00009: val_loss did not improve from 0.26508\n",
            "Epoch 10/50\n",
            "250/250 - 9s - loss: 0.0611 - accuracy: 0.9790 - val_loss: 0.5060 - val_accuracy: 0.8580\n",
            "\n",
            "Epoch 00010: val_loss did not improve from 0.26508\n",
            "Epoch 11/50\n",
            "250/250 - 9s - loss: 0.0456 - accuracy: 0.9861 - val_loss: 0.4532 - val_accuracy: 0.8835\n",
            "\n",
            "Epoch 00011: val_loss did not improve from 0.26508\n",
            "Epoch 12/50\n",
            "250/250 - 9s - loss: 0.0496 - accuracy: 0.9838 - val_loss: 0.4224 - val_accuracy: 0.8792\n",
            "\n",
            "Epoch 00012: val_loss did not improve from 0.26508\n",
            "Epoch 00012: early stopping\n"
          ],
          "name": "stdout"
        }
      ]
    },
    {
      "cell_type": "code",
      "metadata": {
        "id": "I6Vb9ssKaV_k"
      },
      "source": [
        "# Best Model 선택\r\n",
        "best_model = load_model('model/imdb_lstm_best_model.h5')"
      ],
      "execution_count": 18,
      "outputs": []
    },
    {
      "cell_type": "code",
      "metadata": {
        "colab": {
          "base_uri": "https://localhost:8080/"
        },
        "id": "mfs-Ux8eaX4v",
        "outputId": "ef50a64d-c701-436f-b4d6-6bce82f96002"
      },
      "source": [
        "acc = model.evaluate(X_test, y_test, verbose=2)[1]\r\n",
        "print(f\"\\n 테스트 정확도: {acc:.4f}\")"
      ],
      "execution_count": 19,
      "outputs": [
        {
          "output_type": "stream",
          "text": [
            "469/469 - 3s - loss: 0.4275 - accuracy: 0.8744\n",
            "\n",
            " 테스트 정확도: 0.8744\n"
          ],
          "name": "stdout"
        }
      ]
    },
    {
      "cell_type": "code",
      "metadata": {
        "id": "pMhaOluDaX2E"
      },
      "source": [
        "# 검증셋\r\n",
        "y_vloss = history.history['val_loss']\r\n",
        "y_vacc = history.history['val_accuracy']\r\n",
        "# 학습셋\r\n",
        "y_loss = history.history['loss']\r\n",
        "y_acc = history.history['accuracy']"
      ],
      "execution_count": 20,
      "outputs": []
    },
    {
      "cell_type": "code",
      "metadata": {
        "colab": {
          "base_uri": "https://localhost:8080/",
          "height": 497
        },
        "id": "eIu1cDCXaXzl",
        "outputId": "81f26dbf-822f-4613-9798-5b5d0fa03677"
      },
      "source": [
        "x_len = np.arange(1, len(y_loss)+1)\r\n",
        "fig, ax0 = plt.subplots(figsize=(10,8))\r\n",
        "ax1 = ax0.twinx()\r\n",
        "ax0.plot(x_len, y_loss, c=\"blue\", label='train set loss')\r\n",
        "ax0.plot(x_len, y_vloss, c=\"red\", label='val set loss')\r\n",
        "ax0.set_ylabel('loss')\r\n",
        "ax1.plot(x_len, y_acc, c=\"darkgreen\", label='train set acc')\r\n",
        "ax1.plot(x_len, y_vacc, c=\"magenta\", label='val set acc')\r\n",
        "ax1.set_ylabel('accuracy')\r\n",
        "ax0.set_xlabel('epoch')\r\n",
        "ax0.legend(loc='lower center')\r\n",
        "ax1.legend(loc='upper center')\r\n",
        "plt.grid()\r\n",
        "plt.show()"
      ],
      "execution_count": 21,
      "outputs": [
        {
          "output_type": "display_data",
          "data": {
            "image/png": "[encoded data removed]",
            "text/plain": [
              "<Figure size 720x576 with 2 Axes>"
            ]
          },
          "metadata": {
            "tags": [],
            "needs_background": "light"
          }
        }
      ]
    },
    {
      "cell_type": "code",
      "metadata": {
        "id": "ROnOlnVLaXv1"
      },
      "source": [
        ""
      ],
      "execution_count": null,
      "outputs": []
    },
    {
      "cell_type": "code",
      "metadata": {
        "id": "clZNRjSEaXsk"
      },
      "source": [
        ""
      ],
      "execution_count": null,
      "outputs": []
    }
  ]
}