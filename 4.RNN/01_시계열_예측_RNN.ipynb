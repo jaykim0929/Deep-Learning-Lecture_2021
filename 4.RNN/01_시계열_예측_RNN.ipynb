{
  "nbformat": 4,
  "nbformat_minor": 0,
  "metadata": {
    "colab": {
      "name": "01_시계열_예측-RNN.ipynb",
      "provenance": [],
      "collapsed_sections": []
    },
    "kernelspec": {
      "name": "python3",
      "display_name": "Python 3"
    }
  },
  "cells": [
    {
      "cell_type": "markdown",
      "metadata": {
        "id": "4sSHYzlssHrJ"
      },
      "source": [
        "# 시계열 예측문제\r\n",
        "- 사인파형 시계열을 입력으로 다음 스텝의 출력을 예측\r\n",
        "- 3개의 순서열을 입력한 후 출력값이 target과 일치하게 만듬"
      ]
    },
    {
      "cell_type": "code",
      "metadata": {
        "id": "DW5rmj1VsUYq"
      },
      "source": [
        "import numpy as np\r\n",
        "import matplotlib.pyplot as plt\r\n",
        "%matplotlib inline"
      ],
      "execution_count": 1,
      "outputs": []
    },
    {
      "cell_type": "code",
      "metadata": {
        "id": "iOUGvfx1swcX",
        "colab": {
          "base_uri": "https://localhost:8080/",
          "height": 265
        },
        "outputId": "8822d375-351c-445f-d157-f20d54cdeddb"
      },
      "source": [
        "s = np.sin(2 * np.pi * 0.125 * np.arange(20))\r\n",
        "plt.plot(s, 'ro-')\r\n",
        "plt.xlim(-0.5, 20.5)\r\n",
        "plt.ylim(-1.1, 1.1)\r\n",
        "plt.grid()\r\n",
        "plt.show()"
      ],
      "execution_count": 2,
      "outputs": [
        {
          "output_type": "display_data",
          "data": {
            "image/png": "[encoded data removed]",
            "text/plain": [
              "<Figure size 432x288 with 1 Axes>"
            ]
          },
          "metadata": {
            "tags": [],
            "needs_background": "light"
          }
        }
      ]
    },
    {
      "cell_type": "markdown",
      "metadata": {
        "id": "bFAJxfALts5O"
      },
      "source": [
        "### 원래의 시계열 벡터를 Toeplitz 행렬 형태로 변환\r\n",
        "- (대각선 위의 성분들이 같은 정사각 행렬)"
      ]
    },
    {
      "cell_type": "code",
      "metadata": {
        "id": "NHHGzvjgtRTP",
        "colab": {
          "base_uri": "https://localhost:8080/"
        },
        "outputId": "85a95832-7033-48d8-c633-ef82dfd1a87c"
      },
      "source": [
        "from scipy.linalg import toeplitz\r\n",
        "S = np.fliplr(toeplitz(np.r_[s[-1], np.zeros(s.shape[0]-2)], s[::-1]))\r\n",
        "S[:5, :3]"
      ],
      "execution_count": 4,
      "outputs": [
        {
          "output_type": "execute_result",
          "data": {
            "text/plain": [
              "array([[ 0.00000000e+00,  7.07106781e-01,  1.00000000e+00],\n",
              "       [ 7.07106781e-01,  1.00000000e+00,  7.07106781e-01],\n",
              "       [ 1.00000000e+00,  7.07106781e-01,  1.22464680e-16],\n",
              "       [ 7.07106781e-01,  1.22464680e-16, -7.07106781e-01],\n",
              "       [ 1.22464680e-16, -7.07106781e-01, -1.00000000e+00]])"
            ]
          },
          "metadata": {
            "tags": []
          },
          "execution_count": 4
        }
      ]
    },
    {
      "cell_type": "code",
      "metadata": {
        "id": "lU3iZKImtsVQ",
        "colab": {
          "base_uri": "https://localhost:8080/"
        },
        "outputId": "60d3c26a-81f3-4acc-c48b-d5bca8a2428a"
      },
      "source": [
        "S.shape"
      ],
      "execution_count": 5,
      "outputs": [
        {
          "output_type": "execute_result",
          "data": {
            "text/plain": [
              "(19, 20)"
            ]
          },
          "metadata": {
            "tags": []
          },
          "execution_count": 5
        }
      ]
    },
    {
      "cell_type": "code",
      "metadata": {
        "colab": {
          "base_uri": "https://localhost:8080/"
        },
        "id": "Sj_WalooHrrH",
        "outputId": "8b2d57fd-a423-48e2-fe70-6d17ac792c95"
      },
      "source": [
        "X_train = S[:-1, :3][:, :, np.newaxis]\r\n",
        "Y_train = S[:-1, 3]\r\n",
        "X_train.shape, Y_train.shape"
      ],
      "execution_count": 6,
      "outputs": [
        {
          "output_type": "execute_result",
          "data": {
            "text/plain": [
              "((18, 3, 1), (18,))"
            ]
          },
          "metadata": {
            "tags": []
          },
          "execution_count": 6
        }
      ]
    },
    {
      "cell_type": "code",
      "metadata": {
        "id": "PIGf9a6ovF93",
        "colab": {
          "base_uri": "https://localhost:8080/"
        },
        "outputId": "4851721b-933c-4801-bff0-5c4d83366d72"
      },
      "source": [
        "X_train[:3]"
      ],
      "execution_count": 7,
      "outputs": [
        {
          "output_type": "execute_result",
          "data": {
            "text/plain": [
              "array([[[0.00000000e+00],\n",
              "        [7.07106781e-01],\n",
              "        [1.00000000e+00]],\n",
              "\n",
              "       [[7.07106781e-01],\n",
              "        [1.00000000e+00],\n",
              "        [7.07106781e-01]],\n",
              "\n",
              "       [[1.00000000e+00],\n",
              "        [7.07106781e-01],\n",
              "        [1.22464680e-16]]])"
            ]
          },
          "metadata": {
            "tags": []
          },
          "execution_count": 7
        }
      ]
    },
    {
      "cell_type": "code",
      "metadata": {
        "id": "XWE7w52AvGRf",
        "colab": {
          "base_uri": "https://localhost:8080/"
        },
        "outputId": "3db4e405-7def-4c8f-b1c7-a45ca064fc48"
      },
      "source": [
        "Y_train[:3]"
      ],
      "execution_count": 8,
      "outputs": [
        {
          "output_type": "execute_result",
          "data": {
            "text/plain": [
              "array([ 7.07106781e-01,  1.22464680e-16, -7.07106781e-01])"
            ]
          },
          "metadata": {
            "tags": []
          },
          "execution_count": 8
        }
      ]
    },
    {
      "cell_type": "code",
      "metadata": {
        "id": "hmwSoe-mxKLL",
        "colab": {
          "base_uri": "https://localhost:8080/",
          "height": 441
        },
        "outputId": "186cf850-75cb-4c4e-c3e7-95696c40e69c"
      },
      "source": [
        "plt.figure(figsize=(10,6))\r\n",
        "\r\n",
        "plt.subplot(211)\r\n",
        "plt.plot([0, 1, 2], X_train[0].flatten(), 'bo-', label=\"input sequence\")\r\n",
        "plt.plot([3], Y_train[0], 'ro', label=\"target\")\r\n",
        "plt.xlim(-0.5, 4.5)\r\n",
        "plt.ylim(-1.1, 1.1)\r\n",
        "plt.legend()\r\n",
        "plt.grid()\r\n",
        "plt.title(\"First sample sequence\")\r\n",
        "\r\n",
        "plt.subplot(212)\r\n",
        "plt.plot([1, 2, 3], X_train[1].flatten(), 'bo-', label=\"input sequence\")\r\n",
        "plt.plot([4], Y_train[1], 'ro', label=\"target\")\r\n",
        "plt.xlim(-0.5, 4.5)\r\n",
        "plt.ylim(-1.1, 1.1)\r\n",
        "plt.legend()\r\n",
        "plt.grid()\r\n",
        "plt.title(\"Second sample sequence\")\r\n",
        "\r\n",
        "plt.tight_layout()\r\n",
        "plt.show()\r\n"
      ],
      "execution_count": 9,
      "outputs": [
        {
          "output_type": "display_data",
          "data": {
            "image/png": "[encoded data removed]",
            "text/plain": [
              "<Figure size 720x432 with 2 Axes>"
            ]
          },
          "metadata": {
            "tags": [],
            "needs_background": "light"
          }
        }
      ]
    },
    {
      "cell_type": "markdown",
      "metadata": {
        "id": "OQaaUB0HybuL"
      },
      "source": [
        "### 모델 정의\r\n",
        "- SimpleRNN"
      ]
    },
    {
      "cell_type": "code",
      "metadata": {
        "id": "cZgQGpiZxKEa"
      },
      "source": [
        "import tensorflow as tf\r\n",
        "from keras.models import Sequential\r\n",
        "from keras.layers import SimpleRNN, Dense\r\n",
        "\r\n",
        "seed = 2020\r\n",
        "np.random.seed(seed)\r\n",
        "tf.random.set_seed(seed)"
      ],
      "execution_count": 17,
      "outputs": []
    },
    {
      "cell_type": "code",
      "metadata": {
        "id": "HBpDEBlkxKCK",
        "colab": {
          "base_uri": "https://localhost:8080/"
        },
        "outputId": "7ef6cc97-cec3-4e16-f2fd-61565166441c"
      },
      "source": [
        "model = Sequential()\r\n",
        "model.add(SimpleRNN(10, input_shape=(3,1)))\r\n",
        "model.add(Dense(1, activation='linear'))\r\n",
        "model.summary()"
      ],
      "execution_count": 18,
      "outputs": [
        {
          "output_type": "stream",
          "text": [
            "Model: \"sequential_1\"\n",
            "_________________________________________________________________\n",
            "Layer (type)                 Output Shape              Param #   \n",
            "=================================================================\n",
            "simple_rnn_1 (SimpleRNN)     (None, 10)                120       \n",
            "_________________________________________________________________\n",
            "dense_1 (Dense)              (None, 1)                 11        \n",
            "=================================================================\n",
            "Total params: 131\n",
            "Trainable params: 131\n",
            "Non-trainable params: 0\n",
            "_________________________________________________________________\n"
          ],
          "name": "stdout"
        }
      ]
    },
    {
      "cell_type": "code",
      "metadata": {
        "id": "P8pcWlswxJ_w"
      },
      "source": [
        "model.compile(loss='mse', optimizer='sgd')"
      ],
      "execution_count": 19,
      "outputs": []
    },
    {
      "cell_type": "code",
      "metadata": {
        "id": "2y25Ze_ExJ9P",
        "colab": {
          "base_uri": "https://localhost:8080/",
          "height": 281
        },
        "outputId": "f607a9ae-c42b-43a8-de60-dc6cd93e0fca"
      },
      "source": [
        "plt.plot(Y_train, 'ro-', label=\"target\")\r\n",
        "plt.plot(model.predict(X_train[:, :, :]), 'bs-', label=\"output\")\r\n",
        "plt.xlim(-0.5, 20.5)\r\n",
        "plt.ylim(-1.1, 1.1)\r\n",
        "plt.legend()\r\n",
        "plt.title(\"Before training\")\r\n",
        "plt.show()"
      ],
      "execution_count": 20,
      "outputs": [
        {
          "output_type": "display_data",
          "data": {
            "image/png": "[encoded data removed]",
            "text/plain": [
              "<Figure size 432x288 with 1 Axes>"
            ]
          },
          "metadata": {
            "tags": [],
            "needs_background": "light"
          }
        }
      ]
    },
    {
      "cell_type": "code",
      "metadata": {
        "id": "ZUFNeSRqxJxP",
        "colab": {
          "base_uri": "https://localhost:8080/"
        },
        "outputId": "cc6bb6cd-4fea-41ec-8bcc-18c8d33ab368"
      },
      "source": [
        "history = model.fit(X_train, Y_train, epochs=100)"
      ],
      "execution_count": 21,
      "outputs": [
        {
          "output_type": "stream",
          "text": [
            "Epoch 1/100\n",
            "1/1 [==============================] - 1s 747ms/step - loss: 0.5104\n",
            "Epoch 2/100\n",
            "1/1 [==============================] - 0s 5ms/step - loss: 0.4667\n",
            "Epoch 3/100\n",
            "1/1 [==============================] - 0s 3ms/step - loss: 0.4268\n",
            "Epoch 4/100\n",
            "1/1 [==============================] - 0s 5ms/step - loss: 0.3902\n",
            "Epoch 5/100\n",
            "1/1 [==============================] - 0s 7ms/step - loss: 0.3569\n",
            "Epoch 6/100\n",
            "1/1 [==============================] - 0s 7ms/step - loss: 0.3263\n",
            "Epoch 7/100\n",
            "1/1 [==============================] - 0s 7ms/step - loss: 0.2984\n",
            "Epoch 8/100\n",
            "1/1 [==============================] - 0s 8ms/step - loss: 0.2729\n",
            "Epoch 9/100\n",
            "1/1 [==============================] - 0s 3ms/step - loss: 0.2496\n",
            "Epoch 10/100\n",
            "1/1 [==============================] - 0s 3ms/step - loss: 0.2283\n",
            "Epoch 11/100\n",
            "1/1 [==============================] - 0s 7ms/step - loss: 0.2089\n",
            "Epoch 12/100\n",
            "1/1 [==============================] - 0s 6ms/step - loss: 0.1911\n",
            "Epoch 13/100\n",
            "1/1 [==============================] - 0s 7ms/step - loss: 0.1749\n",
            "Epoch 14/100\n",
            "1/1 [==============================] - 0s 5ms/step - loss: 0.1600\n",
            "Epoch 15/100\n",
            "1/1 [==============================] - 0s 6ms/step - loss: 0.1465\n",
            "Epoch 16/100\n",
            "1/1 [==============================] - 0s 5ms/step - loss: 0.1342\n",
            "Epoch 17/100\n",
            "1/1 [==============================] - 0s 6ms/step - loss: 0.1229\n",
            "Epoch 18/100\n",
            "1/1 [==============================] - 0s 5ms/step - loss: 0.1126\n",
            "Epoch 19/100\n",
            "1/1 [==============================] - 0s 5ms/step - loss: 0.1032\n",
            "Epoch 20/100\n",
            "1/1 [==============================] - 0s 5ms/step - loss: 0.0947\n",
            "Epoch 21/100\n",
            "1/1 [==============================] - 0s 8ms/step - loss: 0.0869\n",
            "Epoch 22/100\n",
            "1/1 [==============================] - 0s 7ms/step - loss: 0.0798\n",
            "Epoch 23/100\n",
            "1/1 [==============================] - 0s 8ms/step - loss: 0.0733\n",
            "Epoch 24/100\n",
            "1/1 [==============================] - 0s 6ms/step - loss: 0.0675\n",
            "Epoch 25/100\n",
            "1/1 [==============================] - 0s 6ms/step - loss: 0.0621\n",
            "Epoch 26/100\n",
            "1/1 [==============================] - 0s 6ms/step - loss: 0.0572\n",
            "Epoch 27/100\n",
            "1/1 [==============================] - 0s 8ms/step - loss: 0.0528\n",
            "Epoch 28/100\n",
            "1/1 [==============================] - 0s 7ms/step - loss: 0.0487\n",
            "Epoch 29/100\n",
            "1/1 [==============================] - 0s 6ms/step - loss: 0.0450\n",
            "Epoch 30/100\n",
            "1/1 [==============================] - 0s 5ms/step - loss: 0.0417\n",
            "Epoch 31/100\n",
            "1/1 [==============================] - 0s 7ms/step - loss: 0.0386\n",
            "Epoch 32/100\n",
            "1/1 [==============================] - 0s 7ms/step - loss: 0.0359\n",
            "Epoch 33/100\n",
            "1/1 [==============================] - 0s 7ms/step - loss: 0.0334\n",
            "Epoch 34/100\n",
            "1/1 [==============================] - 0s 7ms/step - loss: 0.0311\n",
            "Epoch 35/100\n",
            "1/1 [==============================] - 0s 8ms/step - loss: 0.0290\n",
            "Epoch 36/100\n",
            "1/1 [==============================] - 0s 7ms/step - loss: 0.0271\n",
            "Epoch 37/100\n",
            "1/1 [==============================] - 0s 8ms/step - loss: 0.0254\n",
            "Epoch 38/100\n",
            "1/1 [==============================] - 0s 7ms/step - loss: 0.0238\n",
            "Epoch 39/100\n",
            "1/1 [==============================] - 0s 8ms/step - loss: 0.0224\n",
            "Epoch 40/100\n",
            "1/1 [==============================] - 0s 7ms/step - loss: 0.0211\n",
            "Epoch 41/100\n",
            "1/1 [==============================] - 0s 8ms/step - loss: 0.0199\n",
            "Epoch 42/100\n",
            "1/1 [==============================] - 0s 7ms/step - loss: 0.0188\n",
            "Epoch 43/100\n",
            "1/1 [==============================] - 0s 7ms/step - loss: 0.0178\n",
            "Epoch 44/100\n",
            "1/1 [==============================] - 0s 8ms/step - loss: 0.0169\n",
            "Epoch 45/100\n",
            "1/1 [==============================] - 0s 8ms/step - loss: 0.0161\n",
            "Epoch 46/100\n",
            "1/1 [==============================] - 0s 12ms/step - loss: 0.0154\n",
            "Epoch 47/100\n",
            "1/1 [==============================] - 0s 13ms/step - loss: 0.0147\n",
            "Epoch 48/100\n",
            "1/1 [==============================] - 0s 8ms/step - loss: 0.0141\n",
            "Epoch 49/100\n",
            "1/1 [==============================] - 0s 7ms/step - loss: 0.0136\n",
            "Epoch 50/100\n",
            "1/1 [==============================] - 0s 10ms/step - loss: 0.0131\n",
            "Epoch 51/100\n",
            "1/1 [==============================] - 0s 9ms/step - loss: 0.0126\n",
            "Epoch 52/100\n",
            "1/1 [==============================] - 0s 9ms/step - loss: 0.0122\n",
            "Epoch 53/100\n",
            "1/1 [==============================] - 0s 9ms/step - loss: 0.0118\n",
            "Epoch 54/100\n",
            "1/1 [==============================] - 0s 8ms/step - loss: 0.0114\n",
            "Epoch 55/100\n",
            "1/1 [==============================] - 0s 6ms/step - loss: 0.0111\n",
            "Epoch 56/100\n",
            "1/1 [==============================] - 0s 7ms/step - loss: 0.0108\n",
            "Epoch 57/100\n",
            "1/1 [==============================] - 0s 4ms/step - loss: 0.0105\n",
            "Epoch 58/100\n",
            "1/1 [==============================] - 0s 6ms/step - loss: 0.0103\n",
            "Epoch 59/100\n",
            "1/1 [==============================] - 0s 6ms/step - loss: 0.0101\n",
            "Epoch 60/100\n",
            "1/1 [==============================] - 0s 9ms/step - loss: 0.0099\n",
            "Epoch 61/100\n",
            "1/1 [==============================] - 0s 10ms/step - loss: 0.0097\n",
            "Epoch 62/100\n",
            "1/1 [==============================] - 0s 5ms/step - loss: 0.0095\n",
            "Epoch 63/100\n",
            "1/1 [==============================] - 0s 4ms/step - loss: 0.0093\n",
            "Epoch 64/100\n",
            "1/1 [==============================] - 0s 6ms/step - loss: 0.0092\n",
            "Epoch 65/100\n",
            "1/1 [==============================] - 0s 6ms/step - loss: 0.0090\n",
            "Epoch 66/100\n",
            "1/1 [==============================] - 0s 5ms/step - loss: 0.0089\n",
            "Epoch 67/100\n",
            "1/1 [==============================] - 0s 6ms/step - loss: 0.0088\n",
            "Epoch 68/100\n",
            "1/1 [==============================] - 0s 7ms/step - loss: 0.0087\n",
            "Epoch 69/100\n",
            "1/1 [==============================] - 0s 6ms/step - loss: 0.0086\n",
            "Epoch 70/100\n",
            "1/1 [==============================] - 0s 6ms/step - loss: 0.0085\n",
            "Epoch 71/100\n",
            "1/1 [==============================] - 0s 7ms/step - loss: 0.0084\n",
            "Epoch 72/100\n",
            "1/1 [==============================] - 0s 6ms/step - loss: 0.0083\n",
            "Epoch 73/100\n",
            "1/1 [==============================] - 0s 7ms/step - loss: 0.0082\n",
            "Epoch 74/100\n",
            "1/1 [==============================] - 0s 9ms/step - loss: 0.0081\n",
            "Epoch 75/100\n",
            "1/1 [==============================] - 0s 6ms/step - loss: 0.0081\n",
            "Epoch 76/100\n",
            "1/1 [==============================] - 0s 5ms/step - loss: 0.0080\n",
            "Epoch 77/100\n",
            "1/1 [==============================] - 0s 5ms/step - loss: 0.0079\n",
            "Epoch 78/100\n",
            "1/1 [==============================] - 0s 4ms/step - loss: 0.0079\n",
            "Epoch 79/100\n",
            "1/1 [==============================] - 0s 5ms/step - loss: 0.0078\n",
            "Epoch 80/100\n",
            "1/1 [==============================] - 0s 6ms/step - loss: 0.0078\n",
            "Epoch 81/100\n",
            "1/1 [==============================] - 0s 6ms/step - loss: 0.0077\n",
            "Epoch 82/100\n",
            "1/1 [==============================] - 0s 7ms/step - loss: 0.0077\n",
            "Epoch 83/100\n",
            "1/1 [==============================] - 0s 5ms/step - loss: 0.0076\n",
            "Epoch 84/100\n",
            "1/1 [==============================] - 0s 5ms/step - loss: 0.0076\n",
            "Epoch 85/100\n",
            "1/1 [==============================] - 0s 6ms/step - loss: 0.0075\n",
            "Epoch 86/100\n",
            "1/1 [==============================] - 0s 7ms/step - loss: 0.0075\n",
            "Epoch 87/100\n",
            "1/1 [==============================] - 0s 6ms/step - loss: 0.0074\n",
            "Epoch 88/100\n",
            "1/1 [==============================] - 0s 6ms/step - loss: 0.0074\n",
            "Epoch 89/100\n",
            "1/1 [==============================] - 0s 6ms/step - loss: 0.0074\n",
            "Epoch 90/100\n",
            "1/1 [==============================] - 0s 5ms/step - loss: 0.0073\n",
            "Epoch 91/100\n",
            "1/1 [==============================] - 0s 5ms/step - loss: 0.0073\n",
            "Epoch 92/100\n",
            "1/1 [==============================] - 0s 10ms/step - loss: 0.0073\n",
            "Epoch 93/100\n",
            "1/1 [==============================] - 0s 6ms/step - loss: 0.0072\n",
            "Epoch 94/100\n",
            "1/1 [==============================] - 0s 5ms/step - loss: 0.0072\n",
            "Epoch 95/100\n",
            "1/1 [==============================] - 0s 4ms/step - loss: 0.0072\n",
            "Epoch 96/100\n",
            "1/1 [==============================] - 0s 6ms/step - loss: 0.0071\n",
            "Epoch 97/100\n",
            "1/1 [==============================] - 0s 7ms/step - loss: 0.0071\n",
            "Epoch 98/100\n",
            "1/1 [==============================] - 0s 4ms/step - loss: 0.0071\n",
            "Epoch 99/100\n",
            "1/1 [==============================] - 0s 6ms/step - loss: 0.0070\n",
            "Epoch 100/100\n",
            "1/1 [==============================] - 0s 3ms/step - loss: 0.0070\n"
          ],
          "name": "stdout"
        }
      ]
    },
    {
      "cell_type": "markdown",
      "metadata": {
        "id": "Pf436s7wIqqg"
      },
      "source": [
        "### 결과확인"
      ]
    },
    {
      "cell_type": "code",
      "metadata": {
        "colab": {
          "base_uri": "https://localhost:8080/",
          "height": 281
        },
        "id": "HCFgKWhQInTH",
        "outputId": "c16886ac-867b-4d6e-b194-bdb6b9ba6d23"
      },
      "source": [
        "plt.plot(Y_train, 'ro-', label=\"target\")\r\n",
        "plt.plot(model.predict(X_train[:, :, :]), 'bs-', label=\"output\")\r\n",
        "plt.xlim(-0.5, 20.5)\r\n",
        "plt.ylim(-1.1, 1.1)\r\n",
        "plt.legend()\r\n",
        "plt.title(\"After training\")\r\n",
        "plt.show()"
      ],
      "execution_count": 22,
      "outputs": [
        {
          "output_type": "display_data",
          "data": {
            "image/png": "[encoded data removed]",
            "text/plain": [
              "<Figure size 432x288 with 1 Axes>"
            ]
          },
          "metadata": {
            "tags": [],
            "needs_background": "light"
          }
        }
      ]
    },
    {
      "cell_type": "code",
      "metadata": {
        "colab": {
          "base_uri": "https://localhost:8080/",
          "height": 281
        },
        "id": "OwtHJiVwJHUw",
        "outputId": "3a491633-bc85-47cd-85cb-a8f6b2789aa9"
      },
      "source": [
        "plt.plot(history.history[\"loss\"])\r\n",
        "plt.title(\"Loss\")\r\n",
        "plt.show()"
      ],
      "execution_count": 23,
      "outputs": [
        {
          "output_type": "display_data",
          "data": {
            "image/png": "[encoded data removed]",
            "text/plain": [
              "<Figure size 432x288 with 1 Axes>"
            ]
          },
          "metadata": {
            "tags": [],
            "needs_background": "light"
          }
        }
      ]
    },
    {
      "cell_type": "code",
      "metadata": {
        "colab": {
          "base_uri": "https://localhost:8080/"
        },
        "id": "xU0oH-v6JJUf",
        "outputId": "3f58ab97-f6c2-41bf-d422-a22f9d32a1e4"
      },
      "source": [
        "# 입력에 대한 weights\r\n",
        "model.weights[0]"
      ],
      "execution_count": 24,
      "outputs": [
        {
          "output_type": "execute_result",
          "data": {
            "text/plain": [
              "<tf.Variable 'simple_rnn_1/simple_rnn_cell_1/kernel:0' shape=(1, 10) dtype=float32, numpy=\n",
              "array([[ 0.30862445,  0.7117529 , -0.6130492 , -0.36555988,  0.4611158 ,\n",
              "         0.37739295, -0.19353554, -0.12169536,  0.3473942 ,  0.5977975 ]],\n",
              "      dtype=float32)>"
            ]
          },
          "metadata": {
            "tags": []
          },
          "execution_count": 24
        }
      ]
    },
    {
      "cell_type": "code",
      "metadata": {
        "colab": {
          "base_uri": "https://localhost:8080/"
        },
        "id": "ai49OIREJM2H",
        "outputId": "acdca83f-1aa6-41b6-b978-b9feb34a8414"
      },
      "source": [
        "# 유닛에 대한 weights\r\n",
        "model.weights[1]"
      ],
      "execution_count": 25,
      "outputs": [
        {
          "output_type": "execute_result",
          "data": {
            "text/plain": [
              "<tf.Variable 'simple_rnn_1/simple_rnn_cell_1/recurrent_kernel:0' shape=(10, 10) dtype=float32, numpy=\n",
              "array([[ 0.06934842, -0.260522  , -0.2382448 , -0.2310189 ,  0.49190584,\n",
              "        -0.38576186, -0.60118014,  0.11631072, -0.12117756,  0.23326336],\n",
              "       [-0.11500636,  0.7572261 ,  0.27100447, -0.25619426,  0.24075669,\n",
              "         0.3181762 , -0.22196871,  0.25620675, -0.13122626,  0.2407589 ],\n",
              "       [ 0.17351423, -0.16972162,  0.40084606, -0.5587735 , -0.02543789,\n",
              "        -0.01781102,  0.16237575, -0.29325387,  0.5185392 ,  0.2938797 ],\n",
              "       [-0.32906324, -0.05366785,  0.16397947,  0.14567748, -0.0062977 ,\n",
              "         0.25066757, -0.53531605, -0.6660146 , -0.00197653, -0.19932783],\n",
              "       [ 0.03410033,  0.432653  , -0.2144774 , -0.51093405, -0.2560388 ,\n",
              "        -0.45378494,  0.08882508, -0.34057575, -0.24174643, -0.32794157],\n",
              "       [ 0.2194342 ,  0.28148443, -0.13897175,  0.26526195,  0.44898033,\n",
              "        -0.06334534, -0.01309646, -0.06822743,  0.6119689 , -0.4041945 ],\n",
              "       [-0.03226448,  0.02991365, -0.56611776,  0.07459129,  0.13307744,\n",
              "         0.26761222,  0.286307  , -0.47690317,  0.03737377,  0.54244035],\n",
              "       [ 0.17232078,  0.2239131 ,  0.45877275,  0.4284508 ,  0.08476587,\n",
              "        -0.55483466,  0.16464451, -0.29903442, -0.19283822,  0.34343183],\n",
              "       [-0.916305  , -0.04207362,  0.00774783, -0.02110186,  0.25299427,\n",
              "        -0.25771654,  0.2145354 ,  0.15707432,  0.1652843 , -0.0259342 ],\n",
              "       [ 0.02525665, -0.20688017,  0.19086696, -0.16924465,  0.6696122 ,\n",
              "         0.24920647,  0.33380508, -0.06932977, -0.49394274, -0.36193967]],\n",
              "      dtype=float32)>"
            ]
          },
          "metadata": {
            "tags": []
          },
          "execution_count": 25
        }
      ]
    },
    {
      "cell_type": "code",
      "metadata": {
        "colab": {
          "base_uri": "https://localhost:8080/"
        },
        "id": "qRcmFZR7JQq3",
        "outputId": "37f2ad96-197d-4ca3-d4f9-022b0dedcec0"
      },
      "source": [
        "# bias\r\n",
        "model.weights[2]"
      ],
      "execution_count": 26,
      "outputs": [
        {
          "output_type": "execute_result",
          "data": {
            "text/plain": [
              "<tf.Variable 'simple_rnn_1/simple_rnn_cell_1/bias:0' shape=(10,) dtype=float32, numpy=\n",
              "array([-0.0046956 ,  0.00101527, -0.00204912,  0.00203127, -0.00357565,\n",
              "       -0.00351529, -0.0044837 ,  0.00127765, -0.00156704, -0.00880719],\n",
              "      dtype=float32)>"
            ]
          },
          "metadata": {
            "tags": []
          },
          "execution_count": 26
        }
      ]
    },
    {
      "cell_type": "code",
      "metadata": {
        "colab": {
          "base_uri": "https://localhost:8080/"
        },
        "id": "bR-nrPH0JS9H",
        "outputId": "682f6db0-c004-4580-f83e-6e549a6419b8"
      },
      "source": [
        "# Output layer에 대한 weights\r\n",
        "model.weights[3]"
      ],
      "execution_count": 27,
      "outputs": [
        {
          "output_type": "execute_result",
          "data": {
            "text/plain": [
              "<tf.Variable 'dense_1/kernel:0' shape=(10, 1) dtype=float32, numpy=\n",
              "array([[-0.69742364],\n",
              "       [-0.42091635],\n",
              "       [-0.7378103 ],\n",
              "       [ 0.64538383],\n",
              "       [ 0.7566348 ],\n",
              "       [ 0.71418303],\n",
              "       [-0.22637266],\n",
              "       [ 0.4049217 ],\n",
              "       [-0.39985362],\n",
              "       [-0.19067319]], dtype=float32)>"
            ]
          },
          "metadata": {
            "tags": []
          },
          "execution_count": 27
        }
      ]
    },
    {
      "cell_type": "code",
      "metadata": {
        "colab": {
          "base_uri": "https://localhost:8080/"
        },
        "id": "a9X2XZOjJXSH",
        "outputId": "10b3c807-1062-4d65-ae2e-f16b4b6efcb6"
      },
      "source": [
        "# Output layer bias\r\n",
        "model.weights[4]"
      ],
      "execution_count": 28,
      "outputs": [
        {
          "output_type": "execute_result",
          "data": {
            "text/plain": [
              "<tf.Variable 'dense_1/bias:0' shape=(1,) dtype=float32, numpy=array([0.00144537], dtype=float32)>"
            ]
          },
          "metadata": {
            "tags": []
          },
          "execution_count": 28
        }
      ]
    },
    {
      "cell_type": "code",
      "metadata": {
        "id": "zG3LqLN4JeHf"
      },
      "source": [
        ""
      ],
      "execution_count": null,
      "outputs": []
    }
  ]
}