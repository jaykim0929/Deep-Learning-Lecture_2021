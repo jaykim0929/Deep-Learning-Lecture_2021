{
  "nbformat": 4,
  "nbformat_minor": 0,
  "metadata": {
    "colab": {
      "name": "word2vac.ipynb",
      "provenance": []
    },
    "kernelspec": {
      "name": "python3",
      "display_name": "Python 3"
    }
  },
  "cells": [
    {
      "cell_type": "code",
      "metadata": {
        "id": "qj0v-tcucCd5"
      },
      "source": [
        ""
      ],
      "execution_count": 26,
      "outputs": []
    },
    {
      "cell_type": "markdown",
      "metadata": {
        "id": "Bl0jEjBQhtey"
      },
      "source": [
        "# 1. 영어 Word2Vec 만들기\r\n",
        "이번에는 영어 데이터를 다운로드 받아 직접 Word2Vec 작업을 진행해보도록 하겠습니다. 파이썬의 gensim 패키지에는 Word2Vec을 지원하고 있어, gensim 패키지를 이용하면 손쉽게 단어를 임베딩 벡터로 변환시킬 수 있습니다. 영어로 된 코퍼스를 다운받아 전처리를 수행하고, 전처리한 데이터를 바탕으로 Word2Vec 작업을 진행하겠습니다."
      ]
    },
    {
      "cell_type": "code",
      "metadata": {
        "colab": {
          "base_uri": "https://localhost:8080/"
        },
        "id": "hUBZHQv2hxan",
        "outputId": "37152550-d760-45b1-b62a-f39415e426c4"
      },
      "source": [
        "import nltk\r\n",
        "nltk.download('punkt')"
      ],
      "execution_count": 27,
      "outputs": [
        {
          "output_type": "stream",
          "text": [
            "[nltk_data] Downloading package punkt to /root/nltk_data...\n",
            "[nltk_data]   Package punkt is already up-to-date!\n"
          ],
          "name": "stdout"
        },
        {
          "output_type": "execute_result",
          "data": {
            "text/plain": [
              "True"
            ]
          },
          "metadata": {
            "tags": []
          },
          "execution_count": 27
        }
      ]
    },
    {
      "cell_type": "code",
      "metadata": {
        "id": "26tHmMTGhzCR"
      },
      "source": [
        "import urllib.request\r\n",
        "import zipfile\r\n",
        "from lxml import etree\r\n",
        "import re\r\n",
        "from nltk.tokenize import word_tokenize, sent_tokenize"
      ],
      "execution_count": 28,
      "outputs": []
    },
    {
      "cell_type": "markdown",
      "metadata": {
        "id": "saU28AQXh4zh"
      },
      "source": [
        "### 1) 훈련 데이터 이해하기"
      ]
    },
    {
      "cell_type": "code",
      "metadata": {
        "colab": {
          "base_uri": "https://localhost:8080/"
        },
        "id": "S4UaNXFNh7-o",
        "outputId": "88aa4000-025e-4442-e5bd-7857661a41d8"
      },
      "source": [
        "# 데이터 다운로드\r\n",
        "urllib.request.urlretrieve(\"https://raw.githubusercontent.com/GaoleMeng/RNN-and-FFNN-textClassification/master/ted_en-20160408.xml\", filename=\"ted_en-20160408.xml\")"
      ],
      "execution_count": 29,
      "outputs": [
        {
          "output_type": "execute_result",
          "data": {
            "text/plain": [
              "('ted_en-20160408.xml', <http.client.HTTPMessage at 0x7f5695104890>)"
            ]
          },
          "metadata": {
            "tags": []
          },
          "execution_count": 29
        }
      ]
    },
    {
      "cell_type": "code",
      "metadata": {
        "colab": {
          "base_uri": "https://localhost:8080/"
        },
        "id": "H08JPX6niHhg",
        "outputId": "d8246e6b-0dcb-4bd5-a751-8b7f4918189c"
      },
      "source": [
        "!ls -l"
      ],
      "execution_count": 30,
      "outputs": [
        {
          "output_type": "stream",
          "text": [
            "total 97872\n",
            "-rw-r--r-- 1 root root 25678377 Feb 24 01:01 eng_w2v\n",
            "drwxr-xr-x 1 root root     4096 Feb 22 14:38 sample_data\n",
            "-rw-r--r-- 1 root root 74533638 Feb 24 01:10 ted_en-20160408.xml\n"
          ],
          "name": "stdout"
        }
      ]
    },
    {
      "cell_type": "markdown",
      "metadata": {
        "id": "3TuBQj9giaPZ"
      },
      "source": [
        "### 훈련데이터 전처리\r\n",
        "훈련 데이터 파일은 xml 문법으로 작성되어 있어 자연어를 얻기 위해서는 전처리가 필요합니다. 얻고자 하는 실질적 데이터는 영어문장으로만 구성된 내용을 담고 있는 <content>와 </content> 사이의 내용입니다. 전처리 작업을 통해 xml 문법들은 제거하고, 해당 데이터만 가져와야 합니다. 뿐만 아니라, <content>와 </content> 사이의 내용 중에는 (Laughter)나 (Applause)와 같은 배경음을 나타내는 단어도 등장하는데 이 또한 제거해야 합니다."
      ]
    },
    {
      "cell_type": "code",
      "metadata": {
        "id": "PJFBZ82TiJgg"
      },
      "source": [
        "targetXML=open('ted_en-20160408.xml', 'r', encoding='UTF8')\r\n",
        "target_text = etree.parse(targetXML)\r\n",
        "\r\n",
        "# xml 파일로부터 <content>와 </content> 사이의 내용만 가져온다.\r\n",
        "parse_text = '\\n'.join(target_text.xpath('//content/text()'))"
      ],
      "execution_count": 31,
      "outputs": []
    },
    {
      "cell_type": "code",
      "metadata": {
        "id": "jwUW5Ea6iu3A"
      },
      "source": [
        "# 정규 표현식의 sub 모듈을 통해 content 중간에 등장하는 (Audio), (Laughter) 등의 배경음 부분을 제거.\r\n",
        "# 해당 코드는 괄호로 구성된 내용을 제거.\r\n",
        "content_text = re.sub(r'\\([^)]*\\)', '', parse_text)\r\n"
      ],
      "execution_count": 32,
      "outputs": []
    },
    {
      "cell_type": "code",
      "metadata": {
        "id": "sPHO1WOIi6dQ"
      },
      "source": [
        "# 입력 코퍼스에 대해서 NLTK를 이용하여 문장 토큰화를 수행.\r\n",
        "sent_text = sent_tokenize(content_text)"
      ],
      "execution_count": 33,
      "outputs": []
    },
    {
      "cell_type": "code",
      "metadata": {
        "id": "82NsDEW2i8AY"
      },
      "source": [
        "# 각 문장에 대해서 구두점을 제거하고, 대문자를 소문자로 변환.\r\n",
        "normalized_text = []\r\n",
        "for string in sent_text:\r\n",
        "     tokens = re.sub(r\"[^a-z0-9]+\", \" \", string.lower())\r\n",
        "     normalized_text.append(tokens)"
      ],
      "execution_count": 34,
      "outputs": []
    },
    {
      "cell_type": "code",
      "metadata": {
        "id": "5VACuoqli9Xg"
      },
      "source": [
        "# 각 문장에 대해서 NLTK를 이용하여 단어 토큰화를 수행.\r\n",
        "result = [word_tokenize(sentence) for sentence in normalized_text]"
      ],
      "execution_count": 35,
      "outputs": []
    },
    {
      "cell_type": "code",
      "metadata": {
        "colab": {
          "base_uri": "https://localhost:8080/"
        },
        "id": "fdJ_PCYTjBGQ",
        "outputId": "8ef0f1a0-28a0-48c4-fa66-3a38f44c847b"
      },
      "source": [
        "print('총 샘플의 개수 : {}'.format(len(result)))"
      ],
      "execution_count": 36,
      "outputs": [
        {
          "output_type": "stream",
          "text": [
            "총 샘플의 개수 : 273424\n"
          ],
          "name": "stdout"
        }
      ]
    },
    {
      "cell_type": "code",
      "metadata": {
        "colab": {
          "base_uri": "https://localhost:8080/"
        },
        "id": "2NfucqODjEUP",
        "outputId": "61285b92-b533-4fe1-c402-23436ac62505"
      },
      "source": [
        "# 샘플 3개만 출력\r\n",
        "for line in result[:3]:\r\n",
        "    print(line)"
      ],
      "execution_count": 37,
      "outputs": [
        {
          "output_type": "stream",
          "text": [
            "['here', 'are', 'two', 'reasons', 'companies', 'fail', 'they', 'only', 'do', 'more', 'of', 'the', 'same', 'or', 'they', 'only', 'do', 'what', 's', 'new']\n",
            "['to', 'me', 'the', 'real', 'real', 'solution', 'to', 'quality', 'growth', 'is', 'figuring', 'out', 'the', 'balance', 'between', 'two', 'activities', 'exploration', 'and', 'exploitation']\n",
            "['both', 'are', 'necessary', 'but', 'it', 'can', 'be', 'too', 'much', 'of', 'a', 'good', 'thing']\n"
          ],
          "name": "stdout"
        }
      ]
    },
    {
      "cell_type": "markdown",
      "metadata": {
        "id": "JmV1WcmGjKIR"
      },
      "source": [
        "### 3) Word2Vec 훈련시키기"
      ]
    },
    {
      "cell_type": "code",
      "metadata": {
        "id": "VfMilK5qjLqn"
      },
      "source": [
        "from gensim.models import Word2Vec\r\n",
        "model = Word2Vec(sentences=result, size=100, window=5, min_count=5, workers=4, sg=0)"
      ],
      "execution_count": 38,
      "outputs": []
    },
    {
      "cell_type": "code",
      "metadata": {
        "colab": {
          "base_uri": "https://localhost:8080/"
        },
        "id": "AjPdpe-yjNGQ",
        "outputId": "8f833265-e29d-493c-bc91-3f5c5dab898f"
      },
      "source": [
        "model_result = model.wv.most_similar(\"man\")\r\n",
        "print(model_result)"
      ],
      "execution_count": 39,
      "outputs": [
        {
          "output_type": "stream",
          "text": [
            "[('woman', 0.8468674421310425), ('guy', 0.8228563666343689), ('boy', 0.7958941459655762), ('lady', 0.7753374576568604), ('girl', 0.7640807628631592), ('gentleman', 0.7314152717590332), ('kid', 0.7061263918876648), ('soldier', 0.7008715271949768), ('physicist', 0.6867040395736694), ('friend', 0.6829357743263245)]\n"
          ],
          "name": "stdout"
        }
      ]
    },
    {
      "cell_type": "code",
      "metadata": {
        "colab": {
          "base_uri": "https://localhost:8080/"
        },
        "id": "XH3jw8qhjeh4",
        "outputId": "2d18476c-41fd-4433-951f-9060cf485b06"
      },
      "source": [
        "[('woman', 0.842622697353363), ('guy', 0.8178728818893433), ('boy', 0.7774451375007629), ('lady', 0.7767927646636963), ('girl', 0.7583760023117065), ('gentleman', 0.7437191009521484), ('soldier', 0.7413754463195801), ('poet', 0.7060446739196777), ('kid', 0.6925194263458252), ('friend', 0.6572611331939697)]"
      ],
      "execution_count": 41,
      "outputs": [
        {
          "output_type": "execute_result",
          "data": {
            "text/plain": [
              "[('woman', 0.842622697353363),\n",
              " ('guy', 0.8178728818893433),\n",
              " ('boy', 0.7774451375007629),\n",
              " ('lady', 0.7767927646636963),\n",
              " ('girl', 0.7583760023117065),\n",
              " ('gentleman', 0.7437191009521484),\n",
              " ('soldier', 0.7413754463195801),\n",
              " ('poet', 0.7060446739196777),\n",
              " ('kid', 0.6925194263458252),\n",
              " ('friend', 0.6572611331939697)]"
            ]
          },
          "metadata": {
            "tags": []
          },
          "execution_count": 41
        }
      ]
    },
    {
      "cell_type": "markdown",
      "metadata": {
        "id": "cLx53dFhjith"
      },
      "source": [
        "### 4) Word2Vec 모델 저장하고 로드하기"
      ]
    },
    {
      "cell_type": "code",
      "metadata": {
        "id": "0juhnEz9jgHQ"
      },
      "source": [
        "from gensim.models import KeyedVectors\r\n",
        "model.wv.save_word2vec_format('eng_w2v') # 모델 저장\r\n",
        "loaded_model = KeyedVectors.load_word2vec_format(\"eng_w2v\") # 모델 로드"
      ],
      "execution_count": 42,
      "outputs": []
    },
    {
      "cell_type": "code",
      "metadata": {
        "colab": {
          "base_uri": "https://localhost:8080/"
        },
        "id": "-MQhPyWxjloI",
        "outputId": "3ceb0960-3d40-4a81-c4b7-017924f29e43"
      },
      "source": [
        "model_result = loaded_model.most_similar(\"man\")\r\n",
        "print(model_result)"
      ],
      "execution_count": 43,
      "outputs": [
        {
          "output_type": "stream",
          "text": [
            "[('woman', 0.8468674421310425), ('guy', 0.8228563666343689), ('boy', 0.7958941459655762), ('lady', 0.7753374576568604), ('girl', 0.7640807628631592), ('gentleman', 0.7314152717590332), ('kid', 0.7061263918876648), ('soldier', 0.7008715271949768), ('physicist', 0.6867040395736694), ('friend', 0.6829357743263245)]\n"
          ],
          "name": "stdout"
        }
      ]
    },
    {
      "cell_type": "code",
      "metadata": {
        "colab": {
          "base_uri": "https://localhost:8080/"
        },
        "id": "fjpBwb6pjnsQ",
        "outputId": "c7cd176b-b718-44bb-ac24-2c8c52374516"
      },
      "source": [
        "[('woman', 0.842622697353363), ('guy', 0.8178728818893433), ('boy', 0.7774451375007629), ('lady', 0.7767927646636963), ('girl', 0.7583760023117065), ('gentleman', 0.7437191009521484), ('soldier', 0.7413754463195801), ('poet', 0.7060446739196777), ('kid', 0.6925194263458252), ('friend', 0.6572611331939697)]"
      ],
      "execution_count": 44,
      "outputs": [
        {
          "output_type": "execute_result",
          "data": {
            "text/plain": [
              "[('woman', 0.842622697353363),\n",
              " ('guy', 0.8178728818893433),\n",
              " ('boy', 0.7774451375007629),\n",
              " ('lady', 0.7767927646636963),\n",
              " ('girl', 0.7583760023117065),\n",
              " ('gentleman', 0.7437191009521484),\n",
              " ('soldier', 0.7413754463195801),\n",
              " ('poet', 0.7060446739196777),\n",
              " ('kid', 0.6925194263458252),\n",
              " ('friend', 0.6572611331939697)]"
            ]
          },
          "metadata": {
            "tags": []
          },
          "execution_count": 44
        }
      ]
    },
    {
      "cell_type": "code",
      "metadata": {
        "id": "sEQuWOfyjqEA"
      },
      "source": [
        ""
      ],
      "execution_count": null,
      "outputs": []
    },
    {
      "cell_type": "code",
      "metadata": {
        "id": "3WGSREWIlDdw"
      },
      "source": [
        ""
      ],
      "execution_count": null,
      "outputs": []
    }
  ]
}