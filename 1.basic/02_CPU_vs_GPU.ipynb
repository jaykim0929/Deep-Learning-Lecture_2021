{
  "nbformat": 4,
  "nbformat_minor": 0,
  "metadata": {
    "colab": {
      "name": "02_CPU_vs_GPU.ipynb",
      "provenance": []
    },
    "kernelspec": {
      "name": "python3",
      "display_name": "Python 3"
    },
    "accelerator": "GPU"
  },
  "cells": [
    {
      "cell_type": "code",
      "metadata": {
        "id": "JLkrhnbtLmF7"
      },
      "source": [
        "import numpy as np\r\n",
        "import tensorflow as tf\r\n",
        "from tensorflow import keras\r\n",
        "from keras.datasets import mnist\r\n",
        "from keras.models import Sequential\r\n",
        "from keras.layers import Dense, Dropout, Flatten, Conv2D, MaxPooling2D\r\n",
        "from keras.callbacks import ModelCheckpoint, EarlyStopping\r\n",
        "\r\n",
        "import os\r\n",
        "import matplotlib.pyplot as plt\r\n",
        "%matplotlib inline"
      ],
      "execution_count": 35,
      "outputs": []
    },
    {
      "cell_type": "code",
      "metadata": {
        "id": "oCwA74hjW1TJ"
      },
      "source": [
        "# seed 값 설정\r\n",
        "seed = 2021\r\n",
        "np.random.seed(seed)\r\n",
        "tf.random.set_seed(seed)"
      ],
      "execution_count": 36,
      "outputs": []
    },
    {
      "cell_type": "code",
      "metadata": {
        "id": "gaH3DUv9Zc-7"
      },
      "source": [
        "# 데이터 불러오기\r\n",
        "(X_train, Y_train), (X_test, Y_test) = mnist.load_data()\r\n",
        "X_train = X_train.reshape(-1, 28, 28, 1).astype('float32') / 255\r\n",
        "X_test = X_test.reshape(-1, 28, 28, 1).astype('float32') / 255\r\n",
        "Y_train = keras.utils.to_categorical(Y_train)\r\n",
        "Y_test = keras.utils.to_categorical(Y_test)"
      ],
      "execution_count": 37,
      "outputs": []
    },
    {
      "cell_type": "code",
      "metadata": {
        "colab": {
          "base_uri": "https://localhost:8080/"
        },
        "id": "9xJacDR3ZdyW",
        "outputId": "ef585e2f-bed5-490d-a955-1a141cbed332"
      },
      "source": [
        "X_train.shape, X_test.shape"
      ],
      "execution_count": 38,
      "outputs": [
        {
          "output_type": "execute_result",
          "data": {
            "text/plain": [
              "((60000, 28, 28, 1), (10000, 28, 28, 1))"
            ]
          },
          "metadata": {
            "tags": []
          },
          "execution_count": 38
        }
      ]
    },
    {
      "cell_type": "markdown",
      "metadata": {
        "id": "sduSnCTKgLP7"
      },
      "source": [
        "# 새 섹션"
      ]
    },
    {
      "cell_type": "code",
      "metadata": {
        "colab": {
          "base_uri": "https://localhost:8080/"
        },
        "id": "w47e51XBZfkd",
        "outputId": "6cbedad7-e9fd-4a79-ddba-37136863b4f9"
      },
      "source": [
        "# 컨볼루션 신경망 설정\r\n",
        "model = Sequential([\r\n",
        "    Conv2D(32, kernel_size=(3, 3), input_shape=(28, 28, 1), \r\n",
        "           activation='relu'),\r\n",
        "    Conv2D(64, (3, 3), activation='relu'),\r\n",
        "    MaxPooling2D(pool_size=2),\r\n",
        "    Dropout(0.25),\r\n",
        "    Flatten(),\r\n",
        "    Dense(128, activation='relu'),\r\n",
        "    Dropout(0.5),\r\n",
        "    Dense(10, activation='softmax')\r\n",
        "])\r\n",
        "model.summary()"
      ],
      "execution_count": 39,
      "outputs": [
        {
          "output_type": "stream",
          "text": [
            "Model: \"sequential_2\"\n",
            "_________________________________________________________________\n",
            "Layer (type)                 Output Shape              Param #   \n",
            "=================================================================\n",
            "conv2d_4 (Conv2D)            (None, 26, 26, 32)        320       \n",
            "_________________________________________________________________\n",
            "conv2d_5 (Conv2D)            (None, 24, 24, 64)        18496     \n",
            "_________________________________________________________________\n",
            "max_pooling2d_2 (MaxPooling2 (None, 12, 12, 64)        0         \n",
            "_________________________________________________________________\n",
            "dropout_4 (Dropout)          (None, 12, 12, 64)        0         \n",
            "_________________________________________________________________\n",
            "flatten_2 (Flatten)          (None, 9216)              0         \n",
            "_________________________________________________________________\n",
            "dense_4 (Dense)              (None, 128)               1179776   \n",
            "_________________________________________________________________\n",
            "dropout_5 (Dropout)          (None, 128)               0         \n",
            "_________________________________________________________________\n",
            "dense_5 (Dense)              (None, 10)                1290      \n",
            "=================================================================\n",
            "Total params: 1,199,882\n",
            "Trainable params: 1,199,882\n",
            "Non-trainable params: 0\n",
            "_________________________________________________________________\n"
          ],
          "name": "stdout"
        }
      ]
    },
    {
      "cell_type": "code",
      "metadata": {
        "colab": {
          "base_uri": "https://localhost:8080/",
          "height": 856
        },
        "id": "okvgPPbQZh2t",
        "outputId": "5b6094d9-a362-4256-93e4-4ab3998d27fb"
      },
      "source": [
        "from tensorflow.keras.utils import plot_model\r\n",
        "plot_model(model)"
      ],
      "execution_count": 40,
      "outputs": [
        {
          "output_type": "execute_result",
          "data": {
            "image/png": "[encoded data removed]",
            "text/plain": [
              "<IPython.core.display.Image object>"
            ]
          },
          "metadata": {
            "tags": []
          },
          "execution_count": 40
        }
      ]
    },
    {
      "cell_type": "code",
      "metadata": {
        "id": "Z-CtpJ9nZmKl"
      },
      "source": [
        "model.compile(loss='categorical_crossentropy',\r\n",
        "              optimizer='adam',\r\n",
        "              metrics=['accuracy'])"
      ],
      "execution_count": 41,
      "outputs": []
    },
    {
      "cell_type": "code",
      "metadata": {
        "id": "YVsqMIqHZo1m"
      },
      "source": [
        "# 모델 최적화 설정\r\n",
        "MODEL_DIR = './model/'\r\n",
        "if not os.path.exists(MODEL_DIR):\r\n",
        "    os.mkdir(MODEL_DIR)"
      ],
      "execution_count": 42,
      "outputs": []
    },
    {
      "cell_type": "code",
      "metadata": {
        "colab": {
          "base_uri": "https://localhost:8080/"
        },
        "id": "wPJwBemTZr1W",
        "outputId": "7e26e799-2819-4d1c-985a-05c762cb834f"
      },
      "source": [
        "!ls -l"
      ],
      "execution_count": 43,
      "outputs": [
        {
          "output_type": "stream",
          "text": [
            "total 36\n",
            "drwxr-xr-x 2 root root  4096 Feb  8 06:56 model\n",
            "-rw-r--r-- 1 root root 25333 Feb  8 07:18 model.png\n",
            "drwxr-xr-x 1 root root  4096 Feb  4 15:26 sample_data\n"
          ],
          "name": "stdout"
        }
      ]
    },
    {
      "cell_type": "code",
      "metadata": {
        "id": "qZ8uAYVoZux9"
      },
      "source": [
        "modelpath = MODEL_DIR + \"mnist-cnn-{epoch:02d}-{val_loss:.4f}.hdf5\"\r\n",
        "checkpointer = ModelCheckpoint(filepath=modelpath, monitor='val_loss', \r\n",
        "                               verbose=1, save_best_only=True)\r\n",
        "early_stopping_callback = EarlyStopping(monitor='val_loss', patience=10)\r\n"
      ],
      "execution_count": 44,
      "outputs": []
    },
    {
      "cell_type": "code",
      "metadata": {
        "colab": {
          "base_uri": "https://localhost:8080/"
        },
        "id": "3VKdq1YYZxxF",
        "outputId": "7dd908f9-990f-4afd-9f41-3c2deaac97a7"
      },
      "source": [
        "# 모델의 실행\r\n",
        "history = model.fit(X_train, Y_train, validation_split=0.2, epochs=30,\r\n",
        "                    batch_size=200,\r\n",
        "                    callbacks=[early_stopping_callback, checkpointer])"
      ],
      "execution_count": 45,
      "outputs": [
        {
          "output_type": "stream",
          "text": [
            "Epoch 1/30\n",
            "240/240 [==============================] - 3s 11ms/step - loss: 0.6063 - accuracy: 0.8088 - val_loss: 0.0718 - val_accuracy: 0.9794\n",
            "\n",
            "Epoch 00001: val_loss improved from inf to 0.07177, saving model to ./model/mnist-cnn-01-0.0718.hdf5\n",
            "Epoch 2/30\n",
            "240/240 [==============================] - 3s 11ms/step - loss: 0.1036 - accuracy: 0.9690 - val_loss: 0.0533 - val_accuracy: 0.9847\n",
            "\n",
            "Epoch 00002: val_loss improved from 0.07177 to 0.05329, saving model to ./model/mnist-cnn-02-0.0533.hdf5\n",
            "Epoch 3/30\n",
            "240/240 [==============================] - 3s 11ms/step - loss: 0.0659 - accuracy: 0.9798 - val_loss: 0.0435 - val_accuracy: 0.9874\n",
            "\n",
            "Epoch 00003: val_loss improved from 0.05329 to 0.04355, saving model to ./model/mnist-cnn-03-0.0435.hdf5\n",
            "Epoch 4/30\n",
            "240/240 [==============================] - 3s 11ms/step - loss: 0.0602 - accuracy: 0.9802 - val_loss: 0.0413 - val_accuracy: 0.9884\n",
            "\n",
            "Epoch 00004: val_loss improved from 0.04355 to 0.04126, saving model to ./model/mnist-cnn-04-0.0413.hdf5\n",
            "Epoch 5/30\n",
            "240/240 [==============================] - 3s 11ms/step - loss: 0.0450 - accuracy: 0.9857 - val_loss: 0.0390 - val_accuracy: 0.9889\n",
            "\n",
            "Epoch 00005: val_loss improved from 0.04126 to 0.03898, saving model to ./model/mnist-cnn-05-0.0390.hdf5\n",
            "Epoch 6/30\n",
            "240/240 [==============================] - 3s 11ms/step - loss: 0.0424 - accuracy: 0.9861 - val_loss: 0.0423 - val_accuracy: 0.9877\n",
            "\n",
            "Epoch 00006: val_loss did not improve from 0.03898\n",
            "Epoch 7/30\n",
            "240/240 [==============================] - 3s 11ms/step - loss: 0.0368 - accuracy: 0.9890 - val_loss: 0.0384 - val_accuracy: 0.9895\n",
            "\n",
            "Epoch 00007: val_loss improved from 0.03898 to 0.03844, saving model to ./model/mnist-cnn-07-0.0384.hdf5\n",
            "Epoch 8/30\n",
            "240/240 [==============================] - 3s 11ms/step - loss: 0.0333 - accuracy: 0.9892 - val_loss: 0.0371 - val_accuracy: 0.9898\n",
            "\n",
            "Epoch 00008: val_loss improved from 0.03844 to 0.03708, saving model to ./model/mnist-cnn-08-0.0371.hdf5\n",
            "Epoch 9/30\n",
            "240/240 [==============================] - 3s 11ms/step - loss: 0.0297 - accuracy: 0.9905 - val_loss: 0.0391 - val_accuracy: 0.9901\n",
            "\n",
            "Epoch 00009: val_loss did not improve from 0.03708\n",
            "Epoch 10/30\n",
            "240/240 [==============================] - 3s 11ms/step - loss: 0.0294 - accuracy: 0.9906 - val_loss: 0.0389 - val_accuracy: 0.9905\n",
            "\n",
            "Epoch 00010: val_loss did not improve from 0.03708\n",
            "Epoch 11/30\n",
            "240/240 [==============================] - 3s 11ms/step - loss: 0.0244 - accuracy: 0.9917 - val_loss: 0.0363 - val_accuracy: 0.9912\n",
            "\n",
            "Epoch 00011: val_loss improved from 0.03708 to 0.03633, saving model to ./model/mnist-cnn-11-0.0363.hdf5\n",
            "Epoch 12/30\n",
            "240/240 [==============================] - 3s 11ms/step - loss: 0.0224 - accuracy: 0.9928 - val_loss: 0.0400 - val_accuracy: 0.9900\n",
            "\n",
            "Epoch 00012: val_loss did not improve from 0.03633\n",
            "Epoch 13/30\n",
            "240/240 [==============================] - 3s 11ms/step - loss: 0.0218 - accuracy: 0.9934 - val_loss: 0.0398 - val_accuracy: 0.9904\n",
            "\n",
            "Epoch 00013: val_loss did not improve from 0.03633\n",
            "Epoch 14/30\n",
            "240/240 [==============================] - 3s 11ms/step - loss: 0.0220 - accuracy: 0.9921 - val_loss: 0.0402 - val_accuracy: 0.9906\n",
            "\n",
            "Epoch 00014: val_loss did not improve from 0.03633\n",
            "Epoch 15/30\n",
            "240/240 [==============================] - 3s 11ms/step - loss: 0.0185 - accuracy: 0.9938 - val_loss: 0.0417 - val_accuracy: 0.9905\n",
            "\n",
            "Epoch 00015: val_loss did not improve from 0.03633\n",
            "Epoch 16/30\n",
            "240/240 [==============================] - 3s 11ms/step - loss: 0.0182 - accuracy: 0.9935 - val_loss: 0.0395 - val_accuracy: 0.9911\n",
            "\n",
            "Epoch 00016: val_loss did not improve from 0.03633\n",
            "Epoch 17/30\n",
            "240/240 [==============================] - 3s 11ms/step - loss: 0.0172 - accuracy: 0.9943 - val_loss: 0.0452 - val_accuracy: 0.9905\n",
            "\n",
            "Epoch 00017: val_loss did not improve from 0.03633\n",
            "Epoch 18/30\n",
            "240/240 [==============================] - 3s 11ms/step - loss: 0.0162 - accuracy: 0.9942 - val_loss: 0.0449 - val_accuracy: 0.9899\n",
            "\n",
            "Epoch 00018: val_loss did not improve from 0.03633\n",
            "Epoch 19/30\n",
            "240/240 [==============================] - 3s 11ms/step - loss: 0.0159 - accuracy: 0.9945 - val_loss: 0.0372 - val_accuracy: 0.9916\n",
            "\n",
            "Epoch 00019: val_loss did not improve from 0.03633\n",
            "Epoch 20/30\n",
            "240/240 [==============================] - 3s 11ms/step - loss: 0.0122 - accuracy: 0.9958 - val_loss: 0.0408 - val_accuracy: 0.9912\n",
            "\n",
            "Epoch 00020: val_loss did not improve from 0.03633\n",
            "Epoch 21/30\n",
            "240/240 [==============================] - 3s 11ms/step - loss: 0.0122 - accuracy: 0.9959 - val_loss: 0.0410 - val_accuracy: 0.9911\n",
            "\n",
            "Epoch 00021: val_loss did not improve from 0.03633\n"
          ],
          "name": "stdout"
        }
      ]
    },
    {
      "cell_type": "code",
      "metadata": {
        "colab": {
          "base_uri": "https://localhost:8080/"
        },
        "id": "BpQu4cRnaBKu",
        "outputId": "759360cf-0d65-4de2-c87c-37bc5ef95b28"
      },
      "source": [
        "!ls model"
      ],
      "execution_count": 46,
      "outputs": [
        {
          "output_type": "stream",
          "text": [
            "mnist-cnn-01-0.0715.hdf5  mnist-cnn-03-0.0451.hdf5  mnist-cnn-06-0.0392.hdf5\n",
            "mnist-cnn-01-0.0718.hdf5  mnist-cnn-03-0.0452.hdf5  mnist-cnn-07-0.0372.hdf5\n",
            "mnist-cnn-01-0.0725.hdf5  mnist-cnn-04-0.0412.hdf5  mnist-cnn-07-0.0384.hdf5\n",
            "mnist-cnn-02-0.0519.hdf5  mnist-cnn-04-0.0413.hdf5  mnist-cnn-08-0.0363.hdf5\n",
            "mnist-cnn-02-0.0529.hdf5  mnist-cnn-05-0.0389.hdf5  mnist-cnn-08-0.0364.hdf5\n",
            "mnist-cnn-02-0.0533.hdf5  mnist-cnn-05-0.0390.hdf5  mnist-cnn-08-0.0371.hdf5\n",
            "mnist-cnn-03-0.0435.hdf5  mnist-cnn-05-0.0406.hdf5  mnist-cnn-11-0.0363.hdf5\n"
          ],
          "name": "stdout"
        }
      ]
    },
    {
      "cell_type": "code",
      "metadata": {
        "id": "qEzSXmW4awYm"
      },
      "source": [
        "from keras.models import load_model\r\n",
        "del model\r\n",
        "model = load_model('model/mnist-cnn-11-0.0363.hdf5')"
      ],
      "execution_count": 47,
      "outputs": []
    },
    {
      "cell_type": "code",
      "metadata": {
        "colab": {
          "base_uri": "https://localhost:8080/"
        },
        "id": "dH3SLIHZa0tF",
        "outputId": "91cc1734-b951-49bd-caa7-5a6b4052555e"
      },
      "source": [
        "# 테스트 정확도 출력 \r\n",
        "acc = model.evaluate(X_test, Y_test, verbose=0)[1]\r\n",
        "print(f\"Test Accuracy:{acc:.4f}\")"
      ],
      "execution_count": 48,
      "outputs": [
        {
          "output_type": "stream",
          "text": [
            "Test Accuracy:0.9911\n"
          ],
          "name": "stdout"
        }
      ]
    },
    {
      "cell_type": "code",
      "metadata": {
        "id": "8RVfv0vKhBja"
      },
      "source": [
        "# 검증셋의 오차\r\n",
        "y_vloss = history.history['val_loss']\r\n",
        "\r\n",
        "# 학습셋의 오차\r\n",
        "y_loss = history.history['loss']"
      ],
      "execution_count": 49,
      "outputs": []
    },
    {
      "cell_type": "code",
      "metadata": {
        "colab": {
          "base_uri": "https://localhost:8080/",
          "height": 388
        },
        "id": "aDly-rwWhCqY",
        "outputId": "9cb31dc4-fb4e-48db-87b5-6c1e5a38f625"
      },
      "source": [
        "# 그래프로 표현\r\n",
        "x_len = np.arange(1, len(y_loss)+1)\r\n",
        "plt.figure(figsize=(8,6))\r\n",
        "plt.plot(x_len, y_vloss, marker='.', c=\"red\", label='Validationset_loss')\r\n",
        "plt.plot(x_len, y_loss, marker='.', c=\"blue\", label='Trainset_loss')\r\n",
        "\r\n",
        "# 그래프에 그리드를 주고 레이블을 표시\r\n",
        "plt.legend(loc='upper right')\r\n",
        "#plt.axis([0, 20, 0, 0.35])\r\n",
        "plt.grid()\r\n",
        "plt.xlabel('epoch')\r\n",
        "plt.ylabel('loss')\r\n",
        "plt.show()"
      ],
      "execution_count": 50,
      "outputs": [
        {
          "output_type": "display_data",
          "data": {
            "image/png": "[encoded data removed]",
            "text/plain": [
              "<Figure size 576x432 with 1 Axes>"
            ]
          },
          "metadata": {
            "tags": [],
            "needs_background": "light"
          }
        }
      ]
    },
    {
      "cell_type": "markdown",
      "metadata": {
        "id": "KG41NcyOhJUv"
      },
      "source": [
        "### GPU"
      ]
    },
    {
      "cell_type": "code",
      "metadata": {
        "colab": {
          "base_uri": "https://localhost:8080/"
        },
        "id": "EjoibdHHhF4L",
        "outputId": "20d3a83b-4125-45d0-e7f0-75a10bdff4fb"
      },
      "source": [
        "from tensorflow.python.client import device_lib\r\n",
        "print(device_lib.list_local_devices())"
      ],
      "execution_count": 51,
      "outputs": [
        {
          "output_type": "stream",
          "text": [
            "[name: \"/device:CPU:0\"\n",
            "device_type: \"CPU\"\n",
            "memory_limit: 268435456\n",
            "locality {\n",
            "}\n",
            "incarnation: 7277233288908771223\n",
            ", name: \"/device:GPU:0\"\n",
            "device_type: \"GPU\"\n",
            "memory_limit: 14638920512\n",
            "locality {\n",
            "  bus_id: 1\n",
            "  links {\n",
            "  }\n",
            "}\n",
            "incarnation: 11402244534740974817\n",
            "physical_device_desc: \"device: 0, name: Tesla T4, pci bus id: 0000:00:04.0, compute capability: 7.5\"\n",
            "]\n"
          ],
          "name": "stdout"
        }
      ]
    },
    {
      "cell_type": "code",
      "metadata": {
        "colab": {
          "base_uri": "https://localhost:8080/"
        },
        "id": "xFdy6V_UhLlL",
        "outputId": "9dc6a944-d3fe-43cb-c1bb-8751cfd05960"
      },
      "source": [
        "!nvidia-smi"
      ],
      "execution_count": 52,
      "outputs": [
        {
          "output_type": "stream",
          "text": [
            "Mon Feb  8 07:22:24 2021       \n",
            "+-----------------------------------------------------------------------------+\n",
            "| NVIDIA-SMI 460.39       Driver Version: 418.67       CUDA Version: 10.1     |\n",
            "|-------------------------------+----------------------+----------------------+\n",
            "| GPU  Name        Persistence-M| Bus-Id        Disp.A | Volatile Uncorr. ECC |\n",
            "| Fan  Temp  Perf  Pwr:Usage/Cap|         Memory-Usage | GPU-Util  Compute M. |\n",
            "|                               |                      |               MIG M. |\n",
            "|===============================+======================+======================|\n",
            "|   0  Tesla T4            Off  | 00000000:00:04.0 Off |                    0 |\n",
            "| N/A   71C    P0    32W /  70W |   1129MiB / 15079MiB |      0%      Default |\n",
            "|                               |                      |                 ERR! |\n",
            "+-------------------------------+----------------------+----------------------+\n",
            "                                                                               \n",
            "+-----------------------------------------------------------------------------+\n",
            "| Processes:                                                                  |\n",
            "|  GPU   GI   CI        PID   Type   Process name                  GPU Memory |\n",
            "|        ID   ID                                                   Usage      |\n",
            "|=============================================================================|\n",
            "|  No running processes found                                                 |\n",
            "+-----------------------------------------------------------------------------+\n"
          ],
          "name": "stdout"
        }
      ]
    },
    {
      "cell_type": "code",
      "metadata": {
        "id": "nfZi4RzLhR4D"
      },
      "source": [
        ""
      ],
      "execution_count": null,
      "outputs": []
    }
  ]
}