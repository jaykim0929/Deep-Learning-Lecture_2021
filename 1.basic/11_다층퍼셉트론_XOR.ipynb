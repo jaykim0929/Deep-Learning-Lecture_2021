{
  "nbformat": 4,
  "nbformat_minor": 0,
  "metadata": {
    "colab": {
      "name": "11_다층퍼셉트론_XOR.ipynb",
      "provenance": []
    },
    "kernelspec": {
      "name": "python3",
      "display_name": "Python 3"
    }
  },
  "cells": [
    {
      "cell_type": "markdown",
      "metadata": {
        "id": "jYS6BrwojsG9"
      },
      "source": [
        "# 다층 퍼셉트론 - XOR"
      ]
    },
    {
      "cell_type": "code",
      "metadata": {
        "id": "mBA9fCbFjkb8"
      },
      "source": [
        "import numpy as np\r\n",
        "\r\n",
        "# 가중치와 바이어스\r\n",
        "w11 = np.array([-2, -2])\r\n",
        "w12 = np.array([2, 2])\r\n",
        "w2 = np.array([1, 1])\r\n",
        "b1 = 3\r\n",
        "b2 = -1\r\n",
        "b3 = -1"
      ],
      "execution_count": 1,
      "outputs": []
    },
    {
      "cell_type": "code",
      "metadata": {
        "id": "C5wfZrRQjr4c"
      },
      "source": [
        "# 퍼셉트론 (Multi Layer Perceptron)\r\n",
        "def MLP(x, w, b):\r\n",
        "    y = np.sum(w * x) + b\r\n",
        "    if y <= 0:\r\n",
        "        return 0\r\n",
        "    else:\r\n",
        "        return 1\r\n"
      ],
      "execution_count": 2,
      "outputs": []
    },
    {
      "cell_type": "code",
      "metadata": {
        "id": "zYLjfkSTj18y"
      },
      "source": [
        "# NAND 게이트 [-2, -2], 3\r\n",
        "def NAND(x1, x2):\r\n",
        "    return MLP(np.array([x1, x2]), w11, b1)\r\n",
        "\r\n",
        "# OR 게이트 [2, 2], -1\r\n",
        "def OR(x1, x2):\r\n",
        "    return MLP(np.array([x1, x2]), w12, b2)\r\n",
        "\r\n",
        "# AND 게이트 [1, 1], -1\r\n",
        "def AND(x1, x2):\r\n",
        "    return MLP(np.array([x1, x2]), w2, b3)\r\n",
        "\r\n",
        "# XOR 게이트\r\n",
        "def XOR(x1, x2):\r\n",
        "    return AND(NAND(x1, x2), OR(x1, x2))"
      ],
      "execution_count": 3,
      "outputs": []
    },
    {
      "cell_type": "code",
      "metadata": {
        "colab": {
          "base_uri": "https://localhost:8080/"
        },
        "id": "Qx1hSy4pj8EE",
        "outputId": "0380ad8a-5cb5-44ed-bbd7-53a23656c97b"
      },
      "source": [
        "for x in [(0, 0), (1, 0), (0, 1), (1, 1)]:\r\n",
        "    print(NAND(*x))"
      ],
      "execution_count": 4,
      "outputs": [
        {
          "output_type": "stream",
          "text": [
            "1\n",
            "1\n",
            "1\n",
            "0\n"
          ],
          "name": "stdout"
        }
      ]
    },
    {
      "cell_type": "code",
      "metadata": {
        "colab": {
          "base_uri": "https://localhost:8080/"
        },
        "id": "T_l0OI5Pj9IR",
        "outputId": "4e6730fc-78f4-457c-fcc6-34d5b6b689af"
      },
      "source": [
        "for x in [(0, 0), (1, 0), (0, 1), (1, 1)]:\r\n",
        "    print(OR(*x))"
      ],
      "execution_count": 5,
      "outputs": [
        {
          "output_type": "stream",
          "text": [
            "0\n",
            "1\n",
            "1\n",
            "1\n"
          ],
          "name": "stdout"
        }
      ]
    },
    {
      "cell_type": "code",
      "metadata": {
        "colab": {
          "base_uri": "https://localhost:8080/"
        },
        "id": "ZLvl-5zmj_dx",
        "outputId": "0264271f-9220-40cd-9eb4-ce80177797dd"
      },
      "source": [
        "for x in [(0, 0), (1, 0), (0, 1), (1, 1)]:\r\n",
        "    print(AND(*x))"
      ],
      "execution_count": 6,
      "outputs": [
        {
          "output_type": "stream",
          "text": [
            "0\n",
            "0\n",
            "0\n",
            "1\n"
          ],
          "name": "stdout"
        }
      ]
    },
    {
      "cell_type": "code",
      "metadata": {
        "colab": {
          "base_uri": "https://localhost:8080/"
        },
        "id": "WxI8hOCvkCVS",
        "outputId": "530c9373-6ea5-470e-bfcd-e3be2c5a3f8e"
      },
      "source": [
        "# x1, x2 값을 번갈아 대입해 가며 최종값 출력\r\n",
        "if __name__ == '__main__':\r\n",
        "    for x in [(0, 0), (1, 0), (0, 1), (1, 1)]:\r\n",
        "        y = XOR(*x)\r\n",
        "        print(\"입력 값: \" + str(x) + \" 출력 값: \" + str(y))"
      ],
      "execution_count": 7,
      "outputs": [
        {
          "output_type": "stream",
          "text": [
            "입력 값: (0, 0) 출력 값: 0\n",
            "입력 값: (1, 0) 출력 값: 1\n",
            "입력 값: (0, 1) 출력 값: 1\n",
            "입력 값: (1, 1) 출력 값: 0\n"
          ],
          "name": "stdout"
        }
      ]
    },
    {
      "cell_type": "code",
      "metadata": {
        "id": "4ZwnKMP5kF-h"
      },
      "source": [
        ""
      ],
      "execution_count": null,
      "outputs": []
    }
  ]
}