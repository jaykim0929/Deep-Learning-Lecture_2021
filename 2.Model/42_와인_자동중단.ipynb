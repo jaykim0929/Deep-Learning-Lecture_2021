{
  "nbformat": 4,
  "nbformat_minor": 0,
  "metadata": {
    "colab": {
      "name": "42_와인_자동중단.ipynb",
      "provenance": []
    },
    "kernelspec": {
      "name": "python3",
      "display_name": "Python 3"
    },
    "accelerator": "GPU"
  },
  "cells": [
    {
      "cell_type": "markdown",
      "metadata": {
        "id": "LsAWPpSHXWhN"
      },
      "source": [
        "# 와인 베스트 모델 찾은 후 자동 중단"
      ]
    },
    {
      "cell_type": "code",
      "metadata": {
        "id": "-nH4ZkalXRoO"
      },
      "source": [
        "import numpy as np\r\n",
        "import tensorflow as tf"
      ],
      "execution_count": 1,
      "outputs": []
    },
    {
      "cell_type": "code",
      "metadata": {
        "id": "QWKulrebXdis"
      },
      "source": [
        "# 실행할 때마다 같은 결과를 출력하기 위한 seed 값 설정\r\n",
        "seed = 2021\r\n",
        "np.random.seed(seed)\r\n",
        "tf.random.set_seed(seed)"
      ],
      "execution_count": 2,
      "outputs": []
    },
    {
      "cell_type": "markdown",
      "metadata": {
        "id": "-UOaTodWXqfz"
      },
      "source": [
        "### 데이터 전처리"
      ]
    },
    {
      "cell_type": "code",
      "metadata": {
        "colab": {
          "resources": {
            "http://localhost:8080/nbextensions/google.colab/files.js": {
              "data": "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",
              "ok": true,
              "headers": [
                [
                  "content-type",
                  "application/javascript"
                ]
              ],
              "status": 200,
              "status_text": ""
            }
          },
          "base_uri": "https://localhost:8080/",
          "height": 76
        },
        "id": "zULLYDjiXp20",
        "outputId": "664fd77f-ca85-46f1-a906-1adbb1b253e4"
      },
      "source": [
        "import pandas as pd\r\n",
        "from google.colab import files\r\n",
        "uploaded = files.upload()\r\n",
        "filename = list(uploaded.keys())[0]"
      ],
      "execution_count": 3,
      "outputs": [
        {
          "output_type": "display_data",
          "data": {
            "text/html": [
              "\n",
              "     <input type=\"file\" id=\"files-3bc36d36-9245-4958-8755-bad57b4a9fb7\" name=\"files[]\" multiple disabled\n",
              "        style=\"border:none\" />\n",
              "     <output id=\"result-3bc36d36-9245-4958-8755-bad57b4a9fb7\">\n",
              "      Upload widget is only available when the cell has been executed in the\n",
              "      current browser session. Please rerun this cell to enable.\n",
              "      </output>\n",
              "      <script src=\"/nbextensions/google.colab/files.js\"></script> "
            ],
            "text/plain": [
              "<IPython.core.display.HTML object>"
            ]
          },
          "metadata": {
            "tags": []
          }
        },
        {
          "output_type": "stream",
          "text": [
            "Saving wine.csv to wine.csv\n"
          ],
          "name": "stdout"
        }
      ]
    },
    {
      "cell_type": "code",
      "metadata": {
        "colab": {
          "base_uri": "https://localhost:8080/",
          "height": 142
        },
        "id": "47sopE4FXt2c",
        "outputId": "eac39708-65a2-4b20-a1ab-45d49e8a4304"
      },
      "source": [
        "df = pd.read_csv(filename, header=None)\r\n",
        "df.head(3)"
      ],
      "execution_count": 4,
      "outputs": [
        {
          "output_type": "execute_result",
          "data": {
            "text/html": [
              "<div>\n",
              "<style scoped>\n",
              "    .dataframe tbody tr th:only-of-type {\n",
              "        vertical-align: middle;\n",
              "    }\n",
              "\n",
              "    .dataframe tbody tr th {\n",
              "        vertical-align: top;\n",
              "    }\n",
              "\n",
              "    .dataframe thead th {\n",
              "        text-align: right;\n",
              "    }\n",
              "</style>\n",
              "<table border=\"1\" class=\"dataframe\">\n",
              "  <thead>\n",
              "    <tr style=\"text-align: right;\">\n",
              "      <th></th>\n",
              "      <th>0</th>\n",
              "      <th>1</th>\n",
              "      <th>2</th>\n",
              "      <th>3</th>\n",
              "      <th>4</th>\n",
              "      <th>5</th>\n",
              "      <th>6</th>\n",
              "      <th>7</th>\n",
              "      <th>8</th>\n",
              "      <th>9</th>\n",
              "      <th>10</th>\n",
              "      <th>11</th>\n",
              "      <th>12</th>\n",
              "    </tr>\n",
              "  </thead>\n",
              "  <tbody>\n",
              "    <tr>\n",
              "      <th>0</th>\n",
              "      <td>7.4</td>\n",
              "      <td>0.70</td>\n",
              "      <td>0.00</td>\n",
              "      <td>1.9</td>\n",
              "      <td>0.076</td>\n",
              "      <td>11.0</td>\n",
              "      <td>34.0</td>\n",
              "      <td>0.9978</td>\n",
              "      <td>3.51</td>\n",
              "      <td>0.56</td>\n",
              "      <td>9.4</td>\n",
              "      <td>5</td>\n",
              "      <td>1</td>\n",
              "    </tr>\n",
              "    <tr>\n",
              "      <th>1</th>\n",
              "      <td>7.8</td>\n",
              "      <td>0.88</td>\n",
              "      <td>0.00</td>\n",
              "      <td>2.6</td>\n",
              "      <td>0.098</td>\n",
              "      <td>25.0</td>\n",
              "      <td>67.0</td>\n",
              "      <td>0.9968</td>\n",
              "      <td>3.20</td>\n",
              "      <td>0.68</td>\n",
              "      <td>9.8</td>\n",
              "      <td>5</td>\n",
              "      <td>1</td>\n",
              "    </tr>\n",
              "    <tr>\n",
              "      <th>2</th>\n",
              "      <td>7.8</td>\n",
              "      <td>0.76</td>\n",
              "      <td>0.04</td>\n",
              "      <td>2.3</td>\n",
              "      <td>0.092</td>\n",
              "      <td>15.0</td>\n",
              "      <td>54.0</td>\n",
              "      <td>0.9970</td>\n",
              "      <td>3.26</td>\n",
              "      <td>0.65</td>\n",
              "      <td>9.8</td>\n",
              "      <td>5</td>\n",
              "      <td>1</td>\n",
              "    </tr>\n",
              "  </tbody>\n",
              "</table>\n",
              "</div>"
            ],
            "text/plain": [
              "    0     1     2    3      4     5     6       7     8     9    10  11  12\n",
              "0  7.4  0.70  0.00  1.9  0.076  11.0  34.0  0.9978  3.51  0.56  9.4   5   1\n",
              "1  7.8  0.88  0.00  2.6  0.098  25.0  67.0  0.9968  3.20  0.68  9.8   5   1\n",
              "2  7.8  0.76  0.04  2.3  0.092  15.0  54.0  0.9970  3.26  0.65  9.8   5   1"
            ]
          },
          "metadata": {
            "tags": []
          },
          "execution_count": 4
        }
      ]
    },
    {
      "cell_type": "code",
      "metadata": {
        "colab": {
          "base_uri": "https://localhost:8080/"
        },
        "id": "AadWKgEBX2TL",
        "outputId": "80ad316a-5fa4-4943-8263-122c74e03c01"
      },
      "source": [
        "from sklearn.model_selection import train_test_split\r\n",
        "X_train, X_test, y_train, y_test = train_test_split(\r\n",
        "    df.iloc[:,:-1].values, df.iloc[:,-1].values, stratify=df.iloc[:,-1].values,\r\n",
        "    random_state=seed\r\n",
        ")\r\n",
        "X_train.shape, X_test.shape"
      ],
      "execution_count": 5,
      "outputs": [
        {
          "output_type": "execute_result",
          "data": {
            "text/plain": [
              "((4872, 12), (1625, 12))"
            ]
          },
          "metadata": {
            "tags": []
          },
          "execution_count": 5
        }
      ]
    },
    {
      "cell_type": "markdown",
      "metadata": {
        "id": "YtHVkEjqX6fc"
      },
      "source": [
        "### 모델 정의/설정"
      ]
    },
    {
      "cell_type": "code",
      "metadata": {
        "id": "JE9JB7ThX46L"
      },
      "source": [
        "from tensorflow.keras.models import Sequential\r\n",
        "from tensorflow.keras.layers import Dense"
      ],
      "execution_count": 6,
      "outputs": []
    },
    {
      "cell_type": "code",
      "metadata": {
        "colab": {
          "base_uri": "https://localhost:8080/"
        },
        "id": "LD9uTnPoX91z",
        "outputId": "ebf0fe38-d059-49d8-a689-511a5ac28f69"
      },
      "source": [
        "model = Sequential()\r\n",
        "model.add(Dense(30, input_dim=12, activation='relu'))\r\n",
        "model.add(Dense(12, activation='relu'))\r\n",
        "model.add(Dense(8, activation='relu'))\r\n",
        "model.add(Dense(1, activation='sigmoid'))\r\n",
        "model.summary()"
      ],
      "execution_count": 7,
      "outputs": [
        {
          "output_type": "stream",
          "text": [
            "Model: \"sequential\"\n",
            "_________________________________________________________________\n",
            "Layer (type)                 Output Shape              Param #   \n",
            "=================================================================\n",
            "dense (Dense)                (None, 30)                390       \n",
            "_________________________________________________________________\n",
            "dense_1 (Dense)              (None, 12)                372       \n",
            "_________________________________________________________________\n",
            "dense_2 (Dense)              (None, 8)                 104       \n",
            "_________________________________________________________________\n",
            "dense_3 (Dense)              (None, 1)                 9         \n",
            "=================================================================\n",
            "Total params: 875\n",
            "Trainable params: 875\n",
            "Non-trainable params: 0\n",
            "_________________________________________________________________\n"
          ],
          "name": "stdout"
        }
      ]
    },
    {
      "cell_type": "code",
      "metadata": {
        "id": "OsxFvgHNX_Nc"
      },
      "source": [
        "model.compile(loss='binary_crossentropy', optimizer='adam', metrics=['accuracy'])"
      ],
      "execution_count": 8,
      "outputs": []
    },
    {
      "cell_type": "markdown",
      "metadata": {
        "id": "7p1EU3CcYFnk"
      },
      "source": [
        "### 모델 저장 관련 환경 설정"
      ]
    },
    {
      "cell_type": "code",
      "metadata": {
        "id": "zGw3uZv6YBkz"
      },
      "source": [
        "import os\r\n",
        "MODEL_DIR = './model/'\r\n",
        "if not os.path.exists(MODEL_DIR):\r\n",
        "    os.mkdir(MODEL_DIR)"
      ],
      "execution_count": 9,
      "outputs": []
    },
    {
      "cell_type": "code",
      "metadata": {
        "colab": {
          "base_uri": "https://localhost:8080/"
        },
        "id": "PinjLSajYIIs",
        "outputId": "ecb7dbe5-58c0-4c6c-cd06-4a0335727083"
      },
      "source": [
        "!ls -l"
      ],
      "execution_count": 10,
      "outputs": [
        {
          "output_type": "stream",
          "text": [
            "total 364\n",
            "drwxr-xr-x 2 root root   4096 Feb 15 06:28 model\n",
            "drwxr-xr-x 1 root root   4096 Feb 10 14:40 sample_data\n",
            "-rw-r--r-- 1 root root 361279 Feb 15 06:27 wine.csv\n"
          ],
          "name": "stdout"
        }
      ]
    },
    {
      "cell_type": "code",
      "metadata": {
        "id": "k9ND4Fj-YJm0"
      },
      "source": [
        "# 모델 저장 조건 설정\r\n",
        "modelpath = MODEL_DIR + \"best{epoch:03d}-{val_loss:.4f}.hdf5\""
      ],
      "execution_count": 11,
      "outputs": []
    },
    {
      "cell_type": "code",
      "metadata": {
        "id": "ieOMLmxKYNlD"
      },
      "source": [
        "from tensorflow.keras.callbacks import ModelCheckpoint, EarlyStopping\r\n",
        "checkpointer = ModelCheckpoint(filepath=modelpath, monitor='val_loss', \r\n",
        "                               verbose=1, save_best_only=True)\r\n",
        "early_stopping = EarlyStopping(monitor='val_loss', patience=30)"
      ],
      "execution_count": 12,
      "outputs": []
    },
    {
      "cell_type": "markdown",
      "metadata": {
        "id": "sy2Vfs0pYQiS"
      },
      "source": [
        "### 모델 학습 및 저장"
      ]
    },
    {
      "cell_type": "code",
      "metadata": {
        "colab": {
          "base_uri": "https://localhost:8080/"
        },
        "id": "eybvEmcxYPjb",
        "outputId": "52474fdf-b8e2-4340-95f4-d3ac0d1e8301"
      },
      "source": [
        "history = model.fit(X_train, y_train, validation_split=0.2, epochs=500, batch_size=200,\r\n",
        "                    verbose=0, callbacks=[checkpointer, early_stopping])"
      ],
      "execution_count": 13,
      "outputs": [
        {
          "output_type": "stream",
          "text": [
            "\n",
            "Epoch 00001: val_loss improved from inf to 0.41818, saving model to ./model/best001-0.4182.hdf5\n",
            "\n",
            "Epoch 00002: val_loss improved from 0.41818 to 0.28621, saving model to ./model/best002-0.2862.hdf5\n",
            "\n",
            "Epoch 00003: val_loss improved from 0.28621 to 0.24627, saving model to ./model/best003-0.2463.hdf5\n",
            "\n",
            "Epoch 00004: val_loss improved from 0.24627 to 0.22053, saving model to ./model/best004-0.2205.hdf5\n",
            "\n",
            "Epoch 00005: val_loss improved from 0.22053 to 0.20001, saving model to ./model/best005-0.2000.hdf5\n",
            "\n",
            "Epoch 00006: val_loss improved from 0.20001 to 0.19214, saving model to ./model/best006-0.1921.hdf5\n",
            "\n",
            "Epoch 00007: val_loss improved from 0.19214 to 0.18489, saving model to ./model/best007-0.1849.hdf5\n",
            "\n",
            "Epoch 00008: val_loss improved from 0.18489 to 0.18361, saving model to ./model/best008-0.1836.hdf5\n",
            "\n",
            "Epoch 00009: val_loss improved from 0.18361 to 0.17668, saving model to ./model/best009-0.1767.hdf5\n",
            "\n",
            "Epoch 00010: val_loss improved from 0.17668 to 0.17545, saving model to ./model/best010-0.1754.hdf5\n",
            "\n",
            "Epoch 00011: val_loss improved from 0.17545 to 0.17383, saving model to ./model/best011-0.1738.hdf5\n",
            "\n",
            "Epoch 00012: val_loss improved from 0.17383 to 0.16680, saving model to ./model/best012-0.1668.hdf5\n",
            "\n",
            "Epoch 00013: val_loss improved from 0.16680 to 0.16277, saving model to ./model/best013-0.1628.hdf5\n",
            "\n",
            "Epoch 00014: val_loss improved from 0.16277 to 0.16235, saving model to ./model/best014-0.1623.hdf5\n",
            "\n",
            "Epoch 00015: val_loss improved from 0.16235 to 0.15742, saving model to ./model/best015-0.1574.hdf5\n",
            "\n",
            "Epoch 00016: val_loss improved from 0.15742 to 0.15732, saving model to ./model/best016-0.1573.hdf5\n",
            "\n",
            "Epoch 00017: val_loss improved from 0.15732 to 0.15507, saving model to ./model/best017-0.1551.hdf5\n",
            "\n",
            "Epoch 00018: val_loss improved from 0.15507 to 0.15064, saving model to ./model/best018-0.1506.hdf5\n",
            "\n",
            "Epoch 00019: val_loss improved from 0.15064 to 0.14919, saving model to ./model/best019-0.1492.hdf5\n",
            "\n",
            "Epoch 00020: val_loss improved from 0.14919 to 0.14704, saving model to ./model/best020-0.1470.hdf5\n",
            "\n",
            "Epoch 00021: val_loss improved from 0.14704 to 0.14661, saving model to ./model/best021-0.1466.hdf5\n",
            "\n",
            "Epoch 00022: val_loss did not improve from 0.14661\n",
            "\n",
            "Epoch 00023: val_loss improved from 0.14661 to 0.13873, saving model to ./model/best023-0.1387.hdf5\n",
            "\n",
            "Epoch 00024: val_loss improved from 0.13873 to 0.13742, saving model to ./model/best024-0.1374.hdf5\n",
            "\n",
            "Epoch 00025: val_loss improved from 0.13742 to 0.13371, saving model to ./model/best025-0.1337.hdf5\n",
            "\n",
            "Epoch 00026: val_loss improved from 0.13371 to 0.12834, saving model to ./model/best026-0.1283.hdf5\n",
            "\n",
            "Epoch 00027: val_loss improved from 0.12834 to 0.12400, saving model to ./model/best027-0.1240.hdf5\n",
            "\n",
            "Epoch 00028: val_loss did not improve from 0.12400\n",
            "\n",
            "Epoch 00029: val_loss did not improve from 0.12400\n",
            "\n",
            "Epoch 00030: val_loss did not improve from 0.12400\n",
            "\n",
            "Epoch 00031: val_loss improved from 0.12400 to 0.11310, saving model to ./model/best031-0.1131.hdf5\n",
            "\n",
            "Epoch 00032: val_loss improved from 0.11310 to 0.10924, saving model to ./model/best032-0.1092.hdf5\n",
            "\n",
            "Epoch 00033: val_loss improved from 0.10924 to 0.10747, saving model to ./model/best033-0.1075.hdf5\n",
            "\n",
            "Epoch 00034: val_loss improved from 0.10747 to 0.10442, saving model to ./model/best034-0.1044.hdf5\n",
            "\n",
            "Epoch 00035: val_loss did not improve from 0.10442\n",
            "\n",
            "Epoch 00036: val_loss did not improve from 0.10442\n",
            "\n",
            "Epoch 00037: val_loss improved from 0.10442 to 0.10302, saving model to ./model/best037-0.1030.hdf5\n",
            "\n",
            "Epoch 00038: val_loss did not improve from 0.10302\n",
            "\n",
            "Epoch 00039: val_loss did not improve from 0.10302\n",
            "\n",
            "Epoch 00040: val_loss improved from 0.10302 to 0.10176, saving model to ./model/best040-0.1018.hdf5\n",
            "\n",
            "Epoch 00041: val_loss improved from 0.10176 to 0.09672, saving model to ./model/best041-0.0967.hdf5\n",
            "\n",
            "Epoch 00042: val_loss did not improve from 0.09672\n",
            "\n",
            "Epoch 00043: val_loss did not improve from 0.09672\n",
            "\n",
            "Epoch 00044: val_loss improved from 0.09672 to 0.09491, saving model to ./model/best044-0.0949.hdf5\n",
            "\n",
            "Epoch 00045: val_loss did not improve from 0.09491\n",
            "\n",
            "Epoch 00046: val_loss improved from 0.09491 to 0.09220, saving model to ./model/best046-0.0922.hdf5\n",
            "\n",
            "Epoch 00047: val_loss did not improve from 0.09220\n",
            "\n",
            "Epoch 00048: val_loss improved from 0.09220 to 0.09141, saving model to ./model/best048-0.0914.hdf5\n",
            "\n",
            "Epoch 00049: val_loss improved from 0.09141 to 0.08991, saving model to ./model/best049-0.0899.hdf5\n",
            "\n",
            "Epoch 00050: val_loss did not improve from 0.08991\n",
            "\n",
            "Epoch 00051: val_loss did not improve from 0.08991\n",
            "\n",
            "Epoch 00052: val_loss improved from 0.08991 to 0.08597, saving model to ./model/best052-0.0860.hdf5\n",
            "\n",
            "Epoch 00053: val_loss improved from 0.08597 to 0.08511, saving model to ./model/best053-0.0851.hdf5\n",
            "\n",
            "Epoch 00054: val_loss did not improve from 0.08511\n",
            "\n",
            "Epoch 00055: val_loss did not improve from 0.08511\n",
            "\n",
            "Epoch 00056: val_loss improved from 0.08511 to 0.08443, saving model to ./model/best056-0.0844.hdf5\n",
            "\n",
            "Epoch 00057: val_loss did not improve from 0.08443\n",
            "\n",
            "Epoch 00058: val_loss improved from 0.08443 to 0.08160, saving model to ./model/best058-0.0816.hdf5\n",
            "\n",
            "Epoch 00059: val_loss improved from 0.08160 to 0.07974, saving model to ./model/best059-0.0797.hdf5\n",
            "\n",
            "Epoch 00060: val_loss did not improve from 0.07974\n",
            "\n",
            "Epoch 00061: val_loss did not improve from 0.07974\n",
            "\n",
            "Epoch 00062: val_loss improved from 0.07974 to 0.07747, saving model to ./model/best062-0.0775.hdf5\n",
            "\n",
            "Epoch 00063: val_loss did not improve from 0.07747\n",
            "\n",
            "Epoch 00064: val_loss did not improve from 0.07747\n",
            "\n",
            "Epoch 00065: val_loss improved from 0.07747 to 0.07625, saving model to ./model/best065-0.0762.hdf5\n",
            "\n",
            "Epoch 00066: val_loss did not improve from 0.07625\n",
            "\n",
            "Epoch 00067: val_loss did not improve from 0.07625\n",
            "\n",
            "Epoch 00068: val_loss did not improve from 0.07625\n",
            "\n",
            "Epoch 00069: val_loss improved from 0.07625 to 0.07377, saving model to ./model/best069-0.0738.hdf5\n",
            "\n",
            "Epoch 00070: val_loss did not improve from 0.07377\n",
            "\n",
            "Epoch 00071: val_loss did not improve from 0.07377\n",
            "\n",
            "Epoch 00072: val_loss improved from 0.07377 to 0.07217, saving model to ./model/best072-0.0722.hdf5\n",
            "\n",
            "Epoch 00073: val_loss did not improve from 0.07217\n",
            "\n",
            "Epoch 00074: val_loss improved from 0.07217 to 0.07016, saving model to ./model/best074-0.0702.hdf5\n",
            "\n",
            "Epoch 00075: val_loss did not improve from 0.07016\n",
            "\n",
            "Epoch 00076: val_loss improved from 0.07016 to 0.06829, saving model to ./model/best076-0.0683.hdf5\n",
            "\n",
            "Epoch 00077: val_loss did not improve from 0.06829\n",
            "\n",
            "Epoch 00078: val_loss did not improve from 0.06829\n",
            "\n",
            "Epoch 00079: val_loss did not improve from 0.06829\n",
            "\n",
            "Epoch 00080: val_loss did not improve from 0.06829\n",
            "\n",
            "Epoch 00081: val_loss improved from 0.06829 to 0.06732, saving model to ./model/best081-0.0673.hdf5\n",
            "\n",
            "Epoch 00082: val_loss did not improve from 0.06732\n",
            "\n",
            "Epoch 00083: val_loss improved from 0.06732 to 0.06607, saving model to ./model/best083-0.0661.hdf5\n",
            "\n",
            "Epoch 00084: val_loss did not improve from 0.06607\n",
            "\n",
            "Epoch 00085: val_loss improved from 0.06607 to 0.06559, saving model to ./model/best085-0.0656.hdf5\n",
            "\n",
            "Epoch 00086: val_loss did not improve from 0.06559\n",
            "\n",
            "Epoch 00087: val_loss did not improve from 0.06559\n",
            "\n",
            "Epoch 00088: val_loss did not improve from 0.06559\n",
            "\n",
            "Epoch 00089: val_loss improved from 0.06559 to 0.06370, saving model to ./model/best089-0.0637.hdf5\n",
            "\n",
            "Epoch 00090: val_loss did not improve from 0.06370\n",
            "\n",
            "Epoch 00091: val_loss did not improve from 0.06370\n",
            "\n",
            "Epoch 00092: val_loss did not improve from 0.06370\n",
            "\n",
            "Epoch 00093: val_loss did not improve from 0.06370\n",
            "\n",
            "Epoch 00094: val_loss did not improve from 0.06370\n",
            "\n",
            "Epoch 00095: val_loss improved from 0.06370 to 0.06338, saving model to ./model/best095-0.0634.hdf5\n",
            "\n",
            "Epoch 00096: val_loss did not improve from 0.06338\n",
            "\n",
            "Epoch 00097: val_loss did not improve from 0.06338\n",
            "\n",
            "Epoch 00098: val_loss improved from 0.06338 to 0.06181, saving model to ./model/best098-0.0618.hdf5\n",
            "\n",
            "Epoch 00099: val_loss did not improve from 0.06181\n",
            "\n",
            "Epoch 00100: val_loss did not improve from 0.06181\n",
            "\n",
            "Epoch 00101: val_loss improved from 0.06181 to 0.06146, saving model to ./model/best101-0.0615.hdf5\n",
            "\n",
            "Epoch 00102: val_loss did not improve from 0.06146\n",
            "\n",
            "Epoch 00103: val_loss did not improve from 0.06146\n",
            "\n",
            "Epoch 00104: val_loss did not improve from 0.06146\n",
            "\n",
            "Epoch 00105: val_loss improved from 0.06146 to 0.06104, saving model to ./model/best105-0.0610.hdf5\n",
            "\n",
            "Epoch 00106: val_loss did not improve from 0.06104\n",
            "\n",
            "Epoch 00107: val_loss did not improve from 0.06104\n",
            "\n",
            "Epoch 00108: val_loss did not improve from 0.06104\n",
            "\n",
            "Epoch 00109: val_loss improved from 0.06104 to 0.06080, saving model to ./model/best109-0.0608.hdf5\n",
            "\n",
            "Epoch 00110: val_loss improved from 0.06080 to 0.05944, saving model to ./model/best110-0.0594.hdf5\n",
            "\n",
            "Epoch 00111: val_loss did not improve from 0.05944\n",
            "\n",
            "Epoch 00112: val_loss did not improve from 0.05944\n",
            "\n",
            "Epoch 00113: val_loss did not improve from 0.05944\n",
            "\n",
            "Epoch 00114: val_loss improved from 0.05944 to 0.05906, saving model to ./model/best114-0.0591.hdf5\n",
            "\n",
            "Epoch 00115: val_loss did not improve from 0.05906\n",
            "\n",
            "Epoch 00116: val_loss did not improve from 0.05906\n",
            "\n",
            "Epoch 00117: val_loss did not improve from 0.05906\n",
            "\n",
            "Epoch 00118: val_loss did not improve from 0.05906\n",
            "\n",
            "Epoch 00119: val_loss improved from 0.05906 to 0.05862, saving model to ./model/best119-0.0586.hdf5\n",
            "\n",
            "Epoch 00120: val_loss did not improve from 0.05862\n",
            "\n",
            "Epoch 00121: val_loss did not improve from 0.05862\n",
            "\n",
            "Epoch 00122: val_loss improved from 0.05862 to 0.05799, saving model to ./model/best122-0.0580.hdf5\n",
            "\n",
            "Epoch 00123: val_loss did not improve from 0.05799\n",
            "\n",
            "Epoch 00124: val_loss improved from 0.05799 to 0.05740, saving model to ./model/best124-0.0574.hdf5\n",
            "\n",
            "Epoch 00125: val_loss did not improve from 0.05740\n",
            "\n",
            "Epoch 00126: val_loss did not improve from 0.05740\n",
            "\n",
            "Epoch 00127: val_loss did not improve from 0.05740\n",
            "\n",
            "Epoch 00128: val_loss did not improve from 0.05740\n",
            "\n",
            "Epoch 00129: val_loss did not improve from 0.05740\n",
            "\n",
            "Epoch 00130: val_loss did not improve from 0.05740\n",
            "\n",
            "Epoch 00131: val_loss improved from 0.05740 to 0.05712, saving model to ./model/best131-0.0571.hdf5\n",
            "\n",
            "Epoch 00132: val_loss did not improve from 0.05712\n",
            "\n",
            "Epoch 00133: val_loss did not improve from 0.05712\n",
            "\n",
            "Epoch 00134: val_loss improved from 0.05712 to 0.05638, saving model to ./model/best134-0.0564.hdf5\n",
            "\n",
            "Epoch 00135: val_loss improved from 0.05638 to 0.05636, saving model to ./model/best135-0.0564.hdf5\n",
            "\n",
            "Epoch 00136: val_loss did not improve from 0.05636\n",
            "\n",
            "Epoch 00137: val_loss did not improve from 0.05636\n",
            "\n",
            "Epoch 00138: val_loss did not improve from 0.05636\n",
            "\n",
            "Epoch 00139: val_loss improved from 0.05636 to 0.05575, saving model to ./model/best139-0.0558.hdf5\n",
            "\n",
            "Epoch 00140: val_loss did not improve from 0.05575\n",
            "\n",
            "Epoch 00141: val_loss did not improve from 0.05575\n",
            "\n",
            "Epoch 00142: val_loss did not improve from 0.05575\n",
            "\n",
            "Epoch 00143: val_loss did not improve from 0.05575\n",
            "\n",
            "Epoch 00144: val_loss did not improve from 0.05575\n",
            "\n",
            "Epoch 00145: val_loss did not improve from 0.05575\n",
            "\n",
            "Epoch 00146: val_loss did not improve from 0.05575\n",
            "\n",
            "Epoch 00147: val_loss did not improve from 0.05575\n",
            "\n",
            "Epoch 00148: val_loss did not improve from 0.05575\n",
            "\n",
            "Epoch 00149: val_loss did not improve from 0.05575\n",
            "\n",
            "Epoch 00150: val_loss did not improve from 0.05575\n",
            "\n",
            "Epoch 00151: val_loss did not improve from 0.05575\n",
            "\n",
            "Epoch 00152: val_loss did not improve from 0.05575\n",
            "\n",
            "Epoch 00153: val_loss did not improve from 0.05575\n",
            "\n",
            "Epoch 00154: val_loss did not improve from 0.05575\n",
            "\n",
            "Epoch 00155: val_loss did not improve from 0.05575\n",
            "\n",
            "Epoch 00156: val_loss did not improve from 0.05575\n",
            "\n",
            "Epoch 00157: val_loss did not improve from 0.05575\n",
            "\n",
            "Epoch 00158: val_loss did not improve from 0.05575\n",
            "\n",
            "Epoch 00159: val_loss did not improve from 0.05575\n",
            "\n",
            "Epoch 00160: val_loss did not improve from 0.05575\n",
            "\n",
            "Epoch 00161: val_loss did not improve from 0.05575\n",
            "\n",
            "Epoch 00162: val_loss did not improve from 0.05575\n",
            "\n",
            "Epoch 00163: val_loss did not improve from 0.05575\n",
            "\n",
            "Epoch 00164: val_loss did not improve from 0.05575\n",
            "\n",
            "Epoch 00165: val_loss did not improve from 0.05575\n",
            "\n",
            "Epoch 00166: val_loss improved from 0.05575 to 0.05466, saving model to ./model/best166-0.0547.hdf5\n",
            "\n",
            "Epoch 00167: val_loss did not improve from 0.05466\n",
            "\n",
            "Epoch 00168: val_loss did not improve from 0.05466\n",
            "\n",
            "Epoch 00169: val_loss did not improve from 0.05466\n",
            "\n",
            "Epoch 00170: val_loss did not improve from 0.05466\n",
            "\n",
            "Epoch 00171: val_loss did not improve from 0.05466\n",
            "\n",
            "Epoch 00172: val_loss did not improve from 0.05466\n",
            "\n",
            "Epoch 00173: val_loss did not improve from 0.05466\n",
            "\n",
            "Epoch 00174: val_loss did not improve from 0.05466\n",
            "\n",
            "Epoch 00175: val_loss did not improve from 0.05466\n",
            "\n",
            "Epoch 00176: val_loss did not improve from 0.05466\n",
            "\n",
            "Epoch 00177: val_loss did not improve from 0.05466\n",
            "\n",
            "Epoch 00178: val_loss did not improve from 0.05466\n",
            "\n",
            "Epoch 00179: val_loss did not improve from 0.05466\n",
            "\n",
            "Epoch 00180: val_loss did not improve from 0.05466\n",
            "\n",
            "Epoch 00181: val_loss improved from 0.05466 to 0.05372, saving model to ./model/best181-0.0537.hdf5\n",
            "\n",
            "Epoch 00182: val_loss did not improve from 0.05372\n",
            "\n",
            "Epoch 00183: val_loss did not improve from 0.05372\n",
            "\n",
            "Epoch 00184: val_loss did not improve from 0.05372\n",
            "\n",
            "Epoch 00185: val_loss did not improve from 0.05372\n",
            "\n",
            "Epoch 00186: val_loss did not improve from 0.05372\n",
            "\n",
            "Epoch 00187: val_loss did not improve from 0.05372\n",
            "\n",
            "Epoch 00188: val_loss did not improve from 0.05372\n",
            "\n",
            "Epoch 00189: val_loss did not improve from 0.05372\n",
            "\n",
            "Epoch 00190: val_loss did not improve from 0.05372\n",
            "\n",
            "Epoch 00191: val_loss did not improve from 0.05372\n",
            "\n",
            "Epoch 00192: val_loss did not improve from 0.05372\n",
            "\n",
            "Epoch 00193: val_loss did not improve from 0.05372\n",
            "\n",
            "Epoch 00194: val_loss did not improve from 0.05372\n",
            "\n",
            "Epoch 00195: val_loss did not improve from 0.05372\n",
            "\n",
            "Epoch 00196: val_loss improved from 0.05372 to 0.05357, saving model to ./model/best196-0.0536.hdf5\n",
            "\n",
            "Epoch 00197: val_loss did not improve from 0.05357\n",
            "\n",
            "Epoch 00198: val_loss did not improve from 0.05357\n",
            "\n",
            "Epoch 00199: val_loss improved from 0.05357 to 0.05340, saving model to ./model/best199-0.0534.hdf5\n",
            "\n",
            "Epoch 00200: val_loss did not improve from 0.05340\n",
            "\n",
            "Epoch 00201: val_loss did not improve from 0.05340\n",
            "\n",
            "Epoch 00202: val_loss did not improve from 0.05340\n",
            "\n",
            "Epoch 00203: val_loss did not improve from 0.05340\n",
            "\n",
            "Epoch 00204: val_loss did not improve from 0.05340\n",
            "\n",
            "Epoch 00205: val_loss did not improve from 0.05340\n",
            "\n",
            "Epoch 00206: val_loss did not improve from 0.05340\n",
            "\n",
            "Epoch 00207: val_loss did not improve from 0.05340\n",
            "\n",
            "Epoch 00208: val_loss did not improve from 0.05340\n",
            "\n",
            "Epoch 00209: val_loss did not improve from 0.05340\n",
            "\n",
            "Epoch 00210: val_loss did not improve from 0.05340\n",
            "\n",
            "Epoch 00211: val_loss did not improve from 0.05340\n",
            "\n",
            "Epoch 00212: val_loss did not improve from 0.05340\n",
            "\n",
            "Epoch 00213: val_loss improved from 0.05340 to 0.05322, saving model to ./model/best213-0.0532.hdf5\n",
            "\n",
            "Epoch 00214: val_loss did not improve from 0.05322\n",
            "\n",
            "Epoch 00215: val_loss did not improve from 0.05322\n",
            "\n",
            "Epoch 00216: val_loss did not improve from 0.05322\n",
            "\n",
            "Epoch 00217: val_loss did not improve from 0.05322\n",
            "\n",
            "Epoch 00218: val_loss did not improve from 0.05322\n",
            "\n",
            "Epoch 00219: val_loss did not improve from 0.05322\n",
            "\n",
            "Epoch 00220: val_loss did not improve from 0.05322\n",
            "\n",
            "Epoch 00221: val_loss did not improve from 0.05322\n",
            "\n",
            "Epoch 00222: val_loss improved from 0.05322 to 0.05277, saving model to ./model/best222-0.0528.hdf5\n",
            "\n",
            "Epoch 00223: val_loss did not improve from 0.05277\n",
            "\n",
            "Epoch 00224: val_loss did not improve from 0.05277\n",
            "\n",
            "Epoch 00225: val_loss did not improve from 0.05277\n",
            "\n",
            "Epoch 00226: val_loss did not improve from 0.05277\n",
            "\n",
            "Epoch 00227: val_loss did not improve from 0.05277\n",
            "\n",
            "Epoch 00228: val_loss did not improve from 0.05277\n",
            "\n",
            "Epoch 00229: val_loss did not improve from 0.05277\n",
            "\n",
            "Epoch 00230: val_loss did not improve from 0.05277\n",
            "\n",
            "Epoch 00231: val_loss did not improve from 0.05277\n",
            "\n",
            "Epoch 00232: val_loss did not improve from 0.05277\n",
            "\n",
            "Epoch 00233: val_loss did not improve from 0.05277\n",
            "\n",
            "Epoch 00234: val_loss did not improve from 0.05277\n",
            "\n",
            "Epoch 00235: val_loss did not improve from 0.05277\n",
            "\n",
            "Epoch 00236: val_loss did not improve from 0.05277\n",
            "\n",
            "Epoch 00237: val_loss did not improve from 0.05277\n",
            "\n",
            "Epoch 00238: val_loss did not improve from 0.05277\n",
            "\n",
            "Epoch 00239: val_loss did not improve from 0.05277\n",
            "\n",
            "Epoch 00240: val_loss did not improve from 0.05277\n",
            "\n",
            "Epoch 00241: val_loss did not improve from 0.05277\n",
            "\n",
            "Epoch 00242: val_loss did not improve from 0.05277\n",
            "\n",
            "Epoch 00243: val_loss did not improve from 0.05277\n",
            "\n",
            "Epoch 00244: val_loss did not improve from 0.05277\n",
            "\n",
            "Epoch 00245: val_loss did not improve from 0.05277\n",
            "\n",
            "Epoch 00246: val_loss did not improve from 0.05277\n",
            "\n",
            "Epoch 00247: val_loss did not improve from 0.05277\n",
            "\n",
            "Epoch 00248: val_loss did not improve from 0.05277\n",
            "\n",
            "Epoch 00249: val_loss did not improve from 0.05277\n",
            "\n",
            "Epoch 00250: val_loss did not improve from 0.05277\n",
            "\n",
            "Epoch 00251: val_loss did not improve from 0.05277\n",
            "\n",
            "Epoch 00252: val_loss did not improve from 0.05277\n"
          ],
          "name": "stdout"
        }
      ]
    },
    {
      "cell_type": "markdown",
      "metadata": {
        "id": "8-FdHsk6Yjix"
      },
      "source": [
        "### 잘못된 평가"
      ]
    },
    {
      "cell_type": "code",
      "metadata": {
        "colab": {
          "base_uri": "https://localhost:8080/"
        },
        "id": "1OZGkfI3YWV8",
        "outputId": "b2e0b593-2b70-4d21-d98f-5cf0ab6587cc"
      },
      "source": [
        "acc = model.evaluate(X_test, y_test)\r\n",
        "print(f'Accuracy: {acc[1]:.4f}')"
      ],
      "execution_count": 14,
      "outputs": [
        {
          "output_type": "stream",
          "text": [
            "51/51 [==============================] - 0s 2ms/step - loss: 0.0721 - accuracy: 0.9815\n",
            "Accuracy: 0.9815\n"
          ],
          "name": "stdout"
        }
      ]
    },
    {
      "cell_type": "markdown",
      "metadata": {
        "id": "HSypMTALYpnr"
      },
      "source": [
        "### 베스트 모델로 평가"
      ]
    },
    {
      "cell_type": "code",
      "metadata": {
        "colab": {
          "base_uri": "https://localhost:8080/"
        },
        "id": "ygsNTQMtYoQk",
        "outputId": "9b609958-1d3e-4e11-874b-86a45fbb601c"
      },
      "source": [
        "from tensorflow.keras.models import load_model\r\n",
        "\r\n",
        "best_model = load_model('./model/best222-0.0528.hdf5')\r\n",
        "acc = best_model.evaluate(X_test, y_test)\r\n",
        "print(f'Accuracy: {acc[1]:.4f}')"
      ],
      "execution_count": 15,
      "outputs": [
        {
          "output_type": "stream",
          "text": [
            "51/51 [==============================] - 0s 2ms/step - loss: 0.0734 - accuracy: 0.9772\n",
            "Accuracy: 0.9772\n"
          ],
          "name": "stdout"
        }
      ]
    },
    {
      "cell_type": "markdown",
      "metadata": {
        "id": "yZ7qO_IkY2Xo"
      },
      "source": [
        "### 시각화"
      ]
    },
    {
      "cell_type": "code",
      "metadata": {
        "id": "XZEDOEScYxg7"
      },
      "source": [
        "import matplotlib.pyplot as plt\r\n",
        "%matplotlib inline"
      ],
      "execution_count": 16,
      "outputs": []
    },
    {
      "cell_type": "code",
      "metadata": {
        "colab": {
          "base_uri": "https://localhost:8080/"
        },
        "id": "aepTrWGuZCu0",
        "outputId": "d87c1adc-b090-4d95-e508-2febbd5b5628"
      },
      "source": [
        "type(history.history)"
      ],
      "execution_count": 17,
      "outputs": [
        {
          "output_type": "execute_result",
          "data": {
            "text/plain": [
              "dict"
            ]
          },
          "metadata": {
            "tags": []
          },
          "execution_count": 17
        }
      ]
    },
    {
      "cell_type": "code",
      "metadata": {
        "id": "uWnR3LseZEJE"
      },
      "source": [
        "y_vloss=history.history['val_loss']\r\n",
        "y_acc=history.history['accuracy']\r\n",
        "y_vacc=history.history['val_accuracy']\r\n",
        "y_loss=history.history['loss']"
      ],
      "execution_count": 18,
      "outputs": []
    },
    {
      "cell_type": "code",
      "metadata": {
        "id": "8145ANr3ZFmz",
        "outputId": "f8069589-55c3-4354-e22c-82d58461e33b",
        "colab": {
          "base_uri": "https://localhost:8080/",
          "height": 483
        }
      },
      "source": [
        "x_len = np.arange(len(y_acc))\r\n",
        "plt.figure(figsize=(12,8))\r\n",
        "plt.plot(x_len, y_loss, \"o\", c=\"red\", markersize=2, label='loss')\r\n",
        "plt.plot(x_len, y_vacc, \"o\", c=\"blue\", markersize=2, label='val_accuracy')\r\n",
        "plt.plot(x_len, y_vloss, \"o\", c=\"orange\", markersize=2, label='val_loss')\r\n",
        "plt.plot(x_len, y_acc, \"o\", c=\"green\", markersize=2, label='accuracy')\r\n",
        "plt.grid()\r\n",
        "plt.legend()\r\n",
        "plt.show()"
      ],
      "execution_count": 19,
      "outputs": [
        {
          "output_type": "display_data",
          "data": {
            "image/png": "[encoded data removed]",
            "text/plain": [
              "<Figure size 864x576 with 1 Axes>"
            ]
          },
          "metadata": {
            "tags": [],
            "needs_background": "light"
          }
        }
      ]
    },
    {
      "cell_type": "code",
      "metadata": {
        "id": "VG-4x-5NZHUU"
      },
      "source": [
        ""
      ],
      "execution_count": null,
      "outputs": []
    }
  ]
}