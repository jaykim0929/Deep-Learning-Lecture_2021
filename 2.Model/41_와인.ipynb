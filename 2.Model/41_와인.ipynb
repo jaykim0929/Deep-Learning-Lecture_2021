{
  "nbformat": 4,
  "nbformat_minor": 0,
  "metadata": {
    "colab": {
      "name": "41_와인.ipynb",
      "provenance": [],
      "collapsed_sections": []
    },
    "kernelspec": {
      "name": "python3",
      "display_name": "Python 3"
    }
  },
  "cells": [
    {
      "cell_type": "code",
      "metadata": {
        "id": "iqIgDOIgRe4J"
      },
      "source": [
        "import numpy as np\r\n",
        "import tensorflow as tf"
      ],
      "execution_count": 20,
      "outputs": []
    },
    {
      "cell_type": "code",
      "metadata": {
        "id": "zQPBKh-lr34y"
      },
      "source": [
        "seed = 2021\r\n",
        "np.random.seed(seed)\r\n",
        "tf.random.set_seed(seed)"
      ],
      "execution_count": 21,
      "outputs": []
    },
    {
      "cell_type": "code",
      "metadata": {
        "colab": {
          "resources": {
            "http://localhost:8080/nbextensions/google.colab/files.js": {
              "data": "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",
              "ok": true,
              "headers": [
                [
                  "content-type",
                  "application/javascript"
                ]
              ],
              "status": 200,
              "status_text": ""
            }
          },
          "base_uri": "https://localhost:8080/",
          "height": 76
        },
        "id": "yChTPc3EaDDp",
        "outputId": "4745d696-a10b-4906-bb9e-8dd8d9fc56a7"
      },
      "source": [
        "import pandas as pd\r\n",
        "from google.colab import files\r\n",
        "uploaded = files.upload()\r\n",
        "filename = list(uploaded.keys())[0]"
      ],
      "execution_count": 22,
      "outputs": [
        {
          "output_type": "display_data",
          "data": {
            "text/html": [
              "\n",
              "     <input type=\"file\" id=\"files-44005a5e-eedc-4eaf-af7b-067a55389259\" name=\"files[]\" multiple disabled\n",
              "        style=\"border:none\" />\n",
              "     <output id=\"result-44005a5e-eedc-4eaf-af7b-067a55389259\">\n",
              "      Upload widget is only available when the cell has been executed in the\n",
              "      current browser session. Please rerun this cell to enable.\n",
              "      </output>\n",
              "      <script src=\"/nbextensions/google.colab/files.js\"></script> "
            ],
            "text/plain": [
              "<IPython.core.display.HTML object>"
            ]
          },
          "metadata": {
            "tags": []
          }
        },
        {
          "output_type": "stream",
          "text": [
            "Saving wine.csv to wine (1).csv\n"
          ],
          "name": "stdout"
        }
      ]
    },
    {
      "cell_type": "code",
      "metadata": {
        "colab": {
          "base_uri": "https://localhost:8080/",
          "height": 142
        },
        "id": "BAq5rQvTaDP_",
        "outputId": "8e982086-b17b-439f-e083-801052f5cc1e"
      },
      "source": [
        "df.head(3)"
      ],
      "execution_count": 23,
      "outputs": [
        {
          "output_type": "execute_result",
          "data": {
            "text/html": [
              "<div>\n",
              "<style scoped>\n",
              "    .dataframe tbody tr th:only-of-type {\n",
              "        vertical-align: middle;\n",
              "    }\n",
              "\n",
              "    .dataframe tbody tr th {\n",
              "        vertical-align: top;\n",
              "    }\n",
              "\n",
              "    .dataframe thead th {\n",
              "        text-align: right;\n",
              "    }\n",
              "</style>\n",
              "<table border=\"1\" class=\"dataframe\">\n",
              "  <thead>\n",
              "    <tr style=\"text-align: right;\">\n",
              "      <th></th>\n",
              "      <th>0</th>\n",
              "      <th>1</th>\n",
              "      <th>2</th>\n",
              "      <th>3</th>\n",
              "      <th>4</th>\n",
              "      <th>5</th>\n",
              "      <th>6</th>\n",
              "      <th>7</th>\n",
              "      <th>8</th>\n",
              "      <th>9</th>\n",
              "      <th>10</th>\n",
              "      <th>11</th>\n",
              "      <th>12</th>\n",
              "    </tr>\n",
              "  </thead>\n",
              "  <tbody>\n",
              "    <tr>\n",
              "      <th>0</th>\n",
              "      <td>7.4</td>\n",
              "      <td>0.70</td>\n",
              "      <td>0.00</td>\n",
              "      <td>1.9</td>\n",
              "      <td>0.076</td>\n",
              "      <td>11.0</td>\n",
              "      <td>34.0</td>\n",
              "      <td>0.9978</td>\n",
              "      <td>3.51</td>\n",
              "      <td>0.56</td>\n",
              "      <td>9.4</td>\n",
              "      <td>5</td>\n",
              "      <td>1</td>\n",
              "    </tr>\n",
              "    <tr>\n",
              "      <th>1</th>\n",
              "      <td>7.8</td>\n",
              "      <td>0.88</td>\n",
              "      <td>0.00</td>\n",
              "      <td>2.6</td>\n",
              "      <td>0.098</td>\n",
              "      <td>25.0</td>\n",
              "      <td>67.0</td>\n",
              "      <td>0.9968</td>\n",
              "      <td>3.20</td>\n",
              "      <td>0.68</td>\n",
              "      <td>9.8</td>\n",
              "      <td>5</td>\n",
              "      <td>1</td>\n",
              "    </tr>\n",
              "    <tr>\n",
              "      <th>2</th>\n",
              "      <td>7.8</td>\n",
              "      <td>0.76</td>\n",
              "      <td>0.04</td>\n",
              "      <td>2.3</td>\n",
              "      <td>0.092</td>\n",
              "      <td>15.0</td>\n",
              "      <td>54.0</td>\n",
              "      <td>0.9970</td>\n",
              "      <td>3.26</td>\n",
              "      <td>0.65</td>\n",
              "      <td>9.8</td>\n",
              "      <td>5</td>\n",
              "      <td>1</td>\n",
              "    </tr>\n",
              "  </tbody>\n",
              "</table>\n",
              "</div>"
            ],
            "text/plain": [
              "    0     1     2    3      4     5     6       7     8     9    10  11  12\n",
              "0  7.4  0.70  0.00  1.9  0.076  11.0  34.0  0.9978  3.51  0.56  9.4   5   1\n",
              "1  7.8  0.88  0.00  2.6  0.098  25.0  67.0  0.9968  3.20  0.68  9.8   5   1\n",
              "2  7.8  0.76  0.04  2.3  0.092  15.0  54.0  0.9970  3.26  0.65  9.8   5   1"
            ]
          },
          "metadata": {
            "tags": []
          },
          "execution_count": 23
        }
      ]
    },
    {
      "cell_type": "code",
      "metadata": {
        "colab": {
          "base_uri": "https://localhost:8080/"
        },
        "id": "lIt88QWCaDSx",
        "outputId": "d4835c00-73d9-4ea0-cbe2-5bf076a3bfcf"
      },
      "source": [
        "from sklearn.model_selection import train_test_split\r\n",
        "X_train, X_test, y_train, y_test = train_test_split(\r\n",
        "    df.iloc[:, :-1].values, df.iloc[:, -1], stratify=df.iloc[:, -1].values, random_state=seed\r\n",
        ")\r\n",
        "X_train.shape, X_test.shape"
      ],
      "execution_count": 24,
      "outputs": [
        {
          "output_type": "execute_result",
          "data": {
            "text/plain": [
              "((4872, 12), (1625, 12))"
            ]
          },
          "metadata": {
            "tags": []
          },
          "execution_count": 24
        }
      ]
    },
    {
      "cell_type": "markdown",
      "metadata": {
        "id": "3uyyELEcbFWr"
      },
      "source": [
        "### 모델 정의/설정"
      ]
    },
    {
      "cell_type": "code",
      "metadata": {
        "id": "ConF4yTQaDVS"
      },
      "source": [
        "from tensorflow.keras.models import Sequential\r\n",
        "from tensorflow.keras.layers import Dense"
      ],
      "execution_count": 25,
      "outputs": []
    },
    {
      "cell_type": "code",
      "metadata": {
        "colab": {
          "base_uri": "https://localhost:8080/"
        },
        "id": "GLpQSF-FaDXx",
        "outputId": "63181f78-a17d-4cfc-bfc0-0c8ca3a06d12"
      },
      "source": [
        "model = Sequential()\r\n",
        "model.add(Dense(30, input_dim=12, activation='relu'))\r\n",
        "model.add(Dense(12, activation='relu'))\r\n",
        "model.add(Dense(8, activation='relu'))\r\n",
        "model.add(Dense(1, activation='sigmoid'))\r\n",
        "model.summary()"
      ],
      "execution_count": 26,
      "outputs": [
        {
          "output_type": "stream",
          "text": [
            "Model: \"sequential_3\"\n",
            "_________________________________________________________________\n",
            "Layer (type)                 Output Shape              Param #   \n",
            "=================================================================\n",
            "dense_12 (Dense)             (None, 30)                390       \n",
            "_________________________________________________________________\n",
            "dense_13 (Dense)             (None, 12)                372       \n",
            "_________________________________________________________________\n",
            "dense_14 (Dense)             (None, 8)                 104       \n",
            "_________________________________________________________________\n",
            "dense_15 (Dense)             (None, 1)                 9         \n",
            "=================================================================\n",
            "Total params: 875\n",
            "Trainable params: 875\n",
            "Non-trainable params: 0\n",
            "_________________________________________________________________\n"
          ],
          "name": "stdout"
        }
      ]
    },
    {
      "cell_type": "code",
      "metadata": {
        "id": "nTghI65CaDaT"
      },
      "source": [
        "model.compile(loss='binary_crossentropy', optimizer='adam', metrics=['accuracy'])"
      ],
      "execution_count": 27,
      "outputs": []
    },
    {
      "cell_type": "markdown",
      "metadata": {
        "id": "VMAFvBIirJXW"
      },
      "source": [
        "### 모델 저장 관련 환경 설정"
      ]
    },
    {
      "cell_type": "code",
      "metadata": {
        "id": "PVUlyYauaDcx"
      },
      "source": [
        "import os\r\n",
        "MODEL_DIR = './model/'\r\n",
        "if not os.path.exists(MODEL_DIR):\r\n",
        "    os.mkdir(MODEL_DIR)"
      ],
      "execution_count": 28,
      "outputs": []
    },
    {
      "cell_type": "code",
      "metadata": {
        "colab": {
          "base_uri": "https://localhost:8080/"
        },
        "id": "KZeU1j9Zc4Pt",
        "outputId": "6d11ef7c-7d79-4270-bfce-93f1d5a3183c"
      },
      "source": [
        "!ls -l"
      ],
      "execution_count": 29,
      "outputs": [
        {
          "output_type": "stream",
          "text": [
            "total 720\n",
            "drwxr-xr-x 2 root root   4096 Feb 10 00:59  model\n",
            "drwxr-xr-x 1 root root   4096 Feb  4 15:26  sample_data\n",
            "-rw-r--r-- 1 root root 361279 Feb 10 02:06 'wine (1).csv'\n",
            "-rw-r--r-- 1 root root 361279 Feb 10 00:47  wine.csv\n"
          ],
          "name": "stdout"
        }
      ]
    },
    {
      "cell_type": "code",
      "metadata": {
        "id": "bFSkp6VSc5ne"
      },
      "source": [
        "# 모델 저장조건 설정\r\n",
        "modelpath = MODEL_DIR + \"best{epoch:03d}-{val_loss:.4f}.hdf5\""
      ],
      "execution_count": 30,
      "outputs": []
    },
    {
      "cell_type": "code",
      "metadata": {
        "id": "kGaCvJjCdRGG"
      },
      "source": [
        "from tensorflow.keras.callbacks import ModelCheckpoint, EarlyStopping\r\n",
        "checkpointer = ModelCheckpoint(filepath=modelpath, monitor='val_loss', \r\n",
        "                               verbose=1, save_best_only=True)\r\n",
        "early_stopping = EarlyStopping(monitor='val_loss', patience=30)"
      ],
      "execution_count": 31,
      "outputs": []
    },
    {
      "cell_type": "markdown",
      "metadata": {
        "id": "u0YIcS8XsWMB"
      },
      "source": [
        "### 모델 학습 및 저장"
      ]
    },
    {
      "cell_type": "code",
      "metadata": {
        "colab": {
          "base_uri": "https://localhost:8080/"
        },
        "id": "7VPsOURBeK43",
        "outputId": "011591df-bbbb-4959-9fa1-f996f01e7e1d"
      },
      "source": [
        "history = model.fit(X_train, y_train, validation_split=0.2, epochs=500, batch_size=200,\r\n",
        "                    verbose=0, callbacks=[checkpointer, early_stopping])"
      ],
      "execution_count": 32,
      "outputs": [
        {
          "output_type": "stream",
          "text": [
            "\n",
            "Epoch 00001: val_loss improved from inf to 0.41822, saving model to ./model/best001-0.4182.hdf5\n",
            "\n",
            "Epoch 00002: val_loss improved from 0.41822 to 0.28623, saving model to ./model/best002-0.2862.hdf5\n",
            "\n",
            "Epoch 00003: val_loss improved from 0.28623 to 0.24628, saving model to ./model/best003-0.2463.hdf5\n",
            "\n",
            "Epoch 00004: val_loss improved from 0.24628 to 0.22050, saving model to ./model/best004-0.2205.hdf5\n",
            "\n",
            "Epoch 00005: val_loss improved from 0.22050 to 0.20001, saving model to ./model/best005-0.2000.hdf5\n",
            "\n",
            "Epoch 00006: val_loss improved from 0.20001 to 0.19209, saving model to ./model/best006-0.1921.hdf5\n",
            "\n",
            "Epoch 00007: val_loss improved from 0.19209 to 0.18488, saving model to ./model/best007-0.1849.hdf5\n",
            "\n",
            "Epoch 00008: val_loss improved from 0.18488 to 0.18360, saving model to ./model/best008-0.1836.hdf5\n",
            "\n",
            "Epoch 00009: val_loss improved from 0.18360 to 0.17670, saving model to ./model/best009-0.1767.hdf5\n",
            "\n",
            "Epoch 00010: val_loss improved from 0.17670 to 0.17541, saving model to ./model/best010-0.1754.hdf5\n",
            "\n",
            "Epoch 00011: val_loss improved from 0.17541 to 0.17388, saving model to ./model/best011-0.1739.hdf5\n",
            "\n",
            "Epoch 00012: val_loss improved from 0.17388 to 0.16688, saving model to ./model/best012-0.1669.hdf5\n",
            "\n",
            "Epoch 00013: val_loss improved from 0.16688 to 0.16274, saving model to ./model/best013-0.1627.hdf5\n",
            "\n",
            "Epoch 00014: val_loss improved from 0.16274 to 0.16253, saving model to ./model/best014-0.1625.hdf5\n",
            "\n",
            "Epoch 00015: val_loss improved from 0.16253 to 0.15751, saving model to ./model/best015-0.1575.hdf5\n",
            "\n",
            "Epoch 00016: val_loss improved from 0.15751 to 0.15722, saving model to ./model/best016-0.1572.hdf5\n",
            "\n",
            "Epoch 00017: val_loss improved from 0.15722 to 0.15508, saving model to ./model/best017-0.1551.hdf5\n",
            "\n",
            "Epoch 00018: val_loss improved from 0.15508 to 0.15077, saving model to ./model/best018-0.1508.hdf5\n",
            "\n",
            "Epoch 00019: val_loss improved from 0.15077 to 0.14924, saving model to ./model/best019-0.1492.hdf5\n",
            "\n",
            "Epoch 00020: val_loss improved from 0.14924 to 0.14708, saving model to ./model/best020-0.1471.hdf5\n",
            "\n",
            "Epoch 00021: val_loss improved from 0.14708 to 0.14639, saving model to ./model/best021-0.1464.hdf5\n",
            "\n",
            "Epoch 00022: val_loss did not improve from 0.14639\n",
            "\n",
            "Epoch 00023: val_loss improved from 0.14639 to 0.13917, saving model to ./model/best023-0.1392.hdf5\n",
            "\n",
            "Epoch 00024: val_loss improved from 0.13917 to 0.13772, saving model to ./model/best024-0.1377.hdf5\n",
            "\n",
            "Epoch 00025: val_loss improved from 0.13772 to 0.13441, saving model to ./model/best025-0.1344.hdf5\n",
            "\n",
            "Epoch 00026: val_loss improved from 0.13441 to 0.12824, saving model to ./model/best026-0.1282.hdf5\n",
            "\n",
            "Epoch 00027: val_loss improved from 0.12824 to 0.12421, saving model to ./model/best027-0.1242.hdf5\n",
            "\n",
            "Epoch 00028: val_loss did not improve from 0.12421\n",
            "\n",
            "Epoch 00029: val_loss did not improve from 0.12421\n",
            "\n",
            "Epoch 00030: val_loss did not improve from 0.12421\n",
            "\n",
            "Epoch 00031: val_loss improved from 0.12421 to 0.11388, saving model to ./model/best031-0.1139.hdf5\n",
            "\n",
            "Epoch 00032: val_loss improved from 0.11388 to 0.10927, saving model to ./model/best032-0.1093.hdf5\n",
            "\n",
            "Epoch 00033: val_loss improved from 0.10927 to 0.10697, saving model to ./model/best033-0.1070.hdf5\n",
            "\n",
            "Epoch 00034: val_loss improved from 0.10697 to 0.10434, saving model to ./model/best034-0.1043.hdf5\n",
            "\n",
            "Epoch 00035: val_loss did not improve from 0.10434\n",
            "\n",
            "Epoch 00036: val_loss did not improve from 0.10434\n",
            "\n",
            "Epoch 00037: val_loss improved from 0.10434 to 0.10397, saving model to ./model/best037-0.1040.hdf5\n",
            "\n",
            "Epoch 00038: val_loss improved from 0.10397 to 0.10336, saving model to ./model/best038-0.1034.hdf5\n",
            "\n",
            "Epoch 00039: val_loss did not improve from 0.10336\n",
            "\n",
            "Epoch 00040: val_loss did not improve from 0.10336\n",
            "\n",
            "Epoch 00041: val_loss improved from 0.10336 to 0.09690, saving model to ./model/best041-0.0969.hdf5\n",
            "\n",
            "Epoch 00042: val_loss did not improve from 0.09690\n",
            "\n",
            "Epoch 00043: val_loss did not improve from 0.09690\n",
            "\n",
            "Epoch 00044: val_loss improved from 0.09690 to 0.09461, saving model to ./model/best044-0.0946.hdf5\n",
            "\n",
            "Epoch 00045: val_loss did not improve from 0.09461\n",
            "\n",
            "Epoch 00046: val_loss improved from 0.09461 to 0.09151, saving model to ./model/best046-0.0915.hdf5\n",
            "\n",
            "Epoch 00047: val_loss did not improve from 0.09151\n",
            "\n",
            "Epoch 00048: val_loss improved from 0.09151 to 0.09145, saving model to ./model/best048-0.0914.hdf5\n",
            "\n",
            "Epoch 00049: val_loss improved from 0.09145 to 0.08915, saving model to ./model/best049-0.0891.hdf5\n",
            "\n",
            "Epoch 00050: val_loss did not improve from 0.08915\n",
            "\n",
            "Epoch 00051: val_loss did not improve from 0.08915\n",
            "\n",
            "Epoch 00052: val_loss improved from 0.08915 to 0.08568, saving model to ./model/best052-0.0857.hdf5\n",
            "\n",
            "Epoch 00053: val_loss improved from 0.08568 to 0.08503, saving model to ./model/best053-0.0850.hdf5\n",
            "\n",
            "Epoch 00054: val_loss improved from 0.08503 to 0.08463, saving model to ./model/best054-0.0846.hdf5\n",
            "\n",
            "Epoch 00055: val_loss did not improve from 0.08463\n",
            "\n",
            "Epoch 00056: val_loss improved from 0.08463 to 0.08397, saving model to ./model/best056-0.0840.hdf5\n",
            "\n",
            "Epoch 00057: val_loss did not improve from 0.08397\n",
            "\n",
            "Epoch 00058: val_loss improved from 0.08397 to 0.08135, saving model to ./model/best058-0.0813.hdf5\n",
            "\n",
            "Epoch 00059: val_loss improved from 0.08135 to 0.07926, saving model to ./model/best059-0.0793.hdf5\n",
            "\n",
            "Epoch 00060: val_loss did not improve from 0.07926\n",
            "\n",
            "Epoch 00061: val_loss did not improve from 0.07926\n",
            "\n",
            "Epoch 00062: val_loss improved from 0.07926 to 0.07745, saving model to ./model/best062-0.0774.hdf5\n",
            "\n",
            "Epoch 00063: val_loss did not improve from 0.07745\n",
            "\n",
            "Epoch 00064: val_loss did not improve from 0.07745\n",
            "\n",
            "Epoch 00065: val_loss improved from 0.07745 to 0.07615, saving model to ./model/best065-0.0761.hdf5\n",
            "\n",
            "Epoch 00066: val_loss did not improve from 0.07615\n",
            "\n",
            "Epoch 00067: val_loss did not improve from 0.07615\n",
            "\n",
            "Epoch 00068: val_loss did not improve from 0.07615\n",
            "\n",
            "Epoch 00069: val_loss improved from 0.07615 to 0.07327, saving model to ./model/best069-0.0733.hdf5\n",
            "\n",
            "Epoch 00070: val_loss did not improve from 0.07327\n",
            "\n",
            "Epoch 00071: val_loss did not improve from 0.07327\n",
            "\n",
            "Epoch 00072: val_loss improved from 0.07327 to 0.07200, saving model to ./model/best072-0.0720.hdf5\n",
            "\n",
            "Epoch 00073: val_loss did not improve from 0.07200\n",
            "\n",
            "Epoch 00074: val_loss improved from 0.07200 to 0.07014, saving model to ./model/best074-0.0701.hdf5\n",
            "\n",
            "Epoch 00075: val_loss did not improve from 0.07014\n",
            "\n",
            "Epoch 00076: val_loss improved from 0.07014 to 0.06874, saving model to ./model/best076-0.0687.hdf5\n",
            "\n",
            "Epoch 00077: val_loss did not improve from 0.06874\n",
            "\n",
            "Epoch 00078: val_loss did not improve from 0.06874\n",
            "\n",
            "Epoch 00079: val_loss did not improve from 0.06874\n",
            "\n",
            "Epoch 00080: val_loss did not improve from 0.06874\n",
            "\n",
            "Epoch 00081: val_loss improved from 0.06874 to 0.06720, saving model to ./model/best081-0.0672.hdf5\n",
            "\n",
            "Epoch 00082: val_loss did not improve from 0.06720\n",
            "\n",
            "Epoch 00083: val_loss improved from 0.06720 to 0.06626, saving model to ./model/best083-0.0663.hdf5\n",
            "\n",
            "Epoch 00084: val_loss did not improve from 0.06626\n",
            "\n",
            "Epoch 00085: val_loss improved from 0.06626 to 0.06570, saving model to ./model/best085-0.0657.hdf5\n",
            "\n",
            "Epoch 00086: val_loss did not improve from 0.06570\n",
            "\n",
            "Epoch 00087: val_loss did not improve from 0.06570\n",
            "\n",
            "Epoch 00088: val_loss did not improve from 0.06570\n",
            "\n",
            "Epoch 00089: val_loss improved from 0.06570 to 0.06368, saving model to ./model/best089-0.0637.hdf5\n",
            "\n",
            "Epoch 00090: val_loss did not improve from 0.06368\n",
            "\n",
            "Epoch 00091: val_loss did not improve from 0.06368\n",
            "\n",
            "Epoch 00092: val_loss did not improve from 0.06368\n",
            "\n",
            "Epoch 00093: val_loss did not improve from 0.06368\n",
            "\n",
            "Epoch 00094: val_loss did not improve from 0.06368\n",
            "\n",
            "Epoch 00095: val_loss did not improve from 0.06368\n",
            "\n",
            "Epoch 00096: val_loss did not improve from 0.06368\n",
            "\n",
            "Epoch 00097: val_loss did not improve from 0.06368\n",
            "\n",
            "Epoch 00098: val_loss improved from 0.06368 to 0.06190, saving model to ./model/best098-0.0619.hdf5\n",
            "\n",
            "Epoch 00099: val_loss did not improve from 0.06190\n",
            "\n",
            "Epoch 00100: val_loss did not improve from 0.06190\n",
            "\n",
            "Epoch 00101: val_loss improved from 0.06190 to 0.06155, saving model to ./model/best101-0.0615.hdf5\n",
            "\n",
            "Epoch 00102: val_loss did not improve from 0.06155\n",
            "\n",
            "Epoch 00103: val_loss did not improve from 0.06155\n",
            "\n",
            "Epoch 00104: val_loss did not improve from 0.06155\n",
            "\n",
            "Epoch 00105: val_loss improved from 0.06155 to 0.06092, saving model to ./model/best105-0.0609.hdf5\n",
            "\n",
            "Epoch 00106: val_loss did not improve from 0.06092\n",
            "\n",
            "Epoch 00107: val_loss did not improve from 0.06092\n",
            "\n",
            "Epoch 00108: val_loss did not improve from 0.06092\n",
            "\n",
            "Epoch 00109: val_loss improved from 0.06092 to 0.05978, saving model to ./model/best109-0.0598.hdf5\n",
            "\n",
            "Epoch 00110: val_loss improved from 0.05978 to 0.05942, saving model to ./model/best110-0.0594.hdf5\n",
            "\n",
            "Epoch 00111: val_loss did not improve from 0.05942\n",
            "\n",
            "Epoch 00112: val_loss did not improve from 0.05942\n",
            "\n",
            "Epoch 00113: val_loss did not improve from 0.05942\n",
            "\n",
            "Epoch 00114: val_loss did not improve from 0.05942\n",
            "\n",
            "Epoch 00115: val_loss did not improve from 0.05942\n",
            "\n",
            "Epoch 00116: val_loss did not improve from 0.05942\n",
            "\n",
            "Epoch 00117: val_loss did not improve from 0.05942\n",
            "\n",
            "Epoch 00118: val_loss did not improve from 0.05942\n",
            "\n",
            "Epoch 00119: val_loss did not improve from 0.05942\n",
            "\n",
            "Epoch 00120: val_loss did not improve from 0.05942\n",
            "\n",
            "Epoch 00121: val_loss improved from 0.05942 to 0.05878, saving model to ./model/best121-0.0588.hdf5\n",
            "\n",
            "Epoch 00122: val_loss improved from 0.05878 to 0.05850, saving model to ./model/best122-0.0585.hdf5\n",
            "\n",
            "Epoch 00123: val_loss did not improve from 0.05850\n",
            "\n",
            "Epoch 00124: val_loss improved from 0.05850 to 0.05746, saving model to ./model/best124-0.0575.hdf5\n",
            "\n",
            "Epoch 00125: val_loss did not improve from 0.05746\n",
            "\n",
            "Epoch 00126: val_loss did not improve from 0.05746\n",
            "\n",
            "Epoch 00127: val_loss did not improve from 0.05746\n",
            "\n",
            "Epoch 00128: val_loss did not improve from 0.05746\n",
            "\n",
            "Epoch 00129: val_loss improved from 0.05746 to 0.05745, saving model to ./model/best129-0.0575.hdf5\n",
            "\n",
            "Epoch 00130: val_loss did not improve from 0.05745\n",
            "\n",
            "Epoch 00131: val_loss improved from 0.05745 to 0.05711, saving model to ./model/best131-0.0571.hdf5\n",
            "\n",
            "Epoch 00132: val_loss did not improve from 0.05711\n",
            "\n",
            "Epoch 00133: val_loss did not improve from 0.05711\n",
            "\n",
            "Epoch 00134: val_loss improved from 0.05711 to 0.05606, saving model to ./model/best134-0.0561.hdf5\n",
            "\n",
            "Epoch 00135: val_loss did not improve from 0.05606\n",
            "\n",
            "Epoch 00136: val_loss did not improve from 0.05606\n",
            "\n",
            "Epoch 00137: val_loss did not improve from 0.05606\n",
            "\n",
            "Epoch 00138: val_loss did not improve from 0.05606\n",
            "\n",
            "Epoch 00139: val_loss improved from 0.05606 to 0.05559, saving model to ./model/best139-0.0556.hdf5\n",
            "\n",
            "Epoch 00140: val_loss did not improve from 0.05559\n",
            "\n",
            "Epoch 00141: val_loss did not improve from 0.05559\n",
            "\n",
            "Epoch 00142: val_loss did not improve from 0.05559\n",
            "\n",
            "Epoch 00143: val_loss did not improve from 0.05559\n",
            "\n",
            "Epoch 00144: val_loss did not improve from 0.05559\n",
            "\n",
            "Epoch 00145: val_loss did not improve from 0.05559\n",
            "\n",
            "Epoch 00146: val_loss did not improve from 0.05559\n",
            "\n",
            "Epoch 00147: val_loss did not improve from 0.05559\n",
            "\n",
            "Epoch 00148: val_loss did not improve from 0.05559\n",
            "\n",
            "Epoch 00149: val_loss did not improve from 0.05559\n",
            "\n",
            "Epoch 00150: val_loss did not improve from 0.05559\n",
            "\n",
            "Epoch 00151: val_loss did not improve from 0.05559\n",
            "\n",
            "Epoch 00152: val_loss did not improve from 0.05559\n",
            "\n",
            "Epoch 00153: val_loss did not improve from 0.05559\n",
            "\n",
            "Epoch 00154: val_loss did not improve from 0.05559\n",
            "\n",
            "Epoch 00155: val_loss did not improve from 0.05559\n",
            "\n",
            "Epoch 00156: val_loss improved from 0.05559 to 0.05528, saving model to ./model/best156-0.0553.hdf5\n",
            "\n",
            "Epoch 00157: val_loss did not improve from 0.05528\n",
            "\n",
            "Epoch 00158: val_loss did not improve from 0.05528\n",
            "\n",
            "Epoch 00159: val_loss did not improve from 0.05528\n",
            "\n",
            "Epoch 00160: val_loss did not improve from 0.05528\n",
            "\n",
            "Epoch 00161: val_loss did not improve from 0.05528\n",
            "\n",
            "Epoch 00162: val_loss did not improve from 0.05528\n",
            "\n",
            "Epoch 00163: val_loss did not improve from 0.05528\n",
            "\n",
            "Epoch 00164: val_loss did not improve from 0.05528\n",
            "\n",
            "Epoch 00165: val_loss did not improve from 0.05528\n",
            "\n",
            "Epoch 00166: val_loss improved from 0.05528 to 0.05464, saving model to ./model/best166-0.0546.hdf5\n",
            "\n",
            "Epoch 00167: val_loss did not improve from 0.05464\n",
            "\n",
            "Epoch 00168: val_loss did not improve from 0.05464\n",
            "\n",
            "Epoch 00169: val_loss did not improve from 0.05464\n",
            "\n",
            "Epoch 00170: val_loss did not improve from 0.05464\n",
            "\n",
            "Epoch 00171: val_loss did not improve from 0.05464\n",
            "\n",
            "Epoch 00172: val_loss did not improve from 0.05464\n",
            "\n",
            "Epoch 00173: val_loss did not improve from 0.05464\n",
            "\n",
            "Epoch 00174: val_loss did not improve from 0.05464\n",
            "\n",
            "Epoch 00175: val_loss did not improve from 0.05464\n",
            "\n",
            "Epoch 00176: val_loss did not improve from 0.05464\n",
            "\n",
            "Epoch 00177: val_loss did not improve from 0.05464\n",
            "\n",
            "Epoch 00178: val_loss did not improve from 0.05464\n",
            "\n",
            "Epoch 00179: val_loss improved from 0.05464 to 0.05425, saving model to ./model/best179-0.0543.hdf5\n",
            "\n",
            "Epoch 00180: val_loss did not improve from 0.05425\n",
            "\n",
            "Epoch 00181: val_loss improved from 0.05425 to 0.05305, saving model to ./model/best181-0.0531.hdf5\n",
            "\n",
            "Epoch 00182: val_loss did not improve from 0.05305\n",
            "\n",
            "Epoch 00183: val_loss did not improve from 0.05305\n",
            "\n",
            "Epoch 00184: val_loss did not improve from 0.05305\n",
            "\n",
            "Epoch 00185: val_loss did not improve from 0.05305\n",
            "\n",
            "Epoch 00186: val_loss did not improve from 0.05305\n",
            "\n",
            "Epoch 00187: val_loss did not improve from 0.05305\n",
            "\n",
            "Epoch 00188: val_loss did not improve from 0.05305\n",
            "\n",
            "Epoch 00189: val_loss did not improve from 0.05305\n",
            "\n",
            "Epoch 00190: val_loss did not improve from 0.05305\n",
            "\n",
            "Epoch 00191: val_loss did not improve from 0.05305\n",
            "\n",
            "Epoch 00192: val_loss did not improve from 0.05305\n",
            "\n",
            "Epoch 00193: val_loss did not improve from 0.05305\n",
            "\n",
            "Epoch 00194: val_loss did not improve from 0.05305\n",
            "\n",
            "Epoch 00195: val_loss did not improve from 0.05305\n",
            "\n",
            "Epoch 00196: val_loss improved from 0.05305 to 0.05303, saving model to ./model/best196-0.0530.hdf5\n",
            "\n",
            "Epoch 00197: val_loss did not improve from 0.05303\n",
            "\n",
            "Epoch 00198: val_loss did not improve from 0.05303\n",
            "\n",
            "Epoch 00199: val_loss did not improve from 0.05303\n",
            "\n",
            "Epoch 00200: val_loss did not improve from 0.05303\n",
            "\n",
            "Epoch 00201: val_loss did not improve from 0.05303\n",
            "\n",
            "Epoch 00202: val_loss did not improve from 0.05303\n",
            "\n",
            "Epoch 00203: val_loss did not improve from 0.05303\n",
            "\n",
            "Epoch 00204: val_loss did not improve from 0.05303\n",
            "\n",
            "Epoch 00205: val_loss did not improve from 0.05303\n",
            "\n",
            "Epoch 00206: val_loss did not improve from 0.05303\n",
            "\n",
            "Epoch 00207: val_loss did not improve from 0.05303\n",
            "\n",
            "Epoch 00208: val_loss did not improve from 0.05303\n",
            "\n",
            "Epoch 00209: val_loss did not improve from 0.05303\n",
            "\n",
            "Epoch 00210: val_loss did not improve from 0.05303\n",
            "\n",
            "Epoch 00211: val_loss did not improve from 0.05303\n",
            "\n",
            "Epoch 00212: val_loss did not improve from 0.05303\n",
            "\n",
            "Epoch 00213: val_loss improved from 0.05303 to 0.05217, saving model to ./model/best213-0.0522.hdf5\n",
            "\n",
            "Epoch 00214: val_loss did not improve from 0.05217\n",
            "\n",
            "Epoch 00215: val_loss improved from 0.05217 to 0.05214, saving model to ./model/best215-0.0521.hdf5\n",
            "\n",
            "Epoch 00216: val_loss did not improve from 0.05214\n",
            "\n",
            "Epoch 00217: val_loss did not improve from 0.05214\n",
            "\n",
            "Epoch 00218: val_loss did not improve from 0.05214\n",
            "\n",
            "Epoch 00219: val_loss did not improve from 0.05214\n",
            "\n",
            "Epoch 00220: val_loss improved from 0.05214 to 0.05178, saving model to ./model/best220-0.0518.hdf5\n",
            "\n",
            "Epoch 00221: val_loss did not improve from 0.05178\n",
            "\n",
            "Epoch 00222: val_loss did not improve from 0.05178\n",
            "\n",
            "Epoch 00223: val_loss did not improve from 0.05178\n",
            "\n",
            "Epoch 00224: val_loss did not improve from 0.05178\n",
            "\n",
            "Epoch 00225: val_loss did not improve from 0.05178\n",
            "\n",
            "Epoch 00226: val_loss did not improve from 0.05178\n",
            "\n",
            "Epoch 00227: val_loss did not improve from 0.05178\n",
            "\n",
            "Epoch 00228: val_loss did not improve from 0.05178\n",
            "\n",
            "Epoch 00229: val_loss did not improve from 0.05178\n",
            "\n",
            "Epoch 00230: val_loss did not improve from 0.05178\n",
            "\n",
            "Epoch 00231: val_loss did not improve from 0.05178\n",
            "\n",
            "Epoch 00232: val_loss did not improve from 0.05178\n",
            "\n",
            "Epoch 00233: val_loss did not improve from 0.05178\n",
            "\n",
            "Epoch 00234: val_loss did not improve from 0.05178\n",
            "\n",
            "Epoch 00235: val_loss did not improve from 0.05178\n",
            "\n",
            "Epoch 00236: val_loss did not improve from 0.05178\n",
            "\n",
            "Epoch 00237: val_loss did not improve from 0.05178\n",
            "\n",
            "Epoch 00238: val_loss did not improve from 0.05178\n",
            "\n",
            "Epoch 00239: val_loss did not improve from 0.05178\n",
            "\n",
            "Epoch 00240: val_loss improved from 0.05178 to 0.05167, saving model to ./model/best240-0.0517.hdf5\n",
            "\n",
            "Epoch 00241: val_loss did not improve from 0.05167\n",
            "\n",
            "Epoch 00242: val_loss did not improve from 0.05167\n",
            "\n",
            "Epoch 00243: val_loss did not improve from 0.05167\n",
            "\n",
            "Epoch 00244: val_loss did not improve from 0.05167\n",
            "\n",
            "Epoch 00245: val_loss did not improve from 0.05167\n",
            "\n",
            "Epoch 00246: val_loss improved from 0.05167 to 0.05128, saving model to ./model/best246-0.0513.hdf5\n",
            "\n",
            "Epoch 00247: val_loss did not improve from 0.05128\n",
            "\n",
            "Epoch 00248: val_loss did not improve from 0.05128\n",
            "\n",
            "Epoch 00249: val_loss did not improve from 0.05128\n",
            "\n",
            "Epoch 00250: val_loss did not improve from 0.05128\n",
            "\n",
            "Epoch 00251: val_loss did not improve from 0.05128\n",
            "\n",
            "Epoch 00252: val_loss did not improve from 0.05128\n",
            "\n",
            "Epoch 00253: val_loss did not improve from 0.05128\n",
            "\n",
            "Epoch 00254: val_loss did not improve from 0.05128\n",
            "\n",
            "Epoch 00255: val_loss did not improve from 0.05128\n",
            "\n",
            "Epoch 00256: val_loss did not improve from 0.05128\n",
            "\n",
            "Epoch 00257: val_loss did not improve from 0.05128\n",
            "\n",
            "Epoch 00258: val_loss did not improve from 0.05128\n",
            "\n",
            "Epoch 00259: val_loss did not improve from 0.05128\n",
            "\n",
            "Epoch 00260: val_loss did not improve from 0.05128\n",
            "\n",
            "Epoch 00261: val_loss did not improve from 0.05128\n",
            "\n",
            "Epoch 00262: val_loss did not improve from 0.05128\n",
            "\n",
            "Epoch 00263: val_loss did not improve from 0.05128\n",
            "\n",
            "Epoch 00264: val_loss did not improve from 0.05128\n",
            "\n",
            "Epoch 00265: val_loss did not improve from 0.05128\n",
            "\n",
            "Epoch 00266: val_loss did not improve from 0.05128\n",
            "\n",
            "Epoch 00267: val_loss did not improve from 0.05128\n",
            "\n",
            "Epoch 00268: val_loss did not improve from 0.05128\n",
            "\n",
            "Epoch 00269: val_loss did not improve from 0.05128\n",
            "\n",
            "Epoch 00270: val_loss did not improve from 0.05128\n",
            "\n",
            "Epoch 00271: val_loss did not improve from 0.05128\n",
            "\n",
            "Epoch 00272: val_loss did not improve from 0.05128\n",
            "\n",
            "Epoch 00273: val_loss did not improve from 0.05128\n",
            "\n",
            "Epoch 00274: val_loss did not improve from 0.05128\n",
            "\n",
            "Epoch 00275: val_loss did not improve from 0.05128\n",
            "\n",
            "Epoch 00276: val_loss did not improve from 0.05128\n"
          ],
          "name": "stdout"
        }
      ]
    },
    {
      "cell_type": "markdown",
      "metadata": {
        "id": "NhGTk2eVsfak"
      },
      "source": [
        "### 잘못된 평가"
      ]
    },
    {
      "cell_type": "code",
      "metadata": {
        "colab": {
          "base_uri": "https://localhost:8080/"
        },
        "id": "Ggry-VaIeLDN",
        "outputId": "3151a8df-38af-4f0b-bca3-2184c6f65b60"
      },
      "source": [
        "acc = model.evaluate(X_test, y_test)\r\n",
        "print(f'Accuracy: {acc[1]:.4f}')"
      ],
      "execution_count": 33,
      "outputs": [
        {
          "output_type": "stream",
          "text": [
            "51/51 [==============================] - 0s 946us/step - loss: 0.0753 - accuracy: 0.9803\n",
            "Accuracy: 0.9803\n"
          ],
          "name": "stdout"
        }
      ]
    },
    {
      "cell_type": "markdown",
      "metadata": {
        "id": "xIFQdw02tVBF"
      },
      "source": [
        "### 베스트 모델로 평가"
      ]
    },
    {
      "cell_type": "code",
      "metadata": {
        "colab": {
          "base_uri": "https://localhost:8080/"
        },
        "id": "xcPIOLPDstLt",
        "outputId": "c1e3a708-40f7-4912-99ff-846f2b5b81f9"
      },
      "source": [
        "from tensorflow.keras.models import load_model\r\n",
        "\r\n",
        "best_model = load_model('./model/best246-0.0513.hdf5')\r\n",
        "acc = best_model.evaluate(X_test, y_test)\r\n",
        "print(f'Accuracy: {acc[1]:.4f}')"
      ],
      "execution_count": 34,
      "outputs": [
        {
          "output_type": "stream",
          "text": [
            "51/51 [==============================] - 0s 1ms/step - loss: 0.0732 - accuracy: 0.9778\n",
            "Accuracy: 0.9778\n"
          ],
          "name": "stdout"
        }
      ]
    },
    {
      "cell_type": "markdown",
      "metadata": {
        "id": "753rkSnftaT5"
      },
      "source": [
        "### 시각화"
      ]
    },
    {
      "cell_type": "code",
      "metadata": {
        "id": "bFisyaFPtY3K"
      },
      "source": [
        "import matplotlib.pyplot as plt\r\n",
        "%matplotlib inline"
      ],
      "execution_count": 35,
      "outputs": []
    },
    {
      "cell_type": "code",
      "metadata": {
        "colab": {
          "base_uri": "https://localhost:8080/"
        },
        "id": "7mHFs17DtY8S",
        "outputId": "c5e88e61-0fc3-4992-ca90-057326816798"
      },
      "source": [
        "type(history.history)"
      ],
      "execution_count": 36,
      "outputs": [
        {
          "output_type": "execute_result",
          "data": {
            "text/plain": [
              "dict"
            ]
          },
          "metadata": {
            "tags": []
          },
          "execution_count": 36
        }
      ]
    },
    {
      "cell_type": "code",
      "metadata": {
        "id": "GjNJ-WtKtY-8"
      },
      "source": [
        "y_vloss=history.history['val_loss']\r\n",
        "y_acc=history.history['accuracy']\r\n",
        "y_vacc=history.history['val_accuracy']\r\n",
        "y_loss=history.history['loss']"
      ],
      "execution_count": 37,
      "outputs": []
    },
    {
      "cell_type": "code",
      "metadata": {
        "colab": {
          "base_uri": "https://localhost:8080/",
          "height": 483
        },
        "id": "2Oi3oBlJtZBN",
        "outputId": "804bf7dc-f0c9-4e3c-88bb-4f88fab31690"
      },
      "source": [
        "x_len = np.arange(len(y_acc))\r\n",
        "plt.figure(figsize=(12,8))\r\n",
        "plt.plot(x_len, y_loss, \"o\", c=\"red\", markersize=2, label='loss')\r\n",
        "plt.plot(x_len, y_vacc, \"o\", c=\"blue\", markersize=2, label='val_accuracy')\r\n",
        "plt.plot(x_len, y_vloss, \"o\", c=\"orange\", markersize=2, label='val_loss')\r\n",
        "plt.plot(x_len, y_acc, \"o\", c=\"green\", markersize=2, label='accuracy')\r\n",
        "plt.grid()\r\n",
        "plt.legend()\r\n",
        "plt.show()"
      ],
      "execution_count": 38,
      "outputs": [
        {
          "output_type": "display_data",
          "data": {
            "image/png": "[encoded data removed]",
            "text/plain": [
              "<Figure size 864x576 with 1 Axes>"
            ]
          },
          "metadata": {
            "tags": [],
            "needs_background": "light"
          }
        }
      ]
    },
    {
      "cell_type": "code",
      "metadata": {
        "id": "HkGQ1L-1tZDd"
      },
      "source": [
        ""
      ],
      "execution_count": null,
      "outputs": []
    }
  ]
}