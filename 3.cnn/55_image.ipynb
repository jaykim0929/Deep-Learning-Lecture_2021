{
  "nbformat": 4,
  "nbformat_minor": 0,
  "metadata": {
    "colab": {
      "name": "image.ipynb",
      "provenance": [],
      "collapsed_sections": []
    },
    "kernelspec": {
      "name": "python3",
      "display_name": "Python 3"
    }
  },
  "cells": [
    {
      "cell_type": "markdown",
      "metadata": {
        "id": "SEaThOL5bnFS"
      },
      "source": [
        "### 1. vggnet 16\r\n",
        "### 2. vggnet 19\r\n",
        "### 3. resnet 50\r\n",
        "### 4. InceptionV3"
      ]
    },
    {
      "cell_type": "code",
      "metadata": {
        "id": "dWn-Z2VMVfLd"
      },
      "source": [
        "!unzip -qq animals.zip -d animals"
      ],
      "execution_count": 1,
      "outputs": []
    },
    {
      "cell_type": "code",
      "metadata": {
        "id": "FOKDA7iGcq4f"
      },
      "source": [
        "import numpy as np\r\n",
        "import pandas as pd\r\n",
        "import cv2, os, random\r\n",
        "import matplotlib.pyplot as plt\r\n",
        "%matplotlib inline\r\n",
        "from glob import glob\r\n",
        "from tensorflow.keras.preprocessing import image"
      ],
      "execution_count": 2,
      "outputs": []
    },
    {
      "cell_type": "code",
      "metadata": {
        "id": "A3zzlHpF3stg"
      },
      "source": [
        "name = [a.replace('./animals/a_','') for a in glob('./animals/*.jpg')]\r\n",
        "name = [a.replace('.jpg', '') for a in name]"
      ],
      "execution_count": 3,
      "outputs": []
    },
    {
      "cell_type": "code",
      "metadata": {
        "id": "ia6dwltnt94g"
      },
      "source": [
        "from tensorflow.keras.applications.vgg16 import VGG16, decode_predictions\r\n",
        "from tensorflow.keras.applications.vgg19 import VGG19, decode_predictions\r\n",
        "from tensorflow.keras.applications.resnet50 import ResNet50, decode_predictions\r\n",
        "from tensorflow.keras.applications.inception_v3 import InceptionV3, decode_predictions"
      ],
      "execution_count": 4,
      "outputs": []
    },
    {
      "cell_type": "code",
      "metadata": {
        "id": "fvE83rGDb4Ve",
        "colab": {
          "base_uri": "https://localhost:8080/"
        },
        "outputId": "7c4b6787-347d-42df-e7db-2fd21f1f14af"
      },
      "source": [
        "vgg16 = VGG16()\r\n",
        "vgg19 = VGG19()\r\n",
        "resnet50 = ResNet50()\r\n",
        "inceptionv3 = InceptionV3(input_shape=(299,299,3))"
      ],
      "execution_count": 5,
      "outputs": [
        {
          "output_type": "stream",
          "text": [
            "Downloading data from https://storage.googleapis.com/tensorflow/keras-applications/vgg16/vgg16_weights_tf_dim_ordering_tf_kernels.h5\n",
            "553467904/553467096 [==============================] - 3s 0us/step\n",
            "Downloading data from https://storage.googleapis.com/tensorflow/keras-applications/vgg19/vgg19_weights_tf_dim_ordering_tf_kernels.h5\n",
            "574717952/574710816 [==============================] - 3s 0us/step\n",
            "Downloading data from https://storage.googleapis.com/tensorflow/keras-applications/resnet/resnet50_weights_tf_dim_ordering_tf_kernels.h5\n",
            "102973440/102967424 [==============================] - 1s 0us/step\n",
            "Downloading data from https://storage.googleapis.com/tensorflow/keras-applications/inception_v3/inception_v3_weights_tf_dim_ordering_tf_kernels.h5\n",
            "96116736/96112376 [==============================] - 1s 0us/step\n"
          ],
          "name": "stdout"
        }
      ]
    },
    {
      "cell_type": "code",
      "metadata": {
        "colab": {
          "base_uri": "https://localhost:8080/"
        },
        "id": "xnEQJKWWsA6m",
        "outputId": "67dfbf84-a434-4aca-85cd-52c78da284be"
      },
      "source": [
        "from PIL import Image\r\n",
        "v16_list =[]\r\n",
        "for i, img_path in enumerate(glob('./animals/*.jpg')):\r\n",
        "  img = np.array(Image.open(img_path).resize((224, 224)))\r\n",
        "\r\n",
        "  yhat = vgg16.predict(img.reshape(-1, 224, 224, 3))\r\n",
        "  label_key = np.argmax(yhat)\r\n",
        "  label = decode_predictions(yhat)\r\n",
        "  label = label[0][0]\r\n",
        "  v16_list.append(label[1])\r\n",
        "  print('%s (%.2f%%)' % (label[1], label[2]*100), name[i])"
      ],
      "execution_count": 6,
      "outputs": [
        {
          "output_type": "stream",
          "text": [
            "Downloading data from https://storage.googleapis.com/download.tensorflow.org/data/imagenet_class_index.json\n",
            "40960/35363 [==================================] - 0s 0us/step\n",
            "water_ouzel (74.82%) 까마귀\n",
            "Egyptian_cat (50.02%) 러시안블루\n",
            "bald_eagle (52.02%) 독수리\n",
            "Egyptian_cat (97.04%) 스핑크스\n",
            "Arctic_fox (35.94%) 렉돌\n",
            "triceratops (31.97%) cat1\n",
            "Japanese_spaniel (51.94%) 페르시안\n",
            "platypus (93.94%) 오리너구리\n",
            "Maltese_dog (60.09%) 말티즈\n",
            "jay (74.86%) 참새\n",
            "fox_squirrel (96.88%) 청설모\n",
            "American_egret (36.09%) 백조\n",
            "standard_poodle (26.70%) 골든리트리버\n",
            "Pomeranian (93.90%) 포메라니안\n",
            "tailed_frog (16.71%) 다람쥐\n",
            "Australian_terrier (45.21%) 요크셔테리어\n",
            "Siamese_cat (99.23%) 샴\n",
            "magpie (65.27%) 까치\n",
            "red-backed_sandpiper (48.96%) 황조롱이\n",
            "sulphur-crested_cockatoo (92.52%) 왕관앵무\n"
          ],
          "name": "stdout"
        }
      ]
    },
    {
      "cell_type": "code",
      "metadata": {
        "colab": {
          "base_uri": "https://localhost:8080/"
        },
        "id": "qCQ60WQbjjGB",
        "outputId": "f3df5124-df82-4ef5-f824-b7352e2ded24"
      },
      "source": [
        "v19_list =[]\r\n",
        "for i, img_path in enumerate(glob('./animals/*.jpg')):\r\n",
        "  img = np.array(Image.open(img_path).resize((224, 224)))\r\n",
        "\r\n",
        "  yhat = vgg19.predict(img.reshape(-1, 224, 224, 3))\r\n",
        "  label_key = np.argmax(yhat)\r\n",
        "  label = decode_predictions(yhat)\r\n",
        "  label = label[0][0]\r\n",
        "  v19_list.append(label[1])\r\n",
        "  print('%s (%.2f%%)' % (label[1], label[2]*100), name[i])"
      ],
      "execution_count": 7,
      "outputs": [
        {
          "output_type": "stream",
          "text": [
            "quail (51.28%) 까마귀\n",
            "Egyptian_cat (35.06%) 러시안블루\n",
            "bald_eagle (61.38%) 독수리\n",
            "Egyptian_cat (52.39%) 스핑크스\n",
            "Pomeranian (20.88%) 렉돌\n",
            "Egyptian_cat (38.19%) cat1\n",
            "Pomeranian (77.15%) 페르시안\n",
            "platypus (74.86%) 오리너구리\n",
            "Maltese_dog (67.35%) 말티즈\n",
            "jay (92.05%) 참새\n",
            "fox_squirrel (43.88%) 청설모\n",
            "American_egret (39.05%) 백조\n",
            "clumber (35.06%) 골든리트리버\n",
            "Pomeranian (72.50%) 포메라니안\n",
            "hare (36.88%) 다람쥐\n",
            "silky_terrier (46.20%) 요크셔테리어\n",
            "Siamese_cat (77.67%) 샴\n",
            "magpie (58.14%) 까치\n",
            "red-backed_sandpiper (99.18%) 황조롱이\n",
            "sulphur-crested_cockatoo (82.18%) 왕관앵무\n"
          ],
          "name": "stdout"
        }
      ]
    },
    {
      "cell_type": "code",
      "metadata": {
        "id": "shnCYe1ZEBXk",
        "colab": {
          "base_uri": "https://localhost:8080/"
        },
        "outputId": "30224199-dbd8-4e32-9845-2729158ebd9e"
      },
      "source": [
        "resnet50_list =[]\r\n",
        "for i, img_path in enumerate(glob('./animals/*.jpg')):\r\n",
        "  img = cv2.imread(img_path, -1)\r\n",
        "  img = cv2.resize(img, (224, 224))\r\n",
        "  yhat = resnet50.predict(img.reshape(-1, 224, 224, 3))\r\n",
        "  label = decode_predictions(yhat)\r\n",
        "  label = label[0][0]\r\n",
        "  resnet50_list.append(label[1])\r\n",
        "  print('%s (%.2f%%)' % (label[1], label[2]*100), name[i])"
      ],
      "execution_count": 9,
      "outputs": [
        {
          "output_type": "stream",
          "text": [
            "quail (54.17%) 까마귀\n",
            "Egyptian_cat (34.04%) 러시안블루\n",
            "bald_eagle (99.92%) 독수리\n",
            "Chihuahua (82.83%) 스핑크스\n",
            "Persian_cat (49.13%) 렉돌\n",
            "dingo (24.79%) cat1\n",
            "Persian_cat (47.75%) 페르시안\n",
            "platypus (98.26%) 오리너구리\n",
            "Maltese_dog (72.77%) 말티즈\n",
            "quail (35.64%) 참새\n",
            "fox_squirrel (99.78%) 청설모\n",
            "goose (49.34%) 백조\n",
            "standard_poodle (93.30%) 골든리트리버\n",
            "Pomeranian (99.90%) 포메라니안\n",
            "wood_rabbit (58.24%) 다람쥐\n",
            "silky_terrier (43.09%) 요크셔테리어\n",
            "Siamese_cat (99.88%) 샴\n",
            "magpie (99.98%) 까치\n",
            "dowitcher (31.09%) 황조롱이\n",
            "carousel (37.17%) 왕관앵무\n"
          ],
          "name": "stdout"
        }
      ]
    },
    {
      "cell_type": "code",
      "metadata": {
        "colab": {
          "base_uri": "https://localhost:8080/"
        },
        "id": "TsrMzKxFHcAQ",
        "outputId": "c0bec4e4-4333-4068-ed0c-f61601f274f5"
      },
      "source": [
        "inceptionv3_list = []\r\n",
        "for i, img_path in enumerate(glob('./animals/*.jpg')):\r\n",
        "  img = cv2.imread(img_path, -1)\r\n",
        "  img = cv2.resize(img, (299, 299))\r\n",
        "  yhat = inceptionv3.predict(img.reshape(-1, 299, 299, 3))\r\n",
        "  label = decode_predictions(yhat)\r\n",
        "  label = label[0][0]\r\n",
        "  inceptionv3_list.append(label[1])\r\n",
        "  print('%s (%.2f%%)' % (label[1], label[2]*100), name[i])"
      ],
      "execution_count": 11,
      "outputs": [
        {
          "output_type": "stream",
          "text": [
            "flatworm (99.57%) 까마귀\n",
            "clog (100.00%) 러시안블루\n",
            "pitcher (68.69%) 독수리\n",
            "clog (88.62%) 스핑크스\n",
            "web_site (97.94%) 렉돌\n",
            "flatworm (100.00%) cat1\n",
            "web_site (100.00%) 페르시안\n",
            "pitcher (100.00%) 오리너구리\n",
            "pitcher (100.00%) 말티즈\n",
            "flatworm (100.00%) 참새\n",
            "pitcher (99.99%) 청설모\n",
            "pitcher (96.74%) 백조\n",
            "clog (99.96%) 골든리트리버\n",
            "flatworm (78.48%) 포메라니안\n",
            "pitcher (100.00%) 다람쥐\n",
            "pitcher (100.00%) 요크셔테리어\n",
            "clog (100.00%) 샴\n",
            "pitcher (100.00%) 까치\n",
            "flatworm (100.00%) 황조롱이\n",
            "pitcher (100.00%) 왕관앵무\n"
          ],
          "name": "stdout"
        }
      ]
    },
    {
      "cell_type": "code",
      "metadata": {
        "colab": {
          "base_uri": "https://localhost:8080/",
          "height": 669
        },
        "id": "mhmmeYbHIiFt",
        "outputId": "e0f1f358-91df-4673-a18a-01d1ef6ef1d6"
      },
      "source": [
        "res_df = pd.DataFrame({\r\n",
        "    '원본' : name,\r\n",
        "    'VGGNET 16' : v16_list,\r\n",
        "    'VGGNET 19' : v19_list,\r\n",
        "    'RestNet' : resnet50_list,\r\n",
        "    'inception v3' : inceptionv3_list\r\n",
        "})\r\n",
        "res_df"
      ],
      "execution_count": 12,
      "outputs": [
        {
          "output_type": "execute_result",
          "data": {
            "text/html": [
              "<div>\n",
              "<style scoped>\n",
              "    .dataframe tbody tr th:only-of-type {\n",
              "        vertical-align: middle;\n",
              "    }\n",
              "\n",
              "    .dataframe tbody tr th {\n",
              "        vertical-align: top;\n",
              "    }\n",
              "\n",
              "    .dataframe thead th {\n",
              "        text-align: right;\n",
              "    }\n",
              "</style>\n",
              "<table border=\"1\" class=\"dataframe\">\n",
              "  <thead>\n",
              "    <tr style=\"text-align: right;\">\n",
              "      <th></th>\n",
              "      <th>원본</th>\n",
              "      <th>VGGNET 16</th>\n",
              "      <th>VGGNET 19</th>\n",
              "      <th>RestNet</th>\n",
              "      <th>inception v3</th>\n",
              "    </tr>\n",
              "  </thead>\n",
              "  <tbody>\n",
              "    <tr>\n",
              "      <th>0</th>\n",
              "      <td>까마귀</td>\n",
              "      <td>water_ouzel</td>\n",
              "      <td>quail</td>\n",
              "      <td>quail</td>\n",
              "      <td>flatworm</td>\n",
              "    </tr>\n",
              "    <tr>\n",
              "      <th>1</th>\n",
              "      <td>러시안블루</td>\n",
              "      <td>Egyptian_cat</td>\n",
              "      <td>Egyptian_cat</td>\n",
              "      <td>Egyptian_cat</td>\n",
              "      <td>clog</td>\n",
              "    </tr>\n",
              "    <tr>\n",
              "      <th>2</th>\n",
              "      <td>독수리</td>\n",
              "      <td>bald_eagle</td>\n",
              "      <td>bald_eagle</td>\n",
              "      <td>bald_eagle</td>\n",
              "      <td>pitcher</td>\n",
              "    </tr>\n",
              "    <tr>\n",
              "      <th>3</th>\n",
              "      <td>스핑크스</td>\n",
              "      <td>Egyptian_cat</td>\n",
              "      <td>Egyptian_cat</td>\n",
              "      <td>Chihuahua</td>\n",
              "      <td>clog</td>\n",
              "    </tr>\n",
              "    <tr>\n",
              "      <th>4</th>\n",
              "      <td>렉돌</td>\n",
              "      <td>Arctic_fox</td>\n",
              "      <td>Pomeranian</td>\n",
              "      <td>Persian_cat</td>\n",
              "      <td>web_site</td>\n",
              "    </tr>\n",
              "    <tr>\n",
              "      <th>5</th>\n",
              "      <td>cat1</td>\n",
              "      <td>triceratops</td>\n",
              "      <td>Egyptian_cat</td>\n",
              "      <td>dingo</td>\n",
              "      <td>flatworm</td>\n",
              "    </tr>\n",
              "    <tr>\n",
              "      <th>6</th>\n",
              "      <td>페르시안</td>\n",
              "      <td>Japanese_spaniel</td>\n",
              "      <td>Pomeranian</td>\n",
              "      <td>Persian_cat</td>\n",
              "      <td>web_site</td>\n",
              "    </tr>\n",
              "    <tr>\n",
              "      <th>7</th>\n",
              "      <td>오리너구리</td>\n",
              "      <td>platypus</td>\n",
              "      <td>platypus</td>\n",
              "      <td>platypus</td>\n",
              "      <td>pitcher</td>\n",
              "    </tr>\n",
              "    <tr>\n",
              "      <th>8</th>\n",
              "      <td>말티즈</td>\n",
              "      <td>Maltese_dog</td>\n",
              "      <td>Maltese_dog</td>\n",
              "      <td>Maltese_dog</td>\n",
              "      <td>pitcher</td>\n",
              "    </tr>\n",
              "    <tr>\n",
              "      <th>9</th>\n",
              "      <td>참새</td>\n",
              "      <td>jay</td>\n",
              "      <td>jay</td>\n",
              "      <td>quail</td>\n",
              "      <td>flatworm</td>\n",
              "    </tr>\n",
              "    <tr>\n",
              "      <th>10</th>\n",
              "      <td>청설모</td>\n",
              "      <td>fox_squirrel</td>\n",
              "      <td>fox_squirrel</td>\n",
              "      <td>fox_squirrel</td>\n",
              "      <td>pitcher</td>\n",
              "    </tr>\n",
              "    <tr>\n",
              "      <th>11</th>\n",
              "      <td>백조</td>\n",
              "      <td>American_egret</td>\n",
              "      <td>American_egret</td>\n",
              "      <td>goose</td>\n",
              "      <td>pitcher</td>\n",
              "    </tr>\n",
              "    <tr>\n",
              "      <th>12</th>\n",
              "      <td>골든리트리버</td>\n",
              "      <td>standard_poodle</td>\n",
              "      <td>clumber</td>\n",
              "      <td>standard_poodle</td>\n",
              "      <td>clog</td>\n",
              "    </tr>\n",
              "    <tr>\n",
              "      <th>13</th>\n",
              "      <td>포메라니안</td>\n",
              "      <td>Pomeranian</td>\n",
              "      <td>Pomeranian</td>\n",
              "      <td>Pomeranian</td>\n",
              "      <td>flatworm</td>\n",
              "    </tr>\n",
              "    <tr>\n",
              "      <th>14</th>\n",
              "      <td>다람쥐</td>\n",
              "      <td>tailed_frog</td>\n",
              "      <td>hare</td>\n",
              "      <td>wood_rabbit</td>\n",
              "      <td>pitcher</td>\n",
              "    </tr>\n",
              "    <tr>\n",
              "      <th>15</th>\n",
              "      <td>요크셔테리어</td>\n",
              "      <td>Australian_terrier</td>\n",
              "      <td>silky_terrier</td>\n",
              "      <td>silky_terrier</td>\n",
              "      <td>pitcher</td>\n",
              "    </tr>\n",
              "    <tr>\n",
              "      <th>16</th>\n",
              "      <td>샴</td>\n",
              "      <td>Siamese_cat</td>\n",
              "      <td>Siamese_cat</td>\n",
              "      <td>Siamese_cat</td>\n",
              "      <td>clog</td>\n",
              "    </tr>\n",
              "    <tr>\n",
              "      <th>17</th>\n",
              "      <td>까치</td>\n",
              "      <td>magpie</td>\n",
              "      <td>magpie</td>\n",
              "      <td>magpie</td>\n",
              "      <td>pitcher</td>\n",
              "    </tr>\n",
              "    <tr>\n",
              "      <th>18</th>\n",
              "      <td>황조롱이</td>\n",
              "      <td>red-backed_sandpiper</td>\n",
              "      <td>red-backed_sandpiper</td>\n",
              "      <td>dowitcher</td>\n",
              "      <td>flatworm</td>\n",
              "    </tr>\n",
              "    <tr>\n",
              "      <th>19</th>\n",
              "      <td>왕관앵무</td>\n",
              "      <td>sulphur-crested_cockatoo</td>\n",
              "      <td>sulphur-crested_cockatoo</td>\n",
              "      <td>carousel</td>\n",
              "      <td>pitcher</td>\n",
              "    </tr>\n",
              "  </tbody>\n",
              "</table>\n",
              "</div>"
            ],
            "text/plain": [
              "        원본                 VGGNET 16  ...          RestNet inception v3\n",
              "0      까마귀               water_ouzel  ...            quail     flatworm\n",
              "1    러시안블루              Egyptian_cat  ...     Egyptian_cat         clog\n",
              "2      독수리                bald_eagle  ...       bald_eagle      pitcher\n",
              "3     스핑크스              Egyptian_cat  ...        Chihuahua         clog\n",
              "4       렉돌                Arctic_fox  ...      Persian_cat     web_site\n",
              "5     cat1               triceratops  ...            dingo     flatworm\n",
              "6     페르시안          Japanese_spaniel  ...      Persian_cat     web_site\n",
              "7    오리너구리                  platypus  ...         platypus      pitcher\n",
              "8      말티즈               Maltese_dog  ...      Maltese_dog      pitcher\n",
              "9       참새                       jay  ...            quail     flatworm\n",
              "10     청설모              fox_squirrel  ...     fox_squirrel      pitcher\n",
              "11      백조            American_egret  ...            goose      pitcher\n",
              "12  골든리트리버           standard_poodle  ...  standard_poodle         clog\n",
              "13   포메라니안                Pomeranian  ...       Pomeranian     flatworm\n",
              "14     다람쥐               tailed_frog  ...      wood_rabbit      pitcher\n",
              "15  요크셔테리어        Australian_terrier  ...    silky_terrier      pitcher\n",
              "16       샴               Siamese_cat  ...      Siamese_cat         clog\n",
              "17      까치                    magpie  ...           magpie      pitcher\n",
              "18    황조롱이      red-backed_sandpiper  ...        dowitcher     flatworm\n",
              "19    왕관앵무  sulphur-crested_cockatoo  ...         carousel      pitcher\n",
              "\n",
              "[20 rows x 5 columns]"
            ]
          },
          "metadata": {
            "tags": []
          },
          "execution_count": 12
        }
      ]
    },
    {
      "cell_type": "code",
      "metadata": {
        "id": "9-07vQKHJpZn"
      },
      "source": [
        ""
      ],
      "execution_count": null,
      "outputs": []
    }
  ]
}