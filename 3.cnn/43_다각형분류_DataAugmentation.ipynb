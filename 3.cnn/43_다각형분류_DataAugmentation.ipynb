{
  "nbformat": 4,
  "nbformat_minor": 0,
  "metadata": {
    "colab": {
      "name": "43_다각형분류_DataAugmentation.ipynb",
      "provenance": [],
      "collapsed_sections": []
    },
    "kernelspec": {
      "name": "python3",
      "display_name": "Python 3"
    }
  },
  "cells": [
    {
      "cell_type": "markdown",
      "metadata": {
        "id": "V4v5nv3ucWJm"
      },
      "source": [
        "# 원 삼각형 사각형 구분하기\r\n",
        "## 3. Data Augmentation을 사용한 CNN 모델\r\n"
      ]
    },
    {
      "cell_type": "code",
      "metadata": {
        "id": "9mA2vZhRbuTr"
      },
      "source": [
        "!unzip -qq handwriting_shape.zip -d handwriting_shape"
      ],
      "execution_count": 1,
      "outputs": []
    },
    {
      "cell_type": "code",
      "metadata": {
        "id": "qM1TWozScmyF"
      },
      "source": [
        "!unzip -qq hard_handwriting_shape.zip -d hard_handwriting_shape"
      ],
      "execution_count": 2,
      "outputs": []
    },
    {
      "cell_type": "markdown",
      "metadata": {
        "id": "XU6FmpZiGOWh"
      },
      "source": [
        ""
      ]
    },
    {
      "cell_type": "code",
      "metadata": {
        "id": "x4M5btAdc6ud"
      },
      "source": [
        "import numpy as np\r\n",
        "import tensorflow as tf\r\n",
        "from tensorflow.keras.models import  Sequential\r\n",
        "from tensorflow.keras.layers import Dense, Flatten, Conv2D, MaxPooling2D\r\n",
        "from tensorflow.keras.preprocessing.image import ImageDataGenerator"
      ],
      "execution_count": 1,
      "outputs": []
    },
    {
      "cell_type": "code",
      "metadata": {
        "id": "cX4V6DuId-iv"
      },
      "source": [
        "seed = 2021\r\n",
        "np.random.seed(seed)\r\n",
        "tf.random.set_seed(seed)"
      ],
      "execution_count": 2,
      "outputs": []
    },
    {
      "cell_type": "markdown",
      "metadata": {
        "id": "4ocEeu4oGZoq"
      },
      "source": [
        "### 데이터 부풀리기(Augmentation)"
      ]
    },
    {
      "cell_type": "code",
      "metadata": {
        "id": "j3wD-zznGyFq"
      },
      "source": [
        "from tensorflow.keras.preprocessing.image import array_to_img, img_to_array, load_img"
      ],
      "execution_count": 6,
      "outputs": []
    },
    {
      "cell_type": "code",
      "metadata": {
        "id": "n3zurZJoGfyx"
      },
      "source": [
        "# 데이터 부풀리기를 적용한 훈련 데이터 제너레이터\r\n",
        "train_datagen = ImageDataGenerator(rescale=1./255, \r\n",
        "                                   rotation_range=15,\r\n",
        "                                   width_shift_range=0.1,\r\n",
        "                                   height_shift_range=0.1,\r\n",
        "                                   shear_range=0.5,\r\n",
        "                                   zoom_range=[0.8, 2.0],\r\n",
        "                                   horizontal_flip=True,\r\n",
        "                                   vertical_flip=True,\r\n",
        "                                   fill_mode='nearest')"
      ],
      "execution_count": 7,
      "outputs": []
    },
    {
      "cell_type": "code",
      "metadata": {
        "colab": {
          "base_uri": "https://localhost:8080/"
        },
        "id": "3kt34X4fGipU",
        "outputId": "7e6009b8-311e-4b28-a96f-f5e65ab5cac1"
      },
      "source": [
        "!mkdir preview"
      ],
      "execution_count": 8,
      "outputs": [
        {
          "output_type": "stream",
          "text": [
            "mkdir: cannot create directory ‘preview’: File exists\n"
          ],
          "name": "stdout"
        }
      ]
    },
    {
      "cell_type": "code",
      "metadata": {
        "id": "j7YIcOeiGigb"
      },
      "source": [
        "img = load_img('hard_handwriting_shape/train/triangle/triangle001.png')\r\n",
        "x = img_to_array(img)\r\n",
        "x = x.reshape((1,) + x.shape)\r\n",
        "\r\n",
        "i = 0\r\n",
        "\r\n",
        "# 무한 for loop이니 주의!!!\r\n",
        "for batch in train_datagen.flow(x, batch_size=1, save_to_dir='preview', \r\n",
        "                                save_prefix='tri', save_format='png'):\r\n",
        "    i += 1\r\n",
        "    if i > 30: \r\n",
        "        break"
      ],
      "execution_count": 9,
      "outputs": []
    },
    {
      "cell_type": "code",
      "metadata": {
        "colab": {
          "base_uri": "https://localhost:8080/"
        },
        "id": "3JoMWpDBGnCT",
        "outputId": "255c2a04-d28f-4d1e-94dc-fc4d88354a1a"
      },
      "source": [
        "!ls preview"
      ],
      "execution_count": 10,
      "outputs": [
        {
          "output_type": "stream",
          "text": [
            "tri_0_1270.png\ttri_0_3759.png\ttri_0_5798.png\ttri_0_7897.png\ttri_0_9797.png\n",
            "tri_0_1302.png\ttri_0_3825.png\ttri_0_5881.png\ttri_0_8211.png\ttri_0_9854.png\n",
            "tri_0_1585.png\ttri_0_403.png\ttri_0_6416.png\ttri_0_8288.png\ttri_0_9972.png\n",
            "tri_0_2407.png\ttri_0_4949.png\ttri_0_6427.png\ttri_0_8923.png\n",
            "tri_0_2997.png\ttri_0_5158.png\ttri_0_6646.png\ttri_0_9089.png\n",
            "tri_0_3418.png\ttri_0_519.png\ttri_0_7259.png\ttri_0_928.png\n",
            "tri_0_3503.png\ttri_0_5672.png\ttri_0_7282.png\ttri_0_9575.png\n"
          ],
          "name": "stdout"
        }
      ]
    },
    {
      "cell_type": "code",
      "metadata": {
        "colab": {
          "base_uri": "https://localhost:8080/"
        },
        "id": "n1DQ4yODeDT1",
        "outputId": "1609e13d-c1e2-47dc-d500-133ef19c0e25"
      },
      "source": [
        "train_generator = train_datagen.flow_from_directory(\r\n",
        "    'hard_handwriting_shape/train',\r\n",
        "    target_size=(24,24),\r\n",
        "    batch_size=3,\r\n",
        "    class_mode='categorical'\r\n",
        ")"
      ],
      "execution_count": 11,
      "outputs": [
        {
          "output_type": "stream",
          "text": [
            "Found 45 images belonging to 3 classes.\n"
          ],
          "name": "stdout"
        }
      ]
    },
    {
      "cell_type": "code",
      "metadata": {
        "colab": {
          "base_uri": "https://localhost:8080/"
        },
        "id": "oBd-S9uxetou",
        "outputId": "585dd29b-a6e6-4259-91c8-e4b21654e663"
      },
      "source": [
        "test_datagen = ImageDataGenerator(rescale=1./255)\r\n",
        "test_generator = test_datagen.flow_from_directory(\r\n",
        "    'hard_handwriting_shape/test',\r\n",
        "    target_size=(24,24),\r\n",
        "    batch_size=3,\r\n",
        "    class_mode='categorical'\r\n",
        ")"
      ],
      "execution_count": 12,
      "outputs": [
        {
          "output_type": "stream",
          "text": [
            "Found 15 images belonging to 3 classes.\n"
          ],
          "name": "stdout"
        }
      ]
    },
    {
      "cell_type": "markdown",
      "metadata": {
        "id": "YExsnMTOEpuJ"
      },
      "source": [
        "### 모델 정의/설정/학습"
      ]
    },
    {
      "cell_type": "code",
      "metadata": {
        "id": "U2IRInZSfUN2",
        "colab": {
          "base_uri": "https://localhost:8080/"
        },
        "outputId": "908847b9-b327-4939-9ce0-f1b2326f38d0"
      },
      "source": [
        "model = Sequential()\r\n",
        "model.add(Conv2D(32, kernel_size=(3, 3),\r\n",
        "                 activation='relu', input_shape=(24,24,3)))\r\n",
        "model.add(Conv2D(64, (3, 3), activation='relu'))\r\n",
        "model.add(MaxPooling2D(pool_size=(2, 2)))\r\n",
        "model.add(Flatten())\r\n",
        "model.add(Dense(128, activation='relu'))\r\n",
        "model.add(Dense(3, activation='softmax'))\r\n",
        "model.summary()"
      ],
      "execution_count": 13,
      "outputs": [
        {
          "output_type": "stream",
          "text": [
            "Model: \"sequential\"\n",
            "_________________________________________________________________\n",
            "Layer (type)                 Output Shape              Param #   \n",
            "=================================================================\n",
            "conv2d (Conv2D)              (None, 22, 22, 32)        896       \n",
            "_________________________________________________________________\n",
            "conv2d_1 (Conv2D)            (None, 20, 20, 64)        18496     \n",
            "_________________________________________________________________\n",
            "max_pooling2d (MaxPooling2D) (None, 10, 10, 64)        0         \n",
            "_________________________________________________________________\n",
            "flatten (Flatten)            (None, 6400)              0         \n",
            "_________________________________________________________________\n",
            "dense (Dense)                (None, 128)               819328    \n",
            "_________________________________________________________________\n",
            "dense_1 (Dense)              (None, 3)                 387       \n",
            "=================================================================\n",
            "Total params: 839,107\n",
            "Trainable params: 839,107\n",
            "Non-trainable params: 0\n",
            "_________________________________________________________________\n"
          ],
          "name": "stdout"
        }
      ]
    },
    {
      "cell_type": "code",
      "metadata": {
        "id": "9eDDNU8ggZte"
      },
      "source": [
        "model.compile(loss='categorical_crossentropy',\r\n",
        "              optimizer='adam', metrics=['accuracy'])"
      ],
      "execution_count": 14,
      "outputs": []
    },
    {
      "cell_type": "markdown",
      "metadata": {
        "id": "fUZkX2cpgvAW"
      },
      "source": [
        "## 모델학습시키기\r\n",
        "- 첫번째 인자 : 훈련데이터셋을 제공할 제네레이터를 지정. 본 예제에서는 앞서 생성한 train_generator으로 지정.\r\n",
        "- steps_per_epoch : 한 epoch에 사용한 스텝 수를 지정. 총 45개의 훈련 샘플이 있고 배치사이즈가 3이므로 15 스텝으로 지정.\r\n",
        "- epochs : 전체 훈련 데이터셋에 대해 학습 반복 횟수를 지정. 200번을 반복적으로 학습.\r\n",
        "- validation_data : 검증데이터셋을 제공할 제네레이터를 지정. 본 예제에서는 앞서 생성한 test_generator으로 지정.\r\n",
        "- validation_steps : 한 epoch 종료 시 마다 검증할 때 사용되는 검증 스텝 수를 지정. 총 15개의 검증 샘플이 있고 배치사이즈가 3이므로 5 스텝으로 지정."
      ]
    },
    {
      "cell_type": "code",
      "metadata": {
        "id": "mr_7zjiTgtA_",
        "colab": {
          "base_uri": "https://localhost:8080/"
        },
        "outputId": "ded917be-ea61-44ef-9212-19fc128ed045"
      },
      "source": [
        "model.fit_generator(\r\n",
        "        train_generator,\r\n",
        "        steps_per_epoch=15,\r\n",
        "        epochs=200,\r\n",
        "        validation_data=test_generator,\r\n",
        "        validation_steps=5)"
      ],
      "execution_count": 15,
      "outputs": [
        {
          "output_type": "stream",
          "text": [
            "/usr/local/lib/python3.6/dist-packages/tensorflow/python/keras/engine/training.py:1844: UserWarning: `Model.fit_generator` is deprecated and will be removed in a future version. Please use `Model.fit`, which supports generators.\n",
            "  warnings.warn('`Model.fit_generator` is deprecated and '\n"
          ],
          "name": "stderr"
        },
        {
          "output_type": "stream",
          "text": [
            "Epoch 1/200\n",
            "15/15 [==============================] - 1s 39ms/step - loss: 1.2746 - accuracy: 0.2797 - val_loss: 1.1405 - val_accuracy: 0.3333\n",
            "Epoch 2/200\n",
            "15/15 [==============================] - 0s 25ms/step - loss: 1.1154 - accuracy: 0.3850 - val_loss: 1.0911 - val_accuracy: 0.5333\n",
            "Epoch 3/200\n",
            "15/15 [==============================] - 0s 25ms/step - loss: 1.0573 - accuracy: 0.4880 - val_loss: 1.0892 - val_accuracy: 0.5333\n",
            "Epoch 4/200\n",
            "15/15 [==============================] - 0s 25ms/step - loss: 0.9700 - accuracy: 0.4758 - val_loss: 1.1420 - val_accuracy: 0.4000\n",
            "Epoch 5/200\n",
            "15/15 [==============================] - 0s 26ms/step - loss: 0.7037 - accuracy: 0.7669 - val_loss: 1.1727 - val_accuracy: 0.5333\n",
            "Epoch 6/200\n",
            "15/15 [==============================] - 0s 24ms/step - loss: 0.6580 - accuracy: 0.6986 - val_loss: 1.3651 - val_accuracy: 0.5333\n",
            "Epoch 7/200\n",
            "15/15 [==============================] - 0s 26ms/step - loss: 0.5298 - accuracy: 0.7730 - val_loss: 1.1501 - val_accuracy: 0.5333\n",
            "Epoch 8/200\n",
            "15/15 [==============================] - 0s 24ms/step - loss: 0.4949 - accuracy: 0.8255 - val_loss: 1.1423 - val_accuracy: 0.6000\n",
            "Epoch 9/200\n",
            "15/15 [==============================] - 0s 26ms/step - loss: 0.6102 - accuracy: 0.6797 - val_loss: 1.1750 - val_accuracy: 0.6000\n",
            "Epoch 10/200\n",
            "15/15 [==============================] - 0s 24ms/step - loss: 0.6150 - accuracy: 0.8405 - val_loss: 1.5981 - val_accuracy: 0.6667\n",
            "Epoch 11/200\n",
            "15/15 [==============================] - 0s 25ms/step - loss: 0.1736 - accuracy: 0.9676 - val_loss: 1.8491 - val_accuracy: 0.6000\n",
            "Epoch 12/200\n",
            "15/15 [==============================] - 0s 26ms/step - loss: 0.1707 - accuracy: 0.9105 - val_loss: 1.7578 - val_accuracy: 0.6667\n",
            "Epoch 13/200\n",
            "15/15 [==============================] - 0s 25ms/step - loss: 0.1869 - accuracy: 0.9364 - val_loss: 2.1869 - val_accuracy: 0.6000\n",
            "Epoch 14/200\n",
            "15/15 [==============================] - 0s 25ms/step - loss: 0.2317 - accuracy: 0.9024 - val_loss: 1.2977 - val_accuracy: 0.6667\n",
            "Epoch 15/200\n",
            "15/15 [==============================] - 0s 25ms/step - loss: 0.3698 - accuracy: 0.8528 - val_loss: 1.0976 - val_accuracy: 0.6667\n",
            "Epoch 16/200\n",
            "15/15 [==============================] - 0s 25ms/step - loss: 0.4445 - accuracy: 0.8836 - val_loss: 0.8660 - val_accuracy: 0.7333\n",
            "Epoch 17/200\n",
            "15/15 [==============================] - 0s 27ms/step - loss: 0.0876 - accuracy: 0.9924 - val_loss: 0.8889 - val_accuracy: 0.8000\n",
            "Epoch 18/200\n",
            "15/15 [==============================] - 0s 26ms/step - loss: 0.1451 - accuracy: 0.9382 - val_loss: 1.0280 - val_accuracy: 0.7333\n",
            "Epoch 19/200\n",
            "15/15 [==============================] - 0s 27ms/step - loss: 0.0402 - accuracy: 1.0000 - val_loss: 1.0897 - val_accuracy: 0.7333\n",
            "Epoch 20/200\n",
            "15/15 [==============================] - 0s 26ms/step - loss: 0.0608 - accuracy: 0.9805 - val_loss: 0.9360 - val_accuracy: 0.8000\n",
            "Epoch 21/200\n",
            "15/15 [==============================] - 0s 25ms/step - loss: 0.1653 - accuracy: 0.9181 - val_loss: 0.9492 - val_accuracy: 0.7333\n",
            "Epoch 22/200\n",
            "15/15 [==============================] - 0s 28ms/step - loss: 0.1954 - accuracy: 0.9330 - val_loss: 0.8932 - val_accuracy: 0.6667\n",
            "Epoch 23/200\n",
            "15/15 [==============================] - 0s 25ms/step - loss: 0.5011 - accuracy: 0.8002 - val_loss: 0.8076 - val_accuracy: 0.7333\n",
            "Epoch 24/200\n",
            "15/15 [==============================] - 0s 26ms/step - loss: 0.1175 - accuracy: 0.9564 - val_loss: 1.3425 - val_accuracy: 0.7333\n",
            "Epoch 25/200\n",
            "15/15 [==============================] - 0s 25ms/step - loss: 0.0874 - accuracy: 1.0000 - val_loss: 1.5023 - val_accuracy: 0.7333\n",
            "Epoch 26/200\n",
            "15/15 [==============================] - 0s 25ms/step - loss: 0.0707 - accuracy: 0.9941 - val_loss: 1.8459 - val_accuracy: 0.7333\n",
            "Epoch 27/200\n",
            "15/15 [==============================] - 0s 26ms/step - loss: 0.0148 - accuracy: 1.0000 - val_loss: 1.4303 - val_accuracy: 0.7333\n",
            "Epoch 28/200\n",
            "15/15 [==============================] - 1s 34ms/step - loss: 0.0392 - accuracy: 1.0000 - val_loss: 1.6241 - val_accuracy: 0.7333\n",
            "Epoch 29/200\n",
            "15/15 [==============================] - 0s 25ms/step - loss: 0.0318 - accuracy: 0.9771 - val_loss: 2.2238 - val_accuracy: 0.7333\n",
            "Epoch 30/200\n",
            "15/15 [==============================] - 0s 25ms/step - loss: 0.1372 - accuracy: 0.9612 - val_loss: 2.6937 - val_accuracy: 0.6000\n",
            "Epoch 31/200\n",
            "15/15 [==============================] - 0s 26ms/step - loss: 0.0867 - accuracy: 0.9810 - val_loss: 1.8259 - val_accuracy: 0.7333\n",
            "Epoch 32/200\n",
            "15/15 [==============================] - 0s 24ms/step - loss: 0.0743 - accuracy: 0.9712 - val_loss: 1.8711 - val_accuracy: 0.7333\n",
            "Epoch 33/200\n",
            "15/15 [==============================] - 0s 25ms/step - loss: 0.0738 - accuracy: 0.9607 - val_loss: 1.5581 - val_accuracy: 0.7333\n",
            "Epoch 34/200\n",
            "15/15 [==============================] - 0s 27ms/step - loss: 0.1164 - accuracy: 0.9776 - val_loss: 1.3027 - val_accuracy: 0.7333\n",
            "Epoch 35/200\n",
            "15/15 [==============================] - 0s 27ms/step - loss: 0.0919 - accuracy: 0.9533 - val_loss: 2.4823 - val_accuracy: 0.6000\n",
            "Epoch 36/200\n",
            "15/15 [==============================] - 0s 25ms/step - loss: 0.0640 - accuracy: 0.9808 - val_loss: 1.3331 - val_accuracy: 0.7333\n",
            "Epoch 37/200\n",
            "15/15 [==============================] - 0s 24ms/step - loss: 0.0871 - accuracy: 1.0000 - val_loss: 1.2387 - val_accuracy: 0.8000\n",
            "Epoch 38/200\n",
            "15/15 [==============================] - 0s 25ms/step - loss: 0.0305 - accuracy: 1.0000 - val_loss: 1.6495 - val_accuracy: 0.7333\n",
            "Epoch 39/200\n",
            "15/15 [==============================] - 0s 25ms/step - loss: 0.0287 - accuracy: 0.9905 - val_loss: 1.5510 - val_accuracy: 0.8000\n",
            "Epoch 40/200\n",
            "15/15 [==============================] - 0s 26ms/step - loss: 0.1188 - accuracy: 0.9771 - val_loss: 1.0421 - val_accuracy: 0.8000\n",
            "Epoch 41/200\n",
            "15/15 [==============================] - 0s 25ms/step - loss: 0.1636 - accuracy: 0.9338 - val_loss: 2.2513 - val_accuracy: 0.6000\n",
            "Epoch 42/200\n",
            "15/15 [==============================] - 0s 25ms/step - loss: 0.0383 - accuracy: 1.0000 - val_loss: 1.4172 - val_accuracy: 0.6667\n",
            "Epoch 43/200\n",
            "15/15 [==============================] - 0s 26ms/step - loss: 0.0335 - accuracy: 1.0000 - val_loss: 1.8636 - val_accuracy: 0.6667\n",
            "Epoch 44/200\n",
            "15/15 [==============================] - 0s 26ms/step - loss: 0.2567 - accuracy: 0.8908 - val_loss: 1.2119 - val_accuracy: 0.7333\n",
            "Epoch 45/200\n",
            "15/15 [==============================] - 0s 26ms/step - loss: 0.0902 - accuracy: 0.9499 - val_loss: 2.4270 - val_accuracy: 0.6000\n",
            "Epoch 46/200\n",
            "15/15 [==============================] - 0s 26ms/step - loss: 0.0933 - accuracy: 0.9771 - val_loss: 2.3747 - val_accuracy: 0.6667\n",
            "Epoch 47/200\n",
            "15/15 [==============================] - 0s 26ms/step - loss: 0.0264 - accuracy: 1.0000 - val_loss: 3.1914 - val_accuracy: 0.6000\n",
            "Epoch 48/200\n",
            "15/15 [==============================] - 0s 25ms/step - loss: 0.0212 - accuracy: 1.0000 - val_loss: 2.8754 - val_accuracy: 0.6000\n",
            "Epoch 49/200\n",
            "15/15 [==============================] - 0s 27ms/step - loss: 0.0036 - accuracy: 1.0000 - val_loss: 3.0831 - val_accuracy: 0.6000\n",
            "Epoch 50/200\n",
            "15/15 [==============================] - 0s 26ms/step - loss: 0.0054 - accuracy: 1.0000 - val_loss: 2.2673 - val_accuracy: 0.6667\n",
            "Epoch 51/200\n",
            "15/15 [==============================] - 0s 26ms/step - loss: 0.0085 - accuracy: 1.0000 - val_loss: 2.1141 - val_accuracy: 0.6667\n",
            "Epoch 52/200\n",
            "15/15 [==============================] - 0s 25ms/step - loss: 0.0018 - accuracy: 1.0000 - val_loss: 2.6313 - val_accuracy: 0.6000\n",
            "Epoch 53/200\n",
            "15/15 [==============================] - 0s 25ms/step - loss: 0.0016 - accuracy: 1.0000 - val_loss: 2.7373 - val_accuracy: 0.6000\n",
            "Epoch 54/200\n",
            "15/15 [==============================] - 0s 26ms/step - loss: 0.0375 - accuracy: 0.9861 - val_loss: 1.6015 - val_accuracy: 0.7333\n",
            "Epoch 55/200\n",
            "15/15 [==============================] - 0s 26ms/step - loss: 0.1248 - accuracy: 0.9538 - val_loss: 1.8047 - val_accuracy: 0.7333\n",
            "Epoch 56/200\n",
            "15/15 [==============================] - 0s 25ms/step - loss: 0.0286 - accuracy: 0.9957 - val_loss: 2.0876 - val_accuracy: 0.6667\n",
            "Epoch 57/200\n",
            "15/15 [==============================] - 0s 25ms/step - loss: 0.0360 - accuracy: 0.9835 - val_loss: 1.8449 - val_accuracy: 0.7333\n",
            "Epoch 58/200\n",
            "15/15 [==============================] - 0s 25ms/step - loss: 0.0222 - accuracy: 0.9957 - val_loss: 2.3141 - val_accuracy: 0.7333\n",
            "Epoch 59/200\n",
            "15/15 [==============================] - 0s 27ms/step - loss: 0.1729 - accuracy: 0.9729 - val_loss: 1.9780 - val_accuracy: 0.6000\n",
            "Epoch 60/200\n",
            "15/15 [==============================] - 0s 27ms/step - loss: 0.0410 - accuracy: 0.9924 - val_loss: 2.3469 - val_accuracy: 0.6000\n",
            "Epoch 61/200\n",
            "15/15 [==============================] - 0s 25ms/step - loss: 0.0418 - accuracy: 0.9759 - val_loss: 3.7072 - val_accuracy: 0.4667\n",
            "Epoch 62/200\n",
            "15/15 [==============================] - 0s 25ms/step - loss: 0.4832 - accuracy: 0.8939 - val_loss: 2.6331 - val_accuracy: 0.6000\n",
            "Epoch 63/200\n",
            "15/15 [==============================] - 0s 27ms/step - loss: 0.2824 - accuracy: 0.8827 - val_loss: 1.1879 - val_accuracy: 0.8667\n",
            "Epoch 64/200\n",
            "15/15 [==============================] - 0s 26ms/step - loss: 0.0453 - accuracy: 1.0000 - val_loss: 1.4327 - val_accuracy: 0.7333\n",
            "Epoch 65/200\n",
            "15/15 [==============================] - 0s 26ms/step - loss: 0.1186 - accuracy: 0.9649 - val_loss: 1.4891 - val_accuracy: 0.8000\n",
            "Epoch 66/200\n",
            "15/15 [==============================] - 0s 27ms/step - loss: 0.1100 - accuracy: 0.9267 - val_loss: 1.2880 - val_accuracy: 0.7333\n",
            "Epoch 67/200\n",
            "15/15 [==============================] - 0s 25ms/step - loss: 0.2228 - accuracy: 0.9256 - val_loss: 1.2110 - val_accuracy: 0.8667\n",
            "Epoch 68/200\n",
            "15/15 [==============================] - 0s 26ms/step - loss: 0.0365 - accuracy: 1.0000 - val_loss: 1.2309 - val_accuracy: 0.7333\n",
            "Epoch 69/200\n",
            "15/15 [==============================] - 0s 26ms/step - loss: 0.0145 - accuracy: 1.0000 - val_loss: 1.4169 - val_accuracy: 0.7333\n",
            "Epoch 70/200\n",
            "15/15 [==============================] - 0s 27ms/step - loss: 0.0164 - accuracy: 1.0000 - val_loss: 1.6567 - val_accuracy: 0.7333\n",
            "Epoch 71/200\n",
            "15/15 [==============================] - 0s 26ms/step - loss: 0.0157 - accuracy: 1.0000 - val_loss: 1.8513 - val_accuracy: 0.7333\n",
            "Epoch 72/200\n",
            "15/15 [==============================] - 0s 25ms/step - loss: 0.0381 - accuracy: 0.9807 - val_loss: 1.4842 - val_accuracy: 0.7333\n",
            "Epoch 73/200\n",
            "15/15 [==============================] - 0s 26ms/step - loss: 0.0281 - accuracy: 1.0000 - val_loss: 1.7083 - val_accuracy: 0.6667\n",
            "Epoch 74/200\n",
            "15/15 [==============================] - 0s 26ms/step - loss: 0.0303 - accuracy: 1.0000 - val_loss: 1.7937 - val_accuracy: 0.7333\n",
            "Epoch 75/200\n",
            "15/15 [==============================] - 0s 26ms/step - loss: 0.0062 - accuracy: 1.0000 - val_loss: 1.7894 - val_accuracy: 0.7333\n",
            "Epoch 76/200\n",
            "15/15 [==============================] - 1s 36ms/step - loss: 0.0073 - accuracy: 1.0000 - val_loss: 1.9087 - val_accuracy: 0.7333\n",
            "Epoch 77/200\n",
            "15/15 [==============================] - 0s 25ms/step - loss: 0.0097 - accuracy: 1.0000 - val_loss: 1.9744 - val_accuracy: 0.7333\n",
            "Epoch 78/200\n",
            "15/15 [==============================] - 0s 25ms/step - loss: 0.0018 - accuracy: 1.0000 - val_loss: 2.0238 - val_accuracy: 0.7333\n",
            "Epoch 79/200\n",
            "15/15 [==============================] - 0s 25ms/step - loss: 0.0046 - accuracy: 1.0000 - val_loss: 2.0542 - val_accuracy: 0.7333\n",
            "Epoch 80/200\n",
            "15/15 [==============================] - 0s 25ms/step - loss: 0.0242 - accuracy: 0.9884 - val_loss: 1.7283 - val_accuracy: 0.8000\n",
            "Epoch 81/200\n",
            "15/15 [==============================] - 0s 25ms/step - loss: 0.0026 - accuracy: 1.0000 - val_loss: 1.5983 - val_accuracy: 0.8000\n",
            "Epoch 82/200\n",
            "15/15 [==============================] - 0s 26ms/step - loss: 0.0038 - accuracy: 1.0000 - val_loss: 1.6775 - val_accuracy: 0.8000\n",
            "Epoch 83/200\n",
            "15/15 [==============================] - 0s 27ms/step - loss: 0.0299 - accuracy: 1.0000 - val_loss: 1.5900 - val_accuracy: 0.8000\n",
            "Epoch 84/200\n",
            "15/15 [==============================] - 0s 26ms/step - loss: 0.0099 - accuracy: 0.9924 - val_loss: 2.0217 - val_accuracy: 0.8000\n",
            "Epoch 85/200\n",
            "15/15 [==============================] - 0s 27ms/step - loss: 0.0165 - accuracy: 1.0000 - val_loss: 2.5789 - val_accuracy: 0.8000\n",
            "Epoch 86/200\n",
            "15/15 [==============================] - 0s 27ms/step - loss: 0.1072 - accuracy: 0.9441 - val_loss: 3.1325 - val_accuracy: 0.6000\n",
            "Epoch 87/200\n",
            "15/15 [==============================] - 0s 27ms/step - loss: 0.1631 - accuracy: 0.9338 - val_loss: 1.7962 - val_accuracy: 0.7333\n",
            "Epoch 88/200\n",
            "15/15 [==============================] - 0s 26ms/step - loss: 0.0914 - accuracy: 0.9677 - val_loss: 5.6749 - val_accuracy: 0.4667\n",
            "Epoch 89/200\n",
            "15/15 [==============================] - 0s 26ms/step - loss: 0.0914 - accuracy: 0.9771 - val_loss: 1.7205 - val_accuracy: 0.8000\n",
            "Epoch 90/200\n",
            "15/15 [==============================] - 0s 27ms/step - loss: 0.0326 - accuracy: 1.0000 - val_loss: 1.7539 - val_accuracy: 0.8000\n",
            "Epoch 91/200\n",
            "15/15 [==============================] - 0s 27ms/step - loss: 0.3300 - accuracy: 0.9274 - val_loss: 1.8854 - val_accuracy: 0.8000\n",
            "Epoch 92/200\n",
            "15/15 [==============================] - 0s 27ms/step - loss: 0.0329 - accuracy: 0.9924 - val_loss: 1.9508 - val_accuracy: 0.8000\n",
            "Epoch 93/200\n",
            "15/15 [==============================] - 0s 26ms/step - loss: 0.0121 - accuracy: 1.0000 - val_loss: 1.8248 - val_accuracy: 0.8000\n",
            "Epoch 94/200\n",
            "15/15 [==============================] - 0s 26ms/step - loss: 0.0139 - accuracy: 1.0000 - val_loss: 1.7147 - val_accuracy: 0.8000\n",
            "Epoch 95/200\n",
            "15/15 [==============================] - 0s 28ms/step - loss: 0.0542 - accuracy: 0.9924 - val_loss: 1.5139 - val_accuracy: 0.8000\n",
            "Epoch 96/200\n",
            "15/15 [==============================] - 0s 26ms/step - loss: 0.0534 - accuracy: 0.9835 - val_loss: 1.9210 - val_accuracy: 0.8000\n",
            "Epoch 97/200\n",
            "15/15 [==============================] - 0s 26ms/step - loss: 0.0036 - accuracy: 1.0000 - val_loss: 2.2446 - val_accuracy: 0.6000\n",
            "Epoch 98/200\n",
            "15/15 [==============================] - 0s 26ms/step - loss: 0.0194 - accuracy: 1.0000 - val_loss: 2.2726 - val_accuracy: 0.6667\n",
            "Epoch 99/200\n",
            "15/15 [==============================] - 0s 26ms/step - loss: 0.0134 - accuracy: 1.0000 - val_loss: 2.5073 - val_accuracy: 0.6667\n",
            "Epoch 100/200\n",
            "15/15 [==============================] - 0s 27ms/step - loss: 0.0840 - accuracy: 0.9818 - val_loss: 2.6796 - val_accuracy: 0.5333\n",
            "Epoch 101/200\n",
            "15/15 [==============================] - 0s 26ms/step - loss: 0.0074 - accuracy: 1.0000 - val_loss: 4.3061 - val_accuracy: 0.4667\n",
            "Epoch 102/200\n",
            "15/15 [==============================] - 0s 26ms/step - loss: 0.0377 - accuracy: 1.0000 - val_loss: 3.6806 - val_accuracy: 0.5333\n",
            "Epoch 103/200\n",
            "15/15 [==============================] - 0s 26ms/step - loss: 0.0923 - accuracy: 0.9561 - val_loss: 2.1810 - val_accuracy: 0.6667\n",
            "Epoch 104/200\n",
            "15/15 [==============================] - 0s 26ms/step - loss: 0.0708 - accuracy: 0.9552 - val_loss: 2.2462 - val_accuracy: 0.7333\n",
            "Epoch 105/200\n",
            "15/15 [==============================] - 0s 26ms/step - loss: 0.0854 - accuracy: 0.9427 - val_loss: 2.0682 - val_accuracy: 0.7333\n",
            "Epoch 106/200\n",
            "15/15 [==============================] - 0s 27ms/step - loss: 0.0045 - accuracy: 1.0000 - val_loss: 1.7705 - val_accuracy: 0.8000\n",
            "Epoch 107/200\n",
            "15/15 [==============================] - 0s 26ms/step - loss: 0.0090 - accuracy: 1.0000 - val_loss: 1.7267 - val_accuracy: 0.8000\n",
            "Epoch 108/200\n",
            "15/15 [==============================] - 0s 26ms/step - loss: 0.0076 - accuracy: 1.0000 - val_loss: 1.6322 - val_accuracy: 0.8000\n",
            "Epoch 109/200\n",
            "15/15 [==============================] - 0s 28ms/step - loss: 0.0162 - accuracy: 0.9924 - val_loss: 2.6540 - val_accuracy: 0.7333\n",
            "Epoch 110/200\n",
            "15/15 [==============================] - 0s 27ms/step - loss: 0.0292 - accuracy: 1.0000 - val_loss: 3.0181 - val_accuracy: 0.6667\n",
            "Epoch 111/200\n",
            "15/15 [==============================] - 0s 26ms/step - loss: 0.0094 - accuracy: 0.9884 - val_loss: 3.3608 - val_accuracy: 0.6000\n",
            "Epoch 112/200\n",
            "15/15 [==============================] - 0s 28ms/step - loss: 0.0020 - accuracy: 1.0000 - val_loss: 3.5884 - val_accuracy: 0.5333\n",
            "Epoch 113/200\n",
            "15/15 [==============================] - 0s 26ms/step - loss: 0.0024 - accuracy: 1.0000 - val_loss: 3.3965 - val_accuracy: 0.6000\n",
            "Epoch 114/200\n",
            "15/15 [==============================] - 0s 28ms/step - loss: 0.0033 - accuracy: 1.0000 - val_loss: 2.9809 - val_accuracy: 0.6667\n",
            "Epoch 115/200\n",
            "15/15 [==============================] - 0s 26ms/step - loss: 0.0272 - accuracy: 0.9914 - val_loss: 2.4626 - val_accuracy: 0.7333\n",
            "Epoch 116/200\n",
            "15/15 [==============================] - 1s 37ms/step - loss: 0.0339 - accuracy: 0.9805 - val_loss: 1.1958 - val_accuracy: 0.8000\n",
            "Epoch 117/200\n",
            "15/15 [==============================] - 0s 26ms/step - loss: 0.0211 - accuracy: 1.0000 - val_loss: 1.2705 - val_accuracy: 0.7333\n",
            "Epoch 118/200\n",
            "15/15 [==============================] - 0s 26ms/step - loss: 0.0310 - accuracy: 0.9884 - val_loss: 1.3337 - val_accuracy: 0.8000\n",
            "Epoch 119/200\n",
            "15/15 [==============================] - 0s 27ms/step - loss: 0.0087 - accuracy: 1.0000 - val_loss: 1.5516 - val_accuracy: 0.7333\n",
            "Epoch 120/200\n",
            "15/15 [==============================] - 0s 26ms/step - loss: 0.0048 - accuracy: 1.0000 - val_loss: 1.8066 - val_accuracy: 0.6667\n",
            "Epoch 121/200\n",
            "15/15 [==============================] - 0s 28ms/step - loss: 0.0189 - accuracy: 1.0000 - val_loss: 1.8302 - val_accuracy: 0.6667\n",
            "Epoch 122/200\n",
            "15/15 [==============================] - 0s 26ms/step - loss: 0.0033 - accuracy: 1.0000 - val_loss: 1.8794 - val_accuracy: 0.6667\n",
            "Epoch 123/200\n",
            "15/15 [==============================] - 0s 29ms/step - loss: 0.0075 - accuracy: 1.0000 - val_loss: 1.9766 - val_accuracy: 0.6667\n",
            "Epoch 124/200\n",
            "15/15 [==============================] - 0s 26ms/step - loss: 0.0020 - accuracy: 1.0000 - val_loss: 1.9910 - val_accuracy: 0.6667\n",
            "Epoch 125/200\n",
            "15/15 [==============================] - 0s 26ms/step - loss: 0.0172 - accuracy: 1.0000 - val_loss: 2.1603 - val_accuracy: 0.6667\n",
            "Epoch 126/200\n",
            "15/15 [==============================] - 0s 26ms/step - loss: 8.7658e-04 - accuracy: 1.0000 - val_loss: 2.9989 - val_accuracy: 0.6667\n",
            "Epoch 127/200\n",
            "15/15 [==============================] - 0s 27ms/step - loss: 0.0033 - accuracy: 1.0000 - val_loss: 3.1147 - val_accuracy: 0.6667\n",
            "Epoch 128/200\n",
            "15/15 [==============================] - 0s 27ms/step - loss: 0.0023 - accuracy: 1.0000 - val_loss: 3.0782 - val_accuracy: 0.6667\n",
            "Epoch 129/200\n",
            "15/15 [==============================] - 0s 26ms/step - loss: 0.0017 - accuracy: 1.0000 - val_loss: 2.9175 - val_accuracy: 0.6667\n",
            "Epoch 130/200\n",
            "15/15 [==============================] - 0s 26ms/step - loss: 0.0431 - accuracy: 1.0000 - val_loss: 1.8336 - val_accuracy: 0.7333\n",
            "Epoch 131/200\n",
            "15/15 [==============================] - 0s 27ms/step - loss: 0.0086 - accuracy: 1.0000 - val_loss: 1.8271 - val_accuracy: 0.7333\n",
            "Epoch 132/200\n",
            "15/15 [==============================] - 0s 26ms/step - loss: 0.0536 - accuracy: 1.0000 - val_loss: 2.7397 - val_accuracy: 0.7333\n",
            "Epoch 133/200\n",
            "15/15 [==============================] - 0s 26ms/step - loss: 0.0625 - accuracy: 0.9823 - val_loss: 2.7008 - val_accuracy: 0.7333\n",
            "Epoch 134/200\n",
            "15/15 [==============================] - 0s 27ms/step - loss: 0.1424 - accuracy: 0.9359 - val_loss: 1.4905 - val_accuracy: 0.8000\n",
            "Epoch 135/200\n",
            "15/15 [==============================] - 0s 26ms/step - loss: 0.0892 - accuracy: 0.9411 - val_loss: 1.3276 - val_accuracy: 0.8000\n",
            "Epoch 136/200\n",
            "15/15 [==============================] - 0s 26ms/step - loss: 0.3679 - accuracy: 0.8397 - val_loss: 1.5797 - val_accuracy: 0.8000\n",
            "Epoch 137/200\n",
            "15/15 [==============================] - 0s 26ms/step - loss: 0.2589 - accuracy: 0.9503 - val_loss: 0.9743 - val_accuracy: 0.8000\n",
            "Epoch 138/200\n",
            "15/15 [==============================] - 0s 26ms/step - loss: 0.0181 - accuracy: 1.0000 - val_loss: 1.0952 - val_accuracy: 0.8000\n",
            "Epoch 139/200\n",
            "15/15 [==============================] - 0s 26ms/step - loss: 0.0159 - accuracy: 1.0000 - val_loss: 1.2964 - val_accuracy: 0.8000\n",
            "Epoch 140/200\n",
            "15/15 [==============================] - 0s 26ms/step - loss: 0.0691 - accuracy: 0.9503 - val_loss: 1.5690 - val_accuracy: 0.8000\n",
            "Epoch 141/200\n",
            "15/15 [==============================] - 0s 25ms/step - loss: 0.0123 - accuracy: 1.0000 - val_loss: 1.7275 - val_accuracy: 0.8000\n",
            "Epoch 142/200\n",
            "15/15 [==============================] - 0s 27ms/step - loss: 0.0034 - accuracy: 1.0000 - val_loss: 1.7670 - val_accuracy: 0.8000\n",
            "Epoch 143/200\n",
            "15/15 [==============================] - 0s 26ms/step - loss: 0.0033 - accuracy: 1.0000 - val_loss: 2.0054 - val_accuracy: 0.7333\n",
            "Epoch 144/200\n",
            "15/15 [==============================] - 0s 26ms/step - loss: 0.0125 - accuracy: 0.9941 - val_loss: 1.9900 - val_accuracy: 0.7333\n",
            "Epoch 145/200\n",
            "15/15 [==============================] - 0s 26ms/step - loss: 0.0166 - accuracy: 1.0000 - val_loss: 2.0312 - val_accuracy: 0.7333\n",
            "Epoch 146/200\n",
            "15/15 [==============================] - 0s 26ms/step - loss: 0.0079 - accuracy: 1.0000 - val_loss: 2.2525 - val_accuracy: 0.7333\n",
            "Epoch 147/200\n",
            "15/15 [==============================] - 0s 26ms/step - loss: 0.0205 - accuracy: 1.0000 - val_loss: 2.0235 - val_accuracy: 0.7333\n",
            "Epoch 148/200\n",
            "15/15 [==============================] - 0s 28ms/step - loss: 0.0032 - accuracy: 1.0000 - val_loss: 1.9682 - val_accuracy: 0.8000\n",
            "Epoch 149/200\n",
            "15/15 [==============================] - 0s 26ms/step - loss: 0.0591 - accuracy: 0.9666 - val_loss: 2.2620 - val_accuracy: 0.7333\n",
            "Epoch 150/200\n",
            "15/15 [==============================] - 0s 26ms/step - loss: 0.0910 - accuracy: 0.9884 - val_loss: 2.2521 - val_accuracy: 0.7333\n",
            "Epoch 151/200\n",
            "15/15 [==============================] - 0s 27ms/step - loss: 0.0139 - accuracy: 0.9924 - val_loss: 2.6494 - val_accuracy: 0.6667\n",
            "Epoch 152/200\n",
            "15/15 [==============================] - 0s 26ms/step - loss: 0.0751 - accuracy: 0.9295 - val_loss: 2.8499 - val_accuracy: 0.6667\n",
            "Epoch 153/200\n",
            "15/15 [==============================] - 0s 26ms/step - loss: 0.2990 - accuracy: 0.8902 - val_loss: 0.8208 - val_accuracy: 0.8667\n",
            "Epoch 154/200\n",
            "15/15 [==============================] - 0s 26ms/step - loss: 0.0604 - accuracy: 0.9884 - val_loss: 1.0977 - val_accuracy: 0.8000\n",
            "Epoch 155/200\n",
            "15/15 [==============================] - 0s 28ms/step - loss: 0.0136 - accuracy: 1.0000 - val_loss: 1.7724 - val_accuracy: 0.8000\n",
            "Epoch 156/200\n",
            "15/15 [==============================] - 0s 26ms/step - loss: 0.0417 - accuracy: 0.9861 - val_loss: 2.4074 - val_accuracy: 0.7333\n",
            "Epoch 157/200\n",
            "15/15 [==============================] - 0s 27ms/step - loss: 0.0068 - accuracy: 1.0000 - val_loss: 1.7768 - val_accuracy: 0.8000\n",
            "Epoch 158/200\n",
            "15/15 [==============================] - 0s 27ms/step - loss: 0.0025 - accuracy: 1.0000 - val_loss: 1.6780 - val_accuracy: 0.8000\n",
            "Epoch 159/200\n",
            "15/15 [==============================] - 0s 27ms/step - loss: 0.0556 - accuracy: 0.9802 - val_loss: 3.1761 - val_accuracy: 0.5333\n",
            "Epoch 160/200\n",
            "15/15 [==============================] - 0s 27ms/step - loss: 0.2152 - accuracy: 0.9503 - val_loss: 1.6920 - val_accuracy: 0.8000\n",
            "Epoch 161/200\n",
            "15/15 [==============================] - 0s 25ms/step - loss: 0.0057 - accuracy: 1.0000 - val_loss: 1.6425 - val_accuracy: 0.8000\n",
            "Epoch 162/200\n",
            "15/15 [==============================] - 0s 27ms/step - loss: 0.0094 - accuracy: 0.9957 - val_loss: 1.6601 - val_accuracy: 0.8000\n",
            "Epoch 163/200\n",
            "15/15 [==============================] - 0s 27ms/step - loss: 0.0186 - accuracy: 1.0000 - val_loss: 1.4521 - val_accuracy: 0.8000\n",
            "Epoch 164/200\n",
            "15/15 [==============================] - 1s 35ms/step - loss: 0.0060 - accuracy: 1.0000 - val_loss: 1.4108 - val_accuracy: 0.8000\n",
            "Epoch 165/200\n",
            "15/15 [==============================] - 0s 27ms/step - loss: 7.7587e-04 - accuracy: 1.0000 - val_loss: 1.4427 - val_accuracy: 0.8000\n",
            "Epoch 166/200\n",
            "15/15 [==============================] - 0s 27ms/step - loss: 0.0103 - accuracy: 1.0000 - val_loss: 1.5443 - val_accuracy: 0.8000\n",
            "Epoch 167/200\n",
            "15/15 [==============================] - 0s 27ms/step - loss: 4.2159e-04 - accuracy: 1.0000 - val_loss: 1.8107 - val_accuracy: 0.8000\n",
            "Epoch 168/200\n",
            "15/15 [==============================] - 0s 26ms/step - loss: 0.0037 - accuracy: 1.0000 - val_loss: 1.8875 - val_accuracy: 0.8000\n",
            "Epoch 169/200\n",
            "15/15 [==============================] - 0s 26ms/step - loss: 0.0079 - accuracy: 1.0000 - val_loss: 2.0306 - val_accuracy: 0.8000\n",
            "Epoch 170/200\n",
            "15/15 [==============================] - 0s 26ms/step - loss: 0.0053 - accuracy: 1.0000 - val_loss: 1.8527 - val_accuracy: 0.8000\n",
            "Epoch 171/200\n",
            "15/15 [==============================] - 0s 26ms/step - loss: 0.0344 - accuracy: 0.9728 - val_loss: 1.4723 - val_accuracy: 0.8000\n",
            "Epoch 172/200\n",
            "15/15 [==============================] - 0s 26ms/step - loss: 0.0018 - accuracy: 1.0000 - val_loss: 1.8124 - val_accuracy: 0.8000\n",
            "Epoch 173/200\n",
            "15/15 [==============================] - 0s 26ms/step - loss: 0.0023 - accuracy: 1.0000 - val_loss: 1.8978 - val_accuracy: 0.8000\n",
            "Epoch 174/200\n",
            "15/15 [==============================] - 0s 27ms/step - loss: 0.0041 - accuracy: 1.0000 - val_loss: 1.9266 - val_accuracy: 0.8000\n",
            "Epoch 175/200\n",
            "15/15 [==============================] - 0s 25ms/step - loss: 0.0043 - accuracy: 1.0000 - val_loss: 1.9870 - val_accuracy: 0.8000\n",
            "Epoch 176/200\n",
            "15/15 [==============================] - 0s 28ms/step - loss: 1.9015e-04 - accuracy: 1.0000 - val_loss: 2.0062 - val_accuracy: 0.8000\n",
            "Epoch 177/200\n",
            "15/15 [==============================] - 0s 27ms/step - loss: 5.2963e-04 - accuracy: 1.0000 - val_loss: 1.9959 - val_accuracy: 0.8000\n",
            "Epoch 178/200\n",
            "15/15 [==============================] - 0s 25ms/step - loss: 2.0644e-04 - accuracy: 1.0000 - val_loss: 1.9927 - val_accuracy: 0.8000\n",
            "Epoch 179/200\n",
            "15/15 [==============================] - 0s 28ms/step - loss: 0.0058 - accuracy: 0.9972 - val_loss: 1.9476 - val_accuracy: 0.8000\n",
            "Epoch 180/200\n",
            "15/15 [==============================] - 0s 26ms/step - loss: 0.0033 - accuracy: 1.0000 - val_loss: 1.8994 - val_accuracy: 0.8000\n",
            "Epoch 181/200\n",
            "15/15 [==============================] - 0s 28ms/step - loss: 8.9059e-04 - accuracy: 1.0000 - val_loss: 1.9141 - val_accuracy: 0.8000\n",
            "Epoch 182/200\n",
            "15/15 [==============================] - 0s 26ms/step - loss: 0.0184 - accuracy: 0.9924 - val_loss: 1.5871 - val_accuracy: 0.8000\n",
            "Epoch 183/200\n",
            "15/15 [==============================] - 0s 27ms/step - loss: 0.0233 - accuracy: 0.9924 - val_loss: 1.8101 - val_accuracy: 0.8000\n",
            "Epoch 184/200\n",
            "15/15 [==============================] - 0s 27ms/step - loss: 0.0029 - accuracy: 1.0000 - val_loss: 2.6194 - val_accuracy: 0.6000\n",
            "Epoch 185/200\n",
            "15/15 [==============================] - 0s 26ms/step - loss: 0.0145 - accuracy: 1.0000 - val_loss: 1.8619 - val_accuracy: 0.8000\n",
            "Epoch 186/200\n",
            "15/15 [==============================] - 0s 26ms/step - loss: 0.1704 - accuracy: 0.9607 - val_loss: 1.7106 - val_accuracy: 0.7333\n",
            "Epoch 187/200\n",
            "15/15 [==============================] - 0s 26ms/step - loss: 0.2040 - accuracy: 0.9677 - val_loss: 1.7946 - val_accuracy: 0.7333\n",
            "Epoch 188/200\n",
            "15/15 [==============================] - 0s 27ms/step - loss: 0.0136 - accuracy: 1.0000 - val_loss: 1.7725 - val_accuracy: 0.8000\n",
            "Epoch 189/200\n",
            "15/15 [==============================] - 0s 26ms/step - loss: 0.0067 - accuracy: 1.0000 - val_loss: 1.7448 - val_accuracy: 0.8000\n",
            "Epoch 190/200\n",
            "15/15 [==============================] - 0s 26ms/step - loss: 0.0056 - accuracy: 1.0000 - val_loss: 1.6635 - val_accuracy: 0.8000\n",
            "Epoch 191/200\n",
            "15/15 [==============================] - 0s 26ms/step - loss: 0.0122 - accuracy: 1.0000 - val_loss: 1.8956 - val_accuracy: 0.8000\n",
            "Epoch 192/200\n",
            "15/15 [==============================] - 0s 26ms/step - loss: 0.0092 - accuracy: 1.0000 - val_loss: 1.7984 - val_accuracy: 0.8000\n",
            "Epoch 193/200\n",
            "15/15 [==============================] - 0s 27ms/step - loss: 0.0919 - accuracy: 0.9728 - val_loss: 1.7762 - val_accuracy: 0.8000\n",
            "Epoch 194/200\n",
            "15/15 [==============================] - 0s 26ms/step - loss: 0.0039 - accuracy: 1.0000 - val_loss: 2.1495 - val_accuracy: 0.6667\n",
            "Epoch 195/200\n",
            "15/15 [==============================] - 0s 26ms/step - loss: 0.2884 - accuracy: 0.9295 - val_loss: 3.0496 - val_accuracy: 0.6000\n",
            "Epoch 196/200\n",
            "15/15 [==============================] - 0s 26ms/step - loss: 0.0072 - accuracy: 1.0000 - val_loss: 2.9706 - val_accuracy: 0.6000\n",
            "Epoch 197/200\n",
            "15/15 [==============================] - 0s 26ms/step - loss: 0.0587 - accuracy: 0.9607 - val_loss: 2.2536 - val_accuracy: 0.6667\n",
            "Epoch 198/200\n",
            "15/15 [==============================] - 0s 28ms/step - loss: 0.0010 - accuracy: 1.0000 - val_loss: 2.0842 - val_accuracy: 0.6667\n",
            "Epoch 199/200\n",
            "15/15 [==============================] - 0s 26ms/step - loss: 0.0096 - accuracy: 1.0000 - val_loss: 2.0726 - val_accuracy: 0.7333\n",
            "Epoch 200/200\n",
            "15/15 [==============================] - 0s 27ms/step - loss: 9.6998e-04 - accuracy: 1.0000 - val_loss: 2.1295 - val_accuracy: 0.7333\n"
          ],
          "name": "stdout"
        },
        {
          "output_type": "execute_result",
          "data": {
            "text/plain": [
              "<tensorflow.python.keras.callbacks.History at 0x7f869aeeadd8>"
            ]
          },
          "metadata": {
            "tags": []
          },
          "execution_count": 15
        }
      ]
    },
    {
      "cell_type": "markdown",
      "metadata": {
        "id": "dObrnEakhllW"
      },
      "source": [
        "##  모델 평가"
      ]
    },
    {
      "cell_type": "code",
      "metadata": {
        "id": "PBhjdyG_hkhP",
        "colab": {
          "base_uri": "https://localhost:8080/"
        },
        "outputId": "05127be7-bb97-497c-89f8-ece0d7413b2c"
      },
      "source": [
        "print(\"-- Evaluate --\")\r\n",
        "scores = model.evaluate_generator(test_generator, steps=5)\r\n",
        "print(\"%s: %.2f%%\" %(model.metrics_names[1], scores[1]*100))\r\n"
      ],
      "execution_count": 16,
      "outputs": [
        {
          "output_type": "stream",
          "text": [
            "-- Evaluate --\n",
            "accuracy: 73.33%\n"
          ],
          "name": "stdout"
        },
        {
          "output_type": "stream",
          "text": [
            "/usr/local/lib/python3.6/dist-packages/tensorflow/python/keras/engine/training.py:1877: UserWarning: `Model.evaluate_generator` is deprecated and will be removed in a future version. Please use `Model.evaluate`, which supports generators.\n",
            "  warnings.warn('`Model.evaluate_generator` is deprecated and '\n"
          ],
          "name": "stderr"
        }
      ]
    },
    {
      "cell_type": "code",
      "metadata": {
        "id": "YcqDi93KE6su"
      },
      "source": [
        ""
      ],
      "execution_count": null,
      "outputs": []
    }
  ]
}