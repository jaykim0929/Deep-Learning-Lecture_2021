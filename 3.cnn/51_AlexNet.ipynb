{
  "nbformat": 4,
  "nbformat_minor": 0,
  "metadata": {
    "colab": {
      "name": "51_AlexNet.ipynb",
      "provenance": [],
      "collapsed_sections": []
    },
    "kernelspec": {
      "name": "python3",
      "display_name": "Python 3"
    }
  },
  "cells": [
    {
      "cell_type": "markdown",
      "metadata": {
        "id": "Iod7-dk7utbF"
      },
      "source": [
        "# AlexNet\r\n"
      ]
    },
    {
      "cell_type": "code",
      "metadata": {
        "id": "9tiKWE1BukuO"
      },
      "source": [
        "from tensorflow.keras.models import Sequential\r\n",
        "from tensorflow.keras.layers import Conv2D, MaxPooling2D, Flatten, Dense, Dropout\r\n",
        "from tensorflow.keras.layers import BatchNormalization, Lambda\r\n",
        "from tensorflow.keras.regularizers import l2\r\n",
        "from tensorflow.keras import backend as K\r\n",
        "from tensorflow.keras import optimizers\r\n",
        "from tensorflow.keras.layers import Layer"
      ],
      "execution_count": 1,
      "outputs": []
    },
    {
      "cell_type": "code",
      "metadata": {
        "id": "B2G6exgTH-jL"
      },
      "source": [
        "class LocalResponseNormalization(Layer):\r\n",
        "    def __init__(self, n=5, alpha=1e-4, beta=0.75, k=2, **kwargs):\r\n",
        "        self.n = n\r\n",
        "        self.alpha = alpha\r\n",
        "        self.beta = beta\r\n",
        "        self.k = k\r\n",
        "        super(LocalResponseNormalization, self).__init__(**kwargs)\r\n",
        "\r\n",
        "    def build(self, input_shape):\r\n",
        "        self.shape = input_shape\r\n",
        "        super(LocalResponseNormalization, self).build(input_shape)\r\n",
        "\r\n",
        "    def call(self, x):\r\n",
        "        _, r, c, f = self.shape \r\n",
        "        squared = K.square(x)\r\n",
        "        pooled = K.pool2d(squared, (self.n, self.n), strides=(1,1), padding=\"same\", pool_mode='avg')\r\n",
        "        summed = K.sum(pooled, axis=3, keepdims=True)\r\n",
        "        averaged = self.alpha * K.repeat_elements(summed, f, axis=3)\r\n",
        "        denom = K.pow(self.k + averaged, self.beta)\r\n",
        "        return x / denom \r\n",
        "    \r\n",
        "    def compute_output_shape(self, input_shape):\r\n",
        "        return input_shape"
      ],
      "execution_count": 2,
      "outputs": []
    },
    {
      "cell_type": "code",
      "metadata": {
        "colab": {
          "base_uri": "https://localhost:8080/"
        },
        "id": "Def-WCUEH-gS",
        "outputId": "403f4b85-01d2-42fb-b827-2a587501fb00"
      },
      "source": [
        "input_shape = (224, 224, 3)\r\n",
        "\r\n",
        "model = Sequential()\r\n",
        "model.add(Conv2D(96, (11, 11), strides=4,\r\n",
        "                 padding='same', input_shape=input_shape))\r\n",
        "model.add(Conv2D(256, (5, 5), activation='relu', padding='same'))\r\n",
        "model.add(LocalResponseNormalization(input_shape=model.output_shape[1:]))\r\n",
        "model.add(MaxPooling2D(pool_size=(3, 3), strides=2))\r\n",
        "model.add(Conv2D(384, (3, 3), activation='relu', padding='same'))\r\n",
        "model.add(LocalResponseNormalization(input_shape=model.output_shape[1:]))\r\n",
        "model.add(MaxPooling2D(pool_size=(3, 3), strides=2))\r\n",
        "model.add(Conv2D(384, (3, 3), activation='relu', padding='same'))\r\n",
        "model.add(Conv2D(256, (3, 3), activation='relu', padding='same'))\r\n",
        "model.add(MaxPooling2D(pool_size=(3, 3), strides=2))\r\n",
        "model.add(Flatten())\r\n",
        "model.add(Dense(4096, activation='relu'))\r\n",
        "model.add(Dropout(0.5))\r\n",
        "model.add(Dense(4096, activation='relu'))\r\n",
        "model.add(Dropout(0.5))\r\n",
        "model.add(Dense(1000, activation='softmax'))\r\n",
        "\r\n",
        "model.summary()"
      ],
      "execution_count": 3,
      "outputs": [
        {
          "output_type": "stream",
          "text": [
            "Model: \"sequential\"\n",
            "_________________________________________________________________\n",
            "Layer (type)                 Output Shape              Param #   \n",
            "=================================================================\n",
            "conv2d (Conv2D)              (None, 56, 56, 96)        34944     \n",
            "_________________________________________________________________\n",
            "conv2d_1 (Conv2D)            (None, 56, 56, 256)       614656    \n",
            "_________________________________________________________________\n",
            "local_response_normalization (None, 56, 56, 256)       0         \n",
            "_________________________________________________________________\n",
            "max_pooling2d (MaxPooling2D) (None, 27, 27, 256)       0         \n",
            "_________________________________________________________________\n",
            "conv2d_2 (Conv2D)            (None, 27, 27, 384)       885120    \n",
            "_________________________________________________________________\n",
            "local_response_normalization (None, 27, 27, 384)       0         \n",
            "_________________________________________________________________\n",
            "max_pooling2d_1 (MaxPooling2 (None, 13, 13, 384)       0         \n",
            "_________________________________________________________________\n",
            "conv2d_3 (Conv2D)            (None, 13, 13, 384)       1327488   \n",
            "_________________________________________________________________\n",
            "conv2d_4 (Conv2D)            (None, 13, 13, 256)       884992    \n",
            "_________________________________________________________________\n",
            "max_pooling2d_2 (MaxPooling2 (None, 6, 6, 256)         0         \n",
            "_________________________________________________________________\n",
            "flatten (Flatten)            (None, 9216)              0         \n",
            "_________________________________________________________________\n",
            "dense (Dense)                (None, 4096)              37752832  \n",
            "_________________________________________________________________\n",
            "dropout (Dropout)            (None, 4096)              0         \n",
            "_________________________________________________________________\n",
            "dense_1 (Dense)              (None, 4096)              16781312  \n",
            "_________________________________________________________________\n",
            "dropout_1 (Dropout)          (None, 4096)              0         \n",
            "_________________________________________________________________\n",
            "dense_2 (Dense)              (None, 1000)              4097000   \n",
            "=================================================================\n",
            "Total params: 62,378,344\n",
            "Trainable params: 62,378,344\n",
            "Non-trainable params: 0\n",
            "_________________________________________________________________\n"
          ],
          "name": "stdout"
        }
      ]
    },
    {
      "cell_type": "code",
      "metadata": {
        "id": "SntLGC2aH-Ri"
      },
      "source": [
        "optimizer = optimizers.SGD(lr=0.01, decay=5e-5, momentum=0.9)\r\n",
        "model.compile(loss='categorical_crossentropy',\r\n",
        "              optimizer=optimizer, metrics=['accuracy'])"
      ],
      "execution_count": 4,
      "outputs": []
    },
    {
      "cell_type": "code",
      "metadata": {
        "id": "zSZYuxkD4lY8"
      },
      "source": [
        ""
      ],
      "execution_count": null,
      "outputs": []
    }
  ]
}