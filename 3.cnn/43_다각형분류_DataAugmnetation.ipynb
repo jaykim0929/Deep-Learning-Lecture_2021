{
  "nbformat": 4,
  "nbformat_minor": 0,
  "metadata": {
    "colab": {
      "name": "43_다각형분류_DataAugmnetation.ipynb",
      "provenance": []
    },
    "kernelspec": {
      "name": "python3",
      "display_name": "Python 3"
    },
    "accelerator": "GPU"
  },
  "cells": [
    {
      "cell_type": "code",
      "metadata": {
        "id": "pc59HCiSizEJ"
      },
      "source": [
        "!unzip -qq hard_handwriting_shape.zip -d hard_handwriting_shape"
      ],
      "execution_count": 4,
      "outputs": []
    },
    {
      "cell_type": "code",
      "metadata": {
        "id": "AUPgSNK-iLCy"
      },
      "source": [
        "import numpy as np\r\n",
        "import tensorflow as tf\r\n",
        "from tensorflow.keras.models import  Sequential\r\n",
        "from tensorflow.keras.layers import Dense, Flatten, Conv2D, MaxPooling2D\r\n",
        "from tensorflow.keras.preprocessing.image import ImageDataGenerator"
      ],
      "execution_count": 5,
      "outputs": []
    },
    {
      "cell_type": "code",
      "metadata": {
        "id": "4dE6VUzEigxG"
      },
      "source": [
        "seed = 2021\r\n",
        "np.random.seed(seed)\r\n",
        "tf.random.set_seed(seed)"
      ],
      "execution_count": 6,
      "outputs": []
    },
    {
      "cell_type": "markdown",
      "metadata": {
        "id": "n8VUpk4in-ch"
      },
      "source": [
        "### 데이터 부풀리기"
      ]
    },
    {
      "cell_type": "code",
      "metadata": {
        "id": "CS5PwirWoBPw"
      },
      "source": [
        "from keras.preprocessing.image import array_to_img, img_to_array, load_img"
      ],
      "execution_count": 9,
      "outputs": []
    },
    {
      "cell_type": "code",
      "metadata": {
        "id": "Q4l4vUMZoaMS"
      },
      "source": [
        "train_datagen = ImageDataGenerator(rescale=1./255,\r\n",
        "                                   rotation_range=15,\r\n",
        "                                   width_shift_range=0.1,\r\n",
        "                                   height_shift_range=0.1,\r\n",
        "                                   shear_range=0.5,\r\n",
        "                                   zoom_range=[0.8, 2.0],\r\n",
        "                                   horizontal_flip=True,\r\n",
        "                                   vertical_flip=True,\r\n",
        "                                   fill_mode='nearest')"
      ],
      "execution_count": 10,
      "outputs": []
    },
    {
      "cell_type": "code",
      "metadata": {
        "id": "G2JjsTY5qh_b"
      },
      "source": [
        "!mkdir preview"
      ],
      "execution_count": 13,
      "outputs": []
    },
    {
      "cell_type": "code",
      "metadata": {
        "id": "Ut_tl82bpIhB"
      },
      "source": [
        "img = load_img('hard_handwriting_shape/train/triangle/triangle001.png')\r\n",
        "x = img_to_array(img)\r\n",
        "x = x.reshape((1,) + x.shape)\r\n",
        "\r\n",
        "i = 0\r\n",
        "for batch in train_datagen.flow(x, batch_size=1, save_to_dir='preview',\r\n",
        "                                 save_prefix='tri', save_format='png'):\r\n",
        "    i += 1\r\n",
        "    if i > 30:\r\n",
        "        break"
      ],
      "execution_count": 14,
      "outputs": []
    },
    {
      "cell_type": "code",
      "metadata": {
        "colab": {
          "base_uri": "https://localhost:8080/"
        },
        "id": "NaPkSTAZqrDx",
        "outputId": "7e5fb8d9-7c55-411d-f961-473bb6f8fcba"
      },
      "source": [
        "!ls preview"
      ],
      "execution_count": 15,
      "outputs": [
        {
          "output_type": "stream",
          "text": [
            "tri_0_1270.png\ttri_0_3825.png\ttri_0_5881.png\ttri_0_8211.png\ttri_0_9797.png\n",
            "tri_0_1302.png\ttri_0_403.png\ttri_0_6416.png\ttri_0_8288.png\ttri_0_9854.png\n",
            "tri_0_2407.png\ttri_0_4949.png\ttri_0_6427.png\ttri_0_8923.png\ttri_0_9972.png\n",
            "tri_0_2997.png\ttri_0_5158.png\ttri_0_7039.png\ttri_0_9089.png\n",
            "tri_0_3418.png\ttri_0_519.png\ttri_0_7259.png\ttri_0_928.png\n",
            "tri_0_3503.png\ttri_0_5672.png\ttri_0_7282.png\ttri_0_9495.png\n",
            "tri_0_3759.png\ttri_0_5798.png\ttri_0_7897.png\ttri_0_9575.png\n"
          ],
          "name": "stdout"
        }
      ]
    },
    {
      "cell_type": "code",
      "metadata": {
        "colab": {
          "base_uri": "https://localhost:8080/"
        },
        "id": "Cna-MMrEq925",
        "outputId": "c5aacb9e-3778-44f7-f49b-639a7bcfa739"
      },
      "source": [
        "train_generator = train_datagen.flow_from_directory(\r\n",
        "        'hard_handwriting_shape/train',\r\n",
        "        target_size=(24, 24),\r\n",
        "        batch_size=3,\r\n",
        "        class_mode='categorical')"
      ],
      "execution_count": 16,
      "outputs": [
        {
          "output_type": "stream",
          "text": [
            "Found 45 images belonging to 3 classes.\n"
          ],
          "name": "stdout"
        }
      ]
    },
    {
      "cell_type": "code",
      "metadata": {
        "colab": {
          "base_uri": "https://localhost:8080/"
        },
        "id": "AhUMHiFRijR-",
        "outputId": "da68068a-09d6-4d04-e218-9cc91576b3a8"
      },
      "source": [
        "test_datagen = ImageDataGenerator(rescale=1./255)\r\n",
        "\r\n",
        "test_generator = test_datagen.flow_from_directory(\r\n",
        "        'hard_handwriting_shape/test',\r\n",
        "        target_size=(24, 24),    \r\n",
        "        batch_size=3,\r\n",
        "        class_mode='categorical')"
      ],
      "execution_count": 18,
      "outputs": [
        {
          "output_type": "stream",
          "text": [
            "Found 15 images belonging to 3 classes.\n"
          ],
          "name": "stdout"
        }
      ]
    },
    {
      "cell_type": "code",
      "metadata": {
        "id": "49fvecOmisFv"
      },
      "source": [
        "model = Sequential()\r\n",
        "model.add(Conv2D(32, kernel_size=(3, 3),\r\n",
        "                 activation='relu',\r\n",
        "                 input_shape=(24,24,3)))\r\n",
        "model.add(Conv2D(64, (3, 3), activation='relu'))\r\n",
        "model.add(MaxPooling2D(pool_size=(2, 2)))\r\n",
        "model.add(Flatten())\r\n",
        "model.add(Dense(128, activation='relu'))\r\n",
        "model.add(Dense(3, activation='softmax'))"
      ],
      "execution_count": 19,
      "outputs": []
    },
    {
      "cell_type": "code",
      "metadata": {
        "id": "1vUYNpfotGxr"
      },
      "source": [
        "model.compile(loss='categorical_crossentropy', optimizer='adam', metrics=['accuracy'])"
      ],
      "execution_count": 20,
      "outputs": []
    },
    {
      "cell_type": "code",
      "metadata": {
        "colab": {
          "base_uri": "https://localhost:8080/"
        },
        "id": "3ibEYRY5tI84",
        "outputId": "c83df325-3f0e-4496-a86e-629db0ea80c7"
      },
      "source": [
        "model.fit_generator(\r\n",
        "        train_generator,\r\n",
        "        steps_per_epoch=15 * 100,\r\n",
        "        epochs=200,\r\n",
        "        validation_data=test_generator,\r\n",
        "        validation_steps=5)"
      ],
      "execution_count": 21,
      "outputs": [
        {
          "output_type": "stream",
          "text": [
            "/usr/local/lib/python3.6/dist-packages/tensorflow/python/keras/engine/training.py:1844: UserWarning: `Model.fit_generator` is deprecated and will be removed in a future version. Please use `Model.fit`, which supports generators.\n",
            "  warnings.warn('`Model.fit_generator` is deprecated and '\n"
          ],
          "name": "stderr"
        },
        {
          "output_type": "stream",
          "text": [
            "Epoch 1/200\n",
            "  13/1500 [..............................] - ETA: 6s - loss: 1.3697 - accuracy: 0.3594         WARNING:tensorflow:Your input ran out of data; interrupting training. Make sure that your dataset or generator can generate at least `steps_per_epoch * epochs` batches (in this case, 300000 batches). You may need to use the repeat() function when building your dataset.\n",
            "1500/1500 [==============================] - 7s 191us/step - loss: 1.2986 - accuracy: 0.3335 - val_loss: 1.1003 - val_accuracy: 0.3333\n"
          ],
          "name": "stdout"
        },
        {
          "output_type": "execute_result",
          "data": {
            "text/plain": [
              "<tensorflow.python.keras.callbacks.History at 0x7f4aa030aa90>"
            ]
          },
          "metadata": {
            "tags": []
          },
          "execution_count": 21
        }
      ]
    },
    {
      "cell_type": "code",
      "metadata": {
        "colab": {
          "base_uri": "https://localhost:8080/"
        },
        "id": "YFNrOTtHtL7D",
        "outputId": "63750a4a-fe54-4b92-b7a5-681ccf2fcca1"
      },
      "source": [
        "print(\"-- Evaluate --\")\r\n",
        "\r\n",
        "scores = model.evaluate_generator(\r\n",
        "            test_generator, \r\n",
        "            steps = 5)\r\n",
        "\r\n",
        "print(\"%s: %.2f%%\" %(model.metrics_names[1], scores[1]*100))"
      ],
      "execution_count": 22,
      "outputs": [
        {
          "output_type": "stream",
          "text": [
            "-- Evaluate --\n",
            "accuracy: 33.33%\n"
          ],
          "name": "stdout"
        },
        {
          "output_type": "stream",
          "text": [
            "/usr/local/lib/python3.6/dist-packages/tensorflow/python/keras/engine/training.py:1877: UserWarning: `Model.evaluate_generator` is deprecated and will be removed in a future version. Please use `Model.evaluate`, which supports generators.\n",
            "  warnings.warn('`Model.evaluate_generator` is deprecated and '\n"
          ],
          "name": "stderr"
        }
      ]
    },
    {
      "cell_type": "code",
      "metadata": {
        "colab": {
          "base_uri": "https://localhost:8080/"
        },
        "id": "SeUopf2btVxZ",
        "outputId": "3b8a43a1-abb3-44ff-d763-17bc52102152"
      },
      "source": [
        "print(\"-- Predict --\")\r\n",
        "\r\n",
        "output = model.predict_generator(\r\n",
        "            test_generator, \r\n",
        "            steps = 5)\r\n",
        "\r\n",
        "np.set_printoptions(formatter={'float': lambda x: \"{0:0.3f}\".format(x)})\r\n",
        "\r\n",
        "print(output)"
      ],
      "execution_count": 24,
      "outputs": [
        {
          "output_type": "stream",
          "text": [
            "-- Predict --\n",
            "[[0.385 0.295 0.320]\n",
            " [0.353 0.295 0.352]\n",
            " [0.355 0.297 0.347]\n",
            " [0.359 0.291 0.350]\n",
            " [0.360 0.291 0.349]\n",
            " [0.391 0.287 0.322]\n",
            " [0.351 0.289 0.360]\n",
            " [0.371 0.299 0.331]\n",
            " [0.381 0.291 0.327]\n",
            " [0.349 0.300 0.351]\n",
            " [0.374 0.294 0.332]\n",
            " [0.376 0.295 0.329]\n",
            " [0.351 0.298 0.351]\n",
            " [0.368 0.292 0.340]\n",
            " [0.360 0.296 0.344]]\n"
          ],
          "name": "stdout"
        },
        {
          "output_type": "stream",
          "text": [
            "/usr/local/lib/python3.6/dist-packages/tensorflow/python/keras/engine/training.py:1905: UserWarning: `Model.predict_generator` is deprecated and will be removed in a future version. Please use `Model.predict`, which supports generators.\n",
            "  warnings.warn('`Model.predict_generator` is deprecated and '\n"
          ],
          "name": "stderr"
        }
      ]
    },
    {
      "cell_type": "code",
      "metadata": {
        "id": "CbVkb8wktZz5"
      },
      "source": [
        ""
      ],
      "execution_count": null,
      "outputs": []
    }
  ]
}