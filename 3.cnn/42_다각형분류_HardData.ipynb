{
  "nbformat": 4,
  "nbformat_minor": 0,
  "metadata": {
    "colab": {
      "name": "42_다각형분류_HardData.ipynb",
      "provenance": [],
      "collapsed_sections": []
    },
    "kernelspec": {
      "name": "python3",
      "display_name": "Python 3"
    }
  },
  "cells": [
    {
      "cell_type": "markdown",
      "metadata": {
        "id": "V4v5nv3ucWJm"
      },
      "source": [
        "# 원 삼각형 사각형 구분하기\r\n",
        "## 2. 어려운 테스트 문제를 기존 CNN모델로 푸는경우"
      ]
    },
    {
      "cell_type": "code",
      "metadata": {
        "id": "9mA2vZhRbuTr"
      },
      "source": [
        "!unzip -qq handwriting_shape.zip -d handwriting_shape"
      ],
      "execution_count": 1,
      "outputs": []
    },
    {
      "cell_type": "code",
      "metadata": {
        "id": "qM1TWozScmyF"
      },
      "source": [
        "!unzip -qq hard_handwriting_shape.zip -d hard_handwriting_shape"
      ],
      "execution_count": 2,
      "outputs": []
    },
    {
      "cell_type": "markdown",
      "metadata": {
        "id": "NgT73AMUcbpd"
      },
      "source": [
        "## 1.CNN모델"
      ]
    },
    {
      "cell_type": "code",
      "metadata": {
        "id": "x4M5btAdc6ud"
      },
      "source": [
        "import numpy as np\r\n",
        "import tensorflow as tf\r\n",
        "from tensorflow.keras.models import  Sequential\r\n",
        "from tensorflow.keras.layers import Dense, Flatten, Conv2D, MaxPooling2D\r\n",
        "from tensorflow.keras.preprocessing.image import ImageDataGenerator"
      ],
      "execution_count": 1,
      "outputs": []
    },
    {
      "cell_type": "code",
      "metadata": {
        "id": "cX4V6DuId-iv"
      },
      "source": [
        "seed = 2021\r\n",
        "np.random.seed(seed)\r\n",
        "tf.random.set_seed(seed)"
      ],
      "execution_count": 2,
      "outputs": []
    },
    {
      "cell_type": "code",
      "metadata": {
        "colab": {
          "base_uri": "https://localhost:8080/"
        },
        "id": "n1DQ4yODeDT1",
        "outputId": "6317d834-6be3-4773-8ea3-f600229f6f7c"
      },
      "source": [
        "train_datagen = ImageDataGenerator(rescale=1./255)\r\n",
        "train_generator = train_datagen.flow_from_directory(\r\n",
        "    'hard_handwriting_shape/train',\r\n",
        "    target_size=(24,24),\r\n",
        "    batch_size=3,\r\n",
        "    class_mode='categorical'\r\n",
        ")"
      ],
      "execution_count": 3,
      "outputs": [
        {
          "output_type": "stream",
          "text": [
            "Found 45 images belonging to 3 classes.\n"
          ],
          "name": "stdout"
        }
      ]
    },
    {
      "cell_type": "code",
      "metadata": {
        "colab": {
          "base_uri": "https://localhost:8080/"
        },
        "id": "oBd-S9uxetou",
        "outputId": "f52d394e-f858-42f1-a9b7-1c3481c1805d"
      },
      "source": [
        "test_datagen = ImageDataGenerator(rescale=1./255)\r\n",
        "test_generator = test_datagen.flow_from_directory(\r\n",
        "    'hard_handwriting_shape/test',\r\n",
        "    target_size=(24,24),\r\n",
        "    batch_size=3,\r\n",
        "    class_mode='categorical'\r\n",
        ")"
      ],
      "execution_count": 4,
      "outputs": [
        {
          "output_type": "stream",
          "text": [
            "Found 15 images belonging to 3 classes.\n"
          ],
          "name": "stdout"
        }
      ]
    },
    {
      "cell_type": "markdown",
      "metadata": {
        "id": "YExsnMTOEpuJ"
      },
      "source": [
        "### 모델 정의/설정/학습"
      ]
    },
    {
      "cell_type": "code",
      "metadata": {
        "id": "U2IRInZSfUN2",
        "colab": {
          "base_uri": "https://localhost:8080/"
        },
        "outputId": "0fa574e6-7f31-4586-b64b-1a9ccf44f53e"
      },
      "source": [
        "model = Sequential()\r\n",
        "model.add(Conv2D(32, kernel_size=(3, 3),\r\n",
        "                 activation='relu', input_shape=(24,24,3)))\r\n",
        "model.add(Conv2D(64, (3, 3), activation='relu'))\r\n",
        "model.add(MaxPooling2D(pool_size=(2, 2)))\r\n",
        "model.add(Flatten())\r\n",
        "model.add(Dense(128, activation='relu'))\r\n",
        "model.add(Dense(3, activation='softmax'))\r\n",
        "model.summary()"
      ],
      "execution_count": 5,
      "outputs": [
        {
          "output_type": "stream",
          "text": [
            "Model: \"sequential\"\n",
            "_________________________________________________________________\n",
            "Layer (type)                 Output Shape              Param #   \n",
            "=================================================================\n",
            "conv2d (Conv2D)              (None, 22, 22, 32)        896       \n",
            "_________________________________________________________________\n",
            "conv2d_1 (Conv2D)            (None, 20, 20, 64)        18496     \n",
            "_________________________________________________________________\n",
            "max_pooling2d (MaxPooling2D) (None, 10, 10, 64)        0         \n",
            "_________________________________________________________________\n",
            "flatten (Flatten)            (None, 6400)              0         \n",
            "_________________________________________________________________\n",
            "dense (Dense)                (None, 128)               819328    \n",
            "_________________________________________________________________\n",
            "dense_1 (Dense)              (None, 3)                 387       \n",
            "=================================================================\n",
            "Total params: 839,107\n",
            "Trainable params: 839,107\n",
            "Non-trainable params: 0\n",
            "_________________________________________________________________\n"
          ],
          "name": "stdout"
        }
      ]
    },
    {
      "cell_type": "code",
      "metadata": {
        "id": "9eDDNU8ggZte"
      },
      "source": [
        "model.compile(loss='categorical_crossentropy',\r\n",
        "              optimizer='adam', metrics=['accuracy'])"
      ],
      "execution_count": 6,
      "outputs": []
    },
    {
      "cell_type": "markdown",
      "metadata": {
        "id": "fUZkX2cpgvAW"
      },
      "source": [
        "## 모델학습시키기"
      ]
    },
    {
      "cell_type": "code",
      "metadata": {
        "id": "mr_7zjiTgtA_",
        "colab": {
          "base_uri": "https://localhost:8080/"
        },
        "outputId": "b6744f6c-e8e5-48bc-83ad-7908dfa83799"
      },
      "source": [
        "model.fit_generator(\r\n",
        "        train_generator,\r\n",
        "        steps_per_epoch=15,\r\n",
        "        epochs=200,\r\n",
        "        validation_data=test_generator,\r\n",
        "        validation_steps=5)"
      ],
      "execution_count": 7,
      "outputs": [
        {
          "output_type": "stream",
          "text": [
            "/usr/local/lib/python3.6/dist-packages/tensorflow/python/keras/engine/training.py:1844: UserWarning: `Model.fit_generator` is deprecated and will be removed in a future version. Please use `Model.fit`, which supports generators.\n",
            "  warnings.warn('`Model.fit_generator` is deprecated and '\n"
          ],
          "name": "stderr"
        },
        {
          "output_type": "stream",
          "text": [
            "Epoch 1/200\n",
            "15/15 [==============================] - 1s 54ms/step - loss: 0.9199 - accuracy: 0.5334 - val_loss: 1.6901 - val_accuracy: 0.4000\n",
            "Epoch 2/200\n",
            "15/15 [==============================] - 0s 24ms/step - loss: 0.3091 - accuracy: 0.9046 - val_loss: 2.5556 - val_accuracy: 0.3333\n",
            "Epoch 3/200\n",
            "15/15 [==============================] - 0s 24ms/step - loss: 0.0244 - accuracy: 1.0000 - val_loss: 4.2212 - val_accuracy: 0.3333\n",
            "Epoch 4/200\n",
            "15/15 [==============================] - 0s 24ms/step - loss: 0.0018 - accuracy: 1.0000 - val_loss: 5.0312 - val_accuracy: 0.3333\n",
            "Epoch 5/200\n",
            "15/15 [==============================] - 0s 24ms/step - loss: 3.6842e-04 - accuracy: 1.0000 - val_loss: 5.2217 - val_accuracy: 0.3333\n",
            "Epoch 6/200\n",
            "15/15 [==============================] - 0s 24ms/step - loss: 3.0217e-04 - accuracy: 1.0000 - val_loss: 5.2785 - val_accuracy: 0.3333\n",
            "Epoch 7/200\n",
            "15/15 [==============================] - 0s 25ms/step - loss: 2.3801e-04 - accuracy: 1.0000 - val_loss: 5.3320 - val_accuracy: 0.3333\n",
            "Epoch 8/200\n",
            "15/15 [==============================] - 0s 24ms/step - loss: 1.8865e-04 - accuracy: 1.0000 - val_loss: 5.3846 - val_accuracy: 0.3333\n",
            "Epoch 9/200\n",
            "15/15 [==============================] - 0s 24ms/step - loss: 1.7671e-04 - accuracy: 1.0000 - val_loss: 5.4439 - val_accuracy: 0.3333\n",
            "Epoch 10/200\n",
            "15/15 [==============================] - 0s 24ms/step - loss: 1.0354e-04 - accuracy: 1.0000 - val_loss: 5.4840 - val_accuracy: 0.3333\n",
            "Epoch 11/200\n",
            "15/15 [==============================] - 0s 24ms/step - loss: 1.4247e-04 - accuracy: 1.0000 - val_loss: 5.5289 - val_accuracy: 0.3333\n",
            "Epoch 12/200\n",
            "15/15 [==============================] - 0s 25ms/step - loss: 8.5155e-05 - accuracy: 1.0000 - val_loss: 5.5664 - val_accuracy: 0.3333\n",
            "Epoch 13/200\n",
            "15/15 [==============================] - 0s 25ms/step - loss: 9.0572e-05 - accuracy: 1.0000 - val_loss: 5.5958 - val_accuracy: 0.3333\n",
            "Epoch 14/200\n",
            "15/15 [==============================] - 0s 25ms/step - loss: 6.6872e-05 - accuracy: 1.0000 - val_loss: 5.6320 - val_accuracy: 0.3333\n",
            "Epoch 15/200\n",
            "15/15 [==============================] - 0s 24ms/step - loss: 4.6619e-05 - accuracy: 1.0000 - val_loss: 5.6758 - val_accuracy: 0.3333\n",
            "Epoch 16/200\n",
            "15/15 [==============================] - 0s 24ms/step - loss: 4.6123e-05 - accuracy: 1.0000 - val_loss: 5.7064 - val_accuracy: 0.3333\n",
            "Epoch 17/200\n",
            "15/15 [==============================] - 0s 25ms/step - loss: 2.9597e-05 - accuracy: 1.0000 - val_loss: 5.7388 - val_accuracy: 0.3333\n",
            "Epoch 18/200\n",
            "15/15 [==============================] - 0s 24ms/step - loss: 3.0922e-05 - accuracy: 1.0000 - val_loss: 5.7827 - val_accuracy: 0.3333\n",
            "Epoch 19/200\n",
            "15/15 [==============================] - 0s 24ms/step - loss: 3.2726e-05 - accuracy: 1.0000 - val_loss: 5.8131 - val_accuracy: 0.3333\n",
            "Epoch 20/200\n",
            "15/15 [==============================] - 0s 24ms/step - loss: 2.8833e-05 - accuracy: 1.0000 - val_loss: 5.8386 - val_accuracy: 0.3333\n",
            "Epoch 21/200\n",
            "15/15 [==============================] - 0s 24ms/step - loss: 3.0421e-05 - accuracy: 1.0000 - val_loss: 5.8675 - val_accuracy: 0.3333\n",
            "Epoch 22/200\n",
            "15/15 [==============================] - 0s 25ms/step - loss: 2.5950e-05 - accuracy: 1.0000 - val_loss: 5.9051 - val_accuracy: 0.3333\n",
            "Epoch 23/200\n",
            "15/15 [==============================] - 0s 25ms/step - loss: 1.7807e-05 - accuracy: 1.0000 - val_loss: 5.9274 - val_accuracy: 0.3333\n",
            "Epoch 24/200\n",
            "15/15 [==============================] - 0s 23ms/step - loss: 2.0089e-05 - accuracy: 1.0000 - val_loss: 5.9495 - val_accuracy: 0.3333\n",
            "Epoch 25/200\n",
            "15/15 [==============================] - 0s 24ms/step - loss: 1.3421e-05 - accuracy: 1.0000 - val_loss: 5.9775 - val_accuracy: 0.3333\n",
            "Epoch 26/200\n",
            "15/15 [==============================] - 0s 24ms/step - loss: 1.5318e-05 - accuracy: 1.0000 - val_loss: 5.9962 - val_accuracy: 0.3333\n",
            "Epoch 27/200\n",
            "15/15 [==============================] - 0s 25ms/step - loss: 9.9820e-06 - accuracy: 1.0000 - val_loss: 6.0158 - val_accuracy: 0.3333\n",
            "Epoch 28/200\n",
            "15/15 [==============================] - 0s 25ms/step - loss: 8.4494e-06 - accuracy: 1.0000 - val_loss: 6.0390 - val_accuracy: 0.3333\n",
            "Epoch 29/200\n",
            "15/15 [==============================] - 0s 33ms/step - loss: 7.5904e-06 - accuracy: 1.0000 - val_loss: 6.0567 - val_accuracy: 0.3333\n",
            "Epoch 30/200\n",
            "15/15 [==============================] - 0s 24ms/step - loss: 6.3592e-06 - accuracy: 1.0000 - val_loss: 6.0818 - val_accuracy: 0.3333\n",
            "Epoch 31/200\n",
            "15/15 [==============================] - 0s 25ms/step - loss: 5.8140e-06 - accuracy: 1.0000 - val_loss: 6.1006 - val_accuracy: 0.3333\n",
            "Epoch 32/200\n",
            "15/15 [==============================] - 0s 26ms/step - loss: 7.3256e-06 - accuracy: 1.0000 - val_loss: 6.1189 - val_accuracy: 0.3333\n",
            "Epoch 33/200\n",
            "15/15 [==============================] - 0s 24ms/step - loss: 5.8068e-06 - accuracy: 1.0000 - val_loss: 6.1375 - val_accuracy: 0.3333\n",
            "Epoch 34/200\n",
            "15/15 [==============================] - 0s 24ms/step - loss: 3.3164e-06 - accuracy: 1.0000 - val_loss: 6.1546 - val_accuracy: 0.3333\n",
            "Epoch 35/200\n",
            "15/15 [==============================] - 0s 25ms/step - loss: 2.7830e-06 - accuracy: 1.0000 - val_loss: 6.1748 - val_accuracy: 0.3333\n",
            "Epoch 36/200\n",
            "15/15 [==============================] - 0s 25ms/step - loss: 3.1261e-06 - accuracy: 1.0000 - val_loss: 6.1819 - val_accuracy: 0.3333\n",
            "Epoch 37/200\n",
            "15/15 [==============================] - 0s 24ms/step - loss: 3.2024e-06 - accuracy: 1.0000 - val_loss: 6.1994 - val_accuracy: 0.3333\n",
            "Epoch 38/200\n",
            "15/15 [==============================] - 0s 25ms/step - loss: 3.7250e-06 - accuracy: 1.0000 - val_loss: 6.2130 - val_accuracy: 0.3333\n",
            "Epoch 39/200\n",
            "15/15 [==============================] - 0s 23ms/step - loss: 2.9509e-06 - accuracy: 1.0000 - val_loss: 6.2351 - val_accuracy: 0.3333\n",
            "Epoch 40/200\n",
            "15/15 [==============================] - 0s 25ms/step - loss: 1.7609e-06 - accuracy: 1.0000 - val_loss: 6.2448 - val_accuracy: 0.3333\n",
            "Epoch 41/200\n",
            "15/15 [==============================] - 0s 24ms/step - loss: 2.0817e-06 - accuracy: 1.0000 - val_loss: 6.2520 - val_accuracy: 0.3333\n",
            "Epoch 42/200\n",
            "15/15 [==============================] - 0s 25ms/step - loss: 1.9843e-06 - accuracy: 1.0000 - val_loss: 6.2580 - val_accuracy: 0.3333\n",
            "Epoch 43/200\n",
            "15/15 [==============================] - 0s 24ms/step - loss: 1.1995e-06 - accuracy: 1.0000 - val_loss: 6.2739 - val_accuracy: 0.3333\n",
            "Epoch 44/200\n",
            "15/15 [==============================] - 0s 25ms/step - loss: 1.2378e-06 - accuracy: 1.0000 - val_loss: 6.2823 - val_accuracy: 0.3333\n",
            "Epoch 45/200\n",
            "15/15 [==============================] - 0s 24ms/step - loss: 1.6754e-06 - accuracy: 1.0000 - val_loss: 6.2912 - val_accuracy: 0.3333\n",
            "Epoch 46/200\n",
            "15/15 [==============================] - 0s 24ms/step - loss: 1.1789e-06 - accuracy: 1.0000 - val_loss: 6.3049 - val_accuracy: 0.3333\n",
            "Epoch 47/200\n",
            "15/15 [==============================] - 0s 24ms/step - loss: 1.1165e-06 - accuracy: 1.0000 - val_loss: 6.3166 - val_accuracy: 0.3333\n",
            "Epoch 48/200\n",
            "15/15 [==============================] - 0s 24ms/step - loss: 1.3467e-06 - accuracy: 1.0000 - val_loss: 6.3252 - val_accuracy: 0.3333\n",
            "Epoch 49/200\n",
            "15/15 [==============================] - 0s 25ms/step - loss: 1.0209e-06 - accuracy: 1.0000 - val_loss: 6.3310 - val_accuracy: 0.3333\n",
            "Epoch 50/200\n",
            "15/15 [==============================] - 0s 24ms/step - loss: 6.7453e-07 - accuracy: 1.0000 - val_loss: 6.3419 - val_accuracy: 0.3333\n",
            "Epoch 51/200\n",
            "15/15 [==============================] - 0s 24ms/step - loss: 6.1937e-07 - accuracy: 1.0000 - val_loss: 6.3533 - val_accuracy: 0.3333\n",
            "Epoch 52/200\n",
            "15/15 [==============================] - 0s 25ms/step - loss: 7.4390e-07 - accuracy: 1.0000 - val_loss: 6.3604 - val_accuracy: 0.3333\n",
            "Epoch 53/200\n",
            "15/15 [==============================] - 0s 28ms/step - loss: 6.5396e-07 - accuracy: 1.0000 - val_loss: 6.3664 - val_accuracy: 0.3333\n",
            "Epoch 54/200\n",
            "15/15 [==============================] - 0s 23ms/step - loss: 7.0059e-07 - accuracy: 1.0000 - val_loss: 6.3760 - val_accuracy: 0.3333\n",
            "Epoch 55/200\n",
            "15/15 [==============================] - 0s 24ms/step - loss: 5.6080e-07 - accuracy: 1.0000 - val_loss: 6.3857 - val_accuracy: 0.3333\n",
            "Epoch 56/200\n",
            "15/15 [==============================] - 0s 24ms/step - loss: 5.3070e-07 - accuracy: 1.0000 - val_loss: 6.3908 - val_accuracy: 0.3333\n",
            "Epoch 57/200\n",
            "15/15 [==============================] - 0s 25ms/step - loss: 5.1984e-07 - accuracy: 1.0000 - val_loss: 6.3959 - val_accuracy: 0.3333\n",
            "Epoch 58/200\n",
            "15/15 [==============================] - 0s 24ms/step - loss: 4.0195e-07 - accuracy: 1.0000 - val_loss: 6.4035 - val_accuracy: 0.3333\n",
            "Epoch 59/200\n",
            "15/15 [==============================] - 0s 24ms/step - loss: 4.9830e-07 - accuracy: 1.0000 - val_loss: 6.4111 - val_accuracy: 0.3333\n",
            "Epoch 60/200\n",
            "15/15 [==============================] - 0s 23ms/step - loss: 5.7318e-07 - accuracy: 1.0000 - val_loss: 6.4208 - val_accuracy: 0.3333\n",
            "Epoch 61/200\n",
            "15/15 [==============================] - 0s 24ms/step - loss: 4.2598e-07 - accuracy: 1.0000 - val_loss: 6.4279 - val_accuracy: 0.3333\n",
            "Epoch 62/200\n",
            "15/15 [==============================] - 0s 25ms/step - loss: 3.0330e-07 - accuracy: 1.0000 - val_loss: 6.4354 - val_accuracy: 0.3333\n",
            "Epoch 63/200\n",
            "15/15 [==============================] - 0s 24ms/step - loss: 2.9354e-07 - accuracy: 1.0000 - val_loss: 6.4429 - val_accuracy: 0.3333\n",
            "Epoch 64/200\n",
            "15/15 [==============================] - 0s 25ms/step - loss: 3.8040e-07 - accuracy: 1.0000 - val_loss: 6.4490 - val_accuracy: 0.3333\n",
            "Epoch 65/200\n",
            "15/15 [==============================] - 0s 24ms/step - loss: 3.2422e-07 - accuracy: 1.0000 - val_loss: 6.4542 - val_accuracy: 0.3333\n",
            "Epoch 66/200\n",
            "15/15 [==============================] - 0s 25ms/step - loss: 3.1906e-07 - accuracy: 1.0000 - val_loss: 6.4634 - val_accuracy: 0.3333\n",
            "Epoch 67/200\n",
            "15/15 [==============================] - 0s 24ms/step - loss: 2.5052e-07 - accuracy: 1.0000 - val_loss: 6.4700 - val_accuracy: 0.3333\n",
            "Epoch 68/200\n",
            "15/15 [==============================] - 0s 25ms/step - loss: 2.5694e-07 - accuracy: 1.0000 - val_loss: 6.4748 - val_accuracy: 0.3333\n",
            "Epoch 69/200\n",
            "15/15 [==============================] - 0s 25ms/step - loss: 2.5499e-07 - accuracy: 1.0000 - val_loss: 6.4837 - val_accuracy: 0.3333\n",
            "Epoch 70/200\n",
            "15/15 [==============================] - 0s 24ms/step - loss: 3.2121e-07 - accuracy: 1.0000 - val_loss: 6.4895 - val_accuracy: 0.3333\n",
            "Epoch 71/200\n",
            "15/15 [==============================] - 0s 24ms/step - loss: 3.2187e-07 - accuracy: 1.0000 - val_loss: 6.4951 - val_accuracy: 0.3333\n",
            "Epoch 72/200\n",
            "15/15 [==============================] - 0s 24ms/step - loss: 2.5486e-07 - accuracy: 1.0000 - val_loss: 6.4999 - val_accuracy: 0.3333\n",
            "Epoch 73/200\n",
            "15/15 [==============================] - 0s 25ms/step - loss: 2.9108e-07 - accuracy: 1.0000 - val_loss: 6.5017 - val_accuracy: 0.3333\n",
            "Epoch 74/200\n",
            "15/15 [==============================] - 0s 24ms/step - loss: 2.2740e-07 - accuracy: 1.0000 - val_loss: 6.5063 - val_accuracy: 0.3333\n",
            "Epoch 75/200\n",
            "15/15 [==============================] - 0s 24ms/step - loss: 2.1451e-07 - accuracy: 1.0000 - val_loss: 6.5117 - val_accuracy: 0.3333\n",
            "Epoch 76/200\n",
            "15/15 [==============================] - 0s 25ms/step - loss: 2.1019e-07 - accuracy: 1.0000 - val_loss: 6.5157 - val_accuracy: 0.3333\n",
            "Epoch 77/200\n",
            "15/15 [==============================] - 0s 24ms/step - loss: 3.2479e-07 - accuracy: 1.0000 - val_loss: 6.5184 - val_accuracy: 0.3333\n",
            "Epoch 78/200\n",
            "15/15 [==============================] - 0s 24ms/step - loss: 1.9221e-07 - accuracy: 1.0000 - val_loss: 6.5218 - val_accuracy: 0.3333\n",
            "Epoch 79/200\n",
            "15/15 [==============================] - 0s 25ms/step - loss: 1.4124e-07 - accuracy: 1.0000 - val_loss: 6.5268 - val_accuracy: 0.3333\n",
            "Epoch 80/200\n",
            "15/15 [==============================] - 0s 25ms/step - loss: 2.0924e-07 - accuracy: 1.0000 - val_loss: 6.5293 - val_accuracy: 0.3333\n",
            "Epoch 81/200\n",
            "15/15 [==============================] - 0s 33ms/step - loss: 2.4057e-07 - accuracy: 1.0000 - val_loss: 6.5312 - val_accuracy: 0.3333\n",
            "Epoch 82/200\n",
            "15/15 [==============================] - 0s 24ms/step - loss: 1.9126e-07 - accuracy: 1.0000 - val_loss: 6.5345 - val_accuracy: 0.3333\n",
            "Epoch 83/200\n",
            "15/15 [==============================] - 0s 25ms/step - loss: 9.8235e-08 - accuracy: 1.0000 - val_loss: 6.5382 - val_accuracy: 0.3333\n",
            "Epoch 84/200\n",
            "15/15 [==============================] - 0s 24ms/step - loss: 2.8308e-07 - accuracy: 1.0000 - val_loss: 6.5395 - val_accuracy: 0.3333\n",
            "Epoch 85/200\n",
            "15/15 [==============================] - 0s 23ms/step - loss: 1.7157e-07 - accuracy: 1.0000 - val_loss: 6.5406 - val_accuracy: 0.3333\n",
            "Epoch 86/200\n",
            "15/15 [==============================] - 0s 25ms/step - loss: 1.1692e-07 - accuracy: 1.0000 - val_loss: 6.5435 - val_accuracy: 0.3333\n",
            "Epoch 87/200\n",
            "15/15 [==============================] - 0s 25ms/step - loss: 1.5453e-07 - accuracy: 1.0000 - val_loss: 6.5458 - val_accuracy: 0.3333\n",
            "Epoch 88/200\n",
            "15/15 [==============================] - 0s 24ms/step - loss: 1.2034e-07 - accuracy: 1.0000 - val_loss: 6.5483 - val_accuracy: 0.3333\n",
            "Epoch 89/200\n",
            "15/15 [==============================] - 0s 24ms/step - loss: 1.2334e-07 - accuracy: 1.0000 - val_loss: 6.5517 - val_accuracy: 0.3333\n",
            "Epoch 90/200\n",
            "15/15 [==============================] - 0s 23ms/step - loss: 1.0091e-07 - accuracy: 1.0000 - val_loss: 6.5540 - val_accuracy: 0.3333\n",
            "Epoch 91/200\n",
            "15/15 [==============================] - 0s 25ms/step - loss: 1.1434e-07 - accuracy: 1.0000 - val_loss: 6.5565 - val_accuracy: 0.3333\n",
            "Epoch 92/200\n",
            "15/15 [==============================] - 0s 25ms/step - loss: 1.1414e-07 - accuracy: 1.0000 - val_loss: 6.5603 - val_accuracy: 0.3333\n",
            "Epoch 93/200\n",
            "15/15 [==============================] - 0s 24ms/step - loss: 1.2414e-07 - accuracy: 1.0000 - val_loss: 6.5628 - val_accuracy: 0.3333\n",
            "Epoch 94/200\n",
            "15/15 [==============================] - 0s 25ms/step - loss: 9.8942e-08 - accuracy: 1.0000 - val_loss: 6.5644 - val_accuracy: 0.3333\n",
            "Epoch 95/200\n",
            "15/15 [==============================] - 0s 23ms/step - loss: 1.1936e-07 - accuracy: 1.0000 - val_loss: 6.5666 - val_accuracy: 0.3333\n",
            "Epoch 96/200\n",
            "15/15 [==============================] - 0s 24ms/step - loss: 9.6507e-08 - accuracy: 1.0000 - val_loss: 6.5699 - val_accuracy: 0.3333\n",
            "Epoch 97/200\n",
            "15/15 [==============================] - 0s 24ms/step - loss: 1.2726e-07 - accuracy: 1.0000 - val_loss: 6.5735 - val_accuracy: 0.3333\n",
            "Epoch 98/200\n",
            "15/15 [==============================] - 0s 24ms/step - loss: 1.1109e-07 - accuracy: 1.0000 - val_loss: 6.5767 - val_accuracy: 0.3333\n",
            "Epoch 99/200\n",
            "15/15 [==============================] - 0s 25ms/step - loss: 9.9609e-08 - accuracy: 1.0000 - val_loss: 6.5803 - val_accuracy: 0.3333\n",
            "Epoch 100/200\n",
            "15/15 [==============================] - 0s 24ms/step - loss: 1.1228e-07 - accuracy: 1.0000 - val_loss: 6.5830 - val_accuracy: 0.3333\n",
            "Epoch 101/200\n",
            "15/15 [==============================] - 0s 23ms/step - loss: 1.1228e-07 - accuracy: 1.0000 - val_loss: 6.5860 - val_accuracy: 0.3333\n",
            "Epoch 102/200\n",
            "15/15 [==============================] - 0s 26ms/step - loss: 9.7653e-08 - accuracy: 1.0000 - val_loss: 6.5876 - val_accuracy: 0.3333\n",
            "Epoch 103/200\n",
            "15/15 [==============================] - 0s 26ms/step - loss: 8.5536e-08 - accuracy: 1.0000 - val_loss: 6.5912 - val_accuracy: 0.3333\n",
            "Epoch 104/200\n",
            "15/15 [==============================] - 0s 25ms/step - loss: 6.9496e-08 - accuracy: 1.0000 - val_loss: 6.5927 - val_accuracy: 0.3333\n",
            "Epoch 105/200\n",
            "15/15 [==============================] - 0s 28ms/step - loss: 8.2324e-08 - accuracy: 1.0000 - val_loss: 6.5952 - val_accuracy: 0.3333\n",
            "Epoch 106/200\n",
            "15/15 [==============================] - 0s 27ms/step - loss: 1.1906e-07 - accuracy: 1.0000 - val_loss: 6.5981 - val_accuracy: 0.3333\n",
            "Epoch 107/200\n",
            "15/15 [==============================] - 0s 26ms/step - loss: 8.1303e-08 - accuracy: 1.0000 - val_loss: 6.5999 - val_accuracy: 0.3333\n",
            "Epoch 108/200\n",
            "15/15 [==============================] - 0s 24ms/step - loss: 1.1481e-07 - accuracy: 1.0000 - val_loss: 6.6033 - val_accuracy: 0.3333\n",
            "Epoch 109/200\n",
            "15/15 [==============================] - 0s 24ms/step - loss: 9.7053e-08 - accuracy: 1.0000 - val_loss: 6.6060 - val_accuracy: 0.3333\n",
            "Epoch 110/200\n",
            "15/15 [==============================] - 0s 24ms/step - loss: 8.8924e-08 - accuracy: 1.0000 - val_loss: 6.6088 - val_accuracy: 0.3333\n",
            "Epoch 111/200\n",
            "15/15 [==============================] - 0s 24ms/step - loss: 7.1261e-08 - accuracy: 1.0000 - val_loss: 6.6102 - val_accuracy: 0.3333\n",
            "Epoch 112/200\n",
            "15/15 [==============================] - 0s 25ms/step - loss: 5.5104e-08 - accuracy: 1.0000 - val_loss: 6.6130 - val_accuracy: 0.3333\n",
            "Epoch 113/200\n",
            "15/15 [==============================] - 0s 24ms/step - loss: 6.1640e-08 - accuracy: 1.0000 - val_loss: 6.6152 - val_accuracy: 0.3333\n",
            "Epoch 114/200\n",
            "15/15 [==============================] - 0s 25ms/step - loss: 1.0008e-07 - accuracy: 1.0000 - val_loss: 6.6178 - val_accuracy: 0.3333\n",
            "Epoch 115/200\n",
            "15/15 [==============================] - 0s 24ms/step - loss: 1.0698e-07 - accuracy: 1.0000 - val_loss: 6.6189 - val_accuracy: 0.3333\n",
            "Epoch 116/200\n",
            "15/15 [==============================] - 0s 25ms/step - loss: 6.9539e-08 - accuracy: 1.0000 - val_loss: 6.6214 - val_accuracy: 0.3333\n",
            "Epoch 117/200\n",
            "15/15 [==============================] - 0s 25ms/step - loss: 4.9434e-08 - accuracy: 1.0000 - val_loss: 6.6239 - val_accuracy: 0.3333\n",
            "Epoch 118/200\n",
            "15/15 [==============================] - 0s 24ms/step - loss: 6.6677e-08 - accuracy: 1.0000 - val_loss: 6.6253 - val_accuracy: 0.3333\n",
            "Epoch 119/200\n",
            "15/15 [==============================] - 0s 24ms/step - loss: 4.9688e-08 - accuracy: 1.0000 - val_loss: 6.6276 - val_accuracy: 0.3333\n",
            "Epoch 120/200\n",
            "15/15 [==============================] - 0s 26ms/step - loss: 7.8122e-08 - accuracy: 1.0000 - val_loss: 6.6292 - val_accuracy: 0.3333\n",
            "Epoch 121/200\n",
            "15/15 [==============================] - 0s 25ms/step - loss: 8.5876e-08 - accuracy: 1.0000 - val_loss: 6.6317 - val_accuracy: 0.3333\n",
            "Epoch 122/200\n",
            "15/15 [==============================] - 0s 25ms/step - loss: 5.5488e-08 - accuracy: 1.0000 - val_loss: 6.6339 - val_accuracy: 0.3333\n",
            "Epoch 123/200\n",
            "15/15 [==============================] - 1s 34ms/step - loss: 4.3803e-08 - accuracy: 1.0000 - val_loss: 6.6359 - val_accuracy: 0.3333\n",
            "Epoch 124/200\n",
            "15/15 [==============================] - 0s 24ms/step - loss: 6.8138e-08 - accuracy: 1.0000 - val_loss: 6.6381 - val_accuracy: 0.3333\n",
            "Epoch 125/200\n",
            "15/15 [==============================] - 0s 25ms/step - loss: 3.0628e-08 - accuracy: 1.0000 - val_loss: 6.6414 - val_accuracy: 0.3333\n",
            "Epoch 126/200\n",
            "15/15 [==============================] - 0s 24ms/step - loss: 6.2114e-08 - accuracy: 1.0000 - val_loss: 6.6427 - val_accuracy: 0.3333\n",
            "Epoch 127/200\n",
            "15/15 [==============================] - 0s 25ms/step - loss: 4.3138e-08 - accuracy: 1.0000 - val_loss: 6.6463 - val_accuracy: 0.3333\n",
            "Epoch 128/200\n",
            "15/15 [==============================] - 0s 24ms/step - loss: 4.4515e-08 - accuracy: 1.0000 - val_loss: 6.6491 - val_accuracy: 0.3333\n",
            "Epoch 129/200\n",
            "15/15 [==============================] - 0s 24ms/step - loss: 4.7138e-08 - accuracy: 1.0000 - val_loss: 6.6516 - val_accuracy: 0.3333\n",
            "Epoch 130/200\n",
            "15/15 [==============================] - 0s 24ms/step - loss: 4.5510e-08 - accuracy: 1.0000 - val_loss: 6.6546 - val_accuracy: 0.3333\n",
            "Epoch 131/200\n",
            "15/15 [==============================] - 0s 25ms/step - loss: 5.0133e-08 - accuracy: 1.0000 - val_loss: 6.6563 - val_accuracy: 0.3333\n",
            "Epoch 132/200\n",
            "15/15 [==============================] - 0s 24ms/step - loss: 2.4933e-08 - accuracy: 1.0000 - val_loss: 6.6590 - val_accuracy: 0.3333\n",
            "Epoch 133/200\n",
            "15/15 [==============================] - 0s 25ms/step - loss: 3.8035e-08 - accuracy: 1.0000 - val_loss: 6.6624 - val_accuracy: 0.3333\n",
            "Epoch 134/200\n",
            "15/15 [==============================] - 0s 25ms/step - loss: 5.4201e-08 - accuracy: 1.0000 - val_loss: 6.6643 - val_accuracy: 0.3333\n",
            "Epoch 135/200\n",
            "15/15 [==============================] - 0s 27ms/step - loss: 4.8010e-08 - accuracy: 1.0000 - val_loss: 6.6676 - val_accuracy: 0.3333\n",
            "Epoch 136/200\n",
            "15/15 [==============================] - 0s 25ms/step - loss: 5.3352e-08 - accuracy: 1.0000 - val_loss: 6.6699 - val_accuracy: 0.3333\n",
            "Epoch 137/200\n",
            "15/15 [==============================] - 0s 27ms/step - loss: 2.9271e-08 - accuracy: 1.0000 - val_loss: 6.6723 - val_accuracy: 0.3333\n",
            "Epoch 138/200\n",
            "15/15 [==============================] - 0s 25ms/step - loss: 3.9914e-08 - accuracy: 1.0000 - val_loss: 6.6748 - val_accuracy: 0.3333\n",
            "Epoch 139/200\n",
            "15/15 [==============================] - 0s 25ms/step - loss: 6.0158e-08 - accuracy: 1.0000 - val_loss: 6.6779 - val_accuracy: 0.3333\n",
            "Epoch 140/200\n",
            "15/15 [==============================] - 0s 28ms/step - loss: 3.4751e-08 - accuracy: 1.0000 - val_loss: 6.6799 - val_accuracy: 0.3333\n",
            "Epoch 141/200\n",
            "15/15 [==============================] - 0s 26ms/step - loss: 4.5126e-08 - accuracy: 1.0000 - val_loss: 6.6818 - val_accuracy: 0.3333\n",
            "Epoch 142/200\n",
            "15/15 [==============================] - 0s 27ms/step - loss: 6.1854e-08 - accuracy: 1.0000 - val_loss: 6.6834 - val_accuracy: 0.3333\n",
            "Epoch 143/200\n",
            "15/15 [==============================] - 0s 25ms/step - loss: 4.6845e-08 - accuracy: 1.0000 - val_loss: 6.6852 - val_accuracy: 0.3333\n",
            "Epoch 144/200\n",
            "15/15 [==============================] - 0s 26ms/step - loss: 3.1341e-08 - accuracy: 1.0000 - val_loss: 6.6884 - val_accuracy: 0.3333\n",
            "Epoch 145/200\n",
            "15/15 [==============================] - 0s 27ms/step - loss: 2.9885e-08 - accuracy: 1.0000 - val_loss: 6.6911 - val_accuracy: 0.3333\n",
            "Epoch 146/200\n",
            "15/15 [==============================] - 0s 25ms/step - loss: 4.1834e-08 - accuracy: 1.0000 - val_loss: 6.6925 - val_accuracy: 0.3333\n",
            "Epoch 147/200\n",
            "15/15 [==============================] - 0s 25ms/step - loss: 2.2656e-08 - accuracy: 1.0000 - val_loss: 6.6947 - val_accuracy: 0.3333\n",
            "Epoch 148/200\n",
            "15/15 [==============================] - 0s 24ms/step - loss: 3.2782e-08 - accuracy: 1.0000 - val_loss: 6.6973 - val_accuracy: 0.3333\n",
            "Epoch 149/200\n",
            "15/15 [==============================] - 0s 23ms/step - loss: 3.7440e-08 - accuracy: 1.0000 - val_loss: 6.6994 - val_accuracy: 0.3333\n",
            "Epoch 150/200\n",
            "15/15 [==============================] - 0s 25ms/step - loss: 6.0456e-08 - accuracy: 1.0000 - val_loss: 6.7017 - val_accuracy: 0.3333\n",
            "Epoch 151/200\n",
            "15/15 [==============================] - 0s 24ms/step - loss: 4.4130e-08 - accuracy: 1.0000 - val_loss: 6.7038 - val_accuracy: 0.3333\n",
            "Epoch 152/200\n",
            "15/15 [==============================] - 0s 25ms/step - loss: 4.1856e-08 - accuracy: 1.0000 - val_loss: 6.7059 - val_accuracy: 0.3333\n",
            "Epoch 153/200\n",
            "15/15 [==============================] - 0s 24ms/step - loss: 4.7183e-08 - accuracy: 1.0000 - val_loss: 6.7080 - val_accuracy: 0.3333\n",
            "Epoch 154/200\n",
            "15/15 [==============================] - 0s 25ms/step - loss: 3.2552e-08 - accuracy: 1.0000 - val_loss: 6.7106 - val_accuracy: 0.3333\n",
            "Epoch 155/200\n",
            "15/15 [==============================] - 0s 26ms/step - loss: 2.7469e-08 - accuracy: 1.0000 - val_loss: 6.7120 - val_accuracy: 0.3333\n",
            "Epoch 156/200\n",
            "15/15 [==============================] - 0s 25ms/step - loss: 2.1364e-08 - accuracy: 1.0000 - val_loss: 6.7141 - val_accuracy: 0.3333\n",
            "Epoch 157/200\n",
            "15/15 [==============================] - 0s 26ms/step - loss: 4.8598e-08 - accuracy: 1.0000 - val_loss: 6.7150 - val_accuracy: 0.3333\n",
            "Epoch 158/200\n",
            "15/15 [==============================] - 0s 25ms/step - loss: 3.5113e-08 - accuracy: 1.0000 - val_loss: 6.7159 - val_accuracy: 0.3333\n",
            "Epoch 159/200\n",
            "15/15 [==============================] - 0s 25ms/step - loss: 3.5784e-08 - accuracy: 1.0000 - val_loss: 6.7173 - val_accuracy: 0.3333\n",
            "Epoch 160/200\n",
            "15/15 [==============================] - 0s 25ms/step - loss: 2.7046e-08 - accuracy: 1.0000 - val_loss: 6.7177 - val_accuracy: 0.3333\n",
            "Epoch 161/200\n",
            "15/15 [==============================] - 0s 25ms/step - loss: 3.9156e-08 - accuracy: 1.0000 - val_loss: 6.7185 - val_accuracy: 0.3333\n",
            "Epoch 162/200\n",
            "15/15 [==============================] - 0s 26ms/step - loss: 2.1001e-08 - accuracy: 1.0000 - val_loss: 6.7196 - val_accuracy: 0.3333\n",
            "Epoch 163/200\n",
            "15/15 [==============================] - 0s 26ms/step - loss: 2.8861e-08 - accuracy: 1.0000 - val_loss: 6.7204 - val_accuracy: 0.3333\n",
            "Epoch 164/200\n",
            "15/15 [==============================] - 0s 25ms/step - loss: 3.0585e-08 - accuracy: 1.0000 - val_loss: 6.7216 - val_accuracy: 0.3333\n",
            "Epoch 165/200\n",
            "15/15 [==============================] - 0s 25ms/step - loss: 2.0873e-08 - accuracy: 1.0000 - val_loss: 6.7236 - val_accuracy: 0.3333\n",
            "Epoch 166/200\n",
            "15/15 [==============================] - 0s 25ms/step - loss: 1.0275e-08 - accuracy: 1.0000 - val_loss: 6.7255 - val_accuracy: 0.3333\n",
            "Epoch 167/200\n",
            "15/15 [==============================] - 0s 26ms/step - loss: 3.1011e-08 - accuracy: 1.0000 - val_loss: 6.7267 - val_accuracy: 0.3333\n",
            "Epoch 168/200\n",
            "15/15 [==============================] - 0s 25ms/step - loss: 1.6308e-08 - accuracy: 1.0000 - val_loss: 6.7282 - val_accuracy: 0.3333\n",
            "Epoch 169/200\n",
            "15/15 [==============================] - 0s 25ms/step - loss: 1.6338e-08 - accuracy: 1.0000 - val_loss: 6.7301 - val_accuracy: 0.3333\n",
            "Epoch 170/200\n",
            "15/15 [==============================] - 0s 26ms/step - loss: 5.1806e-08 - accuracy: 1.0000 - val_loss: 6.7311 - val_accuracy: 0.3333\n",
            "Epoch 171/200\n",
            "15/15 [==============================] - 0s 33ms/step - loss: 1.6305e-08 - accuracy: 1.0000 - val_loss: 6.7329 - val_accuracy: 0.3333\n",
            "Epoch 172/200\n",
            "15/15 [==============================] - 0s 25ms/step - loss: 3.0228e-08 - accuracy: 1.0000 - val_loss: 6.7342 - val_accuracy: 0.3333\n",
            "Epoch 173/200\n",
            "15/15 [==============================] - 0s 25ms/step - loss: 1.8209e-08 - accuracy: 1.0000 - val_loss: 6.7359 - val_accuracy: 0.3333\n",
            "Epoch 174/200\n",
            "15/15 [==============================] - 0s 25ms/step - loss: 1.6477e-08 - accuracy: 1.0000 - val_loss: 6.7371 - val_accuracy: 0.3333\n",
            "Epoch 175/200\n",
            "15/15 [==============================] - 0s 24ms/step - loss: 2.1946e-08 - accuracy: 1.0000 - val_loss: 6.7385 - val_accuracy: 0.3333\n",
            "Epoch 176/200\n",
            "15/15 [==============================] - 0s 25ms/step - loss: 1.7278e-08 - accuracy: 1.0000 - val_loss: 6.7399 - val_accuracy: 0.3333\n",
            "Epoch 177/200\n",
            "15/15 [==============================] - 0s 26ms/step - loss: 1.6101e-08 - accuracy: 1.0000 - val_loss: 6.7417 - val_accuracy: 0.3333\n",
            "Epoch 178/200\n",
            "15/15 [==============================] - 0s 24ms/step - loss: 1.8761e-08 - accuracy: 1.0000 - val_loss: 6.7432 - val_accuracy: 0.3333\n",
            "Epoch 179/200\n",
            "15/15 [==============================] - 0s 25ms/step - loss: 1.1942e-08 - accuracy: 1.0000 - val_loss: 6.7449 - val_accuracy: 0.3333\n",
            "Epoch 180/200\n",
            "15/15 [==============================] - 0s 25ms/step - loss: 1.8771e-08 - accuracy: 1.0000 - val_loss: 6.7464 - val_accuracy: 0.3333\n",
            "Epoch 181/200\n",
            "15/15 [==============================] - 0s 25ms/step - loss: 1.5261e-08 - accuracy: 1.0000 - val_loss: 6.7477 - val_accuracy: 0.3333\n",
            "Epoch 182/200\n",
            "15/15 [==============================] - 0s 25ms/step - loss: 2.4426e-08 - accuracy: 1.0000 - val_loss: 6.7487 - val_accuracy: 0.3333\n",
            "Epoch 183/200\n",
            "15/15 [==============================] - 0s 26ms/step - loss: 1.5108e-08 - accuracy: 1.0000 - val_loss: 6.7503 - val_accuracy: 0.3333\n",
            "Epoch 184/200\n",
            "15/15 [==============================] - 0s 25ms/step - loss: 1.2745e-08 - accuracy: 1.0000 - val_loss: 6.7518 - val_accuracy: 0.3333\n",
            "Epoch 185/200\n",
            "15/15 [==============================] - 0s 25ms/step - loss: 1.9081e-08 - accuracy: 1.0000 - val_loss: 6.7530 - val_accuracy: 0.3333\n",
            "Epoch 186/200\n",
            "15/15 [==============================] - 0s 26ms/step - loss: 1.6166e-08 - accuracy: 1.0000 - val_loss: 6.7546 - val_accuracy: 0.3333\n",
            "Epoch 187/200\n",
            "15/15 [==============================] - 0s 27ms/step - loss: 9.2202e-09 - accuracy: 1.0000 - val_loss: 6.7559 - val_accuracy: 0.3333\n",
            "Epoch 188/200\n",
            "15/15 [==============================] - 0s 25ms/step - loss: 1.0694e-08 - accuracy: 1.0000 - val_loss: 6.7573 - val_accuracy: 0.3333\n",
            "Epoch 189/200\n",
            "15/15 [==============================] - 0s 25ms/step - loss: 1.5990e-08 - accuracy: 1.0000 - val_loss: 6.7584 - val_accuracy: 0.3333\n",
            "Epoch 190/200\n",
            "15/15 [==============================] - 0s 25ms/step - loss: 6.7830e-09 - accuracy: 1.0000 - val_loss: 6.7596 - val_accuracy: 0.3333\n",
            "Epoch 191/200\n",
            "15/15 [==============================] - 0s 25ms/step - loss: 6.8847e-09 - accuracy: 1.0000 - val_loss: 6.7608 - val_accuracy: 0.3333\n",
            "Epoch 192/200\n",
            "15/15 [==============================] - 0s 25ms/step - loss: 1.0803e-08 - accuracy: 1.0000 - val_loss: 6.7620 - val_accuracy: 0.3333\n",
            "Epoch 193/200\n",
            "15/15 [==============================] - 0s 25ms/step - loss: 1.5452e-08 - accuracy: 1.0000 - val_loss: 6.7630 - val_accuracy: 0.3333\n",
            "Epoch 194/200\n",
            "15/15 [==============================] - 0s 25ms/step - loss: 1.5770e-08 - accuracy: 1.0000 - val_loss: 6.7649 - val_accuracy: 0.3333\n",
            "Epoch 195/200\n",
            "15/15 [==============================] - 0s 26ms/step - loss: 1.8014e-08 - accuracy: 1.0000 - val_loss: 6.7662 - val_accuracy: 0.3333\n",
            "Epoch 196/200\n",
            "15/15 [==============================] - 0s 27ms/step - loss: 2.1993e-08 - accuracy: 1.0000 - val_loss: 6.7673 - val_accuracy: 0.3333\n",
            "Epoch 197/200\n",
            "15/15 [==============================] - 0s 25ms/step - loss: 1.3889e-08 - accuracy: 1.0000 - val_loss: 6.7692 - val_accuracy: 0.3333\n",
            "Epoch 198/200\n",
            "15/15 [==============================] - 0s 26ms/step - loss: 3.4727e-09 - accuracy: 1.0000 - val_loss: 6.7711 - val_accuracy: 0.3333\n",
            "Epoch 199/200\n",
            "15/15 [==============================] - 0s 26ms/step - loss: 1.8596e-08 - accuracy: 1.0000 - val_loss: 6.7737 - val_accuracy: 0.3333\n",
            "Epoch 200/200\n",
            "15/15 [==============================] - 0s 26ms/step - loss: 1.4375e-08 - accuracy: 1.0000 - val_loss: 6.7759 - val_accuracy: 0.3333\n"
          ],
          "name": "stdout"
        },
        {
          "output_type": "execute_result",
          "data": {
            "text/plain": [
              "<tensorflow.python.keras.callbacks.History at 0x7efe48c20d68>"
            ]
          },
          "metadata": {
            "tags": []
          },
          "execution_count": 7
        }
      ]
    },
    {
      "cell_type": "markdown",
      "metadata": {
        "id": "dObrnEakhllW"
      },
      "source": [
        "##  모델 평가"
      ]
    },
    {
      "cell_type": "code",
      "metadata": {
        "id": "PBhjdyG_hkhP",
        "colab": {
          "base_uri": "https://localhost:8080/"
        },
        "outputId": "38a7f3c4-6859-42b9-b06b-788a326fcce2"
      },
      "source": [
        "print(\"-- Evaluate --\")\r\n",
        "scores = model.evaluate_generator(test_generator, steps=5)\r\n",
        "print(\"%s: %.2f%%\" %(model.metrics_names[1], scores[1]*100))\r\n"
      ],
      "execution_count": 8,
      "outputs": [
        {
          "output_type": "stream",
          "text": [
            "-- Evaluate --\n",
            "accuracy: 33.33%\n"
          ],
          "name": "stdout"
        },
        {
          "output_type": "stream",
          "text": [
            "/usr/local/lib/python3.6/dist-packages/tensorflow/python/keras/engine/training.py:1877: UserWarning: `Model.evaluate_generator` is deprecated and will be removed in a future version. Please use `Model.evaluate`, which supports generators.\n",
            "  warnings.warn('`Model.evaluate_generator` is deprecated and '\n"
          ],
          "name": "stderr"
        }
      ]
    },
    {
      "cell_type": "code",
      "metadata": {
        "id": "YcqDi93KE6su"
      },
      "source": [
        ""
      ],
      "execution_count": null,
      "outputs": []
    }
  ]
}